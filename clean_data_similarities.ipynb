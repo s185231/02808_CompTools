{
 "cells": [
  {
   "cell_type": "markdown",
   "metadata": {},
   "source": [
    "### Load data"
   ]
  },
  {
   "cell_type": "code",
   "execution_count": 1,
   "metadata": {},
   "outputs": [],
   "source": [
    "import pandas as pd\n",
    "books_data = pd.read_csv('data/books_data.csv')\n",
    "books_ratings = pd.read_csv('data/books_rating.csv')"
   ]
  },
  {
   "cell_type": "code",
   "execution_count": 2,
   "metadata": {},
   "outputs": [
    {
     "name": "stdout",
     "output_type": "stream",
     "text": [
      "['title', 'description', 'authors', 'published_date', 'categories']\n",
      "['title', 'user_id', 'helpfulness', 'score', 'summary', 'text']\n"
     ]
    }
   ],
   "source": [
    "# Titles\n",
    "books_data_1 = books_data.drop(['image', 'previewLink', 'infoLink', 'publisher', 'ratingsCount'], axis=1, inplace=False)\n",
    "books_ratings_1 = books_ratings.drop(['Id','Price', 'profileName', 'review/time'], axis=1, inplace=False)\n",
    "\n",
    "books_data_1.rename(columns={'Title': 'title','publishedDate': 'published_date'}, inplace=True)\n",
    "books_ratings_1.rename(columns={'Title': 'title','User_id':'user_id',  'review/score': 'score','review/helpfulness': 'helpfulness', 'review/text': 'text', 'review/summary': 'summary'}, inplace=True)\n",
    "\n",
    "print(list(books_data_1.columns))\n",
    "print(list(books_ratings_1.columns))"
   ]
  },
  {
   "cell_type": "code",
   "execution_count": 3,
   "metadata": {},
   "outputs": [],
   "source": [
    "books_ratings_1['title'] = books_ratings_1['title'].map(lambda s: s.lower() if type(s) == str else s)\n",
    "books_ratings_1['title'] = books_ratings_1['title'].replace(r\"\\(.*\\)\",\"\", regex=True)\n",
    "books_ratings_1['title'] = books_ratings_1['title'].replace(r\"\\&\",\"and\", regex=True)\n",
    "\n",
    "books_data_1['title'] = books_data_1['title'].map(lambda s: s.lower() if type(s) == str else s)\n",
    "books_data_1['title'] = books_data_1['title'].replace(r\"\\(.*\\)\",\"\", regex=True)\n",
    "books_data_1['title'] = books_data_1['title'].replace(r\"\\&\",\"and\", regex=True)\n",
    "\n",
    "# remove all special characters with regex\n",
    "books_ratings_1['title'] = books_ratings_1['title'].replace(r\"[^a-zA-Z0-9\\s]+\", \"\", regex=True)\n",
    "books_data_1['title'] = books_data_1['title'].replace(r\"[^a-zA-Z0-9\\s]+\", \"\", regex=True)"
   ]
  },
  {
   "cell_type": "code",
   "execution_count": 4,
   "metadata": {},
   "outputs": [],
   "source": [
    "# keep only unique titles in books_data_1\n",
    "books_data_1 = books_data_1.drop_duplicates(subset=['title'], keep='first')"
   ]
  },
  {
   "cell_type": "code",
   "execution_count": 5,
   "metadata": {},
   "outputs": [
    {
     "data": {
      "text/plain": [
       "204904"
      ]
     },
     "execution_count": 5,
     "metadata": {},
     "output_type": "execute_result"
    }
   ],
   "source": [
    "len(books_data_1)"
   ]
  },
  {
   "cell_type": "code",
   "execution_count": 6,
   "metadata": {},
   "outputs": [],
   "source": [
    "#books_ratings_1['title'] = books_ratings_1['title'].map(lambda s: 'the hobbit' if (type(s) == str and 'hobbit' in s) else s)\n",
    "#books_ratings_1['title'] = books_ratings_1['title'].map(lambda s: 'lord of the rings' if (type(s) == str and 'lord of the rings' in s) else s)\n",
    "#books_ratings_1['title'] = books_ratings_1['title'].map(lambda s: 'pride and prejudice' if (type(s) == str and 'pride & prejudice' in s) else s)\n",
    "#books_ratings_1['title'] = books_ratings_1['title'].map(lambda s: 'pride and prejudice' if (type(s) == str and 'pride and prejudice' in s) else s)\n",
    "#books_ratings_1['title'] = books_ratings_1['title'].map(lambda s: 'the great gatsby' if (type(s) == str and 'great gatsby' in s) else s)\n",
    "#books_ratings_1['title'] = books_ratings_1['title'].map(lambda s: 'to kill a mocking bird' if (type(s) == str and 'mocking bird' in s) else s)\n",
    "#books_ratings_1['title'] = books_ratings_1['title'].map(lambda s: 'to kill a mocking bird' if (type(s) == str and 'mockingbird' in s) else s)\n",
    "\n",
    "\n",
    "#books_data_1['title'] = books_data_1['title'].map(lambda s: 'the hobbit' if (type(s) == str and 'hobbit' in s) else s)\n",
    "#books_data_1['title'] = books_data_1['title'].map(lambda s: 'lord of the rings' if (type(s) == str and 'lord of the rings' in s) else s)\n",
    "#books_data_1['title'] = books_data_1['title'].map(lambda s: 'pride and prejudice' if (type(s) == str and 'pride & prejudice' in s) else s)\n",
    "#books_data_1['title'] = books_data_1['title'].map(lambda s: 'pride and prejudice' if (type(s) == str and 'pride and prejudice' in s) else s)\n",
    "#books_data_1['title'] = books_data_1['title'].map(lambda s: 'the great gatsby' if (type(s) == str and 'great gatsby' in s) else s)\n",
    "#books_data_1['title'] = books_data_1['title'].map(lambda s: 'to kill a mocking bird' if (type(s) == str and 'mocking bird' in s) else s)\n",
    "#books_data_1['title'] = books_data_1['title'].map(lambda s: 'to kill a mocking bird' if (type(s) == str and 'mockingbird' in s) else s)"
   ]
  },
  {
   "cell_type": "code",
   "execution_count": 7,
   "metadata": {},
   "outputs": [],
   "source": [
    "# load book data for books in book ratings\n",
    "ratings_titles = books_ratings_1['title'].unique()\n",
    "books_data_1 = books_data_1[books_data_1['title'].isin(ratings_titles)]"
   ]
  },
  {
   "cell_type": "code",
   "execution_count": 8,
   "metadata": {},
   "outputs": [],
   "source": [
    "n_ratings = books_ratings_1.groupby('title').count()['score']>=10\n",
    "famous_books = n_ratings[n_ratings].index\n",
    "books_ratings_1 = books_ratings_1[books_ratings_1['title'].isin(famous_books)]\n",
    "\n",
    "n_ratings_1 = books_ratings_1['title'].value_counts().rename(\"n_ratings\")\n",
    "\n",
    "#books_data_1 = books_data_1.merge(n_ratings_1, on='title', how='inner')\n",
    "#print(books_data_1.columns)"
   ]
  },
  {
   "cell_type": "code",
   "execution_count": 9,
   "metadata": {},
   "outputs": [
    {
     "data": {
      "text/plain": [
       "A1D2C0WDCSHUWZ    2996\n",
       "AFVQZQ8PW0L       2402\n",
       "A14OJS0VWMOSWO    2399\n",
       "A1X8VZWTOG8IS6    1428\n",
       "A1K1JW1C5CUSUZ    1221\n",
       "                  ... \n",
       "AHZFJ1Z2A3FKQ       21\n",
       "A3ETKZH4PM6QEV      21\n",
       "A1EW7XKKEE1XHO      21\n",
       "A25JBI5D5ZH2KY      21\n",
       "A17BUXSHOUOP4M      21\n",
       "Name: user_id, Length: 7740, dtype: int64"
      ]
     },
     "execution_count": 9,
     "metadata": {},
     "output_type": "execute_result"
    }
   ],
   "source": [
    "x = books_ratings_1.groupby('user_id').count()['score'] > 20 # since this is what amazon requires before a user can get recommendations\n",
    "considerable_users = x[x].index\n",
    "books_ratings_1 = books_ratings_1[books_ratings_1['user_id'].isin(considerable_users)]\n",
    "#\n",
    "# print(books_ratings_1.sample(5))\n",
    "\n",
    "books_ratings_1['user_id'].value_counts()"
   ]
  },
  {
   "cell_type": "code",
   "execution_count": 10,
   "metadata": {},
   "outputs": [
    {
     "data": {
      "text/plain": [
       "pride and prejudice                                                                                   5510\n",
       "wuthering heights                                                                                     4922\n",
       "the picture of dorian gray                                                                            3241\n",
       "wuthering heights                                                                                     3126\n",
       "little women or meg jo beth and amy                                                                   2995\n",
       "                                                                                                      ... \n",
       "the gurus guide to sql server stored procedures xml and html                                             1\n",
       "at the eleventh hour the biography of swami rama                                                         1\n",
       "the marriage builder a blueprint for couples and counselors  now with discussion guide for couples       1\n",
       "from here you cant see paris  seasons of a french village and its restaurant                             1\n",
       "the monster trap                                                                                         1\n",
       "Name: title, Length: 32932, dtype: int64"
      ]
     },
     "execution_count": 10,
     "metadata": {},
     "output_type": "execute_result"
    }
   ],
   "source": [
    "books_ratings_1['title'].value_counts()"
   ]
  },
  {
   "cell_type": "code",
   "execution_count": 11,
   "metadata": {},
   "outputs": [
    {
     "data": {
      "text/plain": [
       "alices adventures in wonderland                                              18\n",
       "ulysses                                                                      10\n",
       "great expectations                                                           10\n",
       "the white company                                                             9\n",
       "jane eyre                                                                     7\n",
       "                                                                             ..\n",
       "beach road                                                                    1\n",
       "250 continuousline quilting designs for hand machine and longarm quilters     1\n",
       "the travelers gift                                                            1\n",
       "wils bones                                                                    1\n",
       "rats                                                                          1\n",
       "Name: title, Length: 2023, dtype: int64"
      ]
     },
     "execution_count": 11,
     "metadata": {},
     "output_type": "execute_result"
    }
   ],
   "source": [
    "# extract all books rated by A14OJS0VWMOSWO\n",
    "books_ratings_1[books_ratings_1['user_id'] == 'A14OJS0VWMOSWO']['title'].value_counts()"
   ]
  },
  {
   "cell_type": "code",
   "execution_count": 12,
   "metadata": {},
   "outputs": [],
   "source": [
    "avg_rating = books_ratings_1.groupby('title')[\"score\"].mean().rename(\"avg_rating\")\n",
    "books_data_1 = books_data_1.merge(avg_rating, on='title', how='inner')\n",
    "#print(books_data_1.columns)\n"
   ]
  },
  {
   "cell_type": "code",
   "execution_count": 13,
   "metadata": {},
   "outputs": [],
   "source": [
    "def get_n_helpful(x):\n",
    "    if isinstance(x, str) and '/' in x:\n",
    "        num, denom = x.split('/')\n",
    "        return int(denom)\n",
    "    else:\n",
    "        return x\n",
    "\n",
    "def replace_fraction(x):\n",
    "    if isinstance(x, str) and '/' in x:\n",
    "        num, denom = x.split('/')\n",
    "        if denom == '0':\n",
    "            return 0\n",
    "        else:\n",
    "            return int(num) / int(denom)\n",
    "    else:\n",
    "        return x\n",
    "\n",
    "books_ratings_1['helpfulness_count'] = books_ratings_1['helpfulness'].apply(get_n_helpful)\n",
    "books_ratings_1['helpfulness_pct'] = books_ratings_1['helpfulness'].apply(replace_fraction)\n",
    "\n",
    "#print(books_ratings_1.sample(2))"
   ]
  },
  {
   "cell_type": "code",
   "execution_count": 14,
   "metadata": {},
   "outputs": [],
   "source": [
    "#print(books_data_1.columns)"
   ]
  },
  {
   "cell_type": "code",
   "execution_count": 15,
   "metadata": {},
   "outputs": [],
   "source": [
    "#def extract_year(x):\n",
    "#    year1 = pd.to_datetime(x, format='mixed').year\n",
    "##    print(year1)\n",
    "#    return year1\n",
    "    \n",
    "#books_data_1['published_date'] = books_data_1['published_date'].apply(extract_year)\n",
    "#p#rint(books_data_1.sample(5))\n"
   ]
  },
  {
   "cell_type": "code",
   "execution_count": 16,
   "metadata": {},
   "outputs": [
    {
     "name": "stdout",
     "output_type": "stream",
     "text": [
      "First we had 212404 books and 3000000 ratings\n",
      "Now we have 32932 books and 432820 ratings\n"
     ]
    }
   ],
   "source": [
    "import os\n",
    "if not os.path.exists('clean_data'):\n",
    "    os.makedirs('clean_data')\n",
    "\n",
    "# save clean data\n",
    "books_data_1.to_csv('clean_data/books_data_clean.csv')\n",
    "books_ratings_1.to_csv('clean_data/books_rating_clean.csv')\n",
    "\n",
    "print(\"First we had {} books and {} ratings\".format(len(books_data), len(books_ratings)))\n",
    "print(\"Now we have {} books and {} ratings\".format(len(books_data_1), len(books_ratings_1)))"
   ]
  },
  {
   "cell_type": "code",
   "execution_count": 17,
   "metadata": {},
   "outputs": [
    {
     "data": {
      "text/html": [
       "<div>\n",
       "<style scoped>\n",
       "    .dataframe tbody tr th:only-of-type {\n",
       "        vertical-align: middle;\n",
       "    }\n",
       "\n",
       "    .dataframe tbody tr th {\n",
       "        vertical-align: top;\n",
       "    }\n",
       "\n",
       "    .dataframe thead th {\n",
       "        text-align: right;\n",
       "    }\n",
       "</style>\n",
       "<table border=\"1\" class=\"dataframe\">\n",
       "  <thead>\n",
       "    <tr style=\"text-align: right;\">\n",
       "      <th></th>\n",
       "      <th>title</th>\n",
       "      <th>description</th>\n",
       "      <th>authors</th>\n",
       "      <th>published_date</th>\n",
       "      <th>categories</th>\n",
       "      <th>avg_rating</th>\n",
       "    </tr>\n",
       "  </thead>\n",
       "  <tbody>\n",
       "    <tr>\n",
       "      <th>0</th>\n",
       "      <td>eyewitness travel guide to europe</td>\n",
       "      <td>The DK Eyewitness Travel Guide: Eastern and Ce...</td>\n",
       "      <td>['Dorling Kindersley Publishing Staff', 'Jonat...</td>\n",
       "      <td>2015-06-15</td>\n",
       "      <td>['Europe']</td>\n",
       "      <td>4.666667</td>\n",
       "    </tr>\n",
       "    <tr>\n",
       "      <th>1</th>\n",
       "      <td>voices from the farm adventures in community l...</td>\n",
       "      <td>Twenty-five years ago, at the height of the co...</td>\n",
       "      <td>['Rupert Fike']</td>\n",
       "      <td>2012-08-21</td>\n",
       "      <td>['Biography &amp; Autobiography']</td>\n",
       "      <td>5.000000</td>\n",
       "    </tr>\n",
       "    <tr>\n",
       "      <th>2</th>\n",
       "      <td>tess and the highlander</td>\n",
       "      <td>In 1543, on a windswept isle off of Scotland, ...</td>\n",
       "      <td>['May Mcgoldrick']</td>\n",
       "      <td>2002-11</td>\n",
       "      <td>['Juvenile Fiction']</td>\n",
       "      <td>4.000000</td>\n",
       "    </tr>\n",
       "    <tr>\n",
       "      <th>3</th>\n",
       "      <td>communicating with orcas  the whales perspective</td>\n",
       "      <td>NaN</td>\n",
       "      <td>['Mary J. Getten']</td>\n",
       "      <td>2002</td>\n",
       "      <td>['Local author']</td>\n",
       "      <td>5.000000</td>\n",
       "    </tr>\n",
       "    <tr>\n",
       "      <th>4</th>\n",
       "      <td>the impatient gardeners lawn book</td>\n",
       "      <td>Explains how to grow a green, beautiful lawn a...</td>\n",
       "      <td>['Jerry Baker']</td>\n",
       "      <td>1987</td>\n",
       "      <td>['Gardening']</td>\n",
       "      <td>4.000000</td>\n",
       "    </tr>\n",
       "  </tbody>\n",
       "</table>\n",
       "</div>"
      ],
      "text/plain": [
       "                                               title  \\\n",
       "0                  eyewitness travel guide to europe   \n",
       "1  voices from the farm adventures in community l...   \n",
       "2                            tess and the highlander   \n",
       "3   communicating with orcas  the whales perspective   \n",
       "4                  the impatient gardeners lawn book   \n",
       "\n",
       "                                         description  \\\n",
       "0  The DK Eyewitness Travel Guide: Eastern and Ce...   \n",
       "1  Twenty-five years ago, at the height of the co...   \n",
       "2  In 1543, on a windswept isle off of Scotland, ...   \n",
       "3                                                NaN   \n",
       "4  Explains how to grow a green, beautiful lawn a...   \n",
       "\n",
       "                                             authors published_date  \\\n",
       "0  ['Dorling Kindersley Publishing Staff', 'Jonat...     2015-06-15   \n",
       "1                                    ['Rupert Fike']     2012-08-21   \n",
       "2                                 ['May Mcgoldrick']        2002-11   \n",
       "3                                 ['Mary J. Getten']           2002   \n",
       "4                                    ['Jerry Baker']           1987   \n",
       "\n",
       "                      categories  avg_rating  \n",
       "0                     ['Europe']    4.666667  \n",
       "1  ['Biography & Autobiography']    5.000000  \n",
       "2           ['Juvenile Fiction']    4.000000  \n",
       "3               ['Local author']    5.000000  \n",
       "4                  ['Gardening']    4.000000  "
      ]
     },
     "execution_count": 17,
     "metadata": {},
     "output_type": "execute_result"
    }
   ],
   "source": [
    "books_data_1.head()"
   ]
  },
  {
   "cell_type": "code",
   "execution_count": 18,
   "metadata": {},
   "outputs": [
    {
     "data": {
      "text/html": [
       "<div>\n",
       "<style scoped>\n",
       "    .dataframe tbody tr th:only-of-type {\n",
       "        vertical-align: middle;\n",
       "    }\n",
       "\n",
       "    .dataframe tbody tr th {\n",
       "        vertical-align: top;\n",
       "    }\n",
       "\n",
       "    .dataframe thead th {\n",
       "        text-align: right;\n",
       "    }\n",
       "</style>\n",
       "<table border=\"1\" class=\"dataframe\">\n",
       "  <thead>\n",
       "    <tr style=\"text-align: right;\">\n",
       "      <th></th>\n",
       "      <th>title</th>\n",
       "      <th>user_id</th>\n",
       "      <th>helpfulness</th>\n",
       "      <th>score</th>\n",
       "      <th>summary</th>\n",
       "      <th>text</th>\n",
       "      <th>helpfulness_count</th>\n",
       "      <th>helpfulness_pct</th>\n",
       "    </tr>\n",
       "  </thead>\n",
       "  <tbody>\n",
       "    <tr>\n",
       "      <th>140</th>\n",
       "      <td>eyewitness travel guide to europe</td>\n",
       "      <td>A281NPSIMI1C2R</td>\n",
       "      <td>19/19</td>\n",
       "      <td>5.0</td>\n",
       "      <td>The Major Sights in Twenty Countries - Amazing!</td>\n",
       "      <td>Yes, this is one heavy book. It is more than l...</td>\n",
       "      <td>19</td>\n",
       "      <td>1.000000</td>\n",
       "    </tr>\n",
       "    <tr>\n",
       "      <th>141</th>\n",
       "      <td>eyewitness travel guide to europe</td>\n",
       "      <td>A2TAPL67U2A5HM</td>\n",
       "      <td>12/13</td>\n",
       "      <td>5.0</td>\n",
       "      <td>Europe (Eyewitness Travel Guides) by Dan Colwell</td>\n",
       "      <td>Eyewitness travel guides are splendid and this...</td>\n",
       "      <td>13</td>\n",
       "      <td>0.923077</td>\n",
       "    </tr>\n",
       "    <tr>\n",
       "      <th>142</th>\n",
       "      <td>eyewitness travel guide to europe</td>\n",
       "      <td>AT9YSY20RJUDX</td>\n",
       "      <td>11/13</td>\n",
       "      <td>4.0</td>\n",
       "      <td>Helpful guide on tours through Europe</td>\n",
       "      <td>I recently took a backpack trip through Europe...</td>\n",
       "      <td>13</td>\n",
       "      <td>0.846154</td>\n",
       "    </tr>\n",
       "    <tr>\n",
       "      <th>182</th>\n",
       "      <td>voices from the farm adventures in community l...</td>\n",
       "      <td>A1ER5AYS3FQ9O3</td>\n",
       "      <td>6/7</td>\n",
       "      <td>5.0</td>\n",
       "      <td>Intense memoir told in brief segments by forme...</td>\n",
       "      <td>This book gave me a glimpse at life on The Far...</td>\n",
       "      <td>7</td>\n",
       "      <td>0.857143</td>\n",
       "    </tr>\n",
       "    <tr>\n",
       "      <th>217</th>\n",
       "      <td>tess and the highlander</td>\n",
       "      <td>A2VCGJLKGK2WJJ</td>\n",
       "      <td>17/18</td>\n",
       "      <td>5.0</td>\n",
       "      <td>My new favorite book from the Avon True Romanc...</td>\n",
       "      <td>Tess was washed ashore on the Isle of May duri...</td>\n",
       "      <td>18</td>\n",
       "      <td>0.944444</td>\n",
       "    </tr>\n",
       "  </tbody>\n",
       "</table>\n",
       "</div>"
      ],
      "text/plain": [
       "                                                 title         user_id  \\\n",
       "140                  eyewitness travel guide to europe  A281NPSIMI1C2R   \n",
       "141                  eyewitness travel guide to europe  A2TAPL67U2A5HM   \n",
       "142                  eyewitness travel guide to europe   AT9YSY20RJUDX   \n",
       "182  voices from the farm adventures in community l...  A1ER5AYS3FQ9O3   \n",
       "217                            tess and the highlander  A2VCGJLKGK2WJJ   \n",
       "\n",
       "    helpfulness  score                                            summary  \\\n",
       "140       19/19    5.0    The Major Sights in Twenty Countries - Amazing!   \n",
       "141       12/13    5.0   Europe (Eyewitness Travel Guides) by Dan Colwell   \n",
       "142       11/13    4.0              Helpful guide on tours through Europe   \n",
       "182         6/7    5.0  Intense memoir told in brief segments by forme...   \n",
       "217       17/18    5.0  My new favorite book from the Avon True Romanc...   \n",
       "\n",
       "                                                  text  helpfulness_count  \\\n",
       "140  Yes, this is one heavy book. It is more than l...                 19   \n",
       "141  Eyewitness travel guides are splendid and this...                 13   \n",
       "142  I recently took a backpack trip through Europe...                 13   \n",
       "182  This book gave me a glimpse at life on The Far...                  7   \n",
       "217  Tess was washed ashore on the Isle of May duri...                 18   \n",
       "\n",
       "     helpfulness_pct  \n",
       "140         1.000000  \n",
       "141         0.923077  \n",
       "142         0.846154  \n",
       "182         0.857143  \n",
       "217         0.944444  "
      ]
     },
     "execution_count": 18,
     "metadata": {},
     "output_type": "execute_result"
    }
   ],
   "source": [
    "books_ratings_1.head()"
   ]
  },
  {
   "cell_type": "markdown",
   "metadata": {},
   "source": [
    "# Similar items"
   ]
  },
  {
   "cell_type": "code",
   "execution_count": 19,
   "metadata": {},
   "outputs": [
    {
     "data": {
      "text/plain": [
       "leave it to me a novel                                      1\n",
       "the persian puzzle the conflict between iran and america    1\n",
       "autobiography of madame guyon                               1\n",
       "the hemingway book club of kosovo                           1\n",
       "with this ring                                              1\n",
       "                                                           ..\n",
       "the midnight before christmas                               1\n",
       "mirror mirror                                               1\n",
       "the art of faery                                            1\n",
       "sundiver                                                    1\n",
       "                                                            1\n",
       "Name: title, Length: 32932, dtype: int64"
      ]
     },
     "execution_count": 19,
     "metadata": {},
     "output_type": "execute_result"
    }
   ],
   "source": [
    "books_data_1['title'].value_counts()"
   ]
  },
  {
   "cell_type": "markdown",
   "metadata": {},
   "source": [
    "## Jaccard Similarity\n",
    "Function jaccard, that takes two titles and outputs the estimated jaccard similarity."
   ]
  },
  {
   "cell_type": "code",
   "execution_count": 66,
   "metadata": {},
   "outputs": [
    {
     "ename": "KeyError",
     "evalue": "10",
     "output_type": "error",
     "traceback": [
      "\u001b[1;31m---------------------------------------------------------------------------\u001b[0m",
      "\u001b[1;31mKeyError\u001b[0m                                  Traceback (most recent call last)",
      "\u001b[1;32mc:\\ProgramData\\Anaconda3\\lib\\site-packages\\pandas\\core\\indexes\\base.py\u001b[0m in \u001b[0;36mget_loc\u001b[1;34m(self, key, method, tolerance)\u001b[0m\n\u001b[0;32m   2894\u001b[0m             \u001b[1;32mtry\u001b[0m\u001b[1;33m:\u001b[0m\u001b[1;33m\u001b[0m\u001b[1;33m\u001b[0m\u001b[0m\n\u001b[1;32m-> 2895\u001b[1;33m                 \u001b[1;32mreturn\u001b[0m \u001b[0mself\u001b[0m\u001b[1;33m.\u001b[0m\u001b[0m_engine\u001b[0m\u001b[1;33m.\u001b[0m\u001b[0mget_loc\u001b[0m\u001b[1;33m(\u001b[0m\u001b[0mcasted_key\u001b[0m\u001b[1;33m)\u001b[0m\u001b[1;33m\u001b[0m\u001b[1;33m\u001b[0m\u001b[0m\n\u001b[0m\u001b[0;32m   2896\u001b[0m             \u001b[1;32mexcept\u001b[0m \u001b[0mKeyError\u001b[0m \u001b[1;32mas\u001b[0m \u001b[0merr\u001b[0m\u001b[1;33m:\u001b[0m\u001b[1;33m\u001b[0m\u001b[1;33m\u001b[0m\u001b[0m\n",
      "\u001b[1;32mpandas\\_libs\\index.pyx\u001b[0m in \u001b[0;36mpandas._libs.index.IndexEngine.get_loc\u001b[1;34m()\u001b[0m\n",
      "\u001b[1;32mpandas\\_libs\\index.pyx\u001b[0m in \u001b[0;36mpandas._libs.index.IndexEngine.get_loc\u001b[1;34m()\u001b[0m\n",
      "\u001b[1;32mpandas\\_libs\\hashtable_class_helper.pxi\u001b[0m in \u001b[0;36mpandas._libs.hashtable.Int64HashTable.get_item\u001b[1;34m()\u001b[0m\n",
      "\u001b[1;32mpandas\\_libs\\hashtable_class_helper.pxi\u001b[0m in \u001b[0;36mpandas._libs.hashtable.Int64HashTable.get_item\u001b[1;34m()\u001b[0m\n",
      "\u001b[1;31mKeyError\u001b[0m: 10",
      "\nThe above exception was the direct cause of the following exception:\n",
      "\u001b[1;31mKeyError\u001b[0m                                  Traceback (most recent call last)",
      "\u001b[1;32m<ipython-input-66-31901c9eda93>\u001b[0m in \u001b[0;36m<module>\u001b[1;34m\u001b[0m\n\u001b[0;32m     36\u001b[0m \u001b[0mn\u001b[0m \u001b[1;33m=\u001b[0m \u001b[1;36m100\u001b[0m\u001b[1;33m\u001b[0m\u001b[1;33m\u001b[0m\u001b[0m\n\u001b[0;32m     37\u001b[0m \u001b[0mtitle_list\u001b[0m \u001b[1;33m=\u001b[0m \u001b[0mbooks_data_1\u001b[0m\u001b[1;33m[\u001b[0m\u001b[1;34m'title'\u001b[0m\u001b[1;33m]\u001b[0m\u001b[1;33m[\u001b[0m\u001b[1;36m0\u001b[0m\u001b[1;33m:\u001b[0m\u001b[0mn\u001b[0m\u001b[1;33m]\u001b[0m\u001b[1;33m\u001b[0m\u001b[1;33m\u001b[0m\u001b[0m\n\u001b[1;32m---> 38\u001b[1;33m \u001b[0mmax_similarity\u001b[0m\u001b[1;33m,\u001b[0m\u001b[0midx1\u001b[0m\u001b[1;33m,\u001b[0m\u001b[0midx2\u001b[0m \u001b[1;33m=\u001b[0m \u001b[0mmax_jaccard\u001b[0m\u001b[1;33m(\u001b[0m\u001b[0mtitle_list\u001b[0m\u001b[1;33m)\u001b[0m\u001b[1;33m\u001b[0m\u001b[1;33m\u001b[0m\u001b[0m\n\u001b[0m\u001b[0;32m     39\u001b[0m \u001b[0mprint\u001b[0m\u001b[1;33m(\u001b[0m\u001b[1;34mf\"Max Jaccard Similarity: {max_similarity}\"\u001b[0m\u001b[1;33m)\u001b[0m\u001b[1;33m\u001b[0m\u001b[1;33m\u001b[0m\u001b[0m\n\u001b[0;32m     40\u001b[0m \u001b[0mprint\u001b[0m\u001b[1;33m(\u001b[0m\u001b[0mbooks_data_1\u001b[0m\u001b[1;33m[\u001b[0m\u001b[1;34m'title'\u001b[0m\u001b[1;33m]\u001b[0m\u001b[1;33m[\u001b[0m\u001b[0midx1\u001b[0m\u001b[1;33m]\u001b[0m\u001b[1;33m)\u001b[0m\u001b[1;33m\u001b[0m\u001b[1;33m\u001b[0m\u001b[0m\n",
      "\u001b[1;32m<ipython-input-66-31901c9eda93>\u001b[0m in \u001b[0;36mmax_jaccard\u001b[1;34m(title_list)\u001b[0m\n\u001b[0;32m     18\u001b[0m     \u001b[1;32mfor\u001b[0m \u001b[0mi\u001b[0m \u001b[1;32min\u001b[0m \u001b[0mrange\u001b[0m\u001b[1;33m(\u001b[0m\u001b[0mlen\u001b[0m\u001b[1;33m(\u001b[0m\u001b[0mtitle_list\u001b[0m\u001b[1;33m)\u001b[0m\u001b[1;33m)\u001b[0m\u001b[1;33m:\u001b[0m\u001b[1;33m\u001b[0m\u001b[1;33m\u001b[0m\u001b[0m\n\u001b[0;32m     19\u001b[0m         \u001b[1;32mfor\u001b[0m \u001b[0mj\u001b[0m \u001b[1;32min\u001b[0m \u001b[0mrange\u001b[0m\u001b[1;33m(\u001b[0m\u001b[0mi\u001b[0m \u001b[1;33m+\u001b[0m \u001b[1;36m1\u001b[0m\u001b[1;33m,\u001b[0m \u001b[0mlen\u001b[0m\u001b[1;33m(\u001b[0m\u001b[0mtitle_list\u001b[0m\u001b[1;33m)\u001b[0m\u001b[1;33m)\u001b[0m\u001b[1;33m:\u001b[0m\u001b[1;33m\u001b[0m\u001b[1;33m\u001b[0m\u001b[0m\n\u001b[1;32m---> 20\u001b[1;33m             \u001b[0msimilarity\u001b[0m \u001b[1;33m=\u001b[0m \u001b[0mjaccard\u001b[0m\u001b[1;33m(\u001b[0m\u001b[0mtitle_list\u001b[0m\u001b[1;33m[\u001b[0m\u001b[0mi\u001b[0m\u001b[1;33m]\u001b[0m\u001b[1;33m,\u001b[0m \u001b[0mtitle_list\u001b[0m\u001b[1;33m[\u001b[0m\u001b[0mj\u001b[0m\u001b[1;33m]\u001b[0m\u001b[1;33m)\u001b[0m\u001b[1;33m\u001b[0m\u001b[1;33m\u001b[0m\u001b[0m\n\u001b[0m\u001b[0;32m     21\u001b[0m             \u001b[1;32mif\u001b[0m \u001b[0msimilarity\u001b[0m \u001b[1;33m>\u001b[0m \u001b[0mmax_similarity\u001b[0m\u001b[1;33m:\u001b[0m\u001b[1;33m\u001b[0m\u001b[1;33m\u001b[0m\u001b[0m\n\u001b[0;32m     22\u001b[0m                 \u001b[0midx1\u001b[0m \u001b[1;33m=\u001b[0m \u001b[0mi\u001b[0m\u001b[1;33m\u001b[0m\u001b[1;33m\u001b[0m\u001b[0m\n",
      "\u001b[1;32mc:\\ProgramData\\Anaconda3\\lib\\site-packages\\pandas\\core\\series.py\u001b[0m in \u001b[0;36m__getitem__\u001b[1;34m(self, key)\u001b[0m\n\u001b[0;32m    880\u001b[0m \u001b[1;33m\u001b[0m\u001b[0m\n\u001b[0;32m    881\u001b[0m         \u001b[1;32melif\u001b[0m \u001b[0mkey_is_scalar\u001b[0m\u001b[1;33m:\u001b[0m\u001b[1;33m\u001b[0m\u001b[1;33m\u001b[0m\u001b[0m\n\u001b[1;32m--> 882\u001b[1;33m             \u001b[1;32mreturn\u001b[0m \u001b[0mself\u001b[0m\u001b[1;33m.\u001b[0m\u001b[0m_get_value\u001b[0m\u001b[1;33m(\u001b[0m\u001b[0mkey\u001b[0m\u001b[1;33m)\u001b[0m\u001b[1;33m\u001b[0m\u001b[1;33m\u001b[0m\u001b[0m\n\u001b[0m\u001b[0;32m    883\u001b[0m \u001b[1;33m\u001b[0m\u001b[0m\n\u001b[0;32m    884\u001b[0m         \u001b[1;32mif\u001b[0m \u001b[0mis_hashable\u001b[0m\u001b[1;33m(\u001b[0m\u001b[0mkey\u001b[0m\u001b[1;33m)\u001b[0m\u001b[1;33m:\u001b[0m\u001b[1;33m\u001b[0m\u001b[1;33m\u001b[0m\u001b[0m\n",
      "\u001b[1;32mc:\\ProgramData\\Anaconda3\\lib\\site-packages\\pandas\\core\\series.py\u001b[0m in \u001b[0;36m_get_value\u001b[1;34m(self, label, takeable)\u001b[0m\n\u001b[0;32m    987\u001b[0m \u001b[1;33m\u001b[0m\u001b[0m\n\u001b[0;32m    988\u001b[0m         \u001b[1;31m# Similar to Index.get_value, but we do not fall back to positional\u001b[0m\u001b[1;33m\u001b[0m\u001b[1;33m\u001b[0m\u001b[1;33m\u001b[0m\u001b[0m\n\u001b[1;32m--> 989\u001b[1;33m         \u001b[0mloc\u001b[0m \u001b[1;33m=\u001b[0m \u001b[0mself\u001b[0m\u001b[1;33m.\u001b[0m\u001b[0mindex\u001b[0m\u001b[1;33m.\u001b[0m\u001b[0mget_loc\u001b[0m\u001b[1;33m(\u001b[0m\u001b[0mlabel\u001b[0m\u001b[1;33m)\u001b[0m\u001b[1;33m\u001b[0m\u001b[1;33m\u001b[0m\u001b[0m\n\u001b[0m\u001b[0;32m    990\u001b[0m         \u001b[1;32mreturn\u001b[0m \u001b[0mself\u001b[0m\u001b[1;33m.\u001b[0m\u001b[0mindex\u001b[0m\u001b[1;33m.\u001b[0m\u001b[0m_get_values_for_loc\u001b[0m\u001b[1;33m(\u001b[0m\u001b[0mself\u001b[0m\u001b[1;33m,\u001b[0m \u001b[0mloc\u001b[0m\u001b[1;33m,\u001b[0m \u001b[0mlabel\u001b[0m\u001b[1;33m)\u001b[0m\u001b[1;33m\u001b[0m\u001b[1;33m\u001b[0m\u001b[0m\n\u001b[0;32m    991\u001b[0m \u001b[1;33m\u001b[0m\u001b[0m\n",
      "\u001b[1;32mc:\\ProgramData\\Anaconda3\\lib\\site-packages\\pandas\\core\\indexes\\base.py\u001b[0m in \u001b[0;36mget_loc\u001b[1;34m(self, key, method, tolerance)\u001b[0m\n\u001b[0;32m   2895\u001b[0m                 \u001b[1;32mreturn\u001b[0m \u001b[0mself\u001b[0m\u001b[1;33m.\u001b[0m\u001b[0m_engine\u001b[0m\u001b[1;33m.\u001b[0m\u001b[0mget_loc\u001b[0m\u001b[1;33m(\u001b[0m\u001b[0mcasted_key\u001b[0m\u001b[1;33m)\u001b[0m\u001b[1;33m\u001b[0m\u001b[1;33m\u001b[0m\u001b[0m\n\u001b[0;32m   2896\u001b[0m             \u001b[1;32mexcept\u001b[0m \u001b[0mKeyError\u001b[0m \u001b[1;32mas\u001b[0m \u001b[0merr\u001b[0m\u001b[1;33m:\u001b[0m\u001b[1;33m\u001b[0m\u001b[1;33m\u001b[0m\u001b[0m\n\u001b[1;32m-> 2897\u001b[1;33m                 \u001b[1;32mraise\u001b[0m \u001b[0mKeyError\u001b[0m\u001b[1;33m(\u001b[0m\u001b[0mkey\u001b[0m\u001b[1;33m)\u001b[0m \u001b[1;32mfrom\u001b[0m \u001b[0merr\u001b[0m\u001b[1;33m\u001b[0m\u001b[1;33m\u001b[0m\u001b[0m\n\u001b[0m\u001b[0;32m   2898\u001b[0m \u001b[1;33m\u001b[0m\u001b[0m\n\u001b[0;32m   2899\u001b[0m         \u001b[1;32mif\u001b[0m \u001b[0mtolerance\u001b[0m \u001b[1;32mis\u001b[0m \u001b[1;32mnot\u001b[0m \u001b[1;32mNone\u001b[0m\u001b[1;33m:\u001b[0m\u001b[1;33m\u001b[0m\u001b[1;33m\u001b[0m\u001b[0m\n",
      "\u001b[1;31mKeyError\u001b[0m: 10"
     ]
    }
   ],
   "source": [
    "def jaccard(title1, title2):\n",
    "    words1 = set(str(title1).lower().split())\n",
    "    words2 = set(str(title2).lower().split())\n",
    "    \n",
    "    # Compute the intersection and union of the sets\n",
    "    intersection = len(words1.intersection(words2))\n",
    "    union = len(words1) + len(words2) - intersection\n",
    "    \n",
    "    # Calculate the Jaccard similarity\n",
    "    similarity = intersection / union if union > 0 else 0.0\n",
    "    \n",
    "    return similarity\n",
    "\n",
    "def max_jaccard(title_list):\n",
    "    max_similarity = 0.0\n",
    "    idx1 = 0\n",
    "    idx2 = 0\n",
    "    for i in range(len(title_list)):\n",
    "        for j in range(i + 1, len(title_list)):\n",
    "            similarity = jaccard(title_list[i], title_list[j])\n",
    "            if similarity > max_similarity:\n",
    "                idx1 = i\n",
    "                idx2 = j\n",
    "                max_similarity = similarity\n",
    "    return max_similarity,idx1,idx2\n",
    "\n",
    "# Example usage for comparing two titles\n",
    "#title1 = books_data_1['title'][0]\n",
    "#title2 = books_data_1['title'][1]\n",
    "#print(title1,title2)\n",
    "#similarity = jaccard(title1, title2)\n",
    "#print(f\"Jaccard Similarity: {similarity}\")\n",
    "\n",
    "\n",
    "# Example usage with a list of titles\n",
    "n = 100\n",
    "title_list = books_data_1['title'][0:n]\n",
    "max_similarity,idx1,idx2 = max_jaccard(title_list)\n",
    "print(f\"Max Jaccard Similarity: {max_similarity}\")\n",
    "print(books_data_1['title'][idx1])\n",
    "print(books_data_1['title'][idx2])\n"
   ]
  },
  {
   "cell_type": "markdown",
   "metadata": {},
   "source": [
    "## Similar items using Jaccard similarity"
   ]
  },
  {
   "cell_type": "code",
   "execution_count": 21,
   "metadata": {},
   "outputs": [
    {
     "name": "stdout",
     "output_type": "stream",
     "text": [
      "Similarity Score: 0.6\n",
      "Title 1: the art of the novel\n",
      "Title 2: the art of loving\n",
      "\n",
      "Similarity Score: 1.0\n",
      "Title 1: romola \n",
      "Title 2: romola\n",
      "\n",
      "Similarity Score: 1.0\n",
      "Title 1: chopin the man and his music\n",
      "Title 2: chopin  the man and his music\n",
      "\n",
      "Similarity Score: 0.6\n",
      "Title 1: the life of david\n",
      "Title 2: the life of jesus \n",
      "\n",
      "Similarity Score: 0.6\n",
      "Title 1: the holy spirit\n",
      "Title 2: the baptism with the holy spirit\n",
      "\n"
     ]
    }
   ],
   "source": [
    "def similar(names, jaccard_threshold=0.6):\n",
    "    # Create a dictionary to store the similar names\n",
    "    similar_names = {}\n",
    "    \n",
    "    # Loop through each name in the list\n",
    "    for i in range(len(names)):\n",
    "        for j in range(i+1, len(names)):\n",
    "            similarity_score = jaccard(names[i], names[j])\n",
    "            if similarity_score >= jaccard_threshold:\n",
    "                similar_names[(names[i], names[j])] = similarity_score\n",
    "    return similar_names\n",
    "\n",
    "# Example usage:    \n",
    "names = books_data_1['title'][0:500]\n",
    "similar_names = similar(names)\n",
    "# Print titles in a way that is easier to read\n",
    "\n",
    "for (desc1, desc2), score in similar_names.items():\n",
    "    print(f\"Similarity Score: {score}\")\n",
    "    print(f\"Title 1: {desc1}\")\n",
    "    print(f\"Title 2: {desc2}\")\n",
    "    print()\n"
   ]
  },
  {
   "cell_type": "code",
   "execution_count": 22,
   "metadata": {},
   "outputs": [
    {
     "name": "stdout",
     "output_type": "stream",
     "text": [
      "Similarity Score: 1.0\n",
      "Description 1: nan\n",
      "Description 2: nan\n",
      "\n"
     ]
    }
   ],
   "source": [
    "# Example usage for finding similar descriptions\n",
    "descritions = books_data_1['description'][0:400]\n",
    "similar_descriptions = similar(descritions,jaccard_threshold=0.4)\n",
    "\n",
    "# Print descriptions in a way that is easier to read\n",
    "for (desc1, desc2), score in similar_descriptions.items():\n",
    "    print(f\"Similarity Score: {score}\")\n",
    "    print(f\"Description 1: {desc1}\")\n",
    "    print(f\"Description 2: {desc2}\")\n",
    "    print()\n"
   ]
  },
  {
   "cell_type": "markdown",
   "metadata": {},
   "source": [
    "## Locality-Sensitive Hashing"
   ]
  },
  {
   "cell_type": "code",
   "execution_count": 23,
   "metadata": {},
   "outputs": [
    {
     "name": "stdout",
     "output_type": "stream",
     "text": [
      "32932\n",
      "25148\n"
     ]
    }
   ],
   "source": [
    "# keep only unique titles in books_data_1\n",
    "print(len(books_data_1))\n",
    "books_data_1 = books_data_1.drop_duplicates(subset=['description'], keep='first')\n",
    "print(len(books_data_1))"
   ]
  },
  {
   "cell_type": "code",
   "execution_count": 24,
   "metadata": {},
   "outputs": [],
   "source": [
    "import numpy as np\n",
    "import mmh3"
   ]
  },
  {
   "cell_type": "code",
   "execution_count": 25,
   "metadata": {},
   "outputs": [
    {
     "data": {
      "text/plain": [
       "['the complete ill',\n",
       " 'ustrated guide t',\n",
       " 'o chinese medici',\n",
       " 'ne a comprehensi',\n",
       " 've system for he',\n",
       " 'alth and fitness']"
      ]
     },
     "execution_count": 25,
     "metadata": {},
     "output_type": "execute_result"
    }
   ],
   "source": [
    "# split a string into k blocks of characters where\n",
    "def split_k(word,k):\n",
    "    n = len(word)\n",
    "    if k > n:\n",
    "        return split_k(word,int(k/2))\n",
    "    else:\n",
    "        if k == 0:\n",
    "            return word\n",
    "        n1 = n//k\n",
    "        n2 = n1 + n%k\n",
    "        return [word[i:i+n1] for i in range(0, n, n1)]\n",
    "    \n",
    "\n",
    "n = 5\n",
    "split_k(books_data_1['title'][n],6)"
   ]
  },
  {
   "cell_type": "code",
   "execution_count": 26,
   "metadata": {},
   "outputs": [
    {
     "name": "stdout",
     "output_type": "stream",
     "text": [
      "{0: 'eyewitness travel guide to europe', 1: 'voices from the farm adventures in community living'}\n",
      "0\n",
      "eyewitness travel guide to europe\n",
      "1\n",
      "voices from the farm adventures in community living\n"
     ]
    }
   ],
   "source": [
    "names = books_data_1['title'][0:2]\n",
    "names = names.to_dict()\n",
    "print(names)\n",
    "\n",
    "for key, values in names.items():\n",
    "    print(key)\n",
    "    print(values)\n"
   ]
  },
  {
   "cell_type": "code",
   "execution_count": 27,
   "metadata": {},
   "outputs": [
    {
     "name": "stdout",
     "output_type": "stream",
     "text": [
      "0\n"
     ]
    },
    {
     "name": "stdout",
     "output_type": "stream",
     "text": [
      "500\n",
      "1000\n",
      "1500\n",
      "Similarity Score: 0.6\n",
      "Title 1: the art of the novel\n",
      "Title 2: the art of pianoplaying\n",
      "\n",
      "Similarity Score: 1.0\n",
      "Title 1: the chosen \n",
      "Title 2: the chosen\n",
      "\n",
      "Similarity Score: 1.0\n",
      "Title 1: chopin the man and his music\n",
      "Title 2: chopin  the man and his music\n",
      "\n",
      "Similarity Score: 0.6\n",
      "Title 1: the shadow of the lion\n",
      "Title 2: shadow of the hegemon\n",
      "\n",
      "Similarity Score: 0.6\n",
      "Title 1: the life of david\n",
      "Title 2: the life of jesus \n",
      "\n",
      "Similarity Score: 1.0\n",
      "Title 1: nostromo\n",
      "Title 2: nostromo \n",
      "\n",
      "Similarity Score: 1.0\n",
      "Title 1: mayor of casterbridge the\n",
      "Title 2: the mayor of casterbridge \n",
      "\n",
      "Similarity Score: 0.6\n",
      "Title 1: the art of loving\n",
      "Title 2: the art of pianoplaying\n",
      "\n",
      "Similarity Score: 0.6\n",
      "Title 1: out of the blue\n",
      "Title 2: out of the silence\n",
      "\n",
      "Similarity Score: 1.0\n",
      "Title 1: brave new world \n",
      "Title 2: brave new world\n",
      "\n",
      "Similarity Score: 0.7142857142857143\n",
      "Title 1: the complete idiots guide to taoism\n",
      "Title 2: the complete idiots guide to paganism\n",
      "\n",
      "Similarity Score: 1.0\n",
      "Title 1: a connecticut yankee in king arthurs court \n",
      "Title 2: a connecticut yankee in king arthurs court\n",
      "\n",
      "Similarity Score: 0.6666666666666666\n",
      "Title 1: the day kennedy was shot\n",
      "Title 2: the day lincoln was shot\n",
      "\n",
      "Similarity Score: 0.6\n",
      "Title 1: the red fairy book \n",
      "Title 2: the yellow fairy book\n",
      "\n",
      "Similarity Score: 0.6\n",
      "Title 1: the lives of the artists \n",
      "Title 2: the lives of rocks\n",
      "\n",
      "Similarity Score: 1.0\n",
      "Title 1: red storm rising \n",
      "Title 2: red storm rising\n",
      "\n",
      "Similarity Score: 1.0\n",
      "Title 1: free fall\n",
      "Title 2: free fall \n",
      "\n",
      "Similarity Score: 0.6\n",
      "Title 1: the heaven of mercury \n",
      "Title 2: the fires of heaven \n",
      "\n",
      "Similarity Score: 0.6\n",
      "Title 1: the book of sarahs\n",
      "Title 2: the book of tea\n",
      "\n",
      "Similarity Score: 0.7777777777777778\n",
      "Title 1: guy food rachael rays top 30 30minute meals\n",
      "Title 2: kid food rachael rays top 30 30minute meals\n",
      "\n",
      "Similarity Score: 0.6\n",
      "Title 1: heart of the hunter\n",
      "Title 2: heart of the night\n",
      "\n",
      "Similarity Score: 0.6\n",
      "Title 1: kiss of the night \n",
      "Title 2: heart of the night\n",
      "\n"
     ]
    }
   ],
   "source": [
    "# Implement the LSH algorithm\n",
    "b = 10\n",
    "\n",
    "def lsh(names, jaccard_threshold,seed):\n",
    "    lsh_dict = {}\n",
    "    for key, name in names.to_dict().items():\n",
    "        blocks = split_k(name,b)\n",
    "        blocks_hash_values = []\n",
    "        for aBlock in blocks:\n",
    "            blocks_hash_values.append(mmh3.hash(aBlock, seed))\n",
    "        lsh_dict[key] = blocks_hash_values\n",
    "    list_keys = list(lsh_dict.keys())\n",
    "    similar_items = {}\n",
    "    for i in range(len(list_keys)-1):\n",
    "        if i% 500 == 0:\n",
    "            print(i)\n",
    "        for j in range(i+1, len(list_keys)):\n",
    "            common_values = np.intersect1d(lsh_dict[list_keys[i]], lsh_dict[list_keys[j]])\n",
    "            if len(common_values) > 0:\n",
    "                # we found a candidate\n",
    "                similarity_score = jaccard(names[list_keys[i]], names[list_keys[j]])\n",
    "                if similarity_score >= jaccard_threshold:\n",
    "                    similar_items[(list_keys[i], list_keys[j])] = similarity_score\n",
    "    return similar_items\n",
    "\n",
    "n = 2000\n",
    "\n",
    "#for (desc1, desc2), score in similar_descriptions.items():\n",
    " #   if score == 1:\n",
    "  #      df = df.drop(desc2)\n",
    "\n",
    "titles = books_data_1['title'][0:n]\n",
    "found_similar_items_with_lsh = lsh(titles,jaccard_threshold=0.6,seed=42)\n",
    "# Print the results\n",
    "for (title1, title2), score in found_similar_items_with_lsh.items():\n",
    "    print(f\"Similarity Score: {score}\")\n",
    "    print(f\"Title 1: {titles[title1]}\")\n",
    "    print(f\"Title 2: {titles[title2]}\")\n",
    "    print()\n",
    "    if score == 1:\n",
    "        books_data_1 = books_data_1.drop(title2)"
   ]
  },
  {
   "cell_type": "code",
   "execution_count": 28,
   "metadata": {},
   "outputs": [
    {
     "data": {
      "text/plain": [
       "{(80, 1924): 0.6,\n",
       " (124, 1800): 1.0,\n",
       " (145, 176): 1.0,\n",
       " (172, 2263): 0.6,\n",
       " (180, 419): 0.6,\n",
       " (316, 2361): 1.0,\n",
       " (470, 825): 1.0,\n",
       " (484, 1924): 0.6,\n",
       " (695, 1107): 0.6,\n",
       " (759, 2011): 1.0,\n",
       " (767, 927): 0.7142857142857143,\n",
       " (896, 2215): 1.0,\n",
       " (992, 1749): 0.6666666666666666,\n",
       " (1066, 2042): 0.6,\n",
       " (1258, 1374): 0.6,\n",
       " (1262, 2273): 1.0,\n",
       " (1276, 1572): 1.0,\n",
       " (1517, 1707): 0.6,\n",
       " (1621, 1635): 0.6,\n",
       " (1823, 1855): 0.7777777777777778,\n",
       " (2100, 2355): 0.6,\n",
       " (2223, 2355): 0.6}"
      ]
     },
     "execution_count": 28,
     "metadata": {},
     "output_type": "execute_result"
    }
   ],
   "source": [
    "found_similar_items_with_lsh"
   ]
  },
  {
   "cell_type": "code",
   "execution_count": 29,
   "metadata": {},
   "outputs": [
    {
     "ename": "NameError",
     "evalue": "name 'df' is not defined",
     "output_type": "error",
     "traceback": [
      "\u001b[1;31m---------------------------------------------------------------------------\u001b[0m",
      "\u001b[1;31mNameError\u001b[0m                                 Traceback (most recent call last)",
      "\u001b[1;32m<ipython-input-29-eb3bc0ee583b>\u001b[0m in \u001b[0;36m<module>\u001b[1;34m\u001b[0m\n\u001b[1;32m----> 1\u001b[1;33m \u001b[0mdf\u001b[0m\u001b[1;33m[\u001b[0m\u001b[1;34m'title'\u001b[0m\u001b[1;33m]\u001b[0m\u001b[1;33m[\u001b[0m\u001b[1;36m2\u001b[0m\u001b[1;33m]\u001b[0m\u001b[1;33m\u001b[0m\u001b[1;33m\u001b[0m\u001b[0m\n\u001b[0m",
      "\u001b[1;31mNameError\u001b[0m: name 'df' is not defined"
     ]
    }
   ],
   "source": [
    "df['title'][2]"
   ]
  },
  {
   "cell_type": "code",
   "execution_count": null,
   "metadata": {},
   "outputs": [
    {
     "data": {
      "text/html": [
       "<div>\n",
       "<style scoped>\n",
       "    .dataframe tbody tr th:only-of-type {\n",
       "        vertical-align: middle;\n",
       "    }\n",
       "\n",
       "    .dataframe tbody tr th {\n",
       "        vertical-align: top;\n",
       "    }\n",
       "\n",
       "    .dataframe thead th {\n",
       "        text-align: right;\n",
       "    }\n",
       "</style>\n",
       "<table border=\"1\" class=\"dataframe\">\n",
       "  <thead>\n",
       "    <tr style=\"text-align: right;\">\n",
       "      <th></th>\n",
       "      <th>title</th>\n",
       "      <th>description</th>\n",
       "      <th>authors</th>\n",
       "      <th>published_date</th>\n",
       "      <th>categories</th>\n",
       "      <th>avg_rating</th>\n",
       "    </tr>\n",
       "  </thead>\n",
       "  <tbody>\n",
       "    <tr>\n",
       "      <th>2</th>\n",
       "      <td>tess and the highlander</td>\n",
       "      <td>In 1543, on a windswept isle off of Scotland, ...</td>\n",
       "      <td>['May Mcgoldrick']</td>\n",
       "      <td>2002-11</td>\n",
       "      <td>['Juvenile Fiction']</td>\n",
       "      <td>4.0</td>\n",
       "    </tr>\n",
       "    <tr>\n",
       "      <th>3</th>\n",
       "      <td>communicating with orcas  the whales perspective</td>\n",
       "      <td>NaN</td>\n",
       "      <td>['Mary J. Getten']</td>\n",
       "      <td>2002</td>\n",
       "      <td>['Local author']</td>\n",
       "      <td>5.0</td>\n",
       "    </tr>\n",
       "    <tr>\n",
       "      <th>4</th>\n",
       "      <td>the impatient gardeners lawn book</td>\n",
       "      <td>Explains how to grow a green, beautiful lawn a...</td>\n",
       "      <td>['Jerry Baker']</td>\n",
       "      <td>1987</td>\n",
       "      <td>['Gardening']</td>\n",
       "      <td>4.0</td>\n",
       "    </tr>\n",
       "    <tr>\n",
       "      <th>5</th>\n",
       "      <td>the complete illustrated guide to chinese medi...</td>\n",
       "      <td>This beautifully illustrated, full-color book ...</td>\n",
       "      <td>['Tom Williams']</td>\n",
       "      <td>2003</td>\n",
       "      <td>['Health &amp; Fitness']</td>\n",
       "      <td>4.5</td>\n",
       "    </tr>\n",
       "    <tr>\n",
       "      <th>6</th>\n",
       "      <td>night world daughters of darkness</td>\n",
       "      <td>\"There’s something strange about the new girls...</td>\n",
       "      <td>['L.J. Smith']</td>\n",
       "      <td>2016-12-06</td>\n",
       "      <td>['Juvenile Fiction']</td>\n",
       "      <td>3.5</td>\n",
       "    </tr>\n",
       "    <tr>\n",
       "      <th>...</th>\n",
       "      <td>...</td>\n",
       "      <td>...</td>\n",
       "      <td>...</td>\n",
       "      <td>...</td>\n",
       "      <td>...</td>\n",
       "      <td>...</td>\n",
       "    </tr>\n",
       "    <tr>\n",
       "      <th>32927</th>\n",
       "      <td>thin within</td>\n",
       "      <td>I want to lose weight, but dieting just doesn'...</td>\n",
       "      <td>['Judy Halliday', 'Arthur Halliday']</td>\n",
       "      <td>2005-04-17</td>\n",
       "      <td>['Health &amp; Fitness']</td>\n",
       "      <td>5.0</td>\n",
       "    </tr>\n",
       "    <tr>\n",
       "      <th>32928</th>\n",
       "      <td>sell and resell your photos</td>\n",
       "      <td>Sell your photos again and again! Live anywher...</td>\n",
       "      <td>['Rohn Engh', 'Mikael Karlsson']</td>\n",
       "      <td>2016-08-17</td>\n",
       "      <td>['Photography']</td>\n",
       "      <td>3.0</td>\n",
       "    </tr>\n",
       "    <tr>\n",
       "      <th>32929</th>\n",
       "      <td>dear friends american photographs of men toget...</td>\n",
       "      <td>NaN</td>\n",
       "      <td>NaN</td>\n",
       "      <td>NaN</td>\n",
       "      <td>NaN</td>\n",
       "      <td>5.0</td>\n",
       "    </tr>\n",
       "    <tr>\n",
       "      <th>32930</th>\n",
       "      <td>sofia</td>\n",
       "      <td>NaN</td>\n",
       "      <td>NaN</td>\n",
       "      <td>NaN</td>\n",
       "      <td>NaN</td>\n",
       "      <td>5.0</td>\n",
       "    </tr>\n",
       "    <tr>\n",
       "      <th>32931</th>\n",
       "      <td>the orphan of ellis island</td>\n",
       "      <td>During a school trip to Ellis Island, Dominick...</td>\n",
       "      <td>['Elvira Woodruff']</td>\n",
       "      <td>2000-06-01</td>\n",
       "      <td>['Juvenile Fiction']</td>\n",
       "      <td>3.0</td>\n",
       "    </tr>\n",
       "  </tbody>\n",
       "</table>\n",
       "<p>32929 rows × 6 columns</p>\n",
       "</div>"
      ],
      "text/plain": [
       "                                                   title  \\\n",
       "2                                tess and the highlander   \n",
       "3       communicating with orcas  the whales perspective   \n",
       "4                      the impatient gardeners lawn book   \n",
       "5      the complete illustrated guide to chinese medi...   \n",
       "6                      night world daughters of darkness   \n",
       "...                                                  ...   \n",
       "32927                                        thin within   \n",
       "32928                        sell and resell your photos   \n",
       "32929  dear friends american photographs of men toget...   \n",
       "32930                                              sofia   \n",
       "32931                        the orphan of ellis island    \n",
       "\n",
       "                                             description  \\\n",
       "2      In 1543, on a windswept isle off of Scotland, ...   \n",
       "3                                                    NaN   \n",
       "4      Explains how to grow a green, beautiful lawn a...   \n",
       "5      This beautifully illustrated, full-color book ...   \n",
       "6      \"There’s something strange about the new girls...   \n",
       "...                                                  ...   \n",
       "32927  I want to lose weight, but dieting just doesn'...   \n",
       "32928  Sell your photos again and again! Live anywher...   \n",
       "32929                                                NaN   \n",
       "32930                                                NaN   \n",
       "32931  During a school trip to Ellis Island, Dominick...   \n",
       "\n",
       "                                    authors published_date  \\\n",
       "2                        ['May Mcgoldrick']        2002-11   \n",
       "3                        ['Mary J. Getten']           2002   \n",
       "4                           ['Jerry Baker']           1987   \n",
       "5                          ['Tom Williams']           2003   \n",
       "6                            ['L.J. Smith']     2016-12-06   \n",
       "...                                     ...            ...   \n",
       "32927  ['Judy Halliday', 'Arthur Halliday']     2005-04-17   \n",
       "32928      ['Rohn Engh', 'Mikael Karlsson']     2016-08-17   \n",
       "32929                                   NaN            NaN   \n",
       "32930                                   NaN            NaN   \n",
       "32931                   ['Elvira Woodruff']     2000-06-01   \n",
       "\n",
       "                 categories  avg_rating  \n",
       "2      ['Juvenile Fiction']         4.0  \n",
       "3          ['Local author']         5.0  \n",
       "4             ['Gardening']         4.0  \n",
       "5      ['Health & Fitness']         4.5  \n",
       "6      ['Juvenile Fiction']         3.5  \n",
       "...                     ...         ...  \n",
       "32927  ['Health & Fitness']         5.0  \n",
       "32928       ['Photography']         3.0  \n",
       "32929                   NaN         5.0  \n",
       "32930                   NaN         5.0  \n",
       "32931  ['Juvenile Fiction']         3.0  \n",
       "\n",
       "[32929 rows x 6 columns]"
      ]
     },
     "execution_count": 152,
     "metadata": {},
     "output_type": "execute_result"
    }
   ],
   "source": [
    "df.drop(0)"
   ]
  },
  {
   "cell_type": "code",
   "execution_count": null,
   "metadata": {},
   "outputs": [
    {
     "data": {
      "text/html": [
       "<div>\n",
       "<style scoped>\n",
       "    .dataframe tbody tr th:only-of-type {\n",
       "        vertical-align: middle;\n",
       "    }\n",
       "\n",
       "    .dataframe tbody tr th {\n",
       "        vertical-align: top;\n",
       "    }\n",
       "\n",
       "    .dataframe thead th {\n",
       "        text-align: right;\n",
       "    }\n",
       "</style>\n",
       "<table border=\"1\" class=\"dataframe\">\n",
       "  <thead>\n",
       "    <tr style=\"text-align: right;\">\n",
       "      <th></th>\n",
       "      <th>title</th>\n",
       "      <th>description</th>\n",
       "      <th>authors</th>\n",
       "      <th>published_date</th>\n",
       "      <th>categories</th>\n",
       "      <th>avg_rating</th>\n",
       "    </tr>\n",
       "  </thead>\n",
       "  <tbody>\n",
       "    <tr>\n",
       "      <th>0</th>\n",
       "      <td>eyewitness travel guide to europe</td>\n",
       "      <td>The DK Eyewitness Travel Guide: Eastern and Ce...</td>\n",
       "      <td>['Dorling Kindersley Publishing Staff', 'Jonat...</td>\n",
       "      <td>2015-06-15</td>\n",
       "      <td>['Europe']</td>\n",
       "      <td>4.666667</td>\n",
       "    </tr>\n",
       "    <tr>\n",
       "      <th>2</th>\n",
       "      <td>tess and the highlander</td>\n",
       "      <td>In 1543, on a windswept isle off of Scotland, ...</td>\n",
       "      <td>['May Mcgoldrick']</td>\n",
       "      <td>2002-11</td>\n",
       "      <td>['Juvenile Fiction']</td>\n",
       "      <td>4.000000</td>\n",
       "    </tr>\n",
       "    <tr>\n",
       "      <th>3</th>\n",
       "      <td>communicating with orcas  the whales perspective</td>\n",
       "      <td>NaN</td>\n",
       "      <td>['Mary J. Getten']</td>\n",
       "      <td>2002</td>\n",
       "      <td>['Local author']</td>\n",
       "      <td>5.000000</td>\n",
       "    </tr>\n",
       "    <tr>\n",
       "      <th>4</th>\n",
       "      <td>the impatient gardeners lawn book</td>\n",
       "      <td>Explains how to grow a green, beautiful lawn a...</td>\n",
       "      <td>['Jerry Baker']</td>\n",
       "      <td>1987</td>\n",
       "      <td>['Gardening']</td>\n",
       "      <td>4.000000</td>\n",
       "    </tr>\n",
       "    <tr>\n",
       "      <th>5</th>\n",
       "      <td>the complete illustrated guide to chinese medi...</td>\n",
       "      <td>This beautifully illustrated, full-color book ...</td>\n",
       "      <td>['Tom Williams']</td>\n",
       "      <td>2003</td>\n",
       "      <td>['Health &amp; Fitness']</td>\n",
       "      <td>4.500000</td>\n",
       "    </tr>\n",
       "  </tbody>\n",
       "</table>\n",
       "</div>"
      ],
      "text/plain": [
       "                                               title  \\\n",
       "0                  eyewitness travel guide to europe   \n",
       "2                            tess and the highlander   \n",
       "3   communicating with orcas  the whales perspective   \n",
       "4                  the impatient gardeners lawn book   \n",
       "5  the complete illustrated guide to chinese medi...   \n",
       "\n",
       "                                         description  \\\n",
       "0  The DK Eyewitness Travel Guide: Eastern and Ce...   \n",
       "2  In 1543, on a windswept isle off of Scotland, ...   \n",
       "3                                                NaN   \n",
       "4  Explains how to grow a green, beautiful lawn a...   \n",
       "5  This beautifully illustrated, full-color book ...   \n",
       "\n",
       "                                             authors published_date  \\\n",
       "0  ['Dorling Kindersley Publishing Staff', 'Jonat...     2015-06-15   \n",
       "2                                 ['May Mcgoldrick']        2002-11   \n",
       "3                                 ['Mary J. Getten']           2002   \n",
       "4                                    ['Jerry Baker']           1987   \n",
       "5                                   ['Tom Williams']           2003   \n",
       "\n",
       "             categories  avg_rating  \n",
       "0            ['Europe']    4.666667  \n",
       "2  ['Juvenile Fiction']    4.000000  \n",
       "3      ['Local author']    5.000000  \n",
       "4         ['Gardening']    4.000000  \n",
       "5  ['Health & Fitness']    4.500000  "
      ]
     },
     "execution_count": 153,
     "metadata": {},
     "output_type": "execute_result"
    }
   ],
   "source": [
    "df.head()"
   ]
  },
  {
   "cell_type": "code",
   "execution_count": null,
   "metadata": {},
   "outputs": [
    {
     "name": "stdout",
     "output_type": "stream",
     "text": [
      "{(180, 419): 0.6, (695, 1107): 0.6, (767, 927): 0.7142857142857143}\n"
     ]
    }
   ],
   "source": [
    "print(found_similar_items_with_lsh)\n"
   ]
  },
  {
   "cell_type": "code",
   "execution_count": null,
   "metadata": {},
   "outputs": [
    {
     "name": "stdout",
     "output_type": "stream",
     "text": [
      "the complete idiots guide to taoism\n",
      "the complete idiots guide to paganism\n"
     ]
    }
   ],
   "source": [
    "print(books_data_1['title'][767])\n",
    "print(books_data_1['title'][927])"
   ]
  },
  {
   "cell_type": "code",
   "execution_count": null,
   "metadata": {},
   "outputs": [
    {
     "name": "stdout",
     "output_type": "stream",
     "text": [
      "0\n",
      "500\n",
      "1000\n",
      "1500\n",
      "Similarity Score: 0.8181818181818182\n",
      "Title1 : studies in classic american literature\n",
      "Title1 : the complete poems of paul laurence dunbar\n",
      "Description 1: \"Studies in Classic American Literature\" by D. H. Lawrence. Published by Good Press. Good Press publishes a wide range of titles that encompasses every genre. From well-known classics & literary fiction and non-fiction to forgotten−or yet undiscovered gems−of world literature, we issue the books that need to be read. Each Good Press edition has been meticulously edited and formatted to boost readability for all e-readers and devices. Our goal is to produce eBooks that are user-friendly and accessible to everyone in a high-quality digital format.\n",
      "Description 2: \"The Complete Poems of Paul Laurence Dunbar\" by Paul Laurence Dunbar. Published by Good Press. Good Press publishes a wide range of titles that encompasses every genre. From well-known classics & literary fiction and non-fiction to forgotten−or yet undiscovered gems−of world literature, we issue the books that need to be read. Each Good Press edition has been meticulously edited and formatted to boost readability for all e-readers and devices. Our goal is to produce eBooks that are user-friendly and accessible to everyone in a high-quality digital format.\n",
      "\n",
      "Similarity Score: 0.990909090909091\n",
      "Title1 : the thirtysix dramatic situations\n",
      "Title1 : the holiest of all\n",
      "Description 1: This work has been selected by scholars as being culturally important, and is part of the knowledge base of civilization as we know it. This work was reproduced from the original artifact, and remains as true to the original work as possible. Therefore, you will see the original copyright references, library stamps (as most of these works have been housed in our most important libraries around the world), and other notations in the work. This work is in the public domain in the United States of America, and possibly other nations. Within the United States, you may freely copy and distribute this work, as no entity (individual or corporate) has a copyright on the body of the work.As a reproduction of a historical artifact, this work may contain missing or blurred pages, poor pictures, errant marks, etc. Scholars believe, and we concur, that this work is important enough to be preserved, reproduced, and made generally available to the public. We appreciate your support of the preservation process, and thank you for being an important part of keeping this knowledge alive and relevant.\n",
      "Description 2: This work has been selected by scholars as being culturally important, and is part of the knowledge base of civilization as we know it. This work was reproduced from the original artifact, and remains as true to the original work as possible. Therefore, you will see the original copyright references, library stamps (as most of these works have been housed in our most important libraries around the world), and other notations in the work. This work is in the public domain in the United States of America, and possibly other nations. Within the United States, you may freely copy and distribute this work, as no entity (individual or corporate) has a copyright on the body of the work. As a reproduction of a historical artifact, this work may contain missing or blurred pages, poor pictures, errant marks, etc. Scholars believe, and we concur, that this work is important enough to be preserved, reproduced, and made generally available to the public. We appreciate your support of the preservation process, and thank you for being an important part of keeping this knowledge alive and relevant.\n",
      "\n",
      "Similarity Score: 0.8513513513513513\n",
      "Title1 : the ocean of theosophy\n",
      "Title1 : fifty candles\n",
      "Description 1: \"The Ocean of Theosophy\" by William Quan Judge. Published by Good Press. Good Press publishes a wide range of titles that encompasses every genre. From well-known classics & literary fiction and non-fiction to forgotten−or yet undiscovered gems−of world literature, we issue the books that need to be read. Each Good Press edition has been meticulously edited and formatted to boost readability for all e-readers and devices. Our goal is to produce eBooks that are user-friendly and accessible to everyone in a high-quality digital format.\n",
      "Description 2: \"Fifty Candles\" by Earl Derr Biggers. Published by Good Press. Good Press publishes a wide range of titles that encompasses every genre. From well-known classics & literary fiction and non-fiction to forgotten−or yet undiscovered gems−of world literature, we issue the books that need to be read. Each Good Press edition has been meticulously edited and formatted to boost readability for all e-readers and devices. Our goal is to produce eBooks that are user-friendly and accessible to everyone in a high-quality digital format.\n",
      "\n"
     ]
    }
   ],
   "source": [
    "b = 10\n",
    "\n",
    "def lsh(names, jaccard_threshold,seed):\n",
    "    lsh_dict = {}\n",
    "    for key, name in names.to_dict().items():\n",
    "        blocks = split_k(name,b)\n",
    "        blocks_hash_values = []\n",
    "        for aBlock in blocks:\n",
    "            blocks_hash_values.append(mmh3.hash(aBlock, seed))\n",
    "        lsh_dict[key] = blocks_hash_values\n",
    "    list_keys = list(lsh_dict.keys())\n",
    "    similar_items = {}\n",
    "    for i in range(len(list_keys)-1):\n",
    "        if i% 500 == 0:\n",
    "            print(i)\n",
    "        for j in range(i+1, len(list_keys)):\n",
    "            common_values = np.intersect1d(lsh_dict[list_keys[i]], lsh_dict[list_keys[j]])\n",
    "            if len(common_values) > 0:\n",
    "                # we found a candidate\n",
    "                similarity_score = jaccard(names[list_keys[i]], names[list_keys[j]])\n",
    "                if similarity_score >= jaccard_threshold:\n",
    "                    similar_items[(list_keys[i], list_keys[j])] = similarity_score\n",
    "    return similar_items\n",
    "\n",
    "# split a string into k blocks of characters where\n",
    "def split_k(word,k):\n",
    "    if str(word) == 'nan':\n",
    "        return ''\n",
    "    else:\n",
    "        n = len(word)\n",
    "    if k > n:\n",
    "        return split_k(word,int(k/2))\n",
    "    else:\n",
    "        n1 = n//k\n",
    "        n2 = n1 + n%k\n",
    "        return [word[i:i+n1] for i in range(0, n, n1)]\n",
    "\n",
    "n = 2000\n",
    "# Example usage for finding similar descriptions\n",
    "descritions = books_data_1['description'][0:n]\n",
    "similar_descriptions = lsh(descritions,jaccard_threshold=0.3,seed=42)\n",
    "\n",
    "# Print descriptions\n",
    "for (desc1, desc2), score in similar_descriptions.items():\n",
    "    print(f\"Similarity Score: {score}\")\n",
    "    print(f\"Title1 : {books_data_1['title'][desc1]}\")\n",
    "    print(f\"Title1 : {books_data_1['title'][desc2]}\")\n",
    "    print(f\"Description 1: {descritions[desc1]}\")\n",
    "    print(f\"Description 2: {descritions[desc2]}\")\n",
    "    print()\n",
    "    if score == 1:\n",
    "        books_data_1 = books_data_1.drop(desc2)\n"
   ]
  },
  {
   "cell_type": "code",
   "execution_count": null,
   "metadata": {},
   "outputs": [
    {
     "data": {
      "text/plain": [
       "{(468, 2115): 0.8181818181818182,\n",
       " (965, 1351): 0.990909090909091,\n",
       " (1071, 1250): 0.8513513513513513}"
      ]
     },
     "execution_count": 158,
     "metadata": {},
     "output_type": "execute_result"
    }
   ],
   "source": [
    "similar_descriptions"
   ]
  },
  {
   "cell_type": "code",
   "execution_count": null,
   "metadata": {},
   "outputs": [
    {
     "name": "stdout",
     "output_type": "stream",
     "text": [
      "her\n"
     ]
    }
   ],
   "source": [
    "for (desc1, desc2), score in similar_descriptions.items():\n",
    "    if score == 1:\n",
    "        df = df.drop(desc2)\n"
   ]
  },
  {
   "cell_type": "code",
   "execution_count": null,
   "metadata": {},
   "outputs": [
    {
     "data": {
      "text/plain": [
       "32931"
      ]
     },
     "execution_count": 67,
     "metadata": {},
     "output_type": "execute_result"
    }
   ],
   "source": [
    "len(books_data_1)"
   ]
  },
  {
   "cell_type": "code",
   "execution_count": null,
   "metadata": {},
   "outputs": [
    {
     "name": "stdout",
     "output_type": "stream",
     "text": [
      "the prayer of jabez for women video workbook breaking through to the blessed life \n",
      "the prayer of jabez for women audio curriculum cd  4part breaking through to the blessed life \n"
     ]
    }
   ],
   "source": [
    "similar_descriptions\n",
    "print(books_data_1['title'][desc1])\n",
    "print(books_data_1['title'][desc2])"
   ]
  },
  {
   "cell_type": "code",
   "execution_count": null,
   "metadata": {},
   "outputs": [
    {
     "data": {
      "text/plain": [
       "32932"
      ]
     },
     "execution_count": 28,
     "metadata": {},
     "output_type": "execute_result"
    }
   ],
   "source": [
    "len(books_data_1)"
   ]
  },
  {
   "cell_type": "code",
   "execution_count": null,
   "metadata": {},
   "outputs": [
    {
     "data": {
      "text/html": [
       "<div>\n",
       "<style scoped>\n",
       "    .dataframe tbody tr th:only-of-type {\n",
       "        vertical-align: middle;\n",
       "    }\n",
       "\n",
       "    .dataframe tbody tr th {\n",
       "        vertical-align: top;\n",
       "    }\n",
       "\n",
       "    .dataframe thead th {\n",
       "        text-align: right;\n",
       "    }\n",
       "</style>\n",
       "<table border=\"1\" class=\"dataframe\">\n",
       "  <thead>\n",
       "    <tr style=\"text-align: right;\">\n",
       "      <th></th>\n",
       "      <th>title</th>\n",
       "      <th>description</th>\n",
       "      <th>authors</th>\n",
       "      <th>published_date</th>\n",
       "      <th>categories</th>\n",
       "      <th>avg_rating</th>\n",
       "    </tr>\n",
       "  </thead>\n",
       "  <tbody>\n",
       "    <tr>\n",
       "      <th>0</th>\n",
       "      <td>eyewitness travel guide to europe</td>\n",
       "      <td>The DK Eyewitness Travel Guide: Eastern and Ce...</td>\n",
       "      <td>['Dorling Kindersley Publishing Staff', 'Jonat...</td>\n",
       "      <td>2015-06-15</td>\n",
       "      <td>['Europe']</td>\n",
       "      <td>4.666667</td>\n",
       "    </tr>\n",
       "    <tr>\n",
       "      <th>1</th>\n",
       "      <td>voices from the farm adventures in community l...</td>\n",
       "      <td>Twenty-five years ago, at the height of the co...</td>\n",
       "      <td>['Rupert Fike']</td>\n",
       "      <td>2012-08-21</td>\n",
       "      <td>['Biography &amp; Autobiography']</td>\n",
       "      <td>5.000000</td>\n",
       "    </tr>\n",
       "    <tr>\n",
       "      <th>2</th>\n",
       "      <td>tess and the highlander</td>\n",
       "      <td>In 1543, on a windswept isle off of Scotland, ...</td>\n",
       "      <td>['May Mcgoldrick']</td>\n",
       "      <td>2002-11</td>\n",
       "      <td>['Juvenile Fiction']</td>\n",
       "      <td>4.000000</td>\n",
       "    </tr>\n",
       "    <tr>\n",
       "      <th>3</th>\n",
       "      <td>communicating with orcas  the whales perspective</td>\n",
       "      <td>NaN</td>\n",
       "      <td>['Mary J. Getten']</td>\n",
       "      <td>2002</td>\n",
       "      <td>['Local author']</td>\n",
       "      <td>5.000000</td>\n",
       "    </tr>\n",
       "    <tr>\n",
       "      <th>4</th>\n",
       "      <td>the impatient gardeners lawn book</td>\n",
       "      <td>Explains how to grow a green, beautiful lawn a...</td>\n",
       "      <td>['Jerry Baker']</td>\n",
       "      <td>1987</td>\n",
       "      <td>['Gardening']</td>\n",
       "      <td>4.000000</td>\n",
       "    </tr>\n",
       "  </tbody>\n",
       "</table>\n",
       "</div>"
      ],
      "text/plain": [
       "                                               title  \\\n",
       "0                  eyewitness travel guide to europe   \n",
       "1  voices from the farm adventures in community l...   \n",
       "2                            tess and the highlander   \n",
       "3   communicating with orcas  the whales perspective   \n",
       "4                  the impatient gardeners lawn book   \n",
       "\n",
       "                                         description  \\\n",
       "0  The DK Eyewitness Travel Guide: Eastern and Ce...   \n",
       "1  Twenty-five years ago, at the height of the co...   \n",
       "2  In 1543, on a windswept isle off of Scotland, ...   \n",
       "3                                                NaN   \n",
       "4  Explains how to grow a green, beautiful lawn a...   \n",
       "\n",
       "                                             authors published_date  \\\n",
       "0  ['Dorling Kindersley Publishing Staff', 'Jonat...     2015-06-15   \n",
       "1                                    ['Rupert Fike']     2012-08-21   \n",
       "2                                 ['May Mcgoldrick']        2002-11   \n",
       "3                                 ['Mary J. Getten']           2002   \n",
       "4                                    ['Jerry Baker']           1987   \n",
       "\n",
       "                      categories  avg_rating  \n",
       "0                     ['Europe']    4.666667  \n",
       "1  ['Biography & Autobiography']    5.000000  \n",
       "2           ['Juvenile Fiction']    4.000000  \n",
       "3               ['Local author']    5.000000  \n",
       "4                  ['Gardening']    4.000000  "
      ]
     },
     "execution_count": 29,
     "metadata": {},
     "output_type": "execute_result"
    }
   ],
   "source": [
    "books_data_1.head()"
   ]
  },
  {
   "cell_type": "code",
   "execution_count": null,
   "metadata": {},
   "outputs": [],
   "source": [
    "df = books_data_1\n"
   ]
  },
  {
   "cell_type": "code",
   "execution_count": null,
   "metadata": {},
   "outputs": [
    {
     "data": {
      "text/plain": [
       "32931"
      ]
     },
     "execution_count": 31,
     "metadata": {},
     "output_type": "execute_result"
    }
   ],
   "source": [
    "# Delete index 20 in books_data\n",
    "#test = books_data_1.drop(20, inplace=True)\n",
    "# Delete row nr 3 in books_data_1\n",
    "# Now, df does not contain the row with index 3\n",
    "df.head()\n",
    "\n",
    "rows = df.iloc[1:2, :]\n",
    "# drop rows 2 to 4\n",
    "df.drop(rows.index, inplace=True)\n",
    "\n",
    "len(df)\n"
   ]
  },
  {
   "cell_type": "code",
   "execution_count": null,
   "metadata": {},
   "outputs": [
    {
     "data": {
      "text/html": [
       "<div>\n",
       "<style scoped>\n",
       "    .dataframe tbody tr th:only-of-type {\n",
       "        vertical-align: middle;\n",
       "    }\n",
       "\n",
       "    .dataframe tbody tr th {\n",
       "        vertical-align: top;\n",
       "    }\n",
       "\n",
       "    .dataframe thead th {\n",
       "        text-align: right;\n",
       "    }\n",
       "</style>\n",
       "<table border=\"1\" class=\"dataframe\">\n",
       "  <thead>\n",
       "    <tr style=\"text-align: right;\">\n",
       "      <th></th>\n",
       "      <th>title</th>\n",
       "      <th>description</th>\n",
       "      <th>authors</th>\n",
       "      <th>published_date</th>\n",
       "      <th>categories</th>\n",
       "      <th>avg_rating</th>\n",
       "    </tr>\n",
       "  </thead>\n",
       "  <tbody>\n",
       "    <tr>\n",
       "      <th>0</th>\n",
       "      <td>eyewitness travel guide to europe</td>\n",
       "      <td>The DK Eyewitness Travel Guide: Eastern and Ce...</td>\n",
       "      <td>['Dorling Kindersley Publishing Staff', 'Jonat...</td>\n",
       "      <td>2015-06-15</td>\n",
       "      <td>['Europe']</td>\n",
       "      <td>4.666667</td>\n",
       "    </tr>\n",
       "    <tr>\n",
       "      <th>2</th>\n",
       "      <td>tess and the highlander</td>\n",
       "      <td>In 1543, on a windswept isle off of Scotland, ...</td>\n",
       "      <td>['May Mcgoldrick']</td>\n",
       "      <td>2002-11</td>\n",
       "      <td>['Juvenile Fiction']</td>\n",
       "      <td>4.000000</td>\n",
       "    </tr>\n",
       "    <tr>\n",
       "      <th>3</th>\n",
       "      <td>communicating with orcas  the whales perspective</td>\n",
       "      <td>NaN</td>\n",
       "      <td>['Mary J. Getten']</td>\n",
       "      <td>2002</td>\n",
       "      <td>['Local author']</td>\n",
       "      <td>5.000000</td>\n",
       "    </tr>\n",
       "    <tr>\n",
       "      <th>4</th>\n",
       "      <td>the impatient gardeners lawn book</td>\n",
       "      <td>Explains how to grow a green, beautiful lawn a...</td>\n",
       "      <td>['Jerry Baker']</td>\n",
       "      <td>1987</td>\n",
       "      <td>['Gardening']</td>\n",
       "      <td>4.000000</td>\n",
       "    </tr>\n",
       "    <tr>\n",
       "      <th>5</th>\n",
       "      <td>the complete illustrated guide to chinese medi...</td>\n",
       "      <td>This beautifully illustrated, full-color book ...</td>\n",
       "      <td>['Tom Williams']</td>\n",
       "      <td>2003</td>\n",
       "      <td>['Health &amp; Fitness']</td>\n",
       "      <td>4.500000</td>\n",
       "    </tr>\n",
       "  </tbody>\n",
       "</table>\n",
       "</div>"
      ],
      "text/plain": [
       "                                               title  \\\n",
       "0                  eyewitness travel guide to europe   \n",
       "2                            tess and the highlander   \n",
       "3   communicating with orcas  the whales perspective   \n",
       "4                  the impatient gardeners lawn book   \n",
       "5  the complete illustrated guide to chinese medi...   \n",
       "\n",
       "                                         description  \\\n",
       "0  The DK Eyewitness Travel Guide: Eastern and Ce...   \n",
       "2  In 1543, on a windswept isle off of Scotland, ...   \n",
       "3                                                NaN   \n",
       "4  Explains how to grow a green, beautiful lawn a...   \n",
       "5  This beautifully illustrated, full-color book ...   \n",
       "\n",
       "                                             authors published_date  \\\n",
       "0  ['Dorling Kindersley Publishing Staff', 'Jonat...     2015-06-15   \n",
       "2                                 ['May Mcgoldrick']        2002-11   \n",
       "3                                 ['Mary J. Getten']           2002   \n",
       "4                                    ['Jerry Baker']           1987   \n",
       "5                                   ['Tom Williams']           2003   \n",
       "\n",
       "             categories  avg_rating  \n",
       "0            ['Europe']    4.666667  \n",
       "2  ['Juvenile Fiction']    4.000000  \n",
       "3      ['Local author']    5.000000  \n",
       "4         ['Gardening']    4.000000  \n",
       "5  ['Health & Fitness']    4.500000  "
      ]
     },
     "execution_count": 32,
     "metadata": {},
     "output_type": "execute_result"
    }
   ],
   "source": [
    "df.head()"
   ]
  },
  {
   "cell_type": "code",
   "execution_count": null,
   "metadata": {},
   "outputs": [
    {
     "ename": "SyntaxError",
     "evalue": "invalid syntax (<ipython-input-33-d7eaf88e0a1d>, line 5)",
     "output_type": "error",
     "traceback": [
      "\u001b[1;36m  File \u001b[1;32m\"<ipython-input-33-d7eaf88e0a1d>\"\u001b[1;36m, line \u001b[1;32m5\u001b[0m\n\u001b[1;33m    df.drop(, inplace=True)\u001b[0m\n\u001b[1;37m            ^\u001b[0m\n\u001b[1;31mSyntaxError\u001b[0m\u001b[1;31m:\u001b[0m invalid syntax\n"
     ]
    }
   ],
   "source": [
    "# Remove titles where the descriptions are the same\n",
    "for (idx1, idx2), score in similar_descriptions.items():\n",
    "    if score == 1.0:\n",
    "        print(idx1,idx2)\n",
    "        df.drop(, inplace=True)\n",
    "\n",
    "        \n"
   ]
  },
  {
   "cell_type": "code",
   "execution_count": null,
   "metadata": {},
   "outputs": [
    {
     "name": "stdout",
     "output_type": "stream",
     "text": [
      "Similarity Score: 1.0\n",
      "Description 1: lincoln reconsidered essays on the civil war era\n",
      "Description 2: lincoln reconsidered essays on the civil war era\n",
      "Similarity Score: 1.0\n",
      "Description 1: economics in one lesson\n",
      "Description 2: economics in one lesson\n",
      "Similarity Score: 1.0\n",
      "Description 1: the scarlet letter a romance\n",
      "Description 2: the scarlet letter a romance\n",
      "Similarity Score: 1.0\n",
      "Description 1: the handsome road\n",
      "Description 2: the handsome road\n",
      "Similarity Score: 1.0\n",
      "Description 1: elementary differential equations\n",
      "Description 2: elementary differential equations\n",
      "Similarity Score: 1.0\n",
      "Description 1: at the feet of the master\n",
      "Description 2: at the feet of the master\n",
      "Similarity Score: 1.0\n",
      "Description 1: labors untold story\n",
      "Description 2: labors untold story\n"
     ]
    }
   ],
   "source": [
    "# Print descriptions\n",
    "for (desc1, desc2), score in similar_descriptions.items():\n",
    "    print(f\"Similarity Score: {score}\")\n",
    "    print(f\"Description 1: {titles[desc1]}\")\n",
    "    print(f\"Description 2: {titles[desc2]}\")"
   ]
  },
  {
   "cell_type": "markdown",
   "metadata": {},
   "source": [
    "## Heatmap based on titles"
   ]
  },
  {
   "cell_type": "code",
   "execution_count": null,
   "metadata": {},
   "outputs": [],
   "source": [
    "# Plot a heatmap with the found_similar_items_lhs dictionary\n",
    "import seaborn as sns\n",
    "import matplotlib.pyplot as plt\n",
    "\n",
    "# Create a heatmap\n",
    "def plot_heatmap(found_similar_items_lhs):\n",
    "    # Create a list of keys\n",
    "    keys = list(found_similar_items_lhs.keys())\n",
    "    \n",
    "    # Create a list of values\n",
    "    values = list(found_similar_items_lhs.values())\n",
    "    \n",
    "    # Create a list of the first items in each key\n",
    "    key1 = [key[0] for key in keys]\n",
    "    \n",
    "    # Create a list of the second items in each key\n",
    "    key2 = [key[1] for key in keys]\n",
    "    \n",
    "    # Create a dataframe with the keys and values\n",
    "    df = pd.DataFrame({'key1': key1, 'key2': key2, 'values': values})\n",
    "    \n",
    "    # Create a pivot table from the dataframe\n",
    "    df_pivot = df.pivot(index='key1', columns='key2', values='values')\n",
    "    \n",
    "    # Create a heatmap from the pivot table\n",
    "    sns.heatmap(df_pivot)\n",
    "    \n",
    "    # Show the plot\n",
    "    plt.show()\n"
   ]
  },
  {
   "cell_type": "code",
   "execution_count": null,
   "metadata": {},
   "outputs": [
    {
     "data": {
      "image/png": "[encoded data removed]",
      "text/plain": [
       "<Figure size 576x576 with 2 Axes>"
      ]
     },
     "metadata": {
      "needs_background": "light"
     },
     "output_type": "display_data"
    }
   ],
   "source": [
    "# plot book titles in stead of keys\n",
    "plt.figure(figsize=(8,8))\n",
    "found_similar_items_with_lsh = {(titles[key1], titles[key2]): value for (key1, key2), value in found_similar_items_with_lsh.items()}\n",
    "plot_heatmap(found_similar_items_with_lsh)\n",
    "\n"
   ]
  },
  {
   "cell_type": "markdown",
   "metadata": {},
   "source": [
    "## Heatmap based on descriptions"
   ]
  },
  {
   "cell_type": "code",
   "execution_count": null,
   "metadata": {},
   "outputs": [
    {
     "data": {
      "text/plain": [
       "{(19, 20): 1.0,\n",
       " (21, 22): 1.0,\n",
       " (30, 31): 1.0,\n",
       " (66, 67): 1.0,\n",
       " (68, 69): 1.0,\n",
       " (82, 83): 1.0,\n",
       " (97, 98): 1.0}"
      ]
     },
     "execution_count": 293,
     "metadata": {},
     "output_type": "execute_result"
    }
   ],
   "source": [
    "similar_descriptions"
   ]
  },
  {
   "cell_type": "code",
   "execution_count": null,
   "metadata": {},
   "outputs": [
    {
     "data": {
      "text/plain": [
       "nan"
      ]
     },
     "execution_count": 294,
     "metadata": {},
     "output_type": "execute_result"
    }
   ],
   "source": [
    "books_data_1['description'][72]"
   ]
  },
  {
   "cell_type": "code",
   "execution_count": null,
   "metadata": {},
   "outputs": [
    {
     "data": {
      "text/plain": [
       "'The acclaimed author of American Dirt reveals the devastating effects of a shocking tragedy in this landmark true crime book—the first ever to look intimately at the experiences of both the victims and their families. A Rip in Heaven is Jeanine Cummins’ story of a night in April, 1991, when her two cousins Julie and Robin Kerry, and her brother, Tom, were assaulted on the Old Chain of Rocks Bridge, which spans the Mississippi River just outside of St. Louis. When, after a harrowing ordeal, Tom managed to escape the attackers and flag down help, he thought the nightmare would soon be over. He couldn’t have been more wrong. Tom, his sister Jeanine, and their entire family were just at the beginning of a horrific odyssey through the aftermath of a violent crime, a world of shocking betrayal, endless heartbreak, and utter disillusionment. It was a trial by fire from which no family member would emerge unscathed.'"
      ]
     },
     "execution_count": 295,
     "metadata": {},
     "output_type": "execute_result"
    }
   ],
   "source": [
    "books_data_1['description'][236]"
   ]
  },
  {
   "cell_type": "code",
   "execution_count": null,
   "metadata": {},
   "outputs": [],
   "source": [
    "similar_descriptions\n",
    "similar_descriptions_titles = {(titles[key1], titles[key2]): value for (key1, key2), value in similar_descriptions.items()}"
   ]
  },
  {
   "cell_type": "code",
   "execution_count": null,
   "metadata": {},
   "outputs": [
    {
     "data": {
      "image/png": "[encoded data removed]",
      "text/plain": [
       "<Figure size 576x576 with 2 Axes>"
      ]
     },
     "metadata": {
      "needs_background": "light"
     },
     "output_type": "display_data"
    }
   ],
   "source": [
    "plt.figure(figsize=(8,8))\n",
    "plot_heatmap(similar_descriptions_titles)"
   ]
  },
  {
   "cell_type": "markdown",
   "metadata": {},
   "source": [
    "# Books visualization"
   ]
  },
  {
   "cell_type": "code",
   "execution_count": null,
   "metadata": {},
   "outputs": [],
   "source": [
    "import numpy as np\n",
    "from sklearn.feature_extraction.text import TfidfVectorizer\n",
    "from sklearn.manifold import TSNE\n",
    "import matplotlib.pyplot as plt"
   ]
  },
  {
   "cell_type": "code",
   "execution_count": null,
   "metadata": {},
   "outputs": [
    {
     "data": {
      "text/html": [
       "<div>\n",
       "<style scoped>\n",
       "    .dataframe tbody tr th:only-of-type {\n",
       "        vertical-align: middle;\n",
       "    }\n",
       "\n",
       "    .dataframe tbody tr th {\n",
       "        vertical-align: top;\n",
       "    }\n",
       "\n",
       "    .dataframe thead th {\n",
       "        text-align: right;\n",
       "    }\n",
       "</style>\n",
       "<table border=\"1\" class=\"dataframe\">\n",
       "  <thead>\n",
       "    <tr style=\"text-align: right;\">\n",
       "      <th></th>\n",
       "      <th>title</th>\n",
       "      <th>description</th>\n",
       "      <th>authors</th>\n",
       "      <th>published_date</th>\n",
       "      <th>categories</th>\n",
       "      <th>avg_rating</th>\n",
       "    </tr>\n",
       "  </thead>\n",
       "  <tbody>\n",
       "    <tr>\n",
       "      <th>0</th>\n",
       "      <td>eyewitness travel guide to europe</td>\n",
       "      <td>The DK Eyewitness Travel Guide: Eastern and Ce...</td>\n",
       "      <td>['Dorling Kindersley Publishing Staff', 'Jonat...</td>\n",
       "      <td>2015-06-15</td>\n",
       "      <td>['Europe']</td>\n",
       "      <td>4.666667</td>\n",
       "    </tr>\n",
       "    <tr>\n",
       "      <th>1</th>\n",
       "      <td>voices from the farm adventures in community l...</td>\n",
       "      <td>Twenty-five years ago, at the height of the co...</td>\n",
       "      <td>['Rupert Fike']</td>\n",
       "      <td>2012-08-21</td>\n",
       "      <td>['Biography &amp; Autobiography']</td>\n",
       "      <td>5.000000</td>\n",
       "    </tr>\n",
       "    <tr>\n",
       "      <th>2</th>\n",
       "      <td>tess and the highlander</td>\n",
       "      <td>In 1543, on a windswept isle off of Scotland, ...</td>\n",
       "      <td>['May Mcgoldrick']</td>\n",
       "      <td>2002-11</td>\n",
       "      <td>['Juvenile Fiction']</td>\n",
       "      <td>4.000000</td>\n",
       "    </tr>\n",
       "    <tr>\n",
       "      <th>3</th>\n",
       "      <td>communicating with orcas  the whales perspective</td>\n",
       "      <td>NaN</td>\n",
       "      <td>['Mary J. Getten']</td>\n",
       "      <td>2002</td>\n",
       "      <td>['Local author']</td>\n",
       "      <td>5.000000</td>\n",
       "    </tr>\n",
       "    <tr>\n",
       "      <th>4</th>\n",
       "      <td>the impatient gardeners lawn book</td>\n",
       "      <td>Explains how to grow a green, beautiful lawn a...</td>\n",
       "      <td>['Jerry Baker']</td>\n",
       "      <td>1987</td>\n",
       "      <td>['Gardening']</td>\n",
       "      <td>4.000000</td>\n",
       "    </tr>\n",
       "    <tr>\n",
       "      <th>5</th>\n",
       "      <td>the complete illustrated guide to chinese medi...</td>\n",
       "      <td>This beautifully illustrated, full-color book ...</td>\n",
       "      <td>['Tom Williams']</td>\n",
       "      <td>2003</td>\n",
       "      <td>['Health &amp; Fitness']</td>\n",
       "      <td>4.500000</td>\n",
       "    </tr>\n",
       "    <tr>\n",
       "      <th>6</th>\n",
       "      <td>night world daughters of darkness</td>\n",
       "      <td>\"There’s something strange about the new girls...</td>\n",
       "      <td>['L.J. Smith']</td>\n",
       "      <td>2016-12-06</td>\n",
       "      <td>['Juvenile Fiction']</td>\n",
       "      <td>3.500000</td>\n",
       "    </tr>\n",
       "    <tr>\n",
       "      <th>7</th>\n",
       "      <td>america at 1750 a social portrait</td>\n",
       "      <td>Demonstrates how the colonies developed into t...</td>\n",
       "      <td>['Richard Hofstadter']</td>\n",
       "      <td>1973</td>\n",
       "      <td>['History']</td>\n",
       "      <td>4.500000</td>\n",
       "    </tr>\n",
       "    <tr>\n",
       "      <th>8</th>\n",
       "      <td>death dream</td>\n",
       "      <td>The authors probe the phenomenon of \"pre-death...</td>\n",
       "      <td>['Kelly Bulkeley', 'Patricia Bulkley']</td>\n",
       "      <td>2005</td>\n",
       "      <td>['Body, Mind &amp; Spirit']</td>\n",
       "      <td>3.625000</td>\n",
       "    </tr>\n",
       "    <tr>\n",
       "      <th>9</th>\n",
       "      <td>the food of love</td>\n",
       "      <td>Een heerlijke roman over culinaire verleiding ...</td>\n",
       "      <td>['Anthony Capella']</td>\n",
       "      <td>2013-12-17</td>\n",
       "      <td>['Fiction']</td>\n",
       "      <td>4.333333</td>\n",
       "    </tr>\n",
       "  </tbody>\n",
       "</table>\n",
       "</div>"
      ],
      "text/plain": [
       "                                               title  \\\n",
       "0                  eyewitness travel guide to europe   \n",
       "1  voices from the farm adventures in community l...   \n",
       "2                            tess and the highlander   \n",
       "3   communicating with orcas  the whales perspective   \n",
       "4                  the impatient gardeners lawn book   \n",
       "5  the complete illustrated guide to chinese medi...   \n",
       "6                  night world daughters of darkness   \n",
       "7                  america at 1750 a social portrait   \n",
       "8                                        death dream   \n",
       "9                                   the food of love   \n",
       "\n",
       "                                         description  \\\n",
       "0  The DK Eyewitness Travel Guide: Eastern and Ce...   \n",
       "1  Twenty-five years ago, at the height of the co...   \n",
       "2  In 1543, on a windswept isle off of Scotland, ...   \n",
       "3                                                NaN   \n",
       "4  Explains how to grow a green, beautiful lawn a...   \n",
       "5  This beautifully illustrated, full-color book ...   \n",
       "6  \"There’s something strange about the new girls...   \n",
       "7  Demonstrates how the colonies developed into t...   \n",
       "8  The authors probe the phenomenon of \"pre-death...   \n",
       "9  Een heerlijke roman over culinaire verleiding ...   \n",
       "\n",
       "                                             authors published_date  \\\n",
       "0  ['Dorling Kindersley Publishing Staff', 'Jonat...     2015-06-15   \n",
       "1                                    ['Rupert Fike']     2012-08-21   \n",
       "2                                 ['May Mcgoldrick']        2002-11   \n",
       "3                                 ['Mary J. Getten']           2002   \n",
       "4                                    ['Jerry Baker']           1987   \n",
       "5                                   ['Tom Williams']           2003   \n",
       "6                                     ['L.J. Smith']     2016-12-06   \n",
       "7                             ['Richard Hofstadter']           1973   \n",
       "8             ['Kelly Bulkeley', 'Patricia Bulkley']           2005   \n",
       "9                                ['Anthony Capella']     2013-12-17   \n",
       "\n",
       "                      categories  avg_rating  \n",
       "0                     ['Europe']    4.666667  \n",
       "1  ['Biography & Autobiography']    5.000000  \n",
       "2           ['Juvenile Fiction']    4.000000  \n",
       "3               ['Local author']    5.000000  \n",
       "4                  ['Gardening']    4.000000  \n",
       "5           ['Health & Fitness']    4.500000  \n",
       "6           ['Juvenile Fiction']    3.500000  \n",
       "7                    ['History']    4.500000  \n",
       "8        ['Body, Mind & Spirit']    3.625000  \n",
       "9                    ['Fiction']    4.333333  "
      ]
     },
     "execution_count": 299,
     "metadata": {},
     "output_type": "execute_result"
    }
   ],
   "source": [
    "books_data_1.head(10)"
   ]
  },
  {
   "cell_type": "code",
   "execution_count": null,
   "metadata": {},
   "outputs": [],
   "source": [
    "# Remove nan from descriptions\n",
    "books_data_1['description'] = books_data_1['description'].fillna('')\n",
    "book_descriptions = books_data_1['description'][0:100]"
   ]
  },
  {
   "cell_type": "code",
   "execution_count": null,
   "metadata": {},
   "outputs": [
    {
     "data": {
      "text/plain": [
       "0                           ['Europe']\n",
       "1        ['Biography & Autobiography']\n",
       "2                 ['Juvenile Fiction']\n",
       "3                     ['Local author']\n",
       "4                        ['Gardening']\n",
       "                     ...              \n",
       "36480             ['Health & Fitness']\n",
       "36481                  ['Photography']\n",
       "36482                              NaN\n",
       "36483                              NaN\n",
       "36484             ['Juvenile Fiction']\n",
       "Name: categories, Length: 36485, dtype: object"
      ]
     },
     "execution_count": 301,
     "metadata": {},
     "output_type": "execute_result"
    }
   ],
   "source": [
    "books_data_1['categories']"
   ]
  },
  {
   "cell_type": "code",
   "execution_count": null,
   "metadata": {},
   "outputs": [
    {
     "name": "stdout",
     "output_type": "stream",
     "text": [
      "1933\n"
     ]
    }
   ],
   "source": [
    "\n",
    "# Change dtype of categories to string\n",
    "# Remove nan from categories\n",
    "categories = books_data_1['categories'].fillna('').astype(str)\n",
    "categories = categories.unique()\n",
    "print(len(categories))\n",
    "#print(categories)\n",
    "# Find the 10 most frequent categories\n",
    "# # Crprint(len(categories))\n"
   ]
  },
  {
   "cell_type": "code",
   "execution_count": null,
   "metadata": {},
   "outputs": [
    {
     "name": "stdout",
     "output_type": "stream",
     "text": [
      "[\"['Europe']\", \"['Biography & Autobiography']\", \"['Juvenile Fiction']\", \"['Local author']\", \"['Gardening']\", \"['Health & Fitness']\", \"['History']\", \"['Body, Mind & Spirit']\", \"['Fiction']\", '', \"['Religion']\", \"['Comics & Graphic Novels']\", \"['Business & Economics']\", \"['Mathematics']\", \"['Adultery']\", \"['Mythology, Classical']\", \"['Directories']\", \"['Performing Arts']\", \"['Sports & Recreation']\", \"['France']\"]\n",
      "[\"['Europe']\", \"['Biography & Autobiography']\", \"['Juvenile Fiction']\", \"['Local author']\", \"['Gardening']\", \"['Health & Fitness']\", \"['History']\", \"['Body, Mind & Spirit']\", \"['Religion']\", \"['Comics & Graphic Novels']\", \"['Business & Economics']\", \"['Mathematics']\", \"['Adultery']\", \"['Mythology, Classical']\", \"['Directories']\", \"['Performing Arts']\", \"['Sports & Recreation']\", \"['France']\"]\n"
     ]
    },
    {
     "ename": "AttributeError",
     "evalue": "'float' object has no attribute 'split'",
     "output_type": "error",
     "traceback": [
      "\u001b[1;31m---------------------------------------------------------------------------\u001b[0m",
      "\u001b[1;31mAttributeError\u001b[0m                            Traceback (most recent call last)",
      "\u001b[1;32m<ipython-input-303-dcc097097340>\u001b[0m in \u001b[0;36m<module>\u001b[1;34m\u001b[0m\n\u001b[0;32m     16\u001b[0m \u001b[1;33m\u001b[0m\u001b[0m\n\u001b[0;32m     17\u001b[0m \u001b[1;31m# Create a new column with only the top categories\u001b[0m\u001b[1;33m\u001b[0m\u001b[1;33m\u001b[0m\u001b[1;33m\u001b[0m\u001b[0m\n\u001b[1;32m---> 18\u001b[1;33m \u001b[0mbooks_data_1\u001b[0m\u001b[1;33m[\u001b[0m\u001b[1;34m'top_category'\u001b[0m\u001b[1;33m]\u001b[0m \u001b[1;33m=\u001b[0m \u001b[0mbooks_data_1\u001b[0m\u001b[1;33m[\u001b[0m\u001b[1;34m'categories'\u001b[0m\u001b[1;33m]\u001b[0m\u001b[1;33m.\u001b[0m\u001b[0mapply\u001b[0m\u001b[1;33m(\u001b[0m\u001b[1;32mlambda\u001b[0m \u001b[0mx\u001b[0m\u001b[1;33m:\u001b[0m \u001b[1;34m' '\u001b[0m\u001b[1;33m.\u001b[0m\u001b[0mjoin\u001b[0m\u001b[1;33m(\u001b[0m\u001b[1;33m[\u001b[0m\u001b[0mcategory\u001b[0m \u001b[1;32mfor\u001b[0m \u001b[0mcategory\u001b[0m \u001b[1;32min\u001b[0m \u001b[0mx\u001b[0m\u001b[1;33m.\u001b[0m\u001b[0msplit\u001b[0m\u001b[1;33m(\u001b[0m\u001b[1;33m)\u001b[0m \u001b[1;32mif\u001b[0m \u001b[0mcategory\u001b[0m \u001b[1;32min\u001b[0m \u001b[0mtop_categories\u001b[0m\u001b[1;33m]\u001b[0m\u001b[1;33m)\u001b[0m\u001b[1;33m)\u001b[0m\u001b[1;33m\u001b[0m\u001b[1;33m\u001b[0m\u001b[0m\n\u001b[0m\u001b[0;32m     19\u001b[0m \u001b[1;33m\u001b[0m\u001b[0m\n\u001b[0;32m     20\u001b[0m \u001b[1;31m# Only take books with a top category\u001b[0m\u001b[1;33m\u001b[0m\u001b[1;33m\u001b[0m\u001b[1;33m\u001b[0m\u001b[0m\n",
      "\u001b[1;32mc:\\ProgramData\\Anaconda3\\lib\\site-packages\\pandas\\core\\series.py\u001b[0m in \u001b[0;36mapply\u001b[1;34m(self, func, convert_dtype, args, **kwds)\u001b[0m\n\u001b[0;32m   4198\u001b[0m             \u001b[1;32melse\u001b[0m\u001b[1;33m:\u001b[0m\u001b[1;33m\u001b[0m\u001b[1;33m\u001b[0m\u001b[0m\n\u001b[0;32m   4199\u001b[0m                 \u001b[0mvalues\u001b[0m \u001b[1;33m=\u001b[0m \u001b[0mself\u001b[0m\u001b[1;33m.\u001b[0m\u001b[0mastype\u001b[0m\u001b[1;33m(\u001b[0m\u001b[0mobject\u001b[0m\u001b[1;33m)\u001b[0m\u001b[1;33m.\u001b[0m\u001b[0m_values\u001b[0m\u001b[1;33m\u001b[0m\u001b[1;33m\u001b[0m\u001b[0m\n\u001b[1;32m-> 4200\u001b[1;33m                 \u001b[0mmapped\u001b[0m \u001b[1;33m=\u001b[0m \u001b[0mlib\u001b[0m\u001b[1;33m.\u001b[0m\u001b[0mmap_infer\u001b[0m\u001b[1;33m(\u001b[0m\u001b[0mvalues\u001b[0m\u001b[1;33m,\u001b[0m \u001b[0mf\u001b[0m\u001b[1;33m,\u001b[0m \u001b[0mconvert\u001b[0m\u001b[1;33m=\u001b[0m\u001b[0mconvert_dtype\u001b[0m\u001b[1;33m)\u001b[0m\u001b[1;33m\u001b[0m\u001b[1;33m\u001b[0m\u001b[0m\n\u001b[0m\u001b[0;32m   4201\u001b[0m \u001b[1;33m\u001b[0m\u001b[0m\n\u001b[0;32m   4202\u001b[0m         \u001b[1;32mif\u001b[0m \u001b[0mlen\u001b[0m\u001b[1;33m(\u001b[0m\u001b[0mmapped\u001b[0m\u001b[1;33m)\u001b[0m \u001b[1;32mand\u001b[0m \u001b[0misinstance\u001b[0m\u001b[1;33m(\u001b[0m\u001b[0mmapped\u001b[0m\u001b[1;33m[\u001b[0m\u001b[1;36m0\u001b[0m\u001b[1;33m]\u001b[0m\u001b[1;33m,\u001b[0m \u001b[0mSeries\u001b[0m\u001b[1;33m)\u001b[0m\u001b[1;33m:\u001b[0m\u001b[1;33m\u001b[0m\u001b[1;33m\u001b[0m\u001b[0m\n",
      "\u001b[1;32mpandas\\_libs\\lib.pyx\u001b[0m in \u001b[0;36mpandas._libs.lib.map_infer\u001b[1;34m()\u001b[0m\n",
      "\u001b[1;32m<ipython-input-303-dcc097097340>\u001b[0m in \u001b[0;36m<lambda>\u001b[1;34m(x)\u001b[0m\n\u001b[0;32m     16\u001b[0m \u001b[1;33m\u001b[0m\u001b[0m\n\u001b[0;32m     17\u001b[0m \u001b[1;31m# Create a new column with only the top categories\u001b[0m\u001b[1;33m\u001b[0m\u001b[1;33m\u001b[0m\u001b[1;33m\u001b[0m\u001b[0m\n\u001b[1;32m---> 18\u001b[1;33m \u001b[0mbooks_data_1\u001b[0m\u001b[1;33m[\u001b[0m\u001b[1;34m'top_category'\u001b[0m\u001b[1;33m]\u001b[0m \u001b[1;33m=\u001b[0m \u001b[0mbooks_data_1\u001b[0m\u001b[1;33m[\u001b[0m\u001b[1;34m'categories'\u001b[0m\u001b[1;33m]\u001b[0m\u001b[1;33m.\u001b[0m\u001b[0mapply\u001b[0m\u001b[1;33m(\u001b[0m\u001b[1;32mlambda\u001b[0m \u001b[0mx\u001b[0m\u001b[1;33m:\u001b[0m \u001b[1;34m' '\u001b[0m\u001b[1;33m.\u001b[0m\u001b[0mjoin\u001b[0m\u001b[1;33m(\u001b[0m\u001b[1;33m[\u001b[0m\u001b[0mcategory\u001b[0m \u001b[1;32mfor\u001b[0m \u001b[0mcategory\u001b[0m \u001b[1;32min\u001b[0m \u001b[0mx\u001b[0m\u001b[1;33m.\u001b[0m\u001b[0msplit\u001b[0m\u001b[1;33m(\u001b[0m\u001b[1;33m)\u001b[0m \u001b[1;32mif\u001b[0m \u001b[0mcategory\u001b[0m \u001b[1;32min\u001b[0m \u001b[0mtop_categories\u001b[0m\u001b[1;33m]\u001b[0m\u001b[1;33m)\u001b[0m\u001b[1;33m)\u001b[0m\u001b[1;33m\u001b[0m\u001b[1;33m\u001b[0m\u001b[0m\n\u001b[0m\u001b[0;32m     19\u001b[0m \u001b[1;33m\u001b[0m\u001b[0m\n\u001b[0;32m     20\u001b[0m \u001b[1;31m# Only take books with a top category\u001b[0m\u001b[1;33m\u001b[0m\u001b[1;33m\u001b[0m\u001b[1;33m\u001b[0m\u001b[0m\n",
      "\u001b[1;31mAttributeError\u001b[0m: 'float' object has no attribute 'split'"
     ]
    }
   ],
   "source": [
    "# Find the 10 most frequent categories\n",
    "from collections import Counter\n",
    "category_counts = Counter(categories)\n",
    "#print(category_counts.most_common(10))\n",
    "\n",
    "# Create a list of the 10 most frequent categories\n",
    "top_categories = [category for category, count in category_counts.most_common(20)]\n",
    "print(top_categories)\n",
    "\n",
    "# Remove nan from top_categories\n",
    "top_categories = [category for category in top_categories if category != 'nan']\n",
    "# Remove Fiction from top_categories\n",
    "top_categories = [category for category in top_categories if category != \"['Fiction']\"]\n",
    "top_categories = [category for category in top_categories if category != \"\"]\n",
    "print(top_categories)\n",
    "\n",
    "# Create a new column with only the top categories\n",
    "books_data_1['top_category'] = books_data_1['categories'].apply(lambda x: ' '.join([category for category in x.split() if category in top_categories]))\n",
    "\n",
    "# Only take books with a top category\n",
    "books_data_2 = books_data_1[books_data_1['top_category'] != '']\n",
    "print(books_data_2.shape)\n",
    "books_data_2.tail(10)"
   ]
  },
  {
   "cell_type": "code",
   "execution_count": null,
   "metadata": {},
   "outputs": [
    {
     "name": "stdout",
     "output_type": "stream",
     "text": [
      "['History']      556\n",
      "['Religion']     470\n",
      "['Education']     50\n",
      "['Goddesses']      1\n",
      "['Diaries']        1\n",
      "Name: top_category, dtype: int64\n"
     ]
    }
   ],
   "source": [
    "books_data_1['top_category']\n",
    "# How many of each top category are there?\n",
    "top_category_counts = books_data_2['top_category'].value_counts()\n",
    "print(top_category_counts)\n"
   ]
  },
  {
   "cell_type": "code",
   "execution_count": null,
   "metadata": {},
   "outputs": [
    {
     "data": {
      "image/png": "[encoded data removed]",
      "text/plain": [
       "<Figure size 576x576 with 1 Axes>"
      ]
     },
     "metadata": {
      "needs_background": "light"
     },
     "output_type": "display_data"
    }
   ],
   "source": [
    "plt.figure(figsize=(8,8))\n",
    "plt.hist(books_data_2['top_category'], bins=10)\n",
    "plt.show()"
   ]
  },
  {
   "cell_type": "code",
   "execution_count": null,
   "metadata": {},
   "outputs": [
    {
     "data": {
      "image/png": "[encoded data removed]",
      "text/plain": [
       "<Figure size 432x288 with 1 Axes>"
      ]
     },
     "metadata": {
      "needs_background": "light"
     },
     "output_type": "display_data"
    }
   ],
   "source": [
    "# Step 1: Extract features (TF-IDF in this example)\n",
    "tfidf_vectorizer = TfidfVectorizer(max_features=1000)\n",
    "tfidf_matrix = tfidf_vectorizer.fit_transform(book_descriptions)\n",
    "\n",
    "# Step 2: Calculate cosine similarities\n",
    "from sklearn.metrics.pairwise import cosine_similarity\n",
    "similarities = cosine_similarity(tfidf_matrix, tfidf_matrix)\n",
    "\n",
    "# Step 3: Apply t-SNE for dimensionality reduction\n",
    "tsne = TSNE(n_components=2, random_state=0)\n",
    "reduced_features = tsne.fit_transform(tfidf_matrix)\n",
    "\n",
    "labels = np.random.uniform(15, 80, len(book_descriptions))\n",
    "\n",
    "# Step 4: Visualize the results\n",
    "plt.scatter(reduced_features[:, 0], reduced_features[:, 1],c=labels, cmap='viridis')\n",
    "plt.show()\n"
   ]
  },
  {
   "cell_type": "markdown",
   "metadata": {},
   "source": [
    "# Clustering"
   ]
  },
  {
   "cell_type": "code",
   "execution_count": 47,
   "metadata": {},
   "outputs": [
    {
     "data": {
      "text/html": [
       "<div>\n",
       "<style scoped>\n",
       "    .dataframe tbody tr th:only-of-type {\n",
       "        vertical-align: middle;\n",
       "    }\n",
       "\n",
       "    .dataframe tbody tr th {\n",
       "        vertical-align: top;\n",
       "    }\n",
       "\n",
       "    .dataframe thead th {\n",
       "        text-align: right;\n",
       "    }\n",
       "</style>\n",
       "<table border=\"1\" class=\"dataframe\">\n",
       "  <thead>\n",
       "    <tr style=\"text-align: right;\">\n",
       "      <th></th>\n",
       "      <th>title</th>\n",
       "      <th>description</th>\n",
       "      <th>authors</th>\n",
       "      <th>published_date</th>\n",
       "      <th>categories</th>\n",
       "      <th>avg_rating</th>\n",
       "    </tr>\n",
       "  </thead>\n",
       "  <tbody>\n",
       "    <tr>\n",
       "      <th>0</th>\n",
       "      <td>eyewitness travel guide to europe</td>\n",
       "      <td>The DK Eyewitness Travel Guide: Eastern and Ce...</td>\n",
       "      <td>['Dorling Kindersley Publishing Staff', 'Jonat...</td>\n",
       "      <td>2015-06-15</td>\n",
       "      <td>['Europe']</td>\n",
       "      <td>4.666667</td>\n",
       "    </tr>\n",
       "    <tr>\n",
       "      <th>1</th>\n",
       "      <td>voices from the farm adventures in community l...</td>\n",
       "      <td>Twenty-five years ago, at the height of the co...</td>\n",
       "      <td>['Rupert Fike']</td>\n",
       "      <td>2012-08-21</td>\n",
       "      <td>['Biography &amp; Autobiography']</td>\n",
       "      <td>5.000000</td>\n",
       "    </tr>\n",
       "    <tr>\n",
       "      <th>2</th>\n",
       "      <td>tess and the highlander</td>\n",
       "      <td>In 1543, on a windswept isle off of Scotland, ...</td>\n",
       "      <td>['May Mcgoldrick']</td>\n",
       "      <td>2002-11</td>\n",
       "      <td>['Juvenile Fiction']</td>\n",
       "      <td>4.000000</td>\n",
       "    </tr>\n",
       "    <tr>\n",
       "      <th>3</th>\n",
       "      <td>communicating with orcas  the whales perspective</td>\n",
       "      <td>NaN</td>\n",
       "      <td>['Mary J. Getten']</td>\n",
       "      <td>2002</td>\n",
       "      <td>['Local author']</td>\n",
       "      <td>5.000000</td>\n",
       "    </tr>\n",
       "    <tr>\n",
       "      <th>4</th>\n",
       "      <td>the impatient gardeners lawn book</td>\n",
       "      <td>Explains how to grow a green, beautiful lawn a...</td>\n",
       "      <td>['Jerry Baker']</td>\n",
       "      <td>1987</td>\n",
       "      <td>['Gardening']</td>\n",
       "      <td>4.000000</td>\n",
       "    </tr>\n",
       "  </tbody>\n",
       "</table>\n",
       "</div>"
      ],
      "text/plain": [
       "                                               title  \\\n",
       "0                  eyewitness travel guide to europe   \n",
       "1  voices from the farm adventures in community l...   \n",
       "2                            tess and the highlander   \n",
       "3   communicating with orcas  the whales perspective   \n",
       "4                  the impatient gardeners lawn book   \n",
       "\n",
       "                                         description  \\\n",
       "0  The DK Eyewitness Travel Guide: Eastern and Ce...   \n",
       "1  Twenty-five years ago, at the height of the co...   \n",
       "2  In 1543, on a windswept isle off of Scotland, ...   \n",
       "3                                                NaN   \n",
       "4  Explains how to grow a green, beautiful lawn a...   \n",
       "\n",
       "                                             authors published_date  \\\n",
       "0  ['Dorling Kindersley Publishing Staff', 'Jonat...     2015-06-15   \n",
       "1                                    ['Rupert Fike']     2012-08-21   \n",
       "2                                 ['May Mcgoldrick']        2002-11   \n",
       "3                                 ['Mary J. Getten']           2002   \n",
       "4                                    ['Jerry Baker']           1987   \n",
       "\n",
       "                      categories  avg_rating  \n",
       "0                     ['Europe']    4.666667  \n",
       "1  ['Biography & Autobiography']    5.000000  \n",
       "2           ['Juvenile Fiction']    4.000000  \n",
       "3               ['Local author']    5.000000  \n",
       "4                  ['Gardening']    4.000000  "
      ]
     },
     "execution_count": 47,
     "metadata": {},
     "output_type": "execute_result"
    }
   ],
   "source": [
    "# Find dtypes of books_data_1\n",
    "books_data_1.head()"
   ]
  },
  {
   "cell_type": "code",
   "execution_count": 45,
   "metadata": {},
   "outputs": [
    {
     "name": "stdout",
     "output_type": "stream",
     "text": [
      "<class 'pandas.core.frame.DataFrame'>\n",
      "Int64Index: 25140 entries, 0 to 32931\n",
      "Data columns (total 6 columns):\n",
      " #   Column          Non-Null Count  Dtype  \n",
      "---  ------          --------------  -----  \n",
      " 0   title           25140 non-null  object \n",
      " 1   description     25139 non-null  object \n",
      " 2   authors         24920 non-null  object \n",
      " 3   published_date  25100 non-null  object \n",
      " 4   categories      24417 non-null  object \n",
      " 5   avg_rating      25140 non-null  float64\n",
      "dtypes: float64(1), object(5)\n",
      "memory usage: 1.3+ MB\n"
     ]
    }
   ],
   "source": [
    "books_data_1.info()"
   ]
  },
  {
   "cell_type": "code",
   "execution_count": 60,
   "metadata": {},
   "outputs": [
    {
     "data": {
      "text/plain": [
       "0        2015-06-15\n",
       "1        2012-08-21\n",
       "2           2002-11\n",
       "3              2002\n",
       "4              1987\n",
       "            ...    \n",
       "32925    1998-01-27\n",
       "32926    1995-04-15\n",
       "32927    2005-04-17\n",
       "32928    2016-08-17\n",
       "32931    2000-06-01\n",
       "Name: published_date, Length: 25140, dtype: object"
      ]
     },
     "execution_count": 60,
     "metadata": {},
     "output_type": "execute_result"
    }
   ],
   "source": [
    "books_data_1['published_date']\n"
   ]
  },
  {
   "cell_type": "code",
   "execution_count": null,
   "metadata": {},
   "outputs": [],
   "source": [
    "pd.to_datetime(df['Time stamp'], dayfirst=True)\n"
   ]
  },
  {
   "cell_type": "code",
   "execution_count": 65,
   "metadata": {},
   "outputs": [
    {
     "ename": "NameError",
     "evalue": "name 'clean_df' is not defined",
     "output_type": "error",
     "traceback": [
      "\u001b[1;31m---------------------------------------------------------------------------\u001b[0m",
      "\u001b[1;31mNameError\u001b[0m                                 Traceback (most recent call last)",
      "\u001b[1;32m<ipython-input-65-bc69fffcc443>\u001b[0m in \u001b[0;36m<module>\u001b[1;34m\u001b[0m\n\u001b[1;32m----> 1\u001b[1;33m \u001b[0mclean_df\u001b[0m\u001b[1;33m.\u001b[0m\u001b[0mindex\u001b[0m \u001b[1;33m=\u001b[0m \u001b[0mpd\u001b[0m\u001b[1;33m.\u001b[0m\u001b[0mto_datetime\u001b[0m\u001b[1;33m(\u001b[0m\u001b[0mclean_df\u001b[0m\u001b[1;33m[\u001b[0m\u001b[1;34m'year'\u001b[0m\u001b[1;33m]\u001b[0m\u001b[1;33m,\u001b[0m \u001b[0mformat\u001b[0m\u001b[1;33m=\u001b[0m\u001b[1;34m'%Y'\u001b[0m\u001b[1;33m)\u001b[0m\u001b[1;33m\u001b[0m\u001b[1;33m\u001b[0m\u001b[0m\n\u001b[0m",
      "\u001b[1;31mNameError\u001b[0m: name 'clean_df' is not defined"
     ]
    }
   ],
   "source": [
    "clean_df.index = pd.to_datetime(clean_df['year'], format='%Y')\n"
   ]
  },
  {
   "cell_type": "code",
   "execution_count": 64,
   "metadata": {},
   "outputs": [
    {
     "ename": "ValueError",
     "evalue": "unconverted data remains: -06-15",
     "output_type": "error",
     "traceback": [
      "\u001b[1;31m---------------------------------------------------------------------------\u001b[0m",
      "\u001b[1;31mTypeError\u001b[0m                                 Traceback (most recent call last)",
      "\u001b[1;32mc:\\ProgramData\\Anaconda3\\lib\\site-packages\\pandas\\core\\tools\\datetimes.py\u001b[0m in \u001b[0;36m_convert_listlike_datetimes\u001b[1;34m(arg, format, name, tz, unit, errors, infer_datetime_format, dayfirst, yearfirst, exact)\u001b[0m\n\u001b[0;32m    449\u001b[0m             \u001b[1;32mtry\u001b[0m\u001b[1;33m:\u001b[0m\u001b[1;33m\u001b[0m\u001b[1;33m\u001b[0m\u001b[0m\n\u001b[1;32m--> 450\u001b[1;33m                 \u001b[0mvalues\u001b[0m\u001b[1;33m,\u001b[0m \u001b[0mtz\u001b[0m \u001b[1;33m=\u001b[0m \u001b[0mconversion\u001b[0m\u001b[1;33m.\u001b[0m\u001b[0mdatetime_to_datetime64\u001b[0m\u001b[1;33m(\u001b[0m\u001b[0marg\u001b[0m\u001b[1;33m)\u001b[0m\u001b[1;33m\u001b[0m\u001b[1;33m\u001b[0m\u001b[0m\n\u001b[0m\u001b[0;32m    451\u001b[0m                 \u001b[0mdta\u001b[0m \u001b[1;33m=\u001b[0m \u001b[0mDatetimeArray\u001b[0m\u001b[1;33m(\u001b[0m\u001b[0mvalues\u001b[0m\u001b[1;33m,\u001b[0m \u001b[0mdtype\u001b[0m\u001b[1;33m=\u001b[0m\u001b[0mtz_to_dtype\u001b[0m\u001b[1;33m(\u001b[0m\u001b[0mtz\u001b[0m\u001b[1;33m)\u001b[0m\u001b[1;33m)\u001b[0m\u001b[1;33m\u001b[0m\u001b[1;33m\u001b[0m\u001b[0m\n",
      "\u001b[1;32mpandas\\_libs\\tslibs\\conversion.pyx\u001b[0m in \u001b[0;36mpandas._libs.tslibs.conversion.datetime_to_datetime64\u001b[1;34m()\u001b[0m\n",
      "\u001b[1;31mTypeError\u001b[0m: Unrecognized value type: <class 'str'>",
      "\nDuring handling of the above exception, another exception occurred:\n",
      "\u001b[1;31mValueError\u001b[0m                                Traceback (most recent call last)",
      "\u001b[1;32m<ipython-input-64-dec0b7226c12>\u001b[0m in \u001b[0;36m<module>\u001b[1;34m\u001b[0m\n\u001b[0;32m      1\u001b[0m \u001b[1;31m#books_data_1['published date'] = pd.to_datetime(books_data_1['published_date'].str.strip(), format='%d/%m%Y')\u001b[0m\u001b[1;33m\u001b[0m\u001b[1;33m\u001b[0m\u001b[1;33m\u001b[0m\u001b[0m\n\u001b[0;32m      2\u001b[0m \u001b[1;31m#books_data_1['published_date'] = pd.to_datetime(books_data_1['published_date'].str.strip(), format='%Y-%m-')\u001b[0m\u001b[1;33m\u001b[0m\u001b[1;33m\u001b[0m\u001b[1;33m\u001b[0m\u001b[0m\n\u001b[1;32m----> 3\u001b[1;33m \u001b[0mbooks_data_1\u001b[0m\u001b[1;33m[\u001b[0m\u001b[1;34m'published_date'\u001b[0m\u001b[1;33m]\u001b[0m \u001b[1;33m=\u001b[0m \u001b[0mpd\u001b[0m\u001b[1;33m.\u001b[0m\u001b[0mto_datetime\u001b[0m\u001b[1;33m(\u001b[0m\u001b[0mbooks_data_1\u001b[0m\u001b[1;33m[\u001b[0m\u001b[1;34m'published_date'\u001b[0m\u001b[1;33m]\u001b[0m\u001b[1;33m,\u001b[0m \u001b[0mformat\u001b[0m\u001b[1;33m=\u001b[0m\u001b[1;34m'%Y'\u001b[0m\u001b[1;33m)\u001b[0m\u001b[1;33m\u001b[0m\u001b[1;33m\u001b[0m\u001b[0m\n\u001b[0m\u001b[0;32m      4\u001b[0m \u001b[1;33m\u001b[0m\u001b[0m\n\u001b[0;32m      5\u001b[0m \u001b[1;33m\u001b[0m\u001b[0m\n",
      "\u001b[1;32mc:\\ProgramData\\Anaconda3\\lib\\site-packages\\pandas\\core\\tools\\datetimes.py\u001b[0m in \u001b[0;36mto_datetime\u001b[1;34m(arg, errors, dayfirst, yearfirst, utc, format, exact, unit, infer_datetime_format, origin, cache)\u001b[0m\n\u001b[0;32m    801\u001b[0m             \u001b[0mresult\u001b[0m \u001b[1;33m=\u001b[0m \u001b[0marg\u001b[0m\u001b[1;33m.\u001b[0m\u001b[0mmap\u001b[0m\u001b[1;33m(\u001b[0m\u001b[0mcache_array\u001b[0m\u001b[1;33m)\u001b[0m\u001b[1;33m\u001b[0m\u001b[1;33m\u001b[0m\u001b[0m\n\u001b[0;32m    802\u001b[0m         \u001b[1;32melse\u001b[0m\u001b[1;33m:\u001b[0m\u001b[1;33m\u001b[0m\u001b[1;33m\u001b[0m\u001b[0m\n\u001b[1;32m--> 803\u001b[1;33m             \u001b[0mvalues\u001b[0m \u001b[1;33m=\u001b[0m \u001b[0mconvert_listlike\u001b[0m\u001b[1;33m(\u001b[0m\u001b[0marg\u001b[0m\u001b[1;33m.\u001b[0m\u001b[0m_values\u001b[0m\u001b[1;33m,\u001b[0m \u001b[0mformat\u001b[0m\u001b[1;33m)\u001b[0m\u001b[1;33m\u001b[0m\u001b[1;33m\u001b[0m\u001b[0m\n\u001b[0m\u001b[0;32m    804\u001b[0m             \u001b[0mresult\u001b[0m \u001b[1;33m=\u001b[0m \u001b[0marg\u001b[0m\u001b[1;33m.\u001b[0m\u001b[0m_constructor\u001b[0m\u001b[1;33m(\u001b[0m\u001b[0mvalues\u001b[0m\u001b[1;33m,\u001b[0m \u001b[0mindex\u001b[0m\u001b[1;33m=\u001b[0m\u001b[0marg\u001b[0m\u001b[1;33m.\u001b[0m\u001b[0mindex\u001b[0m\u001b[1;33m,\u001b[0m \u001b[0mname\u001b[0m\u001b[1;33m=\u001b[0m\u001b[0marg\u001b[0m\u001b[1;33m.\u001b[0m\u001b[0mname\u001b[0m\u001b[1;33m)\u001b[0m\u001b[1;33m\u001b[0m\u001b[1;33m\u001b[0m\u001b[0m\n\u001b[0;32m    805\u001b[0m     \u001b[1;32melif\u001b[0m \u001b[0misinstance\u001b[0m\u001b[1;33m(\u001b[0m\u001b[0marg\u001b[0m\u001b[1;33m,\u001b[0m \u001b[1;33m(\u001b[0m\u001b[0mABCDataFrame\u001b[0m\u001b[1;33m,\u001b[0m \u001b[0mabc\u001b[0m\u001b[1;33m.\u001b[0m\u001b[0mMutableMapping\u001b[0m\u001b[1;33m)\u001b[0m\u001b[1;33m)\u001b[0m\u001b[1;33m:\u001b[0m\u001b[1;33m\u001b[0m\u001b[1;33m\u001b[0m\u001b[0m\n",
      "\u001b[1;32mc:\\ProgramData\\Anaconda3\\lib\\site-packages\\pandas\\core\\tools\\datetimes.py\u001b[0m in \u001b[0;36m_convert_listlike_datetimes\u001b[1;34m(arg, format, name, tz, unit, errors, infer_datetime_format, dayfirst, yearfirst, exact)\u001b[0m\n\u001b[0;32m    452\u001b[0m                 \u001b[1;32mreturn\u001b[0m \u001b[0mDatetimeIndex\u001b[0m\u001b[1;33m.\u001b[0m\u001b[0m_simple_new\u001b[0m\u001b[1;33m(\u001b[0m\u001b[0mdta\u001b[0m\u001b[1;33m,\u001b[0m \u001b[0mname\u001b[0m\u001b[1;33m=\u001b[0m\u001b[0mname\u001b[0m\u001b[1;33m)\u001b[0m\u001b[1;33m\u001b[0m\u001b[1;33m\u001b[0m\u001b[0m\n\u001b[0;32m    453\u001b[0m             \u001b[1;32mexcept\u001b[0m \u001b[1;33m(\u001b[0m\u001b[0mValueError\u001b[0m\u001b[1;33m,\u001b[0m \u001b[0mTypeError\u001b[0m\u001b[1;33m)\u001b[0m\u001b[1;33m:\u001b[0m\u001b[1;33m\u001b[0m\u001b[1;33m\u001b[0m\u001b[0m\n\u001b[1;32m--> 454\u001b[1;33m                 \u001b[1;32mraise\u001b[0m \u001b[0me\u001b[0m\u001b[1;33m\u001b[0m\u001b[1;33m\u001b[0m\u001b[0m\n\u001b[0m\u001b[0;32m    455\u001b[0m \u001b[1;33m\u001b[0m\u001b[0m\n\u001b[0;32m    456\u001b[0m     \u001b[1;32mif\u001b[0m \u001b[0mresult\u001b[0m \u001b[1;32mis\u001b[0m \u001b[1;32mNone\u001b[0m\u001b[1;33m:\u001b[0m\u001b[1;33m\u001b[0m\u001b[1;33m\u001b[0m\u001b[0m\n",
      "\u001b[1;32mc:\\ProgramData\\Anaconda3\\lib\\site-packages\\pandas\\core\\tools\\datetimes.py\u001b[0m in \u001b[0;36m_convert_listlike_datetimes\u001b[1;34m(arg, format, name, tz, unit, errors, infer_datetime_format, dayfirst, yearfirst, exact)\u001b[0m\n\u001b[0;32m    415\u001b[0m             \u001b[1;32mif\u001b[0m \u001b[0mresult\u001b[0m \u001b[1;32mis\u001b[0m \u001b[1;32mNone\u001b[0m\u001b[1;33m:\u001b[0m\u001b[1;33m\u001b[0m\u001b[1;33m\u001b[0m\u001b[0m\n\u001b[0;32m    416\u001b[0m                 \u001b[1;32mtry\u001b[0m\u001b[1;33m:\u001b[0m\u001b[1;33m\u001b[0m\u001b[1;33m\u001b[0m\u001b[0m\n\u001b[1;32m--> 417\u001b[1;33m                     result, timezones = array_strptime(\n\u001b[0m\u001b[0;32m    418\u001b[0m                         \u001b[0marg\u001b[0m\u001b[1;33m,\u001b[0m \u001b[0mformat\u001b[0m\u001b[1;33m,\u001b[0m \u001b[0mexact\u001b[0m\u001b[1;33m=\u001b[0m\u001b[0mexact\u001b[0m\u001b[1;33m,\u001b[0m \u001b[0merrors\u001b[0m\u001b[1;33m=\u001b[0m\u001b[0merrors\u001b[0m\u001b[1;33m\u001b[0m\u001b[1;33m\u001b[0m\u001b[0m\n\u001b[0;32m    419\u001b[0m                     )\n",
      "\u001b[1;32mpandas\\_libs\\tslibs\\strptime.pyx\u001b[0m in \u001b[0;36mpandas._libs.tslibs.strptime.array_strptime\u001b[1;34m()\u001b[0m\n",
      "\u001b[1;31mValueError\u001b[0m: unconverted data remains: -06-15"
     ]
    }
   ],
   "source": [
    "\n",
    "#books_data_1['published date'] = pd.to_datetime(books_data_1['published_date'].str.strip(), format='%d/%m%Y')\n",
    "#books_data_1['published_date'] = pd.to_datetime(books_data_1['published_date'].str.strip(), format='%Y-%m-')\n",
    "books_data_1['published_date'] = pd.to_datetime(books_data_1['published_date'], format='%Y')\n",
    "\n",
    "\n",
    "#df['Time stamp'] = pd.to_datetime(df['Time stamp'], dayfirst=True)\n"
   ]
  },
  {
   "cell_type": "code",
   "execution_count": 42,
   "metadata": {},
   "outputs": [
    {
     "ename": "ParserError",
     "evalue": "Unknown string format: 19??",
     "output_type": "error",
     "traceback": [
      "\u001b[1;31m---------------------------------------------------------------------------\u001b[0m",
      "\u001b[1;31mTypeError\u001b[0m                                 Traceback (most recent call last)",
      "\u001b[1;32mc:\\ProgramData\\Anaconda3\\lib\\site-packages\\pandas\\core\\arrays\\datetimes.py\u001b[0m in \u001b[0;36mobjects_to_datetime64ns\u001b[1;34m(data, dayfirst, yearfirst, utc, errors, require_iso8601, allow_object)\u001b[0m\n\u001b[0;32m   2053\u001b[0m         \u001b[1;32mtry\u001b[0m\u001b[1;33m:\u001b[0m\u001b[1;33m\u001b[0m\u001b[1;33m\u001b[0m\u001b[0m\n\u001b[1;32m-> 2054\u001b[1;33m             \u001b[0mvalues\u001b[0m\u001b[1;33m,\u001b[0m \u001b[0mtz_parsed\u001b[0m \u001b[1;33m=\u001b[0m \u001b[0mconversion\u001b[0m\u001b[1;33m.\u001b[0m\u001b[0mdatetime_to_datetime64\u001b[0m\u001b[1;33m(\u001b[0m\u001b[0mdata\u001b[0m\u001b[1;33m)\u001b[0m\u001b[1;33m\u001b[0m\u001b[1;33m\u001b[0m\u001b[0m\n\u001b[0m\u001b[0;32m   2055\u001b[0m             \u001b[1;31m# If tzaware, these values represent unix timestamps, so we\u001b[0m\u001b[1;33m\u001b[0m\u001b[1;33m\u001b[0m\u001b[1;33m\u001b[0m\u001b[0m\n",
      "\u001b[1;32mpandas\\_libs\\tslibs\\conversion.pyx\u001b[0m in \u001b[0;36mpandas._libs.tslibs.conversion.datetime_to_datetime64\u001b[1;34m()\u001b[0m\n",
      "\u001b[1;31mTypeError\u001b[0m: Unrecognized value type: <class 'str'>",
      "\nDuring handling of the above exception, another exception occurred:\n",
      "\u001b[1;31mParserError\u001b[0m                               Traceback (most recent call last)",
      "\u001b[1;32m<ipython-input-42-fcb57a53947e>\u001b[0m in \u001b[0;36m<module>\u001b[1;34m\u001b[0m\n\u001b[0;32m      6\u001b[0m \u001b[1;33m\u001b[0m\u001b[0m\n\u001b[0;32m      7\u001b[0m \u001b[1;33m\u001b[0m\u001b[0m\n\u001b[1;32m----> 8\u001b[1;33m \u001b[0mbooks_data_1\u001b[0m\u001b[1;33m[\u001b[0m\u001b[1;34m'published date'\u001b[0m\u001b[1;33m]\u001b[0m \u001b[1;33m=\u001b[0m \u001b[0mpd\u001b[0m\u001b[1;33m.\u001b[0m\u001b[0mto_datetime\u001b[0m\u001b[1;33m(\u001b[0m\u001b[0mbooks_data_1\u001b[0m\u001b[1;33m[\u001b[0m\u001b[1;34m'published_date'\u001b[0m\u001b[1;33m]\u001b[0m\u001b[1;33m)\u001b[0m\u001b[1;33m\u001b[0m\u001b[1;33m\u001b[0m\u001b[0m\n\u001b[0m\u001b[0;32m      9\u001b[0m \u001b[0mbooks_data_1\u001b[0m\u001b[1;33m[\u001b[0m\u001b[1;34m'published_year'\u001b[0m\u001b[1;33m]\u001b[0m \u001b[1;33m=\u001b[0m \u001b[0mbooks_data_1\u001b[0m\u001b[1;33m[\u001b[0m\u001b[1;34m'published_date'\u001b[0m\u001b[1;33m]\u001b[0m\u001b[1;33m.\u001b[0m\u001b[0mdt\u001b[0m\u001b[1;33m.\u001b[0m\u001b[0myear\u001b[0m\u001b[1;33m\u001b[0m\u001b[1;33m\u001b[0m\u001b[0m\n\u001b[0;32m     10\u001b[0m \u001b[1;33m\u001b[0m\u001b[0m\n",
      "\u001b[1;32mc:\\ProgramData\\Anaconda3\\lib\\site-packages\\pandas\\core\\tools\\datetimes.py\u001b[0m in \u001b[0;36mto_datetime\u001b[1;34m(arg, errors, dayfirst, yearfirst, utc, format, exact, unit, infer_datetime_format, origin, cache)\u001b[0m\n\u001b[0;32m    801\u001b[0m             \u001b[0mresult\u001b[0m \u001b[1;33m=\u001b[0m \u001b[0marg\u001b[0m\u001b[1;33m.\u001b[0m\u001b[0mmap\u001b[0m\u001b[1;33m(\u001b[0m\u001b[0mcache_array\u001b[0m\u001b[1;33m)\u001b[0m\u001b[1;33m\u001b[0m\u001b[1;33m\u001b[0m\u001b[0m\n\u001b[0;32m    802\u001b[0m         \u001b[1;32melse\u001b[0m\u001b[1;33m:\u001b[0m\u001b[1;33m\u001b[0m\u001b[1;33m\u001b[0m\u001b[0m\n\u001b[1;32m--> 803\u001b[1;33m             \u001b[0mvalues\u001b[0m \u001b[1;33m=\u001b[0m \u001b[0mconvert_listlike\u001b[0m\u001b[1;33m(\u001b[0m\u001b[0marg\u001b[0m\u001b[1;33m.\u001b[0m\u001b[0m_values\u001b[0m\u001b[1;33m,\u001b[0m \u001b[0mformat\u001b[0m\u001b[1;33m)\u001b[0m\u001b[1;33m\u001b[0m\u001b[1;33m\u001b[0m\u001b[0m\n\u001b[0m\u001b[0;32m    804\u001b[0m             \u001b[0mresult\u001b[0m \u001b[1;33m=\u001b[0m \u001b[0marg\u001b[0m\u001b[1;33m.\u001b[0m\u001b[0m_constructor\u001b[0m\u001b[1;33m(\u001b[0m\u001b[0mvalues\u001b[0m\u001b[1;33m,\u001b[0m \u001b[0mindex\u001b[0m\u001b[1;33m=\u001b[0m\u001b[0marg\u001b[0m\u001b[1;33m.\u001b[0m\u001b[0mindex\u001b[0m\u001b[1;33m,\u001b[0m \u001b[0mname\u001b[0m\u001b[1;33m=\u001b[0m\u001b[0marg\u001b[0m\u001b[1;33m.\u001b[0m\u001b[0mname\u001b[0m\u001b[1;33m)\u001b[0m\u001b[1;33m\u001b[0m\u001b[1;33m\u001b[0m\u001b[0m\n\u001b[0;32m    805\u001b[0m     \u001b[1;32melif\u001b[0m \u001b[0misinstance\u001b[0m\u001b[1;33m(\u001b[0m\u001b[0marg\u001b[0m\u001b[1;33m,\u001b[0m \u001b[1;33m(\u001b[0m\u001b[0mABCDataFrame\u001b[0m\u001b[1;33m,\u001b[0m \u001b[0mabc\u001b[0m\u001b[1;33m.\u001b[0m\u001b[0mMutableMapping\u001b[0m\u001b[1;33m)\u001b[0m\u001b[1;33m)\u001b[0m\u001b[1;33m:\u001b[0m\u001b[1;33m\u001b[0m\u001b[1;33m\u001b[0m\u001b[0m\n",
      "\u001b[1;32mc:\\ProgramData\\Anaconda3\\lib\\site-packages\\pandas\\core\\tools\\datetimes.py\u001b[0m in \u001b[0;36m_convert_listlike_datetimes\u001b[1;34m(arg, format, name, tz, unit, errors, infer_datetime_format, dayfirst, yearfirst, exact)\u001b[0m\n\u001b[0;32m    457\u001b[0m         \u001b[1;32massert\u001b[0m \u001b[0mformat\u001b[0m \u001b[1;32mis\u001b[0m \u001b[1;32mNone\u001b[0m \u001b[1;32mor\u001b[0m \u001b[0minfer_datetime_format\u001b[0m\u001b[1;33m\u001b[0m\u001b[1;33m\u001b[0m\u001b[0m\n\u001b[0;32m    458\u001b[0m         \u001b[0mutc\u001b[0m \u001b[1;33m=\u001b[0m \u001b[0mtz\u001b[0m \u001b[1;33m==\u001b[0m \u001b[1;34m\"utc\"\u001b[0m\u001b[1;33m\u001b[0m\u001b[1;33m\u001b[0m\u001b[0m\n\u001b[1;32m--> 459\u001b[1;33m         result, tz_parsed = objects_to_datetime64ns(\n\u001b[0m\u001b[0;32m    460\u001b[0m             \u001b[0marg\u001b[0m\u001b[1;33m,\u001b[0m\u001b[1;33m\u001b[0m\u001b[1;33m\u001b[0m\u001b[0m\n\u001b[0;32m    461\u001b[0m             \u001b[0mdayfirst\u001b[0m\u001b[1;33m=\u001b[0m\u001b[0mdayfirst\u001b[0m\u001b[1;33m,\u001b[0m\u001b[1;33m\u001b[0m\u001b[1;33m\u001b[0m\u001b[0m\n",
      "\u001b[1;32mc:\\ProgramData\\Anaconda3\\lib\\site-packages\\pandas\\core\\arrays\\datetimes.py\u001b[0m in \u001b[0;36mobjects_to_datetime64ns\u001b[1;34m(data, dayfirst, yearfirst, utc, errors, require_iso8601, allow_object)\u001b[0m\n\u001b[0;32m   2057\u001b[0m             \u001b[1;32mreturn\u001b[0m \u001b[0mvalues\u001b[0m\u001b[1;33m.\u001b[0m\u001b[0mview\u001b[0m\u001b[1;33m(\u001b[0m\u001b[1;34m\"i8\"\u001b[0m\u001b[1;33m)\u001b[0m\u001b[1;33m,\u001b[0m \u001b[0mtz_parsed\u001b[0m\u001b[1;33m\u001b[0m\u001b[1;33m\u001b[0m\u001b[0m\n\u001b[0;32m   2058\u001b[0m         \u001b[1;32mexcept\u001b[0m \u001b[1;33m(\u001b[0m\u001b[0mValueError\u001b[0m\u001b[1;33m,\u001b[0m \u001b[0mTypeError\u001b[0m\u001b[1;33m)\u001b[0m\u001b[1;33m:\u001b[0m\u001b[1;33m\u001b[0m\u001b[1;33m\u001b[0m\u001b[0m\n\u001b[1;32m-> 2059\u001b[1;33m             \u001b[1;32mraise\u001b[0m \u001b[0me\u001b[0m\u001b[1;33m\u001b[0m\u001b[1;33m\u001b[0m\u001b[0m\n\u001b[0m\u001b[0;32m   2060\u001b[0m \u001b[1;33m\u001b[0m\u001b[0m\n\u001b[0;32m   2061\u001b[0m     \u001b[1;32mif\u001b[0m \u001b[0mtz_parsed\u001b[0m \u001b[1;32mis\u001b[0m \u001b[1;32mnot\u001b[0m \u001b[1;32mNone\u001b[0m\u001b[1;33m:\u001b[0m\u001b[1;33m\u001b[0m\u001b[1;33m\u001b[0m\u001b[0m\n",
      "\u001b[1;32mc:\\ProgramData\\Anaconda3\\lib\\site-packages\\pandas\\core\\arrays\\datetimes.py\u001b[0m in \u001b[0;36mobjects_to_datetime64ns\u001b[1;34m(data, dayfirst, yearfirst, utc, errors, require_iso8601, allow_object)\u001b[0m\n\u001b[0;32m   2042\u001b[0m \u001b[1;33m\u001b[0m\u001b[0m\n\u001b[0;32m   2043\u001b[0m     \u001b[1;32mtry\u001b[0m\u001b[1;33m:\u001b[0m\u001b[1;33m\u001b[0m\u001b[1;33m\u001b[0m\u001b[0m\n\u001b[1;32m-> 2044\u001b[1;33m         result, tz_parsed = tslib.array_to_datetime(\n\u001b[0m\u001b[0;32m   2045\u001b[0m             \u001b[0mdata\u001b[0m\u001b[1;33m,\u001b[0m\u001b[1;33m\u001b[0m\u001b[1;33m\u001b[0m\u001b[0m\n\u001b[0;32m   2046\u001b[0m             \u001b[0merrors\u001b[0m\u001b[1;33m=\u001b[0m\u001b[0merrors\u001b[0m\u001b[1;33m,\u001b[0m\u001b[1;33m\u001b[0m\u001b[1;33m\u001b[0m\u001b[0m\n",
      "\u001b[1;32mpandas\\_libs\\tslib.pyx\u001b[0m in \u001b[0;36mpandas._libs.tslib.array_to_datetime\u001b[1;34m()\u001b[0m\n",
      "\u001b[1;32mpandas\\_libs\\tslib.pyx\u001b[0m in \u001b[0;36mpandas._libs.tslib.array_to_datetime\u001b[1;34m()\u001b[0m\n",
      "\u001b[1;32mpandas\\_libs\\tslib.pyx\u001b[0m in \u001b[0;36mpandas._libs.tslib.array_to_datetime_object\u001b[1;34m()\u001b[0m\n",
      "\u001b[1;32mpandas\\_libs\\tslib.pyx\u001b[0m in \u001b[0;36mpandas._libs.tslib.array_to_datetime_object\u001b[1;34m()\u001b[0m\n",
      "\u001b[1;32mpandas\\_libs\\tslibs\\parsing.pyx\u001b[0m in \u001b[0;36mpandas._libs.tslibs.parsing.parse_datetime_string\u001b[1;34m()\u001b[0m\n",
      "\u001b[1;32mc:\\ProgramData\\Anaconda3\\lib\\site-packages\\dateutil\\parser\\_parser.py\u001b[0m in \u001b[0;36mparse\u001b[1;34m(timestr, parserinfo, **kwargs)\u001b[0m\n\u001b[0;32m   1372\u001b[0m         \u001b[1;32mreturn\u001b[0m \u001b[0mparser\u001b[0m\u001b[1;33m(\u001b[0m\u001b[0mparserinfo\u001b[0m\u001b[1;33m)\u001b[0m\u001b[1;33m.\u001b[0m\u001b[0mparse\u001b[0m\u001b[1;33m(\u001b[0m\u001b[0mtimestr\u001b[0m\u001b[1;33m,\u001b[0m \u001b[1;33m**\u001b[0m\u001b[0mkwargs\u001b[0m\u001b[1;33m)\u001b[0m\u001b[1;33m\u001b[0m\u001b[1;33m\u001b[0m\u001b[0m\n\u001b[0;32m   1373\u001b[0m     \u001b[1;32melse\u001b[0m\u001b[1;33m:\u001b[0m\u001b[1;33m\u001b[0m\u001b[1;33m\u001b[0m\u001b[0m\n\u001b[1;32m-> 1374\u001b[1;33m         \u001b[1;32mreturn\u001b[0m \u001b[0mDEFAULTPARSER\u001b[0m\u001b[1;33m.\u001b[0m\u001b[0mparse\u001b[0m\u001b[1;33m(\u001b[0m\u001b[0mtimestr\u001b[0m\u001b[1;33m,\u001b[0m \u001b[1;33m**\u001b[0m\u001b[0mkwargs\u001b[0m\u001b[1;33m)\u001b[0m\u001b[1;33m\u001b[0m\u001b[1;33m\u001b[0m\u001b[0m\n\u001b[0m\u001b[0;32m   1375\u001b[0m \u001b[1;33m\u001b[0m\u001b[0m\n\u001b[0;32m   1376\u001b[0m \u001b[1;33m\u001b[0m\u001b[0m\n",
      "\u001b[1;32mc:\\ProgramData\\Anaconda3\\lib\\site-packages\\dateutil\\parser\\_parser.py\u001b[0m in \u001b[0;36mparse\u001b[1;34m(self, timestr, default, ignoretz, tzinfos, **kwargs)\u001b[0m\n\u001b[0;32m    647\u001b[0m \u001b[1;33m\u001b[0m\u001b[0m\n\u001b[0;32m    648\u001b[0m         \u001b[1;32mif\u001b[0m \u001b[0mres\u001b[0m \u001b[1;32mis\u001b[0m \u001b[1;32mNone\u001b[0m\u001b[1;33m:\u001b[0m\u001b[1;33m\u001b[0m\u001b[1;33m\u001b[0m\u001b[0m\n\u001b[1;32m--> 649\u001b[1;33m             \u001b[1;32mraise\u001b[0m \u001b[0mParserError\u001b[0m\u001b[1;33m(\u001b[0m\u001b[1;34m\"Unknown string format: %s\"\u001b[0m\u001b[1;33m,\u001b[0m \u001b[0mtimestr\u001b[0m\u001b[1;33m)\u001b[0m\u001b[1;33m\u001b[0m\u001b[1;33m\u001b[0m\u001b[0m\n\u001b[0m\u001b[0;32m    650\u001b[0m \u001b[1;33m\u001b[0m\u001b[0m\n\u001b[0;32m    651\u001b[0m         \u001b[1;32mif\u001b[0m \u001b[0mlen\u001b[0m\u001b[1;33m(\u001b[0m\u001b[0mres\u001b[0m\u001b[1;33m)\u001b[0m \u001b[1;33m==\u001b[0m \u001b[1;36m0\u001b[0m\u001b[1;33m:\u001b[0m\u001b[1;33m\u001b[0m\u001b[1;33m\u001b[0m\u001b[0m\n",
      "\u001b[1;31mParserError\u001b[0m: Unknown string format: 19??"
     ]
    }
   ],
   "source": [
    "# Cluster books based on avg_rating and year\n",
    "\n",
    "books_data_1.head()\n",
    "\n",
    "# Make a new column that is the published_year\n",
    "\n",
    "books_data_1['published date'] = pd.to_datetime(books_data_1['published_date'])\n",
    "books_data_1['published_year'] = books_data_1['published_date'].dt.year\n",
    "\n",
    "\n",
    "#books_data_1['Purchase Date'] = pd.to_datetime(df['Purchase Date'])\n",
    "# add a column for Year\n",
    "\n",
    "#df['Year'] = df['Purchase Date'].dt.year\n",
    "\n",
    "\n",
    "#books_data_1['published_year'] = books_data_1['published_date'].apply(lambda x: x.split('-')[0])\n"
   ]
  }
 ],
 "metadata": {
  "kernelspec": {
   "display_name": "comptool",
   "language": "python",
   "name": "python3"
  },
  "language_info": {
   "codemirror_mode": {
    "name": "ipython",
    "version": 3
   },
   "file_extension": ".py",
   "mimetype": "text/x-python",
   "name": "python",
   "nbconvert_exporter": "python",
   "pygments_lexer": "ipython3",
   "version": "3.8.5"
  },
  "orig_nbformat": 4
 },
 "nbformat": 4,
 "nbformat_minor": 2
}
