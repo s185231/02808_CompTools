{
 "cells": [
  {
   "cell_type": "markdown",
   "metadata": {},
   "source": [
    "# 02807 Computational Tools for Data Science - Book recomendation system \n",
    "\n",
    "# Introduction\n",
    "The notebook first loads two dataframes, one containing data for each book, and one containing reviews of the books.\n",
    "\n",
    "Then the data is cleaned.\n",
    "\n",
    "Furthermore, different methods are used to recommend books.\n",
    "\n"
   ]
  },
  {
   "cell_type": "markdown",
   "metadata": {},
   "source": [
    "<a id=\"0\"></a> <br>\n",
    "\n",
    "# Table of Contents  \n",
    "\n",
    "* [Data](#data)    \n",
    "\n",
    "* [Models](#models)\n",
    "\n",
    "    * [Jaccard similarity on book data ](#model1)\n",
    "\n",
    "    *\n"
   ]
  },
  {
   "cell_type": "code",
   "execution_count": 1,
   "metadata": {},
   "outputs": [
    {
     "name": "stdout",
     "output_type": "stream",
     "text": [
      "env: VARIABLE=comptools-env\n"
     ]
    }
   ],
   "source": [
    "%env VARIABLE=comptools-env"
   ]
  },
  {
   "cell_type": "markdown",
   "metadata": {},
   "source": [
    "### Load packages"
   ]
  },
  {
   "cell_type": "code",
   "execution_count": 2,
   "metadata": {},
   "outputs": [],
   "source": [
    "import pandas as pd\n",
    "import numpy as np\n",
    "import mmh3\n",
    "\n",
    "import matplotlib.pyplot as plt\n",
    "import seaborn as sns"
   ]
  },
  {
   "cell_type": "markdown",
   "metadata": {},
   "source": [
    "<a id=\"data\"></a> <br>\n",
    "# Data\n"
   ]
  },
  {
   "cell_type": "code",
   "execution_count": 3,
   "metadata": {},
   "outputs": [
    {
     "name": "stdout",
     "output_type": "stream",
     "text": [
      "Books data has 10 columns with 212404 rows each.\n",
      "Books ratings has 10 columns with 3000000 rows each.\n"
     ]
    }
   ],
   "source": [
    "books_data = pd.read_csv('data/books_data.csv') #, nrows=1000)\n",
    "print(f\"Books data has \" + str(books_data.columns.size) + \" columns with \" + str(books_data.shape[0]) + \" rows each.\")\n",
    "books_ratings = pd.read_csv('data/books_rating.csv') #, nrows=1000)\n",
    "print(f\"Books ratings has \" + str(books_ratings.columns.size) + \" columns with \" + str(books_ratings.shape[0]) + \" rows each.\")"
   ]
  },
  {
   "cell_type": "markdown",
   "metadata": {},
   "source": [
    "## Data Preprocessing\n",
    "The following section cleans the data. \n",
    "This is done with the following steps\n",
    "\n",
    "- We remove columns that we do not use and rename some of the columns.\n",
    "- We change \"&\" to \"and\", remove special characters in the titles, and make titles lower case. This is done for both data sets.\n",
    "- We remove dublicates of titles and descriptions.\n",
    "- We remove duplicate reviews where same user reviews same book multiple times.\n",
    "- We then remove reviews where title is NaN.\n",
    "- Remove books with less than 10 reviews.\n",
    "- Remove users with less than 20 reviews.\n",
    "- Add column to book_data: average_rating and helpfullness of reviews to books_ratings\n",
    "\n",
    "The data cleaning is now complete and we can go to the first model."
   ]
  },
  {
   "cell_type": "code",
   "execution_count": 4,
   "metadata": {},
   "outputs": [
    {
     "name": "stdout",
     "output_type": "stream",
     "text": [
      "Books data now only has 5 columns - ['title', 'description', 'authors', 'published_date', 'categories']\n",
      "Books ratings now only has 6 columns - ['title', 'user_id', 'helpfulness', 'score', 'summary', 'text']\n"
     ]
    }
   ],
   "source": [
    "# Titles\n",
    "books_data_1 = books_data.drop(['image', 'previewLink', 'infoLink', 'publisher', 'ratingsCount'], axis=1, inplace=False)\n",
    "books_ratings_1 = books_ratings.drop(['Id','Price', 'profileName', 'review/time'], axis=1, inplace=False)\n",
    "\n",
    "books_data_1.rename(columns={'Title': 'title','publishedDate': 'published_date'}, inplace=True)\n",
    "books_ratings_1.rename(columns={'Title': 'title','User_id':'user_id',  'review/score': 'score','review/helpfulness': 'helpfulness', 'review/text': 'text', 'review/summary': 'summary'}, inplace=True)\n",
    "print(f\"Books data now only has \" + str(books_data_1.columns.size) + \" columns - \" + str(list(books_data_1.columns)))\n",
    "print(f\"Books ratings now only has \" + str(books_ratings_1.columns.size) + \" columns - \" + str(list(books_ratings_1.columns))) \n"
   ]
  },
  {
   "cell_type": "code",
   "execution_count": 5,
   "metadata": {},
   "outputs": [
    {
     "name": "stdout",
     "output_type": "stream",
     "text": [
      "Both datasets' titles are now all lowercase and only include letters and spaces.\n"
     ]
    }
   ],
   "source": [
    "#Makes all titles lowercase; then removes any part of the title that includes a parenthesis, and replaces any ampersands with 'and'\n",
    "books_data_1['title'] = books_data_1['title'].map(lambda s: s.lower() if type(s) == str else s)\n",
    "books_data_1['title'] = books_data_1['title'].replace(r\"\\(.*\\)\",\"\", regex=True)\n",
    "books_data_1['title'] = books_data_1['title'].replace(r\"\\&\",\"and\", regex=True)\n",
    "\n",
    "books_ratings_1['title'] = books_ratings_1['title'].map(lambda s: s.lower() if type(s) == str else s)\n",
    "books_ratings_1['title'] = books_ratings_1['title'].replace(r\"\\(.*\\)\",\"\", regex=True)\n",
    "books_ratings_1['title'] = books_ratings_1['title'].replace(r\"\\&\",\"and\", regex=True)\n",
    "\n",
    "#Removes any characters that aren't letters or spaces.\n",
    "books_data_1['title'] = books_data_1['title'].replace(r\"[^a-zA-Z0-9\\s]+\", \"\", regex=True)\n",
    "books_ratings_1['title'] = books_ratings_1['title'].replace(r\"[^a-zA-Z0-9\\s]+\", \"\", regex=True)\n",
    "\n",
    "print(\"Both datasets' titles are now all lowercase and only include letters and spaces.\")\n"
   ]
  },
  {
   "cell_type": "code",
   "execution_count": 6,
   "metadata": {},
   "outputs": [
    {
     "name": "stdout",
     "output_type": "stream",
     "text": [
      "Books data has 212404 titles.\n",
      "Dropped 80758 duplicate titles and descriptions. Now there are only 131646 rows left. \n"
     ]
    }
   ],
   "source": [
    "# keep only unique titles in books_data_1\n",
    "#size of books_data_1\n",
    "prev_size = len(books_data_1['title'])\n",
    "print(f\"Books data has \" + str(len(books_data_1['title'])) + \" titles.\")\n",
    "books_data_1 = books_data_1.drop_duplicates(subset=['title'], keep='first')\n",
    "books_data_1 = books_data_1.drop_duplicates(subset=['description'], keep='first')\n",
    "print(f\"Dropped \" + str(prev_size - len(books_data_1['title'])) + \" duplicate titles and descriptions. Now there are only \" + str(len(books_data_1['title'])) + \" rows left. \")"
   ]
  },
  {
   "cell_type": "code",
   "execution_count": 7,
   "metadata": {},
   "outputs": [
    {
     "name": "stdout",
     "output_type": "stream",
     "text": [
      "Books ratings has 3000000 rows.\n",
      "Dropped based on total duplicity. Books ratings now has 2432035 rows.  -567965 rows.\n",
      "Dropped based on duplicate title. Books ratings now has 2027318 rows.  -404717 rows.\n",
      "Dropped based on duplicate text. Books ratings now has 1748116 rows.  -279202 rows.\n"
     ]
    }
   ],
   "source": [
    "#Drop duplicate reviews where same user reviews same book multiple times\n",
    "print(f\"Books ratings has \" + str(len(books_ratings_1['title'])) + \" rows.\")\n",
    "prevRatings = len(books_ratings_1['title'])\n",
    "books_ratings_1.drop_duplicates(keep='first', inplace=True)\n",
    "print(f\"Dropped based on total duplicity. Books ratings now has \" + str(len(books_ratings_1['title'])) + \" rows. \" + \" -\" + str(prevRatings-len(books_ratings_1['title'])) + \" rows.\")\n",
    "prevRatings = len(books_ratings_1['title'])\n",
    "books_ratings_1.drop_duplicates(subset=['user_id', 'title'], keep='first', inplace=True)\n",
    "print(f\"Dropped based on duplicate title. Books ratings now has \" + str(len(books_ratings_1['title'])) + \" rows. \" + \" -\" + str(prevRatings-len(books_ratings_1['title'])) + \" rows.\")\n",
    "prevRatings = len(books_ratings_1['title'])\n",
    "books_ratings_1.drop_duplicates(subset=['user_id', 'text'], keep='first', inplace=True)\n",
    "print(f\"Dropped based on duplicate text. Books ratings now has \" + str(len(books_ratings_1['title'])) + \" rows. \" + \" -\" + str(prevRatings-len(books_ratings_1['title'])) + \" rows.\")\n"
   ]
  },
  {
   "cell_type": "code",
   "execution_count": 8,
   "metadata": {},
   "outputs": [
    {
     "name": "stdout",
     "output_type": "stream",
     "text": [
      "71515 total NAN values present in title\n",
      "Now there are 71495\n",
      "Now there are 7172\n"
     ]
    }
   ],
   "source": [
    "#Remove NAN titles\n",
    "print(f\"\" + str(books_ratings_1.isnull().sum().sum()) + \" total NAN values present in title\")\n",
    "books_ratings_1 = books_ratings_1.dropna(subset=['title'])\n",
    "print(f\"Now there are \" + str(books_ratings_1.isnull().sum().sum()))\n",
    "\n",
    "print(f\"Now there are \" + str(books_data_1.isnull().sum().sum()))"
   ]
  },
  {
   "cell_type": "code",
   "execution_count": 9,
   "metadata": {},
   "outputs": [
    {
     "name": "stdout",
     "output_type": "stream",
     "text": [
      "Books_ratings has 1748097 rows.\n",
      "Books_ratings now has 1287419 rows. -460678 rows. \n",
      "Books_data now has an additional column. (n_ratings)\n",
      "Books data has 6 columns with 25743 rows each. -0 rows.\n"
     ]
    }
   ],
   "source": [
    "#Collect only ratings for books that have received at least 10 ratings.\n",
    "#Add a new column in books_data_1 that counts the number of ratings for each book with a score of at least 10\n",
    "\n",
    "#Note that by removing duplicate reviews first, counting the number of reviews for each book afterward will be more accurate.\n",
    "print(f\"Books_ratings has \" + str(len(books_ratings_1['title'])) + \" rows.\")\n",
    "prev_rows = len(books_ratings_1['title'])\n",
    "\n",
    "n_ratings = books_ratings_1.groupby('title').count()['score']>=10\n",
    "famous_books = n_ratings[n_ratings==True].index\n",
    "books_ratings_1 = books_ratings_1[books_ratings_1['title'].isin(famous_books)]\n",
    "n_ratings_1 = books_ratings_1['title'].value_counts().rename(\"n_ratings\")\n",
    "books_data_1 = books_data_1.merge(n_ratings_1, on='title', how='inner')\n",
    "\n",
    "print(f\"Books_ratings now has \" + str(len(books_ratings_1['title'])) + \" rows. -\" + str(prev_rows - len(books_ratings_1['title'])) + \" rows. \")\n",
    "print(f\"Books_data now has an additional column. (n_ratings)\")\n",
    "\n",
    "#purge books where n_ratings < 10 (redundant operation)\n",
    "prevBooks = len(books_data_1['title'])\n",
    "books_data_1 = books_data_1[books_data_1['n_ratings']>=10]\n",
    "print(f\"Books data has \" + str(books_data_1.columns.size) + \" columns with \" + str(books_data_1.shape[0]) + \" rows each.\" + \" -\" + str(prevBooks-len(books_data_1['title'])) + \" rows.\")"
   ]
  },
  {
   "cell_type": "code",
   "execution_count": 10,
   "metadata": {},
   "outputs": [
    {
     "name": "stdout",
     "output_type": "stream",
     "text": [
      "Books ratings has 6 columns with 168980 rows each. -1118439 rows.\n",
      "3417 users remain who have rated at least 20 books.\n"
     ]
    }
   ],
   "source": [
    "#Remove ratings from users who have rated less than 20 books.\n",
    "prevRatings = len(books_ratings_1['title'])\n",
    "x = books_ratings_1.groupby('user_id').count()['score'] >= 20 # since this is what amazon requires before a user can get recommendations\n",
    "considerable_users = x[x].index\n",
    "books_ratings_1 = books_ratings_1[books_ratings_1['user_id'].isin(considerable_users)]\n",
    "\n",
    "print(f\"Books ratings has \" + str(books_ratings_1.columns.size) + \" columns with \" + str(books_ratings_1.shape[0]) + \" rows each.\" + \" -\" + str(prevRatings-len(books_ratings_1['title'])) + \" rows.\")\n",
    "print(f\"\" + str(len(books_ratings_1['user_id'].value_counts())) + \" users remain who have rated at least 20 books.\")"
   ]
  },
  {
   "cell_type": "code",
   "execution_count": 11,
   "metadata": {},
   "outputs": [
    {
     "name": "stdout",
     "output_type": "stream",
     "text": [
      "Books data now has an additional column. (avg_rating)\n"
     ]
    }
   ],
   "source": [
    "# add column in books_data_1 that calculate  the average score of the book.\n",
    "avg_rating = books_ratings_1.groupby('title')[\"score\"].mean().rename(\"avg_rating\")\n",
    "books_data_1 = books_data_1.merge(avg_rating, on='title', how='inner')\n",
    "print(f\"Books data now has an additional column. (avg_rating)\")\n",
    "\n",
    "# function to get number of users who found the review helpful\n",
    "def get_n_helpful(x):\n",
    "    if isinstance(x, str) and '/' in x:\n",
    "        num, denom = x.split('/')\n",
    "        return int(denom)\n",
    "    else:\n",
    "        return x\n",
    "\n",
    "# function to get percentage of users who found the review helpful\n",
    "def replace_fraction(x):\n",
    "    if isinstance(x, str) and '/' in x:\n",
    "        num, denom = x.split('/')\n",
    "        if denom == '0':\n",
    "            return 0\n",
    "        else:\n",
    "            return int(num) / int(denom)\n",
    "    else:\n",
    "        return x\n",
    "\n",
    "# add columns for number of users who found the review helpful and percentage of users who found the review helpful\n",
    "books_ratings_1['helpfulness_count'] = books_ratings_1['helpfulness'].apply(get_n_helpful)\n",
    "books_ratings_1['helpfulness_pct'] = books_ratings_1['helpfulness'].apply(replace_fraction)"
   ]
  },
  {
   "cell_type": "markdown",
   "metadata": {},
   "source": [
    "<a id=\"models\"></a> <br>\n",
    "\n",
    "# Recommendation Models"
   ]
  },
  {
   "cell_type": "markdown",
   "metadata": {},
   "source": [
    "<a id=\"model1\"></a> <br>\n",
    "\n",
    "## Jaccard Similarity on Books Data\n",
    "\n",
    "\n",
    "Function jaccard, that takes two titles and outputs the estimated jaccard similarity. \\\n",
    "Function max_jaccard takes a list of titles and compare the titles with each other. It then returns the two titles with the highest jaccard similarity."
   ]
  },
  {
   "cell_type": "code",
   "execution_count": 12,
   "metadata": {},
   "outputs": [
    {
     "name": "stdout",
     "output_type": "stream",
     "text": [
      "Max Jaccard Similarity: 0.4444444444444444\n",
      "lost cities of africa and arabia \n",
      "lost cities of north and central america \n"
     ]
    }
   ],
   "source": [
    "def jaccard(title1, title2):\n",
    "    words1 = set(str(title1).lower().split())\n",
    "    words2 = set(str(title2).lower().split())\n",
    "    \n",
    "    # Compute the intersection and union of the sets\n",
    "    intersection = len(words1.intersection(words2))\n",
    "    union = len(words1) + len(words2) - intersection\n",
    "    \n",
    "    # Calculate the Jaccard similarity\n",
    "    similarity = intersection / union if union > 0 else 0.0\n",
    "    \n",
    "    return similarity\n",
    "\n",
    "def max_jaccard(title_list):\n",
    "    max_similarity = 0.0\n",
    "    idx1 = 0\n",
    "    idx2 = 0\n",
    "    for i in range(len(title_list)):\n",
    "        for j in range(i + 1, len(title_list)):\n",
    "            similarity = jaccard(title_list[i], title_list[j])\n",
    "            if similarity > max_similarity:\n",
    "                idx1 = i\n",
    "                idx2 = j\n",
    "                max_similarity = similarity\n",
    "    return max_similarity,idx1,idx2\n",
    "\n",
    "\"\"\"\n",
    "Example usage for comparing two titles\n",
    "title1 = books_data_1['title'][0]\n",
    "title2 = books_data_1['title'][1]\n",
    "print(title1,title2)\n",
    "similarity = jaccard(title1, title2)\n",
    "print(f\"Jaccard Similarity: {similarity}\")\n",
    "\"\"\"\n",
    "\n",
    "# Example usage with a list of titles\n",
    "n = 100\n",
    "title_list = books_data_1['title'][0:n]\n",
    "max_similarity,idx1,idx2 = max_jaccard(title_list)\n",
    "print(f\"Max Jaccard Similarity: {max_similarity}\")\n",
    "print(books_data_1['title'][idx1])\n",
    "print(books_data_1['title'][idx2])\n"
   ]
  },
  {
   "cell_type": "markdown",
   "metadata": {},
   "source": [
    "### Similar items using Jaccard similarity\n",
    "\n",
    "Function for finding similar items yusing jaccard similarity."
   ]
  },
  {
   "cell_type": "code",
   "execution_count": 13,
   "metadata": {},
   "outputs": [
    {
     "name": "stdout",
     "output_type": "stream",
     "text": [
      "Similarity Score: 0.6\n",
      "Title 1: the art of the novel\n",
      "Title 2: the art of loving\n",
      "\n",
      "Similarity Score: 0.6\n",
      "Title 1: the holy spirit\n",
      "Title 2: the baptism with the holy spirit\n",
      "\n"
     ]
    }
   ],
   "source": [
    "def similar(names, jaccard_threshold=0.6):\n",
    "    # Create a dictionary to store the similar names\n",
    "    similar_names = {}\n",
    "    \n",
    "    # Loop through each name in the list\n",
    "    for i in range(len(names)):\n",
    "        for j in range(i+1, len(names)):\n",
    "            similarity_score = jaccard(names[i], names[j])\n",
    "            if similarity_score >= jaccard_threshold:\n",
    "                similar_names[(names[i], names[j])] = similarity_score\n",
    "    return similar_names\n",
    "\n",
    "# Example usage:    \n",
    "names = books_data_1['title'][0:500]\n",
    "similar_names = similar(names)\n",
    "# Print titles in a way that is easier to read\n",
    "\n",
    "for (desc1, desc2), score in similar_names.items():\n",
    "    print(f\"Similarity Score: {score}\")\n",
    "    print(f\"Title 1: {desc1}\")\n",
    "    print(f\"Title 2: {desc2}\")\n",
    "    print()\n"
   ]
  },
  {
   "cell_type": "code",
   "execution_count": 14,
   "metadata": {},
   "outputs": [
    {
     "name": "stdout",
     "output_type": "stream",
     "text": [
      "Similarity Score: 0.9166666666666666\n",
      "Description 1: Presents a classic nursery rhyme accompanied by illustrations showing how to form the American Sign Language signs for each word. On board pages.\n",
      "Description 2: Presents a familiar nursery rhyme accompanied by illustrations showing how to form the American Sign Language signs for each word. On board pages.\n",
      "\n"
     ]
    }
   ],
   "source": [
    "# Example usage for finding similar descriptions\n",
    "descritions = books_data_1['description'][0:400]\n",
    "similar_descriptions = similar(descritions,jaccard_threshold=0.4)\n",
    "\n",
    "# Print descriptions in a way that is easier to read\n",
    "for (desc1, desc2), score in similar_descriptions.items():\n",
    "    print(f\"Similarity Score: {score}\")\n",
    "    print(f\"Description 1: {desc1}\")\n",
    "    print(f\"Description 2: {desc2}\")\n",
    "    print()\n"
   ]
  },
  {
   "cell_type": "markdown",
   "metadata": {},
   "source": [
    "### Locality-Sensitive Hashing\n",
    "\n",
    "Changing to keys for faster computations"
   ]
  },
  {
   "cell_type": "code",
   "execution_count": 15,
   "metadata": {},
   "outputs": [
    {
     "name": "stdout",
     "output_type": "stream",
     "text": [
      "{0: 'eyewitness travel guide to europe', 1: 'voices from the farm adventures in community living'}\n",
      "0\n",
      "eyewitness travel guide to europe\n",
      "1\n",
      "voices from the farm adventures in community living\n"
     ]
    }
   ],
   "source": [
    "\n",
    "\n",
    "names = books_data_1['title'][0:2]\n",
    "names = names.to_dict()\n",
    "print(names)\n",
    "\n",
    "for key, values in names.items():\n",
    "    print(key)\n",
    "    print(values)"
   ]
  },
  {
   "cell_type": "code",
   "execution_count": 16,
   "metadata": {},
   "outputs": [],
   "source": [
    "# Function to split words into k parts\n",
    "def split_k(word,k):\n",
    "    if word is np.nan:\n",
    "        return []\n",
    "    else:\n",
    "        n = len(word)\n",
    "    if k > n:\n",
    "        return split_k(word,int(k/2))\n",
    "    else:\n",
    "        if k == 0:\n",
    "            return word\n",
    "        n1 = n//k\n",
    "        n2 = n1 + n%k\n",
    "        return [word[i:i+n1] for i in range(0, n, n1)]"
   ]
  },
  {
   "cell_type": "code",
   "execution_count": 17,
   "metadata": {},
   "outputs": [],
   "source": [
    "# Implement the LSH algorithm\n",
    "b = 10\n",
    "\n",
    "def lsh(index,names, jaccard_threshold,seed):\n",
    "    lsh_dict = {}\n",
    "    for key, name in names.to_dict().items():\n",
    "        blocks = split_k(name,b)\n",
    "        blocks_hash_values = []\n",
    "        for aBlock in blocks:\n",
    "            blocks_hash_values.append(mmh3.hash(aBlock, seed))\n",
    "        lsh_dict[key] = blocks_hash_values\n",
    "    list_keys = list(lsh_dict.keys())\n",
    "    similar_items = {}\n",
    "    for i in range(len(list_keys)-1):\n",
    "       # if i% 1000 == 0:\n",
    "        #    print(i)\n",
    "        common_values = np.intersect1d(lsh_dict[list_keys[index]], lsh_dict[list_keys[i]])\n",
    "        if len(common_values) > 0:\n",
    "            # we found a candidate\n",
    "            similarity_score = jaccard(names[index], names[list_keys[i]])\n",
    "            if similarity_score >= jaccard_threshold:\n",
    "                similar_items[names[index], list_keys[i]] = similarity_score\n",
    "    return similar_items\n",
    "\n"
   ]
  },
  {
   "cell_type": "markdown",
   "metadata": {},
   "source": [
    "### Foundation\n",
    "We find the titles in the data set, which have the highest Jaccard similarity with the book \"Foundation\"."
   ]
  },
  {
   "cell_type": "code",
   "execution_count": 18,
   "metadata": {},
   "outputs": [
    {
     "name": "stdout",
     "output_type": "stream",
     "text": [
      "78\n",
      "foundation\n",
      "Similarity Score: 1.0\n",
      "Title 1: foundation\n",
      "Title 2: foundation\n",
      "\n",
      "Similarity Score: 0.3333333333333333\n",
      "Title 1: foundation\n",
      "Title 2: prelude to foundation\n",
      "\n"
     ]
    }
   ],
   "source": [
    "# Which index is book title foundation\n",
    "title = 'foundation'\n",
    "index = books_data_1[books_data_1['title'] == title].index[0]\n",
    "print(index)\n",
    "print(books_data_1['title'][index])\n",
    "\n",
    "n = len(books_data_1)\n",
    "titles = books_data_1['title'][0:n]\n",
    "found_similar_items_with_lsh = lsh(index,titles,jaccard_threshold=0.2,seed=42)\n",
    "\n",
    "# Print results\n",
    "for (title1, index), score in found_similar_items_with_lsh.items():\n",
    "    print(f\"Similarity Score: {score}\")\n",
    "    print(f\"Title 1: {title1}\")\n",
    "    print(f\"Title 2: {titles[index]}\")\n",
    "    print()"
   ]
  },
  {
   "cell_type": "markdown",
   "metadata": {},
   "source": [
    "### Dune\n",
    "We find the titles in the data set, which have the highest Jaccard similarity with the book \"Dune\"."
   ]
  },
  {
   "cell_type": "code",
   "execution_count": 19,
   "metadata": {},
   "outputs": [
    {
     "name": "stdout",
     "output_type": "stream",
     "text": [
      "588\n",
      "dune\n",
      "Similarity Score: 1.0\n",
      "Title 1: dune\n",
      "Title 2: dune\n",
      "\n"
     ]
    }
   ],
   "source": [
    "# Which index is book title foundation\n",
    "title = 'dune'\n",
    "index = books_data_1[books_data_1['title'] == title].index[0]\n",
    "print(index)\n",
    "print(books_data_1['title'][index])\n",
    "\n",
    "n = len(books_data_1)\n",
    "titles = books_data_1['title'][0:n]\n",
    "found_similar_items_with_lsh = lsh(index,titles,jaccard_threshold=0.2,seed=42)\n",
    "\n",
    "# Print results\n",
    "for (title1, index), score in found_similar_items_with_lsh.items():\n",
    "    print(f\"Similarity Score: {score}\")\n",
    "    print(f\"Title 1: {title1}\")\n",
    "    print(f\"Title 2: {titles[index]}\")\n",
    "    print()"
   ]
  },
  {
   "cell_type": "markdown",
   "metadata": {},
   "source": [
    "### The picture of Dorian Gray\n",
    "We find the titles in the data set, which have the highest Jaccard similarity with the book \"The picture of Dorian Gray\"."
   ]
  },
  {
   "cell_type": "code",
   "execution_count": 20,
   "metadata": {},
   "outputs": [
    {
     "name": "stdout",
     "output_type": "stream",
     "text": [
      "2294\n",
      "the picture of dorian gray\n",
      "Similarity Score: 1.0\n",
      "Title 1: the picture of dorian gray\n",
      "Title 2: the picture of dorian gray\n",
      "\n"
     ]
    }
   ],
   "source": [
    "# the picture of dorian gray\n",
    "\n",
    "# Which index is book title foundation\n",
    "title = 'the picture of dorian gray'\n",
    "index = books_data_1[books_data_1['title'] == title].index[0]\n",
    "print(index)\n",
    "print(books_data_1['title'][index])\n",
    "\n",
    "n = len(books_data_1)\n",
    "titles = books_data_1['title'][0:n]\n",
    "found_similar_items_with_lsh = lsh(index,titles,jaccard_threshold=0.3,seed=42)\n",
    "\n",
    "# Print results\n",
    "for (title1, index), score in found_similar_items_with_lsh.items():\n",
    "    print(f\"Similarity Score: {score}\")\n",
    "    print(f\"Title 1: {title1}\")\n",
    "    print(f\"Title 2: {titles[index]}\")\n",
    "    print()"
   ]
  },
  {
   "cell_type": "markdown",
   "metadata": {},
   "source": [
    "### The lion, the witch and the wardrobe\n",
    "We find the titles in the data set, which have the highest Jaccard similarity with the book \"The lion, the witch and the wardrobe\"."
   ]
  },
  {
   "cell_type": "code",
   "execution_count": 21,
   "metadata": {},
   "outputs": [
    {
     "name": "stdout",
     "output_type": "stream",
     "text": [
      "3003\n",
      "the lion the witch and the wardrobe\n",
      "Similarity Score: 1.0\n",
      "Title 1: the lion the witch and the wardrobe\n",
      "Title 2: the lion the witch and the wardrobe\n",
      "\n",
      "Similarity Score: 0.375\n",
      "Title 1: the lion the witch and the wardrobe\n",
      "Title 2: mrs pollifax and the lion killer \n",
      "\n"
     ]
    }
   ],
   "source": [
    "# the lion the witch and the wardrobe\n",
    "\n",
    "# Which index is book title foundation\n",
    "title = 'the lion the witch and the wardrobe'\n",
    "index = books_data_1[books_data_1['title'] == title].index[0]\n",
    "print(index)\n",
    "print(books_data_1['title'][index])\n",
    "\n",
    "n = len(books_data_1)\n",
    "titles = books_data_1['title'][0:n]\n",
    "found_similar_items_with_lsh = lsh(index,titles,jaccard_threshold=0.3,seed=42)\n",
    "\n",
    "# Print results\n",
    "for (title1, index), score in found_similar_items_with_lsh.items():\n",
    "    print(f\"Similarity Score: {score}\")\n",
    "    print(f\"Title 1: {title1}\")\n",
    "    print(f\"Title 2: {titles[index]}\")\n",
    "    print()"
   ]
  },
  {
   "cell_type": "markdown",
   "metadata": {},
   "source": [
    "### Harry Potter and the sorceres stone\n",
    "We find the titles in the data set, which have the highest Jaccard similarity with the book \"Harry Potter and the sorceres stone\"."
   ]
  },
  {
   "cell_type": "code",
   "execution_count": 22,
   "metadata": {},
   "outputs": [
    {
     "name": "stdout",
     "output_type": "stream",
     "text": [
      "4590\n",
      "harry potter and the sorcerers stone\n",
      "Similarity Score: 1.0\n",
      "Title 1: harry potter and the sorcerers stone\n",
      "Title 2: harry potter and the sorcerers stone\n",
      "\n",
      "Similarity Score: 0.4444444444444444\n",
      "Title 1: harry potter and the sorcerers stone\n",
      "Title 2: harry potter and the chamber of secrets\n",
      "\n"
     ]
    }
   ],
   "source": [
    "# harry potter and the sorcerers stone\n",
    "\n",
    "# Which index is book title foundation\n",
    "title = 'harry potter and the sorcerers stone'\n",
    "index = books_data_1[books_data_1['title'] == title].index[0]\n",
    "print(index)\n",
    "print(books_data_1['title'][index])\n",
    "\n",
    "n = len(books_data_1)\n",
    "titles = books_data_1['title'][0:n]\n",
    "found_similar_items_with_lsh = lsh(index,titles,jaccard_threshold=0.4,seed=42)\n",
    "\n",
    "# Print results\n",
    "for (title1, index), score in found_similar_items_with_lsh.items():\n",
    "    print(f\"Similarity Score: {score}\")\n",
    "    print(f\"Title 1: {title1}\")\n",
    "    print(f\"Title 2: {titles[index]}\")\n",
    "    print()"
   ]
  },
  {
   "cell_type": "markdown",
   "metadata": {},
   "source": [
    "### Interpreter of maladies\n",
    "We find the titles in the data set, which have the highest Jaccard similarity with the book \"Interpreter of maladies\"."
   ]
  },
  {
   "cell_type": "code",
   "execution_count": 23,
   "metadata": {},
   "outputs": [],
   "source": [
    "# Which index is book title foundation\n",
    "if 'interpreter of maladies' in books_data_1['title']:\n",
    "    title = 'interpreter of maladies'\n",
    "    index = books_data_1[books_data_1['title'] == title].index[0]\n",
    "    print(index)\n",
    "    print(books_data_1['title'][index])\n",
    "\n",
    "    n = len(books_data_1)\n",
    "    titles = books_data_1['title'][0:n]\n",
    "    found_similar_items_with_lsh = lsh(index,titles,jaccard_threshold=0.4,seed=42)\n",
    "\n",
    "    # Print results\n",
    "    for (title1, index), score in found_similar_items_with_lsh.items():\n",
    "        print(f\"Similarity Score: {score}\")\n",
    "        print(f\"Title 1: {title1}\")\n",
    "        print(f\"Title 2: {titles[index]}\")\n",
    "        print()"
   ]
  },
  {
   "cell_type": "markdown",
   "metadata": {},
   "source": [
    "### Heatmap based on titles\n",
    "To illustrate which titles that have the highest Jaccard similarity, we have plotted a heatmap."
   ]
  },
  {
   "cell_type": "code",
   "execution_count": 24,
   "metadata": {},
   "outputs": [
    {
     "name": "stdout",
     "output_type": "stream",
     "text": [
      "0\n",
      "500\n",
      "1000\n",
      "1500\n",
      "Similarity Score: 0.6\n",
      "Title 1: the art of the novel\n",
      "Title 2: the art of pianoplaying\n",
      "\n",
      "Similarity Score: 1.0\n",
      "Title 1: the chosen \n",
      "Title 2: the chosen\n",
      "\n",
      "Similarity Score: 0.6\n",
      "Title 1: the shadow of the lion\n",
      "Title 2: shadow of the hegemon\n",
      "\n",
      "Similarity Score: 0.6\n",
      "Title 1: the art of loving\n",
      "Title 2: the art of pianoplaying\n",
      "\n",
      "Similarity Score: 0.6\n",
      "Title 1: out of the blue\n",
      "Title 2: out of the silence\n",
      "\n",
      "Similarity Score: 0.6666666666666666\n",
      "Title 1: the day kennedy was shot\n",
      "Title 2: the day lincoln was shot\n",
      "\n",
      "Similarity Score: 0.6\n",
      "Title 1: the red fairy book \n",
      "Title 2: the yellow fairy book\n",
      "\n",
      "Similarity Score: 0.6\n",
      "Title 1: the lives of the artists \n",
      "Title 2: the lives of rocks\n",
      "\n",
      "Similarity Score: 0.6\n",
      "Title 1: the heaven of mercury \n",
      "Title 2: the fires of heaven \n",
      "\n",
      "Similarity Score: 0.6\n",
      "Title 1: the book of sarahs\n",
      "Title 2: the book of tea\n",
      "\n",
      "Similarity Score: 0.6\n",
      "Title 1: the book of sarahs\n",
      "Title 2: the book of enoch\n",
      "\n",
      "Similarity Score: 0.6\n",
      "Title 1: the book of tea\n",
      "Title 2: the book of enoch\n",
      "\n",
      "Similarity Score: 0.7777777777777778\n",
      "Title 1: guy food rachael rays top 30 30minute meals\n",
      "Title 2: kid food rachael rays top 30 30minute meals\n",
      "\n",
      "Similarity Score: 0.6\n",
      "Title 1: the history of hell\n",
      "Title 2: the philosophy of history\n",
      "\n",
      "Similarity Score: 0.6\n",
      "Title 1: kiss of the night \n",
      "Title 2: heart of the night\n",
      "\n",
      "Similarity Score: 1.0\n",
      "Title 1: uncle toms cabin  or life among the lowly\n",
      "Title 2: uncle toms cabin or life among the lowly\n",
      "\n"
     ]
    }
   ],
   "source": [
    "# Implement the LSH algorithm\n",
    "b = 10\n",
    "\n",
    "def lsh(names, jaccard_threshold,seed):\n",
    "    lsh_dict = {}\n",
    "    for key, name in names.to_dict().items():\n",
    "        blocks = split_k(name,b)\n",
    "        blocks_hash_values = []\n",
    "        for aBlock in blocks:\n",
    "            blocks_hash_values.append(mmh3.hash(aBlock, seed))\n",
    "        lsh_dict[key] = blocks_hash_values\n",
    "    list_keys = list(lsh_dict.keys())\n",
    "    similar_items = {}\n",
    "    for i in range(len(list_keys)-1):\n",
    "        if i% 500 == 0:\n",
    "            print(i)\n",
    "        for j in range(i+1, len(list_keys)):\n",
    "            common_values = np.intersect1d(lsh_dict[list_keys[i]], lsh_dict[list_keys[j]])\n",
    "            if len(common_values) > 0:\n",
    "                # we found a candidate\n",
    "                similarity_score = jaccard(names[list_keys[i]], names[list_keys[j]])\n",
    "                if similarity_score >= jaccard_threshold:\n",
    "                    similar_items[(list_keys[i], list_keys[j])] = similarity_score\n",
    "    return similar_items\n",
    "\n",
    "n = 2000\n",
    "\n",
    "titles = books_data_1['title'][0:n]\n",
    "found_similar_items_with_lsh = lsh(titles,jaccard_threshold=0.6,seed=42)\n",
    "# Print the results\n",
    "for (title1, title2), score in found_similar_items_with_lsh.items():\n",
    "    print(f\"Similarity Score: {score}\")\n",
    "    print(f\"Title 1: {titles[title1]}\")\n",
    "    print(f\"Title 2: {titles[title2]}\")\n",
    "    print()"
   ]
  },
  {
   "cell_type": "code",
   "execution_count": 25,
   "metadata": {},
   "outputs": [
    {
     "data": {
      "text/plain": [
       "{(52, 1345): 0.6,\n",
       " (120, 1581): 0.6,\n",
       " (332, 1345): 0.6,\n",
       " (481, 759): 0.6,\n",
       " (686, 1226): 0.6666666666666666,\n",
       " (732, 1429): 0.6,\n",
       " (870, 952): 0.6,\n",
       " (1056, 1200): 0.6,\n",
       " (1131, 1140): 0.6,\n",
       " (1131, 1735): 0.6,\n",
       " (1140, 1735): 0.6,\n",
       " (1273, 1294): 0.7777777777777778,\n",
       " (1361, 1728): 0.6,\n",
       " (1552, 1649): 0.6}"
      ]
     },
     "execution_count": 25,
     "metadata": {},
     "output_type": "execute_result"
    }
   ],
   "source": [
    "found_similar_items_with_lsh_new = {}\n",
    "# Remove all with jaccard with score 1 from the dictionary found_similar_items_with_lsh\n",
    "\n",
    "for (idx1, idx2), score in found_similar_items_with_lsh.items():\n",
    "    if score < 1.0:\n",
    "        found_similar_items_with_lsh_new[idx1,idx2] = score\n",
    "\n",
    "found_similar_items_with_lsh_new"
   ]
  },
  {
   "cell_type": "code",
   "execution_count": 26,
   "metadata": {},
   "outputs": [],
   "source": [
    "# Plot a heatmap with the found_similar_items_lhs dictionary\n",
    "\n",
    "# Create a heatmap\n",
    "def plot_heatmap(found_similar_items_lhs_new):\n",
    "    # Create a list of keys\n",
    "    keys = list(found_similar_items_lhs_new.keys())\n",
    "    \n",
    "    # Create a list of values\n",
    "    values = list(found_similar_items_lhs_new.values())\n",
    "    \n",
    "    # Create a list of the first items in each key\n",
    "    key1 = [key[0] for key in keys]\n",
    "    \n",
    "    # Create a list of the second items in each key\n",
    "    key2 = [key[1] for key in keys]\n",
    "    \n",
    "    # Create a dataframe with the keys and values\n",
    "    df = pd.DataFrame({'key1': key1, 'key2': key2, 'values': values})\n",
    "    \n",
    "    # Create a pivot table from the dataframe\n",
    "    df_pivot = df.pivot(index='key1', columns='key2', values='values')\n",
    "    \n",
    "    # Create a heatmap from the pivot table\n",
    "    sns.heatmap(df_pivot, cmap='crest')\n",
    "\n",
    "    # Add gridlines to the heatmap\n",
    "    plt.grid()\n",
    "    \n",
    "    plt.title('Heatmap of similar book titles')\n",
    "\n",
    "    # Show the plot\n",
    "    plt.show()\n"
   ]
  },
  {
   "cell_type": "code",
   "execution_count": 27,
   "metadata": {},
   "outputs": [
    {
     "data": {
      "image/png": "[encoded data removed]",
      "text/plain": [
       "<Figure size 800x800 with 2 Axes>"
      ]
     },
     "metadata": {},
     "output_type": "display_data"
    }
   ],
   "source": [
    "# plot book titles in stead of keys\n",
    "plt.figure(figsize=(8,8))\n",
    "found_similar_items_with_lsh_new = {(titles[key1], titles[key2]): value for (key1, key2), value in found_similar_items_with_lsh_new.items()}\n",
    "plot_heatmap(found_similar_items_with_lsh_new)"
   ]
  },
  {
   "cell_type": "markdown",
   "metadata": {},
   "source": [
    "## Heatmap based on descriptions\n"
   ]
  },
  {
   "cell_type": "code",
   "execution_count": 28,
   "metadata": {},
   "outputs": [
    {
     "name": "stderr",
     "output_type": "stream",
     "text": [
      "[nltk_data] Downloading package punkt to\n",
      "[nltk_data]     C:\\Users\\lisem_luhqoi7\\AppData\\Roaming\\nltk_data...\n",
      "[nltk_data]   Package punkt is already up-to-date!\n",
      "[nltk_data] Downloading package wordnet to\n",
      "[nltk_data]     C:\\Users\\lisem_luhqoi7\\AppData\\Roaming\\nltk_data...\n",
      "[nltk_data]   Package wordnet is already up-to-date!\n"
     ]
    }
   ],
   "source": [
    "import nltk\n",
    "nltk.download('punkt')\n",
    "nltk.download('wordnet')\n",
    "from nltk.tokenize import word_tokenize\n",
    "from nltk.corpus import stopwords\n",
    "from nltk.stem import WordNetLemmatizer\n",
    "import string"
   ]
  },
  {
   "cell_type": "code",
   "execution_count": 29,
   "metadata": {},
   "outputs": [
    {
     "name": "stdout",
     "output_type": "stream",
     "text": [
      "test sentence contains punctuation\n"
     ]
    }
   ],
   "source": [
    "def clean_text(text):\n",
    "    tokens = word_tokenize(text)\n",
    "    clean_tokens = []\n",
    "    \n",
    "    for token in tokens:\n",
    "        # Convert to lowercase\n",
    "        token = token.lower()\n",
    "        \n",
    "        # Remove punctuation\n",
    "        if token not in string.punctuation:\n",
    "            # Remove stopwords\n",
    "            if token not in stopwords.words('english'):\n",
    "                clean_tokens.append(token)\n",
    "    \n",
    "    return clean_tokens\n",
    "\n",
    "# Transform output into a single string\n",
    "def clean_text_string(text):\n",
    "    tokens = word_tokenize(text)\n",
    "    clean_tokens = []\n",
    "    \n",
    "    for token in tokens:\n",
    "        # Convert to lowercase\n",
    "        token = token.lower()\n",
    "        \n",
    "        # Remove punctuation\n",
    "        if token not in string.punctuation:\n",
    "            # Remove stopwords\n",
    "            if token not in stopwords.words('english'):\n",
    "                clean_tokens.append(token)\n",
    "\n",
    "    return ' '.join(clean_tokens)\n",
    "\n",
    "# Example usage\n",
    "test = 'This is a test sentence. It contains punctuation!'\n",
    "print(clean_text_string(test))\n"
   ]
  },
  {
   "cell_type": "code",
   "execution_count": 30,
   "metadata": {},
   "outputs": [
    {
     "data": {
      "text/plain": [
       "19827"
      ]
     },
     "execution_count": 30,
     "metadata": {},
     "output_type": "execute_result"
    }
   ],
   "source": [
    "# Remove where descriptions are nan\n",
    "books_data_1 = books_data_1.dropna(subset=['description'])\n",
    "len(books_data_1)"
   ]
  },
  {
   "cell_type": "code",
   "execution_count": 31,
   "metadata": {},
   "outputs": [
    {
     "data": {
      "text/plain": [
       "500"
      ]
     },
     "execution_count": 31,
     "metadata": {},
     "output_type": "execute_result"
    }
   ],
   "source": [
    "# Take the 200 books with highest n_ratings in a new dataframe\n",
    "books_data_1 = books_data_1.sort_values('n_ratings', ascending=False)\n",
    "# Reset index\n",
    "books_data_2 = books_data_1[0:500].reset_index(drop=True)\n",
    "len(books_data_2)"
   ]
  },
  {
   "cell_type": "code",
   "execution_count": 32,
   "metadata": {},
   "outputs": [
    {
     "data": {
      "text/plain": [
       "\"celebrate 20 years harry potter magic harry potter never even heard hogwarts letters start dropping doormat number four privet drive addressed green ink yellowish parchment purple seal swiftly confiscated grisly aunt uncle harry 's eleventh birthday great beetle-eyed giant man called rubeus hagrid bursts astonishing news harry potter wizard place hogwarts school witchcraft wizardry incredible adventure begin new editions classic internationally bestselling multi-award-winning series feature instantly pick-up-able new jackets jonny duddle huge child appeal bring harry potter next generation readers 's time pass magic ...\""
      ]
     },
     "execution_count": 32,
     "metadata": {},
     "output_type": "execute_result"
    }
   ],
   "source": [
    "test = books_data_2['description'][0]\n",
    "clean_text_string(test)"
   ]
  },
  {
   "cell_type": "code",
   "execution_count": 33,
   "metadata": {},
   "outputs": [
    {
     "data": {
      "text/html": [
       "<div>\n",
       "<style scoped>\n",
       "    .dataframe tbody tr th:only-of-type {\n",
       "        vertical-align: middle;\n",
       "    }\n",
       "\n",
       "    .dataframe tbody tr th {\n",
       "        vertical-align: top;\n",
       "    }\n",
       "\n",
       "    .dataframe thead th {\n",
       "        text-align: right;\n",
       "    }\n",
       "</style>\n",
       "<table border=\"1\" class=\"dataframe\">\n",
       "  <thead>\n",
       "    <tr style=\"text-align: right;\">\n",
       "      <th></th>\n",
       "      <th>title</th>\n",
       "      <th>description</th>\n",
       "      <th>authors</th>\n",
       "      <th>published_date</th>\n",
       "      <th>categories</th>\n",
       "      <th>n_ratings</th>\n",
       "      <th>avg_rating</th>\n",
       "    </tr>\n",
       "  </thead>\n",
       "  <tbody>\n",
       "    <tr>\n",
       "      <th>0</th>\n",
       "      <td>harry potter and the sorcerers stone</td>\n",
       "      <td>Celebrate 20 years of Harry Potter magic! Harr...</td>\n",
       "      <td>['J. K. Rowling']</td>\n",
       "      <td>2014-01-09</td>\n",
       "      <td>['Juvenile Fiction']</td>\n",
       "      <td>3663</td>\n",
       "      <td>4.617544</td>\n",
       "    </tr>\n",
       "    <tr>\n",
       "      <th>1</th>\n",
       "      <td>the hobbitt or there and back again illustrate...</td>\n",
       "      <td>Bilbo Baggins, a respectable, well-to-do hobbi...</td>\n",
       "      <td>['J. R. R. Tolkien']</td>\n",
       "      <td>2013</td>\n",
       "      <td>['Fiction']</td>\n",
       "      <td>3562</td>\n",
       "      <td>4.640625</td>\n",
       "    </tr>\n",
       "    <tr>\n",
       "      <th>2</th>\n",
       "      <td>unfit for command swift boat veterans speak ou...</td>\n",
       "      <td>The must-read summary of John E. O’Neill and J...</td>\n",
       "      <td>['BusinessNews Publishing']</td>\n",
       "      <td>2017-01-30</td>\n",
       "      <td>['Political Science']</td>\n",
       "      <td>2962</td>\n",
       "      <td>3.546875</td>\n",
       "    </tr>\n",
       "    <tr>\n",
       "      <th>3</th>\n",
       "      <td>rich dad poor dad</td>\n",
       "      <td>Argues that a good education and a secure job ...</td>\n",
       "      <td>['Sharon L. Lechter']</td>\n",
       "      <td>1998</td>\n",
       "      <td>['Business &amp; Economics']</td>\n",
       "      <td>2248</td>\n",
       "      <td>3.690000</td>\n",
       "    </tr>\n",
       "    <tr>\n",
       "      <th>4</th>\n",
       "      <td>eragon inheritance book one</td>\n",
       "      <td>One boy . . . One dragon . . . A world of adve...</td>\n",
       "      <td>['Christopher Paolini']</td>\n",
       "      <td>2005</td>\n",
       "      <td>['Dragons']</td>\n",
       "      <td>2134</td>\n",
       "      <td>3.595960</td>\n",
       "    </tr>\n",
       "  </tbody>\n",
       "</table>\n",
       "</div>"
      ],
      "text/plain": [
       "                                               title  \\\n",
       "0               harry potter and the sorcerers stone   \n",
       "1  the hobbitt or there and back again illustrate...   \n",
       "2  unfit for command swift boat veterans speak ou...   \n",
       "3                                  rich dad poor dad   \n",
       "4                        eragon inheritance book one   \n",
       "\n",
       "                                         description  \\\n",
       "0  Celebrate 20 years of Harry Potter magic! Harr...   \n",
       "1  Bilbo Baggins, a respectable, well-to-do hobbi...   \n",
       "2  The must-read summary of John E. O’Neill and J...   \n",
       "3  Argues that a good education and a secure job ...   \n",
       "4  One boy . . . One dragon . . . A world of adve...   \n",
       "\n",
       "                       authors published_date                categories  \\\n",
       "0            ['J. K. Rowling']     2014-01-09      ['Juvenile Fiction']   \n",
       "1         ['J. R. R. Tolkien']           2013               ['Fiction']   \n",
       "2  ['BusinessNews Publishing']     2017-01-30     ['Political Science']   \n",
       "3        ['Sharon L. Lechter']           1998  ['Business & Economics']   \n",
       "4      ['Christopher Paolini']           2005               ['Dragons']   \n",
       "\n",
       "   n_ratings  avg_rating  \n",
       "0       3663    4.617544  \n",
       "1       3562    4.640625  \n",
       "2       2962    3.546875  \n",
       "3       2248    3.690000  \n",
       "4       2134    3.595960  "
      ]
     },
     "execution_count": 33,
     "metadata": {},
     "output_type": "execute_result"
    }
   ],
   "source": [
    "books_data_2.head()"
   ]
  },
  {
   "cell_type": "code",
   "execution_count": 34,
   "metadata": {},
   "outputs": [
    {
     "data": {
      "text/plain": [
       "0      Celebrate 20 years of Harry Potter magic! Harr...\n",
       "1      Bilbo Baggins, a respectable, well-to-do hobbi...\n",
       "2      The must-read summary of John E. O’Neill and J...\n",
       "3      Argues that a good education and a secure job ...\n",
       "4      One boy . . . One dragon . . . A world of adve...\n",
       "                             ...                        \n",
       "495    Forced to leave the Clan and her young son, Ay...\n",
       "496    A Christian evangelist offers a plan for trans...\n",
       "497    \"James Joyce's A Portrait of the Artist as a Y...\n",
       "498    From the opening line—\"Captain Ahab was neithe...\n",
       "499    When Alex Sennefer's mother uses the Lost Spel...\n",
       "Name: description, Length: 500, dtype: object"
      ]
     },
     "execution_count": 34,
     "metadata": {},
     "output_type": "execute_result"
    }
   ],
   "source": [
    "books_data_2['description']"
   ]
  },
  {
   "cell_type": "code",
   "execution_count": 35,
   "metadata": {},
   "outputs": [],
   "source": [
    "# Apply the clean_text_string function to the description column\n",
    "books_data_2['description_clean'] = books_data_2['description'].apply(clean_text_string)"
   ]
  },
  {
   "cell_type": "code",
   "execution_count": 36,
   "metadata": {},
   "outputs": [
    {
     "name": "stdout",
     "output_type": "stream",
     "text": [
      "0\n",
      "Similarity Score: 0.3910761154855643\n",
      "Description 1: wheel time ® pbs great american read selection development tv since debut 1990 wheel time® robert jordan captivated millions readers around globe scope originality compelling characters wheel time turns ages come go leaving memories become legend legend fades myth even myth long forgotten age gave birth returns third age age prophecy world time hang balance may yet fall shadow fleeing ebou dar kidnapped daughter nine moons fated marry mat cauthon learns neither keep let go safety either shadow might seanchan empire deadly pursuit perrin aybara seeks free wife faile captive shaido hope may alliance enemy remain true friend rand love faile perrin willing sell soul tar valon egwene al'vere young amyrlin rebel aes sedai lays siege heart aes sedai power must win quickly little bloodshed possible unless aes sedai reunited male asha'man remain defend world dark one nothing hold asha'man back total power except aes sedai unified white tower andor elayne trakland fights lion throne right enemies darkfriends surround plotting destruction fails andor may fall shadow dragon reborn rand al'thor dragon reborn cleansed dark one 's taint male half true source everything changed yet nothing men channel believe saidin clean man channel still hated feared-even one prophesied save world rand must gamble stake sure allies really enemies tv series update `` sony produce along red eagle entertainment radar pictures rafe judkins attached write executive produce judkins previously worked shows abc ’ “ agents shield ” netflix series “ hemlock grove ” nbc series “ chuck. ” red eagle partners rick selvage larry mondragon executive produce along radar ’ ted field mike weber darren lemke also executive produce jordan ’ widow harriet mcdougal serving consulting producer '' —variety wheel time® new spring novel 1 eye world 2 great hunt 3 dragon reborn 4 shadow rising 5 fires heaven 6 lord chaos 7 crown swords 8 path daggers 9 winter 's heart 10 crossroads twilight 11 knife dreams robert jordan brandon sanderson 12 gathering storm 13 towers midnight 14 memory light robert jordan warrior altaii robert jordan teresa patterson world robert jordan 's wheel time robert jordan harriet mcdougal alan romanczuk maria simons wheel time companion robert jordan amy romanczuk patterns wheel coloring art based robert jordan 's wheel time publisher 's request title sold without digital rights management software drm applied\n",
      "Description 2: wheel time original series prime video starring rosamund pike moiraine since debut 1990 wheel time® robert jordan captivated millions readers around globe scope originality compelling characters wheel time turns ages come go leaving memories become legend legend fades myth even myth long forgotten age gave birth returns third age age prophecy world time hang balance may yet fall shadow dead walking men die impossible deaths seems though reality become unstable signs imminence tarmon gai'don last battle rand al'thor dragon reborn must confront dark one humanity 's hope unbeknownst rand perrin made truce seanchan deal made dark one eyes whatever needed rescue wife faile destroy shaido captured among shaido faile works free hiding secret might give freedom cause destruction town called malden two rivers longbow matched shaido spears fleeing ebou dar seanchan-controlled altara kidnapped daughter nine moons mat attempts court woman half-married knowing complete ceremony eventually tuon coolly leads merry chase learns even gift deep significance among seanchan blood thinks knows women enough save caemlyn elayne fights gain lion throne trying avert seems certain civil war win crown ... white tower egwene struggles undermine sisters loyal elaida within ... winds time become storm things everyone believes fixed place forever changing eyes even white tower longer place safety rand perrin mat egwene elayne nynaeve lan even loial must ride storm winds dark one triumph wheel time® new spring novel 1 eye world 2 great hunt 3 dragon reborn 4 shadow rising 5 fires heaven 6 lord chaos 7 crown swords 8 path daggers 9 winter 's heart 10 crossroads twilight 11 knife dreams robert jordan brandon sanderson 12 gathering storm 13 towers midnight 14 memory light robert jordan teresa patterson world robert jordan 's wheel time robert jordan harriet mcdougal alan romanczuk maria simons wheel time companion robert jordan amy romanczuk patterns wheel coloring art based robert jordan 's wheel time publisher 's request title sold without digital rights management software drm applied\n",
      "\n",
      "Similarity Score: 0.24855491329479767\n",
      "Description 1: jane austen 's first published work meticulously constructed sparkling unique wit marianne dashwood wears heart sleeve falls love dashing unsuitable john willoughby ignores sister elinor 's warning impulsive behaviour leaves open gossip innuendo meanwhile elinor always sensitive social convention struggling conceal romantic disappointment even closest parallel experience love threatened loss sisters learn sense must mix sensibility find personal happiness society status money govern rules love edition also includes explanatory notes textual variants first second edition seventy years penguin leading publisher classic literature english-speaking world 1,700 titles penguin classics represents global bookshelf best works throughout history across genres disciplines readers trust series provide authoritative texts enhanced introductions notes distinguished scholars contemporary authors well up-to-date translations award-winning translators\n",
      "Description 2: “ lay great pearl perfect moon. ” penguin classic one steinbeck ’ taught works pearl story mexican diver kino whose discovery magnificent pearl gulf beds means promise better life impoverished family dream blinds greed suspicions pearl arouses neighbors even loving wife juana temper obsession stem events leading tragedy classic novella nobel prize-winner john steinbeck examines fallacy american dream illustrates fall innocence experienced people believe wealth erases problems penguin classics edition features introduction linda wagner-martin original illustrations mexican artist josé clemente orozco seventy years penguin leading publisher classic literature english-speaking world 1,700 titles penguin classics represents global bookshelf best works throughout history across genres disciplines readers trust series provide authoritative texts enhanced introductions notes distinguished scholars contemporary authors well up-to-date translations award-winning translators\n",
      "\n"
     ]
    }
   ],
   "source": [
    "# Implement the LSH algorithm\n",
    "b = 10\n",
    "\n",
    "def lsh(names, jaccard_threshold,seed):\n",
    "    lsh_dict = {}\n",
    "    for key, name in names.to_dict().items():\n",
    "        blocks = split_k(name,b)\n",
    "        blocks_hash_values = []\n",
    "        for aBlock in blocks:\n",
    "            blocks_hash_values.append(mmh3.hash(aBlock, seed))\n",
    "        lsh_dict[key] = blocks_hash_values\n",
    "    list_keys = list(lsh_dict.keys())\n",
    "    similar_items = {}\n",
    "    for i in range(len(list_keys)-1):\n",
    "        if i% 500 == 0:\n",
    "            print(i)\n",
    "        for j in range(i+1, len(list_keys)):\n",
    "            common_values = np.intersect1d(lsh_dict[list_keys[i]], lsh_dict[list_keys[j]])\n",
    "            if len(common_values) > 0:\n",
    "                # we found a candidate\n",
    "                similarity_score = jaccard(names[list_keys[i]], names[list_keys[j]])\n",
    "                if similarity_score >= jaccard_threshold:\n",
    "                    similar_items[(list_keys[i], list_keys[j])] = similarity_score\n",
    "    return similar_items\n",
    "\n",
    "n = len(books_data_2)\n",
    "\n",
    "descriptions = books_data_2['description_clean'][0:n]\n",
    "similar_descriptions = lsh(descriptions,jaccard_threshold=0.1,seed=42)\n",
    "# Print the results\n",
    "for (desc1, desc2), score in similar_descriptions.items():\n",
    "    if score < 1:\n",
    "        print(f\"Similarity Score: {score}\")\n",
    "        print(f\"Description 1: {descriptions[desc1]}\")\n",
    "        print(f\"Description 2: {descriptions[desc2]}\")\n",
    "        print()"
   ]
  },
  {
   "cell_type": "code",
   "execution_count": 37,
   "metadata": {},
   "outputs": [
    {
     "data": {
      "text/plain": [
       "{(8, 121): 0.3910761154855643, (301, 329): 0.24855491329479767}"
      ]
     },
     "execution_count": 37,
     "metadata": {},
     "output_type": "execute_result"
    }
   ],
   "source": [
    "similar_descriptions_new = {}\n",
    "# Remove all with jaccard with score 1 from the dictionary similar_descriptions\n",
    "\n",
    "for (idx1, idx2), score in similar_descriptions.items():\n",
    "    if score < 1.0:\n",
    "        similar_descriptions_new[idx1,idx2] = score\n",
    "\n",
    "similar_descriptions_new"
   ]
  },
  {
   "cell_type": "code",
   "execution_count": 38,
   "metadata": {},
   "outputs": [
    {
     "data": {
      "text/plain": [
       "{('crossroads of twilight ', 'knife of dreams '): 0.3910761154855643,\n",
       " ('sense and sensibility', 'the pearl'): 0.24855491329479767}"
      ]
     },
     "execution_count": 38,
     "metadata": {},
     "output_type": "execute_result"
    }
   ],
   "source": [
    "similar_descriptions_titles = {(books_data_2['title'][key1], books_data_2['title'][key2]): value for (key1, key2), value in similar_descriptions_new.items()}\n",
    "similar_descriptions_titles"
   ]
  },
  {
   "cell_type": "code",
   "execution_count": 39,
   "metadata": {},
   "outputs": [],
   "source": [
    "# Plot a heatmap with the found_similar_items_lhs dictionary\n",
    "\n",
    "# Create a heatmap\n",
    "def plot_heatmap(found_similar_items_lhs_new):\n",
    "    # Create a list of keys\n",
    "    keys = list(found_similar_items_lhs_new.keys())\n",
    "    \n",
    "    # Create a list of values\n",
    "    values = list(found_similar_items_lhs_new.values())\n",
    "    \n",
    "    # Create a list of the first items in each key\n",
    "    key1 = [key[0] for key in keys]\n",
    "    \n",
    "    # Create a list of the second items in each key\n",
    "    key2 = [key[1] for key in keys]\n",
    "    \n",
    "    # Create a dataframe with the keys and values\n",
    "    df = pd.DataFrame({'key1': key1, 'key2': key2, 'values': values})\n",
    "    \n",
    "    # Create a pivot table from the dataframe\n",
    "    df_pivot = df.pivot(index='key1', columns='key2', values='values')\n",
    "    \n",
    "    # Create a heatmap from the pivot table\n",
    "    sns.heatmap(df_pivot, cmap='crest')\n",
    "\n",
    "    # Add gridlines to the heatmap\n",
    "    plt.grid()\n",
    "    \n",
    "    plt.title('Heatmap of similar book descriptions')\n",
    "\n",
    "    # Show the plot\n",
    "    plt.show()\n"
   ]
  },
  {
   "cell_type": "code",
   "execution_count": 40,
   "metadata": {},
   "outputs": [
    {
     "data": {
      "image/png": "[encoded data removed]",
      "text/plain": [
       "<Figure size 800x800 with 2 Axes>"
      ]
     },
     "metadata": {},
     "output_type": "display_data"
    }
   ],
   "source": [
    "plt.figure(figsize=(8,8))\n",
    "plot_heatmap(similar_descriptions_titles)"
   ]
  },
  {
   "cell_type": "markdown",
   "metadata": {},
   "source": [
    "## Histogram of categories"
   ]
  },
  {
   "cell_type": "code",
   "execution_count": 41,
   "metadata": {},
   "outputs": [],
   "source": [
    "from sklearn.feature_extraction.text import TfidfVectorizer\n",
    "from sklearn.manifold import TSNE\n"
   ]
  },
  {
   "cell_type": "code",
   "execution_count": 42,
   "metadata": {},
   "outputs": [
    {
     "data": {
      "text/plain": [
       "4590         ['Juvenile Fiction']\n",
       "773                   ['Fiction']\n",
       "19711       ['Political Science']\n",
       "12410    ['Business & Economics']\n",
       "771                   ['Dragons']\n",
       "                   ...           \n",
       "11827                ['Religion']\n",
       "15697                 ['Fiction']\n",
       "11831                ['Religion']\n",
       "11832                 ['Fiction']\n",
       "16915              ['True Crime']\n",
       "Name: categories, Length: 19827, dtype: object"
      ]
     },
     "execution_count": 42,
     "metadata": {},
     "output_type": "execute_result"
    }
   ],
   "source": [
    "books_data_1['categories']"
   ]
  },
  {
   "cell_type": "code",
   "execution_count": 43,
   "metadata": {},
   "outputs": [
    {
     "name": "stdout",
     "output_type": "stream",
     "text": [
      "872\n",
      "[\"['Juvenile Fiction']\" \"['Fiction']\" \"['Political Science']\"\n",
      " \"['Business & Economics']\" \"['Dragons']\" '' \"['Young Adult Fiction']\"\n",
      " \"['Self-Help']\" \"['Literary Criticism']\" \"['FICTION']\" \"['Reference']\"\n",
      " \"['History']\" \"['Computers']\" \"['Art']\" \"['Family & Relationships']\"\n",
      " \"['High interest-low vocabulary books']\" \"['FAMILY & RELATIONSHIPS']\"\n",
      " \"['AReproductive health']\" \"['Biography & Autobiography']\" \"['Religion']\"\n",
      " \"['Architects']\" \"['Predation (Biology)']\" \"['Humor']\" \"['True Crime']\"\n",
      " \"['Existential psychotherapy']\" \"['Executions and executioners']\"\n",
      " \"['Psychology']\" \"['Social Science']\" \"['Horror tales']\"\n",
      " \"['Photography']\" \"['Bullying']\" \"['Science']\" \"['Body, Mind & Spirit']\"\n",
      " \"['Cookery, French']\" \"['Juvenile Nonfiction']\" \"['Games & Activities']\"\n",
      " \"['Murder']\" \"['Comics & Graphic Novels']\" \"['Brothers']\"\n",
      " \"['Philosophy']\" \"['African Americans']\" \"['Botswana']\"\n",
      " \"['Intelligence officers']\" \"['Colombia']\" \"['American fiction']\"\n",
      " \"['Bibles']\" \"['Education']\" '[\"Children\\'s stories\"]'\n",
      " \"['Museum visitors']\" \"['Cooking']\" \"['Games']\" \"['Adventure stories']\"\n",
      " \"['Earthsea (Imaginary place)']\" \"['Fables']\" \"['Banks and banking']\"\n",
      " \"['Travel']\" \"['Music']\" \"['Children']\" \"['Lightning']\" \"['Yoga']\"\n",
      " \"['Health & Fitness']\" \"['Fantasy']\"\n",
      " '[\"Children\\'s stories, New Zealand\"]' \"['California']\"\n",
      " \"['Sports & Recreation']\" \"['Discworld (Imaginary place)']\" \"['Readers']\"\n",
      " \"['Campion, Albert (Fictitious character)']\" \"['Alligators']\"\n",
      " \"['English']\" \"['Crafts & Hobbies']\" \"['College teachers']\"\n",
      " \"['Ayla (Fictitious character)']\" \"['Cerebral dominance']\"\n",
      " \"['English literature']\" \"['Robots']\" \"['Young Adult Nonfiction']\"\n",
      " \"['Drama']\" \"['Baking']\" \"['House & Home']\" \"['Copyright']\" \"['Nature']\"\n",
      " \"['Literary Collections']\" \"['Alienation (Social psychology)']\"\n",
      " \"['Africa']\" \"['Good and evil']\" \"['Capitalism']\" \"['Study Aids']\"\n",
      " \"['Board books']\" \"['Pets']\" \"['Germany']\" \"['Love stories']\"\n",
      " \"['Language Arts & Disciplines']\" \"['American literature']\"\n",
      " \"['Diners (Restaurants)']\" \"['Assassination']\" \"['Performing Arts']\"\n",
      " \"['Arctic regions']\" \"['Educational psychology']\" \"['Animals']\"\n",
      " \"['Technology & Engineering']\" \"['Military art and science']\"\n",
      " \"['Administration of estates']\" \"['Antarctica']\" \"['Shipwreck survival']\"\n",
      " \"['Paramaribo (Suriname)']\" \"['Brothers and sisters']\"\n",
      " '[\"Children\\'s plays, American\"]' \"['Identity (Psychology)']\"\n",
      " \"['Medical']\" \"['English fiction']\" \"['Foreign Language Study']\"\n",
      " \"['Holocaust, Jewish (1939-1945)']\" \"['English language']\" \"['Adoptees']\"\n",
      " \"['Hatha yoga']\" \"['Marine pollution']\" \"['African American women']\"\n",
      " \"['Mathematics']\" \"['Canada']\" \"['Automobile travel / United States']\"\n",
      " \"['Marple, Jane (Fictitious character)']\"\n",
      " \"['Paranormal romance stories']\" \"['Poetry']\"\n",
      " \"['Career education (Primary)']\" \"['Child psychology']\" \"['Business']\"\n",
      " \"['Bodybuilding']\" \"['Great Britain']\" \"['Law']\"\n",
      " \"['Developing countries']\" \"['Dominican Republic']\" \"['Egypt']\"\n",
      " \"['Criticism']\" \"['Abandoned children']\" \"['Carbohydrates, Refined']\"\n",
      " \"['Belgium']\" \"['Arranged marriage']\" \"['Bondage (Sexual behavior)']\"\n",
      " \"['Ho Chi Minh City (Vietnam)']\" \"['Beauty contests']\"\n",
      " \"['Inheritance and succession']\"\n",
      " \"['44 Scotland Street (Edinburgh, Scotland : Imaginary place)']\"\n",
      " \"['Detective and mystery stories']\" \"['Admirals']\" \"['Anti-clericalism']\"\n",
      " \"['Eccentrics and eccentricities']\" \"['Antiquities']\"\n",
      " \"['JUVENILE FICTION']\" \"['City and town life']\"\n",
      " \"['Ghost stories, American']\" \"['Diplomatic and consular service']\"\n",
      " \"['Families']\" \"['Motivation (Psychology)']\" \"['Alcoholics']\"\n",
      " \"['Agriculture']\" \"['Christian pilgrims and pilgrimages']\" \"['MEDICAL']\"\n",
      " \"['Buddha (The concept)']\" \"['Hotels, motels, etc']\"\n",
      " \"['Animal behavior']\" \"['China']\" \"['Historical fiction']\"\n",
      " \"['Africa, Sub-Saharan']\" \"['Biographers']\" \"['Honesty']\"\n",
      " \"['Human-alien encounters']\" \"['French fiction']\" \"['Architecture']\"\n",
      " \"['Dysfunctional families']\" \"['Transportation']\" \"['Evangelistic work']\"\n",
      " \"['Islam']\" \"['Kidnapping']\" \"['Conservatism']\" \"['Black humor']\"\n",
      " \"['AIDS (Disease)']\" \"['Brain']\" \"['Animal communication']\"\n",
      " \"['Behavior']\" \"['Domestic fiction']\" \"['Abortion']\"\n",
      " \"['Love stories, American']\" \"['Human-computer interaction']\"\n",
      " \"['Classical fiction']\" \"['Hymns, English']\" \"['Elves']\" \"['British']\"\n",
      " \"['Drummers (Musicians)']\" \"['Science fiction']\"\n",
      " \"['Interior decoration']\" \"['Women authors, Irish']\"\n",
      " \"['Brooklyn (New York, N.Y.)']\" \"['Biographical fiction']\"\n",
      " \"['Consumption (Economics)']\" \"['Americanisms']\" \"['CRAFTS & HOBBIES']\"\n",
      " \"['Americans']\" \"['Czechoslovakia']\" \"['Country life']\" \"['Chess']\"\n",
      " \"['Hallucinogenic drugs']\" \"['African American criminals']\"\n",
      " \"['Fourth Way (Occultism)']\" \"['Actresses']\" \"['American wit and humor']\"\n",
      " \"['Charters']\" \"['Spanish language']\" \"['Life on other planets']\"\n",
      " \"['Cargo ships']\" \"['Design']\" \"['Gardening']\" \"['France']\" \"['England']\"\n",
      " \"['Large type books']\" \"['Amnesia']\" \"['Adultery']\"\n",
      " \"['Electronic books']\" \"['Conversation']\" \"['Jewish fiction']\"\n",
      " \"['Conversion']\" '[\"Children\\'s literature\"]' \"['Fairy tales']\"\n",
      " \"['Buildings']\" \"['War stories']\" \"['German Americans']\"\n",
      " \"['Horticulture']\" \"['Courage']\" \"['Science fiction, American']\"\n",
      " \"['Charlie (Fictitious character : Child)']\"\n",
      " \"['Inheritance and transfer tax']\" \"['Finance, Personal']\" \"['Fairies']\"\n",
      " \"['Fathers']\" \"['Knitting']\" \"['Kauai (Hawaii)']\" \"['Fur trade']\"\n",
      " \"['Crime']\" \"['Blizzards']\" \"['Veterinarians']\" \"['Dog breeds']\"\n",
      " \"['Beauty, Personal']\" \"['Escapes']\" \"['Spiritual life']\"\n",
      " \"['Rock musicians']\" \"['Electrical engineers']\" \"['Czech fiction']\"\n",
      " \"['Cape Cod (Mass.)']\" \"['Dakota Territory']\" \"['Women and religion']\"\n",
      " \"['Erotic stories']\" \"['Holocaust denial literature']\"\n",
      " \"['Apache Indians']\" \"['Child rearing']\" \"['Dating (Social customs)']\"\n",
      " \"['Amusements']\" \"['Paranormal fiction']\" \"['Badgers']\"\n",
      " \"['Hand-to-hand fighting']\" \"['Christianity']\" \"['Biology']\"\n",
      " \"['Dramatists, English']\" \"['Australia']\" \"['Alcoholic beverages']\"\n",
      " \"['Interpersonal relations']\" \"['Oglala Indians']\" \"['Schools']\"\n",
      " \"['Business failures']\" \"['Christian fiction']\" \"['English poetry']\"\n",
      " \"['Indic fiction (English)']\" \"['Romance fiction']\"\n",
      " \"['Civilization, Medieval']\" \"['Arab-Israeli conflict']\"\n",
      " \"['Catastrophes (Geology)']\" \"['Best sellers']\" \"['Brazil']\"\n",
      " \"['Monk, William (Fictitious character)']\" \"['Education, Higher']\"\n",
      " \"['Bible']\" \"['Brand name products']\" \"['Arab countries']\"\n",
      " \"['Adjoining landowners']\" \"['Competition (Psychology)']\" \"['Europe']\"\n",
      " \"['Reincarnation']\" \"['Soldiers']\" \"['Fantasy fiction']\"\n",
      " \"['Governesses']\" '[\"Children\\'s conduct of life\"]'\n",
      " \"['American wit and humor, Pictorial']\" \"['United States']\"\n",
      " \"['Antiques & Collectibles']\"\n",
      " \"['Cadfael, Brother (Fictitious character)']\"\n",
      " \"['BIOGRAPHY & AUTOBIOGRAPHY']\" \"['Time management']\"\n",
      " \"['Country musicians']\" \"['Christmas stories']\"\n",
      " \"['Blair Witch Project (Motion picture)']\" \"['Clinical psychology']\"\n",
      " \"['Friendship']\" \"['Cowboys']\" \"['Immigrants']\" \"['Cemeteries']\"\n",
      " \"['Carter, Angela']\" \"['Prisoner-of-war escapes']\"\n",
      " \"['Courtroom artists']\" \"['Algebra']\" \"['India']\" \"['Baptists']\"\n",
      " \"['Actors']\" \"['Crystals']\" \"['Australian fiction']\" \"['Death']\"\n",
      " \"['Spiritual life.']\" \"['BASIC (Computer program language)']\"\n",
      " \"['Battle, Superintendent (Fictitious character)']\"\n",
      " \"['Adventure stories, English']\" \"['Textured books']\"\n",
      " \"['Alex (Fictitious character)']\" \"['Homosexuality']\"\n",
      " \"['Fitness walking']\" \"['Man-woman relationships']\"\n",
      " '[\"Children\\'s poetry\"]' \"['Chile']\" \"['COMICS & GRAPHIC NOVELS.']\"\n",
      " '[\"Children\\'s poetry, English\"]' \"['English drama']\"\n",
      " \"['Canadian literature']\" \"['Machine sewing']\" \"['Clouds']\"\n",
      " \"['Buddhism']\"\n",
      " \"['Fuentes de Oñoro, Battle of, Fuentes de Oñoro, Spain, 1811']\"\n",
      " \"['Birds']\" \"['Cooking (Spices)']\" \"['Hinduism']\" \"['Boys']\" \"['Russia']\"\n",
      " \"['Japan']\" \"['Commercial photography']\" \"['Cotswold Hills (England)']\"\n",
      " \"['Best friends']\" \"['American poetry']\" \"['Serial publications']\"\n",
      " \"['Adventure and adventurers']\" \"['Mount Holly (N.J.)']\"\n",
      " \"['Church and state']\" \"['Cookery.']\" \"['Fantastic fiction.']\"\n",
      " \"['Autobiographical fiction']\" \"['Circus']\"\n",
      " \"['Computer input-output equipment']\" \"['COMPUTERS']\" \"['Babysitters']\"\n",
      " \"['Conduct of life']\" \"['Sex instruction for men']\" \"['Adolescence']\"\n",
      " \"['Economic indicators']\" \"['Boston (Mass.)']\" \"['African American men']\"\n",
      " \"['Cato, Quintus Licinius (Fictitious character)']\" \"['Bears']\"\n",
      " \"['POETRY']\" \"['Motion picture actors and actresses']\" \"['Marriage']\"\n",
      " \"['Attempted murder']\" \"['JUVENILE NONFICTION']\"\n",
      " \"['Comic books, strips, etc']\" \"['Death, Apparent']\" \"['Color']\"\n",
      " \"['Indic poetry (English)']\" \"['National characteristics, American']\"\n",
      " \"['Captain Underpants (Fictitious character)']\" \"['Chicago (Ill.)']\"\n",
      " \"['Apologetics']\" \"['Arthurian romances']\" \"['Nursing']\"\n",
      " \"['Composition (Music)']\" \"['Corporate culture']\" \"['Men']\"\n",
      " \"['Fantasy comic books, strips, etc']\" \"['Bachelors']\"\n",
      " \"['Divorced people']\" \"['Belgians']\" \"['Blackjack (Game)']\"\n",
      " \"['Political corruption']\" \"['Examination of witnesses']\" \"['Painting']\"\n",
      " \"['Astronautics']\" \"['Presidents']\" \"['Christian life']\"\n",
      " \"['Ciszek, Walter J.']\" \"['Shadowrun (Game)']\"\n",
      " \"['Directory services (Computer network technology)']\" \"['Enemies']\"\n",
      " \"['Christmas']\" \"['Yachts']\" \"['American drama']\"\n",
      " \"['Self-actualization (Psychology)']\" \"['Imperialism']\"\n",
      " \"['Shugak, Kate (Fictitious character)']\"\n",
      " \"['Political satire, American']\" \"['Rock music']\" \"['Buses']\"\n",
      " \"['Florida']\" \"['POLITICAL SCIENCE']\" \"['Insects']\"\n",
      " \"['Customer relations']\" \"['Greece']\" \"['Caribbean Area']\" \"['Chivalry']\"\n",
      " \"['Abused children']\" \"['C# (Computer program language)']\"\n",
      " \"['Mathematical physics']\" \"['Space flight to the moon']\"\n",
      " \"['Back Bay (Boston, Mass.)']\" \"['Putting (Golf)']\"\n",
      " \"['Creative ability']\" \"['Atlantis']\" \"['Atlases']\" \"['Investments']\"\n",
      " \"['Calculus']\" \"['Communism']\" \"['Beagle Expedition']\"\n",
      " \"['Museum directors']\" \"['Cookbooks']\" \"['Medicine']\"\n",
      " \"['Civil procedure']\" \"['Child sexual abuse']\" \"['Survival']\"\n",
      " \"['Cookery']\" \"['Active server pages']\" \"['Emperors']\"\n",
      " \"['Browne, Agnes (Fictitious character)']\" \"['Christian life.']\"\n",
      " \"['Fables, American']\" \"['Aged men']\" \"['Belize']\"\n",
      " \"['Knots and splices']\" \"['Businesswomen']\" \"['Child development']\"\n",
      " \"['Private investigators']\" \"['Faith']\" \"['Erotica']\"\n",
      " \"['Construction contracts']\" \"['Holocaust victims']\"\n",
      " \"['African American comedians']\" \"['Beowulf']\" \"['Japanese language']\"\n",
      " \"['Advertising']\" \"['Compulsive behavior']\" \"['Creative writing']\"\n",
      " \"['Economic confusion']\" \"['Country homes']\"\n",
      " \"['Calder family (Fictitious characters)']\" \"['Picture puzzles']\"\n",
      " \"['Astronauts']\" \"['Study skills']\" \"['Behavior modification']\"\n",
      " \"['Cooking (Frozen foods)']\" \"['Fiction in English']\" \"['Hairdressing']\"\n",
      " \"['Science fiction.']\" \"['Coroners']\" \"['American wit and humor.']\"\n",
      " \"['Psychological literature']\" \"['Dungeons and Dragons (Game)']\"\n",
      " \"['Technology']\" \"['Mediterranean Region']\" \"['Artists']\"\n",
      " \"['Success in business']\" \"['Betterments']\"\n",
      " \"['Detective and mystery comic books, strips, etc']\"\n",
      " \"['Fortune-telling by cards']\" \"['Family secrets']\" \"['Farm life']\"\n",
      " \"['Dalziel, Andrew (Fictitious character)']\" \"['Authors, American']\"\n",
      " \"['Health']\" \"['Infants (Newborn)']\" \"['Napoleonic Wars, 1800-1815']\"\n",
      " \"['Philosophy, Indic']\" \"['Copenhagen (Denmark)']\" \"['Scotland']\"\n",
      " \"['Authorship']\" \"['Beresford, Tommy (Fictitious character)']\"\n",
      " \"['Detective and mystery stories, English']\" \"['Collective memory']\"\n",
      " \"['Hell']\" \"['ART']\" \"['Electronic book']\"\n",
      " \"['Children with disabilities']\" \"['Audiobooks']\" \"['Nursery schools']\"\n",
      " \"['Nobility']\" \"['Tai chi']\" \"['Organizational behavior']\"\n",
      " \"['Social problems']\" '[\"Children\\'s encyclopedias and dictionaries\"]'\n",
      " \"['Oz (Imaginary place)']\" '[\"Infants\\' clothing\"]' \"['Daredevils']\"\n",
      " \"['Pilgrims (New Plymouth Colony)']\" \"['Blues (Music)']\"\n",
      " \"['World War, 1939-1945']\" \"['Common interest ownership communities']\"\n",
      " \"['Advanced placement programs (Education)']\" \"['Short stories']\"\n",
      " \"['Change (Psychology)']\" \"['Application software']\" \"['Fairy tales.']\"\n",
      " \"['Ireland']\" \"['Devotional literature']\" \"['Climate and civilization']\"\n",
      " '[\"Children\\'s clothing\"]' \"['Missing persons']\"\n",
      " \"['Dragons in literature']\" \"['Lesbians']\" \"['Philosophers']\"\n",
      " \"['Hebrew language']\" \"['Jet lag']\" \"['Criminal investigation']\"\n",
      " \"['Success']\" \"['Graphic novels']\" \"['Lebanon']\" \"['Authors, German']\"\n",
      " \"['Colombo (Sri Lanka)']\" \"['Low-fat diet']\"\n",
      " \"['DiGriz, James Bolivar (Fictitious character)']\" \"['Gangs']\"\n",
      " \"['Fort Lauderdale (Fla.)']\" \"['Mafia']\" \"['Celebrities']\" \"['Cancer']\"\n",
      " \"['Anthropologists']\" \"['Everest, George']\" \"['Organizational change']\"\n",
      " \"['Chemistry']\" \"['Computer programming']\" \"['Electronic games']\"\n",
      " \"['Quilting']\" \"['Arabic alphabet']\" \"['Carpal tunnel syndrome']\"\n",
      " \"['Detoxification (Health)']\" \"['Fantastic literature, American']\"\n",
      " \"['Hospital care']\" \"['Brown, Charlie (Fictitious character)']\"\n",
      " \"['Gambling systems']\" \"['Amerikaanse fiksie']\"\n",
      " \"['Auschwitz (Concentration camp)']\" \"['Civil War']\"\n",
      " \"['Computer crimes']\" \"['Entomology']\" \"['Female offenders']\"\n",
      " \"['Surrealism']\" \"['Clinical medicine']\" \"['Perception']\"\n",
      " \"['Fourth dimension']\" \"['Beck, Martin (Fictitious character)']\"\n",
      " \"['African American police']\" \"['Electronic circuit design']\"\n",
      " \"['Cold fusion (Computer file).']\" \"['Rome']\" \"['Ants']\"\n",
      " \"['St. Albans (England)']\" \"['Drugs']\" \"['Energy policy']\"\n",
      " \"['Economic policy']\" \"['Computer networks']\" \"['Blogs']\" \"['Alaska']\"\n",
      " \"['Anorexia nervosa']\" \"['New Orleans (La.)']\" \"['New England']\"\n",
      " \"['Neuropsychology']\" \"['Werewolves']\" \"['Current Events']\" \"['Sweden']\"\n",
      " \"['Deverry (Imaginary place)']\" \"['German language']\" \"['Argentina']\"\n",
      " \"['African American authors']\" \"['Devil']\" \"['Dictators']\" \"['Cabala']\"\n",
      " \"['Outdoor recreation']\" \"['Colombian fiction']\" \"['Abused women']\"\n",
      " \"['Book design']\" \"['Civilization, Modern']\" \"['American Dream']\"\n",
      " \"['Counterculture']\" \"['Austria']\" \"['Criminals']\"\n",
      " \"['Bohemianism in art']\" \"['COMICS & GRAPHIC NOVELS']\"\n",
      " \"['Baseball players']\" \"['Wales']\" \"['Extortion']\" \"['Assisi (Italy)']\"\n",
      " \"['Gestalt psychology']\" \"['Labor Day']\"\n",
      " \"['Aerial reconnaissance, American']\" \"['Businessmen']\"\n",
      " \"['Military education']\" '[\"Children\\'s stories, American\"]'\n",
      " \"['Dressmaking']\" \"['Indiana']\" \"['Assassins']\"\n",
      " \"['Assertiveness (Psychology)']\" \"['Ghost stories']\"\n",
      " \"['Curiosities and wonders']\" \"['American poetry.']\" \"['Spy stories']\"\n",
      " \"['Icelandic language']\" \"['Broach, Bauchelain (Fictitious character)']\"\n",
      " \"['Clinical Medicine']\" \"['C+']\" \"['Folklore']\" \"['Apennines (Italy)']\"\n",
      " \"['Mystery and detective stories']\" \"['Opera']\" \"['Paper toy making']\"\n",
      " \"['Art patronage']\" \"['Ardennes, Battle of the, 1944-1945']\"\n",
      " \"['Crimes without victims']\" \"['Voyages around the world']\"\n",
      " \"['Assembler language (Computer program language)']\"\n",
      " \"['Interplanetary voyages']\" \"['Cold War']\" \"['Physics']\"\n",
      " \"['Detective and mystery stories, American']\" \"['Croatia']\"\n",
      " \"['Astronomy']\" \"['Marketing research']\" \"['Corporations']\"\n",
      " \"['African American boys']\" \"['Acting']\" \"['Literature']\"\n",
      " \"['Air pilots']\" \"['Composers']\" \"['Dinners and dining']\" \"['CD-ROMs']\"\n",
      " \"['Mothers']\" \"['Derelicts']\" \"['Cocaine industry']\"\n",
      " \"['Short stories, English']\" \"['Political science']\"\n",
      " \"['Motion pictures']\" '[\"Lord\\'s prayer\"]' \"['Statistical mechanics']\"\n",
      " \"['Baseball']\" \"['Generals']\" \"['Curious George (Fictitious character)']\"\n",
      " \"['Self-realization']\" \"['Leadership']\"\n",
      " \"['Direct broadcast satellite television']\"\n",
      " \"['Microsoft .NET Framework']\" \"['Gifts']\" \"['Teachers']\" \"['Celts']\"\n",
      " \"['Computer science']\" \"['Abolitionists']\" \"['Cartographers']\"\n",
      " \"['Athens (Greece)']\" \"['Breathing exercises']\" \"['Chicago (Ill.).']\"\n",
      " \"['Pyrenees']\" \"['MATLAB.']\" \"['Romantic suspense fiction']\" \"['Charms']\"\n",
      " \"['Young adult fiction']\" \"['Marketing']\" \"['Fantasy fiction, American']\"\n",
      " \"['EARP, WYATT']\" \"['Justice League of America (Fictitious characters)']\"\n",
      " \"['New York (N.Y.)']\" \"['Greek poetry, Modern']\" \"['Berlin (Germany)']\"\n",
      " \"['Hindu symbolism']\" \"['Bullies']\" \"['Burma-Siam Railroad']\"\n",
      " \"['Personality']\" \"['Dogs']\" \"['Astrology']\" \"['Acculturation']\"\n",
      " \"['Hapkido']\" \"['Feminists']\" \"['Creoles']\" \"['Immune system']\"\n",
      " \"['Dwellings']\" \"['Ghosts']\" '[\"Children\\'s stories, English\"]'\n",
      " \"['Rice wines']\" \"['Ceramic sculpture']\" \"['Fathers and sons']\"\n",
      " \"['Czech language']\" \"['Civil engineering']\" \"['Brotherhoods']\"\n",
      " \"['Book of Mormon']\" \"['Compact discs']\" \"['Beadwork']\"\n",
      " \"['Artificial intelligence']\" \"['Beef']\" \"['Appalachian Region']\"\n",
      " \"['Indians of North America']\" \"['Materials']\" \"['Nutrition']\"\n",
      " \"['Arnheim, Battle of, 1944']\" \"['African American children']\"\n",
      " \"['Fantasy games']\" \"['Colonists']\" \"['Comedians']\"\n",
      " \"['Epic poetry, Greek']\" \"['Civilization']\" \"['Adobe Acrobat']\"\n",
      " \"['Emigration and immigration']\" \"['Accelerated readers']\"\n",
      " \"['Filosofie']\" \"['Bands (Music)']\" \"['Hymn writers']\"\n",
      " \"['Armes nucléaires - Politique gouvernementale - États-Unis']\"\n",
      " \"['Knights and knighthood']\" \"['SCIENCE']\" \"['Food']\" \"['Mystery.']\"\n",
      " \"['Yoga, Rāja']\" \"['Frogs']\" '[\"Children\\'s poetry, American\"]'\n",
      " \"['Marlowe, Thomas (Fictitious character)']\" \"['Aggressiveness']\"\n",
      " \"['New Delhi (India)']\" \"['Jiu-jitsu']\" \"['Dien Bien Phu (Vietnam)']\"\n",
      " \"['Insanity, Religious']\" \"['Arabian horse']\" \"['Ambassadors']\"\n",
      " \"['Attitude (Psychology)']\" \"['Memory']\" \"['Contentment']\" \"['Adoption']\"\n",
      " \"['Painting, Modern']\" \"['Veterans']\" \"['Human-animal communication']\"\n",
      " \"['Blandings Castle (England : Imaginary place)']\"\n",
      " \"['Computer software']\" \"['Gurus']\" \"['Hurricanes']\"\n",
      " \"['Newly independent states']\" \"['Animal sounds']\" \"['Artists, Dutch']\"\n",
      " \"['Automobile driving']\" \"['HISTORY']\" \"['Planispheres']\"\n",
      " \"['Autographs']\" \"['Business cycles']\"\n",
      " \"['Bond, James (Fictitious character)']\" \"['Nuclear weapons']\"\n",
      " '[\"Children\\'s literature, English\"]' \"['Australian drama']\"\n",
      " \"['Language and languages']\" \"['Etats-Unis']\" \"['RELIGION']\"\n",
      " \"['Equality']\" \"['Blind-deaf']\" \"['Burial']\" \"['Christian women saints']\"\n",
      " \"['Edible landscaping']\" \"['Shipwrecks']\" \"['Art appreciation']\"\n",
      " \"['People with disabilities']\" \"['Baseball stories']\"\n",
      " \"['Mentally ill women']\" \"['Ex-convicts']\" \"['End of the world.']\"\n",
      " \"['Macintosh (Computer)']\" \"['Prayer']\" \"['Asia, Central']\" \"['Piano']\"\n",
      " \"['Imaginary wars and battles']\" \"['Iran Hostage Crisis, 1979-1981.']\"\n",
      " \"['Christian biography']\" \"['Novela francesa']\" \"['Cairo (Egypt)']\"\n",
      " \"['Northern exposure (Television program)']\" \"['Computer viruses']\"\n",
      " \"['Air pilots, Military']\" \"['Crow Indians']\" \"['Business consultants']\"\n",
      " \"['Depression glass']\" \"['Pies']\" \"['Actions and defenses']\"\n",
      " \"['Stories in rhyme']\" \"['Reconstruction (U.S. history, 1865-1877)']\"\n",
      " \"['Moutons']\" \"['Catholic preaching']\" \"['Civilization, Islamic']\"\n",
      " \"['Authors, English']\" \"['Concentration camp inmates']\"\n",
      " \"['Dieu - Amour']\" \"['Soviet Union']\"\n",
      " \"['Charkow / Schlacht (1942) - Sowjetunion - Niederlage - Geschichte']\"\n",
      " \"['Bir Hakeim, Battle of, 1942']\"\n",
      " \"['Pel, Chief Inspector (Fictitious character)']\"\n",
      " \"['Business logistics']\" \"['Church group work']\"\n",
      " \"['Alleyn, Roderick (Fictitious character)']\" \"['Marine animals']\"\n",
      " \"['Cologne (Germany)']\" \"['Flower arrangement']\" \"['Dentists']\"\n",
      " \"['Conjoined twins']\" \"['Aztec magic']\" \"['New York (State)']\"\n",
      " \"['Rock groups']\" \"['Desert animals']\" \"['Bank failures']\" \"['Dreams']\"\n",
      " \"['Boredom']\" \"['Circus owners']\" \"['Defense contracts']\" \"['Elections']\"\n",
      " \"['Totalitarianism']\" \"['Adobe Illustrator (Computer file)']\"\n",
      " \"['Horses']\" \"['Emotions']\" \"['Fantasy literature, English']\"\n",
      " \"['Cross-country running']\" \"['ISO 9000 Series Standards']\"\n",
      " \"['Occultism']\" \"['Medical history taking']\" \"['Astronautics in art']\"\n",
      " \"['Caterers and catering']\" \"['Washington (D.C.)']\" \"['Geology']\"\n",
      " \"['Energy conservation']\" \"['Aardvark']\" \"['Submarine captains']\"\n",
      " \"['Economic history']\" \"['Castles']\" \"['Africa, North']\" \"['Cats']\"\n",
      " \"['Criminal profilers']\" \"['Vegetarian cookery']\" \"['Arnheim']\"\n",
      " \"['Children and death']\" \"['Adopted children']\" \"['Campaign debates']\"\n",
      " \"['Mexico']\" \"['Seafaring life']\" \"['Typology (Psychology)']\"\n",
      " \"['Bullfighters']\" \"['Astrology, Chinese']\" \"['Dance']\"\n",
      " '[\"Alzheimer\\'s disease\"]' \"['Single mothers']\"\n",
      " \"['Frontier and pioneer life']\" \"['Environmental psychology']\"\n",
      " \"['Baggins, Frodo (Fictitious character)']\"\n",
      " \"['Adirondack Mountains (N.Y.)']\" \"['Church history']\" \"['Art, Mexican']\"\n",
      " \"['Are you being served? (Television program)']\"\n",
      " \"['Stations of the Cross']\" \"['Bridegrooms']\"\n",
      " \"['Superman (Comic strip)']\" \"['Knit goods']\" \"['Salvation']\"\n",
      " \"['Deafblind women']\" \"['Adventure stories, American']\"\n",
      " \"['Human capital']\" \"['Change']\"]\n"
     ]
    }
   ],
   "source": [
    "\n",
    "# Change dtype of categories to string\n",
    "# Remove nan from categories\n",
    "categories = books_data_1['categories'].fillna('').astype(str)\n",
    "categories = categories.unique()\n",
    "print(len(categories))\n",
    "print(categories)\n",
    "# Find the 10 most frequent categories\n",
    "# # Crprint(len(categories))\n"
   ]
  },
  {
   "cell_type": "code",
   "execution_count": 44,
   "metadata": {},
   "outputs": [
    {
     "name": "stdout",
     "output_type": "stream",
     "text": [
      "[\"['Juvenile Fiction']\", \"['Fiction']\", \"['Political Science']\", \"['Business & Economics']\", \"['Dragons']\", '', \"['Young Adult Fiction']\", \"['Self-Help']\", \"['Literary Criticism']\", \"['FICTION']\", \"['Reference']\", \"['History']\", \"['Computers']\", \"['Art']\", \"['Family & Relationships']\", \"['High interest-low vocabulary books']\", \"['FAMILY & RELATIONSHIPS']\", \"['AReproductive health']\", \"['Biography & Autobiography']\", \"['Religion']\"]\n",
      "[\"['Juvenile Fiction']\", \"['Political Science']\", \"['Business & Economics']\", \"['Dragons']\", \"['Young Adult Fiction']\", \"['Self-Help']\", \"['Literary Criticism']\", \"['FICTION']\", \"['Reference']\", \"['History']\", \"['Computers']\", \"['Art']\", \"['Family & Relationships']\", \"['High interest-low vocabulary books']\", \"['FAMILY & RELATIONSHIPS']\", \"['AReproductive health']\", \"['Biography & Autobiography']\", \"['Religion']\"]\n",
      "18\n"
     ]
    }
   ],
   "source": [
    "# Find the 10 most frequent categories\n",
    "from collections import Counter\n",
    "category_counts = Counter(categories)\n",
    "#print(category_counts.most_common(10))\n",
    "\n",
    "# Create a list of the most frequent categories\n",
    "top_categories = [category for category, count in category_counts.most_common(20)]\n",
    "print(top_categories)\n",
    "\n",
    "# Remove nan from top_categories\n",
    "top_categories = [category for category in top_categories if category != 'nan']\n",
    "# Remove Fiction from top_categories\n",
    "top_categories = [category for category in top_categories if category != \"['Fiction']\"]\n",
    "top_categories = [category for category in top_categories if category != \"\"]\n",
    "print(top_categories)\n",
    "print(len(top_categories))\n"
   ]
  },
  {
   "cell_type": "code",
   "execution_count": 45,
   "metadata": {},
   "outputs": [
    {
     "data": {
      "text/html": [
       "<div>\n",
       "<style scoped>\n",
       "    .dataframe tbody tr th:only-of-type {\n",
       "        vertical-align: middle;\n",
       "    }\n",
       "\n",
       "    .dataframe tbody tr th {\n",
       "        vertical-align: top;\n",
       "    }\n",
       "\n",
       "    .dataframe thead th {\n",
       "        text-align: right;\n",
       "    }\n",
       "</style>\n",
       "<table border=\"1\" class=\"dataframe\">\n",
       "  <thead>\n",
       "    <tr style=\"text-align: right;\">\n",
       "      <th></th>\n",
       "      <th>title</th>\n",
       "      <th>description</th>\n",
       "      <th>authors</th>\n",
       "      <th>published_date</th>\n",
       "      <th>categories</th>\n",
       "      <th>n_ratings</th>\n",
       "      <th>avg_rating</th>\n",
       "      <th>top_category</th>\n",
       "    </tr>\n",
       "  </thead>\n",
       "  <tbody>\n",
       "    <tr>\n",
       "      <th>4590</th>\n",
       "      <td>harry potter and the sorcerers stone</td>\n",
       "      <td>Celebrate 20 years of Harry Potter magic! Harr...</td>\n",
       "      <td>['J. K. Rowling']</td>\n",
       "      <td>2014-01-09</td>\n",
       "      <td>['Juvenile Fiction']</td>\n",
       "      <td>3663</td>\n",
       "      <td>4.617544</td>\n",
       "      <td>['Juvenile Fiction']</td>\n",
       "    </tr>\n",
       "    <tr>\n",
       "      <th>773</th>\n",
       "      <td>the hobbitt or there and back again illustrate...</td>\n",
       "      <td>Bilbo Baggins, a respectable, well-to-do hobbi...</td>\n",
       "      <td>['J. R. R. Tolkien']</td>\n",
       "      <td>2013</td>\n",
       "      <td>['Fiction']</td>\n",
       "      <td>3562</td>\n",
       "      <td>4.640625</td>\n",
       "      <td>['Fiction']</td>\n",
       "    </tr>\n",
       "    <tr>\n",
       "      <th>19711</th>\n",
       "      <td>unfit for command swift boat veterans speak ou...</td>\n",
       "      <td>The must-read summary of John E. O’Neill and J...</td>\n",
       "      <td>['BusinessNews Publishing']</td>\n",
       "      <td>2017-01-30</td>\n",
       "      <td>['Political Science']</td>\n",
       "      <td>2962</td>\n",
       "      <td>3.546875</td>\n",
       "      <td>['Political Science']</td>\n",
       "    </tr>\n",
       "    <tr>\n",
       "      <th>12410</th>\n",
       "      <td>rich dad poor dad</td>\n",
       "      <td>Argues that a good education and a secure job ...</td>\n",
       "      <td>['Sharon L. Lechter']</td>\n",
       "      <td>1998</td>\n",
       "      <td>['Business &amp; Economics']</td>\n",
       "      <td>2248</td>\n",
       "      <td>3.690000</td>\n",
       "      <td>['Business &amp; Economics']</td>\n",
       "    </tr>\n",
       "    <tr>\n",
       "      <th>771</th>\n",
       "      <td>eragon inheritance book one</td>\n",
       "      <td>One boy . . . One dragon . . . A world of adve...</td>\n",
       "      <td>['Christopher Paolini']</td>\n",
       "      <td>2005</td>\n",
       "      <td>['Dragons']</td>\n",
       "      <td>2134</td>\n",
       "      <td>3.595960</td>\n",
       "      <td>['Dragons']</td>\n",
       "    </tr>\n",
       "  </tbody>\n",
       "</table>\n",
       "</div>"
      ],
      "text/plain": [
       "                                                   title  \\\n",
       "4590                harry potter and the sorcerers stone   \n",
       "773    the hobbitt or there and back again illustrate...   \n",
       "19711  unfit for command swift boat veterans speak ou...   \n",
       "12410                                  rich dad poor dad   \n",
       "771                          eragon inheritance book one   \n",
       "\n",
       "                                             description  \\\n",
       "4590   Celebrate 20 years of Harry Potter magic! Harr...   \n",
       "773    Bilbo Baggins, a respectable, well-to-do hobbi...   \n",
       "19711  The must-read summary of John E. O’Neill and J...   \n",
       "12410  Argues that a good education and a secure job ...   \n",
       "771    One boy . . . One dragon . . . A world of adve...   \n",
       "\n",
       "                           authors published_date                categories  \\\n",
       "4590             ['J. K. Rowling']     2014-01-09      ['Juvenile Fiction']   \n",
       "773           ['J. R. R. Tolkien']           2013               ['Fiction']   \n",
       "19711  ['BusinessNews Publishing']     2017-01-30     ['Political Science']   \n",
       "12410        ['Sharon L. Lechter']           1998  ['Business & Economics']   \n",
       "771        ['Christopher Paolini']           2005               ['Dragons']   \n",
       "\n",
       "       n_ratings  avg_rating              top_category  \n",
       "4590        3663    4.617544      ['Juvenile Fiction']  \n",
       "773         3562    4.640625               ['Fiction']  \n",
       "19711       2962    3.546875     ['Political Science']  \n",
       "12410       2248    3.690000  ['Business & Economics']  \n",
       "771         2134    3.595960               ['Dragons']  "
      ]
     },
     "execution_count": 45,
     "metadata": {},
     "output_type": "execute_result"
    }
   ],
   "source": [
    "books_data_1['top_category'] = books_data_1['categories'] \n",
    "books_data_1.head()"
   ]
  },
  {
   "cell_type": "code",
   "execution_count": 46,
   "metadata": {},
   "outputs": [
    {
     "data": {
      "text/plain": [
       "[\"['Juvenile Fiction']\",\n",
       " \"['Political Science']\",\n",
       " \"['Business & Economics']\",\n",
       " \"['Dragons']\",\n",
       " \"['Young Adult Fiction']\",\n",
       " \"['Self-Help']\",\n",
       " \"['Literary Criticism']\",\n",
       " \"['FICTION']\",\n",
       " \"['Reference']\",\n",
       " \"['History']\",\n",
       " \"['Computers']\",\n",
       " \"['Art']\",\n",
       " \"['Family & Relationships']\",\n",
       " \"['High interest-low vocabulary books']\",\n",
       " \"['FAMILY & RELATIONSHIPS']\",\n",
       " \"['AReproductive health']\",\n",
       " \"['Biography & Autobiography']\",\n",
       " \"['Religion']\"]"
      ]
     },
     "execution_count": 46,
     "metadata": {},
     "output_type": "execute_result"
    }
   ],
   "source": [
    "top_categories"
   ]
  },
  {
   "cell_type": "code",
   "execution_count": 47,
   "metadata": {},
   "outputs": [
    {
     "data": {
      "text/plain": [
       "categories\n",
       "['Fiction']                      5989\n",
       "['Juvenile Fiction']             1235\n",
       "['Biography & Autobiography']    1169\n",
       "['History']                      1086\n",
       "['Religion']                     1051\n",
       "                                 ... \n",
       "['Atlases']                         1\n",
       "['Calculus']                        1\n",
       "['Communism']                       1\n",
       "['Beagle Expedition']               1\n",
       "['Change']                          1\n",
       "Name: count, Length: 871, dtype: int64"
      ]
     },
     "execution_count": 47,
     "metadata": {},
     "output_type": "execute_result"
    }
   ],
   "source": [
    "books_data_2 = books_data_1.dropna(subset=['categories'])\n",
    "cats = books_data_2['categories']\n",
    "# Remove nan from cats\n",
    "cats.value_counts()"
   ]
  },
  {
   "cell_type": "code",
   "execution_count": 48,
   "metadata": {},
   "outputs": [
    {
     "data": {
      "image/png": "[encoded data removed]",
      "text/plain": [
       "<Figure size 2000x700 with 1 Axes>"
      ]
     },
     "metadata": {},
     "output_type": "display_data"
    }
   ],
   "source": [
    "\n",
    "# Make a histogram of the categories\n",
    "\n",
    "categories_counts = books_data_2['categories'].explode().value_counts()\n",
    "\n",
    "# Select the top 10 categories\n",
    "top_categories = categories_counts.head(10)\n",
    "\n",
    "# Plotting the histogram for the top 10 categories\n",
    "plt.figure(figsize=(20,7))\n",
    "plt.bar(top_categories.index, top_categories)\n",
    "plt.xlabel('Categories')\n",
    "plt.ylabel('Frequency')\n",
    "plt.title('Histogram of Top 10 Categories')\n",
    "plt.tight_layout()\n",
    "plt.show()"
   ]
  },
  {
   "cell_type": "markdown",
   "metadata": {},
   "source": [
    "## Clustering"
   ]
  },
  {
   "cell_type": "code",
   "execution_count": 49,
   "metadata": {},
   "outputs": [
    {
     "data": {
      "text/html": [
       "<div>\n",
       "<style scoped>\n",
       "    .dataframe tbody tr th:only-of-type {\n",
       "        vertical-align: middle;\n",
       "    }\n",
       "\n",
       "    .dataframe tbody tr th {\n",
       "        vertical-align: top;\n",
       "    }\n",
       "\n",
       "    .dataframe thead th {\n",
       "        text-align: right;\n",
       "    }\n",
       "</style>\n",
       "<table border=\"1\" class=\"dataframe\">\n",
       "  <thead>\n",
       "    <tr style=\"text-align: right;\">\n",
       "      <th></th>\n",
       "      <th>title</th>\n",
       "      <th>description</th>\n",
       "      <th>authors</th>\n",
       "      <th>published_date</th>\n",
       "      <th>categories</th>\n",
       "      <th>n_ratings</th>\n",
       "      <th>avg_rating</th>\n",
       "      <th>top_category</th>\n",
       "    </tr>\n",
       "  </thead>\n",
       "  <tbody>\n",
       "    <tr>\n",
       "      <th>4590</th>\n",
       "      <td>harry potter and the sorcerers stone</td>\n",
       "      <td>Celebrate 20 years of Harry Potter magic! Harr...</td>\n",
       "      <td>['J. K. Rowling']</td>\n",
       "      <td>2014-01-09</td>\n",
       "      <td>['Juvenile Fiction']</td>\n",
       "      <td>3663</td>\n",
       "      <td>4.617544</td>\n",
       "      <td>['Juvenile Fiction']</td>\n",
       "    </tr>\n",
       "    <tr>\n",
       "      <th>773</th>\n",
       "      <td>the hobbitt or there and back again illustrate...</td>\n",
       "      <td>Bilbo Baggins, a respectable, well-to-do hobbi...</td>\n",
       "      <td>['J. R. R. Tolkien']</td>\n",
       "      <td>2013</td>\n",
       "      <td>['Fiction']</td>\n",
       "      <td>3562</td>\n",
       "      <td>4.640625</td>\n",
       "      <td>['Fiction']</td>\n",
       "    </tr>\n",
       "    <tr>\n",
       "      <th>19711</th>\n",
       "      <td>unfit for command swift boat veterans speak ou...</td>\n",
       "      <td>The must-read summary of John E. O’Neill and J...</td>\n",
       "      <td>['BusinessNews Publishing']</td>\n",
       "      <td>2017-01-30</td>\n",
       "      <td>['Political Science']</td>\n",
       "      <td>2962</td>\n",
       "      <td>3.546875</td>\n",
       "      <td>['Political Science']</td>\n",
       "    </tr>\n",
       "    <tr>\n",
       "      <th>12410</th>\n",
       "      <td>rich dad poor dad</td>\n",
       "      <td>Argues that a good education and a secure job ...</td>\n",
       "      <td>['Sharon L. Lechter']</td>\n",
       "      <td>1998</td>\n",
       "      <td>['Business &amp; Economics']</td>\n",
       "      <td>2248</td>\n",
       "      <td>3.690000</td>\n",
       "      <td>['Business &amp; Economics']</td>\n",
       "    </tr>\n",
       "    <tr>\n",
       "      <th>771</th>\n",
       "      <td>eragon inheritance book one</td>\n",
       "      <td>One boy . . . One dragon . . . A world of adve...</td>\n",
       "      <td>['Christopher Paolini']</td>\n",
       "      <td>2005</td>\n",
       "      <td>['Dragons']</td>\n",
       "      <td>2134</td>\n",
       "      <td>3.595960</td>\n",
       "      <td>['Dragons']</td>\n",
       "    </tr>\n",
       "  </tbody>\n",
       "</table>\n",
       "</div>"
      ],
      "text/plain": [
       "                                                   title  \\\n",
       "4590                harry potter and the sorcerers stone   \n",
       "773    the hobbitt or there and back again illustrate...   \n",
       "19711  unfit for command swift boat veterans speak ou...   \n",
       "12410                                  rich dad poor dad   \n",
       "771                          eragon inheritance book one   \n",
       "\n",
       "                                             description  \\\n",
       "4590   Celebrate 20 years of Harry Potter magic! Harr...   \n",
       "773    Bilbo Baggins, a respectable, well-to-do hobbi...   \n",
       "19711  The must-read summary of John E. O’Neill and J...   \n",
       "12410  Argues that a good education and a secure job ...   \n",
       "771    One boy . . . One dragon . . . A world of adve...   \n",
       "\n",
       "                           authors published_date                categories  \\\n",
       "4590             ['J. K. Rowling']     2014-01-09      ['Juvenile Fiction']   \n",
       "773           ['J. R. R. Tolkien']           2013               ['Fiction']   \n",
       "19711  ['BusinessNews Publishing']     2017-01-30     ['Political Science']   \n",
       "12410        ['Sharon L. Lechter']           1998  ['Business & Economics']   \n",
       "771        ['Christopher Paolini']           2005               ['Dragons']   \n",
       "\n",
       "       n_ratings  avg_rating              top_category  \n",
       "4590        3663    4.617544      ['Juvenile Fiction']  \n",
       "773         3562    4.640625               ['Fiction']  \n",
       "19711       2962    3.546875     ['Political Science']  \n",
       "12410       2248    3.690000  ['Business & Economics']  \n",
       "771         2134    3.595960               ['Dragons']  "
      ]
     },
     "execution_count": 49,
     "metadata": {},
     "output_type": "execute_result"
    }
   ],
   "source": [
    "# Find dtypes of books_data_1\n",
    "books_data_1.head()"
   ]
  },
  {
   "cell_type": "code",
   "execution_count": 50,
   "metadata": {},
   "outputs": [
    {
     "name": "stdout",
     "output_type": "stream",
     "text": [
      "<class 'pandas.core.frame.DataFrame'>\n",
      "Index: 19827 entries, 4590 to 16915\n",
      "Data columns (total 8 columns):\n",
      " #   Column          Non-Null Count  Dtype  \n",
      "---  ------          --------------  -----  \n",
      " 0   title           19827 non-null  object \n",
      " 1   description     19827 non-null  object \n",
      " 2   authors         19667 non-null  object \n",
      " 3   published_date  19798 non-null  object \n",
      " 4   categories      19306 non-null  object \n",
      " 5   n_ratings       19827 non-null  int64  \n",
      " 6   avg_rating      19827 non-null  float64\n",
      " 7   top_category    19306 non-null  object \n",
      "dtypes: float64(1), int64(1), object(6)\n",
      "memory usage: 1.4+ MB\n"
     ]
    }
   ],
   "source": [
    "books_data_1.info()"
   ]
  },
  {
   "cell_type": "code",
   "execution_count": 51,
   "metadata": {},
   "outputs": [
    {
     "data": {
      "text/plain": [
       "4590     2014-01-09\n",
       "773            2013\n",
       "19711    2017-01-30\n",
       "12410          1998\n",
       "771            2005\n",
       "            ...    \n",
       "11827    2013-07-25\n",
       "15697    2010-07-07\n",
       "11831       1992-06\n",
       "11832       2001-06\n",
       "16915    2000-03-15\n",
       "Name: published_date, Length: 19827, dtype: object"
      ]
     },
     "execution_count": 51,
     "metadata": {},
     "output_type": "execute_result"
    }
   ],
   "source": [
    "books_data_1['published_date']\n"
   ]
  },
  {
   "cell_type": "code",
   "execution_count": 52,
   "metadata": {},
   "outputs": [],
   "source": [
    "# Convert dtype of published_date to datetime from object\n",
    "books_data_1['published_date'] = pd.to_datetime(books_data_1['published_date'], format='%Y-%m-%d', errors='coerce', utc=True)"
   ]
  },
  {
   "cell_type": "code",
   "execution_count": 53,
   "metadata": {},
   "outputs": [
    {
     "name": "stdout",
     "output_type": "stream",
     "text": [
      "<class 'pandas.core.frame.DataFrame'>\n",
      "Index: 19827 entries, 4590 to 16915\n",
      "Data columns (total 8 columns):\n",
      " #   Column          Non-Null Count  Dtype              \n",
      "---  ------          --------------  -----              \n",
      " 0   title           19827 non-null  object             \n",
      " 1   description     19827 non-null  object             \n",
      " 2   authors         19667 non-null  object             \n",
      " 3   published_date  12939 non-null  datetime64[ns, UTC]\n",
      " 4   categories      19306 non-null  object             \n",
      " 5   n_ratings       19827 non-null  int64              \n",
      " 6   avg_rating      19827 non-null  float64            \n",
      " 7   top_category    19306 non-null  object             \n",
      "dtypes: datetime64[ns, UTC](1), float64(1), int64(1), object(5)\n",
      "memory usage: 1.4+ MB\n"
     ]
    }
   ],
   "source": [
    "books_data_1.info()"
   ]
  },
  {
   "cell_type": "code",
   "execution_count": 54,
   "metadata": {},
   "outputs": [],
   "source": [
    "# Make a new column that only contains the year\n",
    "books_data_1['year'] = books_data_1['published_date'].dt.year\n",
    "\n",
    "# Delete rows where year is NaT or inf\n",
    "books_data_2 = books_data_1[books_data_1['year'].notna()]"
   ]
  },
  {
   "cell_type": "code",
   "execution_count": 55,
   "metadata": {},
   "outputs": [
    {
     "name": "stderr",
     "output_type": "stream",
     "text": [
      "C:\\Users\\lisem_luhqoi7\\AppData\\Local\\Temp\\ipykernel_8164\\605874599.py:1: SettingWithCopyWarning: \n",
      "A value is trying to be set on a copy of a slice from a DataFrame.\n",
      "Try using .loc[row_indexer,col_indexer] = value instead\n",
      "\n",
      "See the caveats in the documentation: https://pandas.pydata.org/pandas-docs/stable/user_guide/indexing.html#returning-a-view-versus-a-copy\n",
      "  books_data_2['year'] = books_data_2['year'].astype(int)\n"
     ]
    },
    {
     "data": {
      "text/html": [
       "<div>\n",
       "<style scoped>\n",
       "    .dataframe tbody tr th:only-of-type {\n",
       "        vertical-align: middle;\n",
       "    }\n",
       "\n",
       "    .dataframe tbody tr th {\n",
       "        vertical-align: top;\n",
       "    }\n",
       "\n",
       "    .dataframe thead th {\n",
       "        text-align: right;\n",
       "    }\n",
       "</style>\n",
       "<table border=\"1\" class=\"dataframe\">\n",
       "  <thead>\n",
       "    <tr style=\"text-align: right;\">\n",
       "      <th></th>\n",
       "      <th>title</th>\n",
       "      <th>description</th>\n",
       "      <th>authors</th>\n",
       "      <th>published_date</th>\n",
       "      <th>categories</th>\n",
       "      <th>n_ratings</th>\n",
       "      <th>avg_rating</th>\n",
       "      <th>top_category</th>\n",
       "      <th>year</th>\n",
       "    </tr>\n",
       "  </thead>\n",
       "  <tbody>\n",
       "    <tr>\n",
       "      <th>4590</th>\n",
       "      <td>harry potter and the sorcerers stone</td>\n",
       "      <td>Celebrate 20 years of Harry Potter magic! Harr...</td>\n",
       "      <td>['J. K. Rowling']</td>\n",
       "      <td>2014-01-09 00:00:00+00:00</td>\n",
       "      <td>['Juvenile Fiction']</td>\n",
       "      <td>3663</td>\n",
       "      <td>4.617544</td>\n",
       "      <td>['Juvenile Fiction']</td>\n",
       "      <td>2014</td>\n",
       "    </tr>\n",
       "    <tr>\n",
       "      <th>19711</th>\n",
       "      <td>unfit for command swift boat veterans speak ou...</td>\n",
       "      <td>The must-read summary of John E. O’Neill and J...</td>\n",
       "      <td>['BusinessNews Publishing']</td>\n",
       "      <td>2017-01-30 00:00:00+00:00</td>\n",
       "      <td>['Political Science']</td>\n",
       "      <td>2962</td>\n",
       "      <td>3.546875</td>\n",
       "      <td>['Political Science']</td>\n",
       "      <td>2017</td>\n",
       "    </tr>\n",
       "    <tr>\n",
       "      <th>4982</th>\n",
       "      <td>the catcher in the rye</td>\n",
       "      <td>Anyone who has read J. D. Salinger's New Yorke...</td>\n",
       "      <td>['J.D. Salinger']</td>\n",
       "      <td>1951-07-16 00:00:00+00:00</td>\n",
       "      <td>['Fiction']</td>\n",
       "      <td>2132</td>\n",
       "      <td>4.050000</td>\n",
       "      <td>['Fiction']</td>\n",
       "      <td>1951</td>\n",
       "    </tr>\n",
       "    <tr>\n",
       "      <th>16886</th>\n",
       "      <td>the alchemist a fable about following your dream</td>\n",
       "      <td>The Alchemist by Paulo Coelho | Book Summary |...</td>\n",
       "      <td>['Billionaire Publishing', '30 Minutes Flip']</td>\n",
       "      <td>2017-01-24 00:00:00+00:00</td>\n",
       "      <td>NaN</td>\n",
       "      <td>1924</td>\n",
       "      <td>3.797203</td>\n",
       "      <td>NaN</td>\n",
       "      <td>2017</td>\n",
       "    </tr>\n",
       "    <tr>\n",
       "      <th>1739</th>\n",
       "      <td>the giver</td>\n",
       "      <td>Given his lifetime assignment at the Ceremony ...</td>\n",
       "      <td>['Lois Lowry']</td>\n",
       "      <td>2014-07-01 00:00:00+00:00</td>\n",
       "      <td>['Juvenile Fiction']</td>\n",
       "      <td>1876</td>\n",
       "      <td>4.550847</td>\n",
       "      <td>['Juvenile Fiction']</td>\n",
       "      <td>2014</td>\n",
       "    </tr>\n",
       "  </tbody>\n",
       "</table>\n",
       "</div>"
      ],
      "text/plain": [
       "                                                   title  \\\n",
       "4590                harry potter and the sorcerers stone   \n",
       "19711  unfit for command swift boat veterans speak ou...   \n",
       "4982                              the catcher in the rye   \n",
       "16886   the alchemist a fable about following your dream   \n",
       "1739                                           the giver   \n",
       "\n",
       "                                             description  \\\n",
       "4590   Celebrate 20 years of Harry Potter magic! Harr...   \n",
       "19711  The must-read summary of John E. O’Neill and J...   \n",
       "4982   Anyone who has read J. D. Salinger's New Yorke...   \n",
       "16886  The Alchemist by Paulo Coelho | Book Summary |...   \n",
       "1739   Given his lifetime assignment at the Ceremony ...   \n",
       "\n",
       "                                             authors  \\\n",
       "4590                               ['J. K. Rowling']   \n",
       "19711                    ['BusinessNews Publishing']   \n",
       "4982                               ['J.D. Salinger']   \n",
       "16886  ['Billionaire Publishing', '30 Minutes Flip']   \n",
       "1739                                  ['Lois Lowry']   \n",
       "\n",
       "                 published_date             categories  n_ratings  avg_rating  \\\n",
       "4590  2014-01-09 00:00:00+00:00   ['Juvenile Fiction']       3663    4.617544   \n",
       "19711 2017-01-30 00:00:00+00:00  ['Political Science']       2962    3.546875   \n",
       "4982  1951-07-16 00:00:00+00:00            ['Fiction']       2132    4.050000   \n",
       "16886 2017-01-24 00:00:00+00:00                    NaN       1924    3.797203   \n",
       "1739  2014-07-01 00:00:00+00:00   ['Juvenile Fiction']       1876    4.550847   \n",
       "\n",
       "                top_category  year  \n",
       "4590    ['Juvenile Fiction']  2014  \n",
       "19711  ['Political Science']  2017  \n",
       "4982             ['Fiction']  1951  \n",
       "16886                    NaN  2017  \n",
       "1739    ['Juvenile Fiction']  2014  "
      ]
     },
     "execution_count": 55,
     "metadata": {},
     "output_type": "execute_result"
    }
   ],
   "source": [
    "books_data_2['year'] = books_data_2['year'].astype(int)\n",
    "books_data_2.head()"
   ]
  },
  {
   "cell_type": "code",
   "execution_count": 56,
   "metadata": {},
   "outputs": [
    {
     "name": "stdout",
     "output_type": "stream",
     "text": [
      "<class 'pandas.core.frame.DataFrame'>\n",
      "Index: 12939 entries, 4590 to 16915\n",
      "Data columns (total 9 columns):\n",
      " #   Column          Non-Null Count  Dtype              \n",
      "---  ------          --------------  -----              \n",
      " 0   title           12939 non-null  object             \n",
      " 1   description     12939 non-null  object             \n",
      " 2   authors         12867 non-null  object             \n",
      " 3   published_date  12939 non-null  datetime64[ns, UTC]\n",
      " 4   categories      12579 non-null  object             \n",
      " 5   n_ratings       12939 non-null  int64              \n",
      " 6   avg_rating      12939 non-null  float64            \n",
      " 7   top_category    12579 non-null  object             \n",
      " 8   year            12939 non-null  int32              \n",
      "dtypes: datetime64[ns, UTC](1), float64(1), int32(1), int64(1), object(5)\n",
      "memory usage: 960.3+ KB\n"
     ]
    }
   ],
   "source": [
    "books_data_2.info()"
   ]
  },
  {
   "cell_type": "code",
   "execution_count": 57,
   "metadata": {},
   "outputs": [
    {
     "name": "stderr",
     "output_type": "stream",
     "text": [
      "C:\\Users\\lisem_luhqoi7\\AppData\\Local\\Packages\\PythonSoftwareFoundation.Python.3.11_qbz5n2kfra8p0\\LocalCache\\local-packages\\Python311\\site-packages\\sklearn\\cluster\\_kmeans.py:1416: FutureWarning: The default value of `n_init` will change from 10 to 'auto' in 1.4. Set the value of `n_init` explicitly to suppress the warning\n",
      "  super()._check_params_vs_input(X, default_n_init=10)\n",
      "C:\\Users\\lisem_luhqoi7\\AppData\\Local\\Temp\\ipykernel_8164\\1320091392.py:17: SettingWithCopyWarning: \n",
      "A value is trying to be set on a copy of a slice from a DataFrame.\n",
      "Try using .loc[row_indexer,col_indexer] = value instead\n",
      "\n",
      "See the caveats in the documentation: https://pandas.pydata.org/pandas-docs/stable/user_guide/indexing.html#returning-a-view-versus-a-copy\n",
      "  books_data_2['cluster'] = kmeans.labels_\n"
     ]
    },
    {
     "data": {
      "image/png": "[encoded data removed]",
      "text/plain": [
       "<Figure size 800x600 with 1 Axes>"
      ]
     },
     "metadata": {},
     "output_type": "display_data"
    }
   ],
   "source": [
    "# Cluster books based on avg_rating and year\n",
    "from sklearn.cluster import KMeans\n",
    "from sklearn.preprocessing import StandardScaler\n",
    "#import matplotlib.pyplot as plt\n",
    "#import seaborn as sns\n",
    "\n",
    "# Create a StandardScaler instance\n",
    "scaler = StandardScaler()\n",
    "\n",
    "# Fit and transform the data with the scaler\n",
    "scaled_features = scaler.fit_transform(books_data_2[['avg_rating', 'year']])\n",
    "\n",
    "# Perform K-Means clustering on the standardized data\n",
    "kmeans = KMeans(n_clusters=5, random_state=0).fit(scaled_features)\n",
    "\n",
    "# Add the cluster labels to your DataFrame\n",
    "books_data_2['cluster'] = kmeans.labels_\n",
    "\n",
    "# Create a scatter plot of the clusters\n",
    "plt.figure(figsize=(8, 6))\n",
    "\n",
    "# Use seaborn to create the scatter plot with different colors for each cluster\n",
    "sns.scatterplot(x='avg_rating', y='year', data=books_data_2, hue='cluster', palette='viridis')\n",
    "\n",
    "# Add labels and a legend\n",
    "plt.xlabel('Average Rating')\n",
    "plt.ylabel('Year')\n",
    "plt.title('Clustered Books based on Average Rating and Year')\n",
    "plt.legend(title='Cluster')\n",
    "\n",
    "# Show the plot\n",
    "plt.show()"
   ]
  },
  {
   "cell_type": "markdown",
   "metadata": {},
   "source": [
    "## Network recommendations"
   ]
  },
  {
   "cell_type": "code",
   "execution_count": 60,
   "metadata": {},
   "outputs": [],
   "source": [
    "# import librairies\n",
    "import networkx as nx\n",
    "#import matplotlib.pyplot as plt\n",
    "#import pandas as pd\n",
    "#import numpy as np\n",
    "import math as math\n",
    "import time \n",
    "from sklearn.metrics.pairwise import cosine_similarity\n",
    "from sklearn.feature_extraction.text import TfidfVectorizer\n",
    "#from sklearn.cluster import KMeans"
   ]
  },
  {
   "cell_type": "code",
   "execution_count": null,
   "metadata": {},
   "outputs": [],
   "source": [
    "# Rename dataframe\n",
    "ratings = books_ratings_1\n",
    "books = books_data_1\n",
    "\n",
    "# pick random user\n",
    "user_id = ratings['user_id'].sample(1).iloc[0]\n",
    "print(user_id)\n",
    "\n",
    "test_user = \"A126KX6FVI4T66\"\n"
   ]
  },
  {
   "cell_type": "code",
   "execution_count": null,
   "metadata": {},
   "outputs": [],
   "source": [
    "# get n most popular books\n",
    "n_books= 200\n",
    "popular_books = ratings['title'].value_counts()[0:n_books].index.tolist()\n",
    "top_20_books = popular_books[0:20]\n",
    "\n",
    "# keep only the popular books\n",
    "popular_books_data = books[books['title'].isin(popular_books)]\n",
    "popular_books_data = popular_books_data[popular_books_data['description'].notna()]\n",
    "popular_books_data.reset_index(drop=True, inplace=True)\n",
    "\n",
    "# get the ratings of the popular books\n",
    "popular_books_ratings = ratings[ratings['title'].isin(popular_books_data['title'].tolist())]\n",
    "\n",
    "# reset the index\n",
    "popular_books_ratings.reset_index(drop=True, inplace=True)"
   ]
  },
  {
   "cell_type": "markdown",
   "metadata": {},
   "source": [
    "### Recommendations using network-based algorithms"
   ]
  },
  {
   "cell_type": "code",
   "execution_count": null,
   "metadata": {},
   "outputs": [],
   "source": [
    "# Build the tfidf matrix with the descriptions\n",
    "text_content = popular_books_data['description']\n",
    "vector = TfidfVectorizer(max_df=0.5,         # drop words that occur in more than X percent of documents\n",
    "                        min_df=0.05,      # only use words that appear at least X times\n",
    "                        stop_words='english', # remove stop words\n",
    "                        lowercase=True, # Convert everything to lower case \n",
    "                        use_idf=True,   # Use idf\n",
    "                        norm=u'l2',     # Normalization\n",
    "                        smooth_idf=True # Prevents divide-by-zero errors\n",
    "                        )\n",
    "\n",
    "tfidf = vector.fit_transform(text_content)\n",
    "terms = vector.get_feature_names_out()\n",
    "\n",
    "\n",
    "df_tfidfvect = pd.DataFrame(data = tfidf.toarray(),columns = terms)\n",
    "\n",
    "# Clustering  Kmeans\n",
    "k = round(n_books/10)\n",
    "print(\"number of clusters: \", k)\n",
    "kmeans = KMeans(n_clusters = k)\n",
    "kmeans.fit(tfidf)\n",
    "centers = np.argsort(kmeans.cluster_centers_, axis=1)[:, ::-1]\n",
    "\n",
    "#print the centers of the clusters\n",
    "[print([terms[j] for j in centers[i, :15]]) for i in range(k)]\n",
    "\n",
    "# convert description to vector\n",
    "request_transform = vector.transform(popular_books_data['description'])\n",
    "\n",
    "# assign each book to a cluster\n",
    "cluster_asign = kmeans.predict(request_transform)\n",
    "\n",
    "# Save the cluster of each book in the dataframe\n",
    "popular_books_data['cluster'] = kmeans.predict(request_transform) \n"
   ]
  },
  {
   "cell_type": "code",
   "execution_count": null,
   "metadata": {},
   "outputs": [],
   "source": [
    "# check that the cluster are balanced\n",
    "popular_books_data['cluster'].value_counts()"
   ]
  },
  {
   "cell_type": "code",
   "execution_count": null,
   "metadata": {},
   "outputs": [],
   "source": [
    "# define a function to find 5 most similar books based on the TD-IDF matrix\n",
    "def find_similar(tfidf_matrix, index, top_n=5):\n",
    "    cosine_similarities = cosine_similarity(tfidf_matrix[index:index+1], tfidf_matrix).flatten()\n",
    "    related_docs_indices = sorted(range(len(cosine_similarities)), key=cosine_similarities.__getitem__, reverse=True)\n",
    "    similar_indices = [i for i in related_docs_indices if i != index][:top_n]\n",
    "    return similar_indices"
   ]
  },
  {
   "cell_type": "code",
   "execution_count": null,
   "metadata": {},
   "outputs": [],
   "source": [
    "# create the graph\n",
    "G = nx.Graph()\n",
    "\n",
    "# construct the graph\n",
    "for i, rowi in popular_books_data.iterrows():\n",
    "    # add nodes for the book\n",
    "    G.add_node(rowi['title'], key=rowi['title'], label=\"BOOK\", rating=rowi['avg_rating'])\n",
    "\n",
    "    # add nodes for the authors and connect them to the book\n",
    "    if not G.has_node(rowi['authors']):\n",
    "        G.add_node(rowi['authors'],label=\"authors\")\n",
    "    \n",
    "    # add categories and connect them to the book\n",
    "    if not G.has_node(rowi['cluster']):\n",
    "        G.add_node(rowi['cluster'],label=\"cluster\")\n",
    "    \n",
    "    # add edges between titles, authors and clusters\n",
    "    G.add_edge(rowi['title'], rowi['authors'])\n",
    "    G.add_edge(rowi['cluster'], rowi['title'])\n",
    "    G.add_edge(rowi['cluster'], rowi['authors'])\n",
    "    \n",
    "    # find the 5 most similar books and connect them to the book\n",
    "    indices = find_similar(tfidf, i, top_n = 5)\n",
    "\n",
    "    # add edges between the book and the 5 most similar books\n",
    "    for idx in indices:\n",
    "        G.add_edge(rowi[\"title\"], popular_books_data['title'].loc[idx], label=\"SIMILARITY\")"
   ]
  },
  {
   "cell_type": "code",
   "execution_count": null,
   "metadata": {},
   "outputs": [],
   "source": [
    "# base node size on avg_rating attribute\n",
    "sizes = []\n",
    "\n",
    "# generate a list of colors for the nodes\n",
    "colors = []\n",
    "label_vec = {}\n",
    "for node in G:\n",
    "    if G.nodes[node]['label'] == \"BOOK\":\n",
    "        sizes.append(10*G.nodes[node]['rating'])\n",
    "        colors.append('red')\n",
    "        if node in top_20_books:\n",
    "            label_vec[node] = node\n",
    "    elif G.nodes[node]['label'] == \"authors\":\n",
    "        sizes.append(10)\n",
    "        colors.append('green')\n",
    "    else:\n",
    "        sizes.append(10)\n",
    "        colors.append('blue')"
   ]
  },
  {
   "cell_type": "code",
   "execution_count": null,
   "metadata": {},
   "outputs": [],
   "source": [
    "# draw the graph\n",
    "plt.figure(figsize=(15,15))\n",
    "\n",
    "# use the kamada_kawai_layout to get the nodes positions\n",
    "pos = nx.kamada_kawai_layout(G)\n",
    "\n",
    "# draw the nodes and the edges\n",
    "nx.draw(G,pos =pos, node_size= sizes, node_color = colors, with_labels=False, alpha=0.5, width=0.5, edge_color='grey')\n",
    "nx.draw_networkx_labels(G,pos,labels=label_vec,font_size=16,font_color='black')\n",
    "nx.draw_networkx_nodes(G,pos,nodelist=label_vec.keys(),node_size=100,node_color='red', edgecolors='black')\n",
    "\n",
    "# save the graph\n",
    "plt.savefig('figs/graph.pdf')\n",
    "plt.show()"
   ]
  },
  {
   "cell_type": "code",
   "execution_count": null,
   "metadata": {},
   "outputs": [],
   "source": [
    "# define Adaic-Adar function\n",
    "def adamic_adar_weight(neighbor_list):\n",
    "    weight = 0.0\n",
    "    for neighbor in neighbor_list:\n",
    "        weight += 1 / math.log(G.degree(neighbor))\n",
    "    return weight"
   ]
  },
  {
   "cell_type": "code",
   "execution_count": null,
   "metadata": {},
   "outputs": [],
   "source": [
    "def get_recommendation(root):\n",
    "    # Dictionary to store common neighbors and their occurrences\n",
    "    commons_dict = {}\n",
    "\n",
    "    # Iterate over neighbors of the root node\n",
    "    for e in G.neighbors(root):\n",
    "        # Iterate over neighbors of each neighbor of the root\n",
    "        for e2 in G.neighbors(e):\n",
    "            # Skip if the neighbor is the root node\n",
    "            if e2 == root:\n",
    "                continue\n",
    "            \n",
    "            # Check if the neighbor is a book\n",
    "            if G.nodes[e2]['label'] == \"BOOK\":\n",
    "                commons = commons_dict.get(e2)\n",
    "                if commons is None:\n",
    "                    # If the book is not in the dictionary, add it with the current neighbor\n",
    "                    commons_dict.update({e2: [e]})\n",
    "                else:\n",
    "                    # If the book is already in the dictionary, append the current neighbor\n",
    "                    commons.append(e)\n",
    "                    commons_dict.update({e2: commons})\n",
    "\n",
    "    # Lists to store books and their corresponding weights\n",
    "    books = []\n",
    "    weight = []\n",
    "\n",
    "    # Calculate weight for each book based on Adamic-Adar measure\n",
    "    for key, values in commons_dict.items():\n",
    "        w = adamic_adar_weight(values)\n",
    "        books.append(key)\n",
    "        weight.append(w)\n",
    "\n",
    "    # Create a pandas Series with book weights and indices\n",
    "    result = pd.Series(data=np.array(weight), index=books)\n",
    "\n",
    "    # Sort the Series in descending order based on weights\n",
    "    result.sort_values(inplace=True, ascending=False)\n",
    "\n",
    "    return result"
   ]
  },
  {
   "cell_type": "code",
   "execution_count": null,
   "metadata": {},
   "outputs": [],
   "source": [
    "# for user obtain the top 5 books based on what he/she has read\n",
    "\n",
    "# get the books that the test user has read\n",
    "user_books = popular_books_ratings[popular_books_ratings['user_id'] == test_user][['title','score']]\n",
    "\n",
    "# remove duplicate titles\n",
    "user_books.drop_duplicates(subset=['title'], inplace=True)\n",
    "\n",
    "# extract titles\n",
    "user_titles = user_books['title'].unique().tolist()\n",
    "\n",
    "# get the books that the user has not read\n",
    "user_unread_books = popular_books_data[~popular_books_data['title'].isin(user_titles)]['title'].unique()\n",
    "\n",
    "# get recommendations for the user\n",
    "recommendations = pd.DataFrame(columns=[\"original\", 'title', 'score'])\n",
    "for book in user_titles:\n",
    "    rec = get_recommendation(book)\n",
    "    title = rec.index.tolist()\n",
    "    for t in title:\n",
    "        if t not in user_unread_books and t not in recommendations['title'].tolist():\n",
    "            val = rec.values.tolist()\n",
    "            new_rec = pd.DataFrame({\"original\": book, 'title': title, 'score': val})\n",
    "            recommendations = pd.concat([recommendations, new_rec], ignore_index=True)\n",
    "\n",
    "\n",
    "# sort the recommendations\n",
    "recommendations.sort_values(by='score',inplace=True,ascending=False)\n",
    "recommendations.reset_index(drop=True, inplace=True)"
   ]
  },
  {
   "cell_type": "code",
   "execution_count": null,
   "metadata": {},
   "outputs": [],
   "source": [
    "# make plot of the results\n",
    "plt.figure()\n",
    "top_20_titles = recommendations[\"title\"][0:10]\n",
    "\n",
    "# take only first 10 characters of the title\n",
    "top_20_titles_short = [t[:30] for t in top_20_titles]\n",
    "\n",
    "top_20_scores = recommendations[\"score\"][0:10]\n",
    "plt.bar(top_20_titles_short,top_20_scores, edgecolor = \"black\", width=0.5)\n",
    "plt.xlabel('Book')\n",
    "plt.ylabel('Ademic-Adar Index')\n",
    "plt.title('Top 20: Recommendation for user ' + str(test_user))\n",
    "\n",
    "plt.xticks(rotation=90)\n",
    "\n",
    "# set the layout to tight\n",
    "plt.savefig('figs/recommendation_test_user.pdf', bbox_inches='tight')\n",
    "plt.show()"
   ]
  },
  {
   "cell_type": "code",
   "execution_count": null,
   "metadata": {},
   "outputs": [],
   "source": [
    "# check if the books are in the same cluster\n",
    "print(\"Check if the recommended books are in the same cluster\")\n",
    "print(popular_books_data.loc[popular_books_data['title'].isin(top_20_books)][\"cluster\"].value_counts())\n",
    "\n",
    "# print the cluster of the books that the user has read\n",
    "print(\"Cluster of the books that the user has read\")\n",
    "print(popular_books_data.loc[popular_books_data['title'].isin(user_books[\"title\"])][\"cluster\"].value_counts())\n"
   ]
  },
  {
   "cell_type": "code",
   "execution_count": null,
   "metadata": {},
   "outputs": [],
   "source": [
    "# draw the graph\n",
    "plt.figure(figsize=(15,15))\n",
    "\n",
    "# use the kamada_kawai_layout to get the nodes positions\n",
    "pos = nx.kamada_kawai_layout(G)\n",
    "\n",
    "# generate a list of colors for the nodes\n",
    "colors = []\n",
    "read_books = {}\n",
    "rec_books = {}\n",
    "for node in G:\n",
    "    if G.nodes[node]['label'] == \"BOOK\":\n",
    "        if node in top_20_titles.to_list():\n",
    "            rec_books[node] = node\n",
    "        if node in user_books[\"title\"].tolist():\n",
    "            read_books[node] = node\n",
    "\n",
    "# create edge list based on the recommendations\n",
    "edge_list = []\n",
    "for i in range(0,10):\n",
    "    edge_list.append((recommendations[\"original\"][i], recommendations[\"title\"][i]))\n",
    "    \n",
    "# draw the nodes and the edges\n",
    "nx.draw(G,pos =pos, node_size= sizes, node_color = colors, with_labels=False, alpha=0.5, width=0.5, edge_color='grey')\n",
    "nx.draw_networkx_labels(G,pos,labels=read_books,font_size=16,font_color='black')\n",
    "nx.draw_networkx_nodes(G,pos,nodelist=read_books.keys(),node_size=100,node_color='red', edgecolors='black')\n",
    "nx.draw_networkx_labels(G,pos,labels=rec_books,font_size=16,font_color='black')\n",
    "nx.draw_networkx_nodes(G,pos,nodelist=rec_books.keys(),node_size=100,node_color='yellow', edgecolors='black')\n",
    "nx.draw_networkx_edges(G,pos,edgelist=edge_list,width=5,alpha=0.5,edge_color='blue')\n",
    "# save the graph\n",
    "plt.savefig('figs/graph_results.pdf')\n",
    "plt.show()"
   ]
  }
 ],
 "metadata": {
  "kernelspec": {
   "display_name": "Python 3",
   "language": "python",
   "name": "python3"
  },
  "language_info": {
   "codemirror_mode": {
    "name": "ipython",
    "version": 3
   },
   "file_extension": ".py",
   "mimetype": "text/x-python",
   "name": "python",
   "nbconvert_exporter": "python",
   "pygments_lexer": "ipython3",
   "version": "3.11.6"
  }
 },
 "nbformat": 4,
 "nbformat_minor": 2
}
