{
 "cells": [
  {
   "cell_type": "code",
   "execution_count": 1,
   "metadata": {},
   "outputs": [],
   "source": [
    "import mmh3\n",
    "import numpy as np\n"
   ]
  },
  {
   "cell_type": "code",
   "execution_count": 5,
   "metadata": {},
   "outputs": [
    {
     "name": "stdout",
     "output_type": "stream",
     "text": [
      "{'bd', 'cd', 'ab', 'bc', 'da'}\n"
     ]
    }
   ],
   "source": [
    "# Exercise 2: Implement q-shingels function\n",
    "\n",
    "def q_shingels(q, text):\n",
    "    shingels = []\n",
    "    for i in range(len(text) - q + 1):\n",
    "        shingels.append(text[i:i + q])\n",
    "    return set(shingels)\n",
    "\n",
    "test_str = \"abcdabd\"\n",
    "print(q_shingels(2, test_str))"
   ]
  },
  {
   "cell_type": "code",
   "execution_count": 6,
   "metadata": {},
   "outputs": [
    {
     "name": "stdout",
     "output_type": "stream",
     "text": [
      "-2136211564\n"
     ]
    }
   ],
   "source": [
    "# Exercise 3: Implement the minhashing algorithm\n",
    "def minhash(shingels,seed = 0):\n",
    "    minhash = np.inf\n",
    "    for shingel in shingels:\n",
    "        hash_val = mmh3.hash(shingel, seed)\n",
    "        if hash_val < minhash:\n",
    "            minhash = hash_val\n",
    "    return minhash\n",
    "\n",
    "print(minhash(q_shingels(2, test_str)))\n"
   ]
  }
 ],
 "metadata": {
  "kernelspec": {
   "display_name": "comptool",
   "language": "python",
   "name": "python3"
  },
  "language_info": {
   "codemirror_mode": {
    "name": "ipython",
    "version": 3
   },
   "file_extension": ".py",
   "mimetype": "text/x-python",
   "name": "python",
   "nbconvert_exporter": "python",
   "pygments_lexer": "ipython3",
   "version": "3.10.12"
  },
  "orig_nbformat": 4
 },
 "nbformat": 4,
 "nbformat_minor": 2
}
