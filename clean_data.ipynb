{
 "cells": [
  {
   "cell_type": "markdown",
   "metadata": {},
   "source": [
    "### Load data"
   ]
  },
  {
   "cell_type": "code",
   "execution_count": 2,
   "metadata": {},
   "outputs": [],
   "source": [
    "import pandas as pd\n",
    "books_data = pd.read_csv('data/books_data.csv')\n",
    "books_ratings = pd.read_csv('data/books_rating.csv')"
   ]
  },
  {
   "cell_type": "code",
   "execution_count": 3,
   "metadata": {},
   "outputs": [
    {
     "name": "stdout",
     "output_type": "stream",
     "text": [
      "['title', 'description', 'authors', 'published_date', 'categories']\n",
      "['title', 'user_id', 'helpfulness', 'score', 'summary', 'text']\n"
     ]
    }
   ],
   "source": [
    "# Titles\n",
    "books_data_1 = books_data.drop(['image', 'previewLink', 'infoLink', 'publisher', 'ratingsCount'], axis=1, inplace=False)\n",
    "books_ratings_1 = books_ratings.drop(['Id','Price', 'profileName', 'review/time'], axis=1, inplace=False)\n",
    "\n",
    "books_data_1.rename(columns={'Title': 'title','publishedDate': 'published_date'}, inplace=True)\n",
    "books_ratings_1.rename(columns={'Title': 'title','User_id':'user_id',  'review/score': 'score','review/helpfulness': 'helpfulness', 'review/text': 'text', 'review/summary': 'summary'}, inplace=True)\n",
    "\n",
    "print(list(books_data_1.columns))\n",
    "print(list(books_ratings_1.columns))"
   ]
  },
  {
   "cell_type": "code",
   "execution_count": 61,
   "metadata": {},
   "outputs": [],
   "source": [
    "# convert helpfullness to float\n",
    "\n",
    "books_ratings_1['helpfulness'].replace('0/0', 0, inplace=True)\n",
    "\n",
    "help_pct = []\n",
    "help_count = []\n",
    "\n",
    "for i in range(len(books_ratings_1['helpfulness'])):\n",
    "    if books_ratings_1['helpfulness'][i] != 0:\n",
    "        help_pct.append(float(books_ratings_1['helpfulness'][i].split('/')[0])/float(books_ratings_1['helpfulness'][i].split('/')[1]))\n",
    "        help_count.append(float(books_ratings_1['helpfulness'][i].split('/')[1]))\n",
    "    else:\n",
    "        help_pct.append(0)\n",
    "        help_count.append(0)\n",
    "\n",
    "books_ratings_1['helpfulness_pct'] = help_pct\n",
    "books_ratings_1['helpfulness_count'] = help_count"
   ]
  },
  {
   "cell_type": "code",
   "execution_count": 64,
   "metadata": {},
   "outputs": [
    {
     "name": "stdout",
     "output_type": "stream",
     "text": [
      "title\n",
      "Its Only Art If Its Well Hung!                                                                                               1\n",
      "Dr. Seuss: American Icon                                                                                                     9\n",
      "Wonderful Worship in Smaller Churches                                                                                        4\n",
      "Whispers of the Wicked Saints                                                                                               32\n",
      "Nation Dance: Religion, Identity and Cultural Difference in the Caribbean                                                    1\n",
      "                                                                                                                            ..\n",
      "Old Quebec,: The fortress of New France,                                                                                     1\n",
      "On the Life of Christ: Chanted Sermons by the Great Sixth Century Poet and Singer St. Romanos (Sacred Literature Series)     1\n",
      "Ghost Story                                                                                                                  7\n",
      "An End to Welfare Rights: The Rediscovery of Independence (Choice in Welfare)                                                1\n",
      "The Idea of History                                                                                                         11\n",
      "Name: count, Length: 212403, dtype: int64\n",
      "0\n",
      "100\n",
      "200\n"
     ]
    },
    {
     "ename": "KeyboardInterrupt",
     "evalue": "",
     "output_type": "error",
     "traceback": [
      "\u001b[1;31m---------------------------------------------------------------------------\u001b[0m",
      "\u001b[1;31mKeyboardInterrupt\u001b[0m                         Traceback (most recent call last)",
      "\u001b[1;32mc:\\Users\\Lenovo\\OneDrive - Danmarks Tekniske Universitet\\9. semester\\CompTool\\02808_CompTools\\clean_data.ipynb Cell 5\u001b[0m line \u001b[0;36m1\n\u001b[0;32m      <a href='vscode-notebook-cell:/c%3A/Users/Lenovo/OneDrive%20-%20Danmarks%20Tekniske%20Universitet/9.%20semester/CompTool/02808_CompTools/clean_data.ipynb#W4sZmlsZQ%3D%3D?line=7'>8</a>\u001b[0m \u001b[39mfor\u001b[39;00m idx, title \u001b[39min\u001b[39;00m \u001b[39menumerate\u001b[39m(books_data_1[\u001b[39m'\u001b[39m\u001b[39mtitle\u001b[39m\u001b[39m'\u001b[39m]):\n\u001b[0;32m      <a href='vscode-notebook-cell:/c%3A/Users/Lenovo/OneDrive%20-%20Danmarks%20Tekniske%20Universitet/9.%20semester/CompTool/02808_CompTools/clean_data.ipynb#W4sZmlsZQ%3D%3D?line=8'>9</a>\u001b[0m     \u001b[39mif\u001b[39;00m entry_count[title] \u001b[39m>\u001b[39m \u001b[39m2\u001b[39m:\n\u001b[1;32m---> <a href='vscode-notebook-cell:/c%3A/Users/Lenovo/OneDrive%20-%20Danmarks%20Tekniske%20Universitet/9.%20semester/CompTool/02808_CompTools/clean_data.ipynb#W4sZmlsZQ%3D%3D?line=9'>10</a>\u001b[0m         average_ratings\u001b[39m.\u001b[39mappend(books_ratings_1[books_ratings_1[\u001b[39m'\u001b[39;49m\u001b[39mtitle\u001b[39;49m\u001b[39m'\u001b[39;49m]\u001b[39m==\u001b[39;49mtitle][\u001b[39m'\u001b[39m\u001b[39mscore\u001b[39m\u001b[39m'\u001b[39m]\u001b[39m.\u001b[39mmean())\n\u001b[0;32m     <a href='vscode-notebook-cell:/c%3A/Users/Lenovo/OneDrive%20-%20Danmarks%20Tekniske%20Universitet/9.%20semester/CompTool/02808_CompTools/clean_data.ipynb#W4sZmlsZQ%3D%3D?line=10'>11</a>\u001b[0m         counts_titles\u001b[39m.\u001b[39mappend(entry_count[title])\n\u001b[0;32m     <a href='vscode-notebook-cell:/c%3A/Users/Lenovo/OneDrive%20-%20Danmarks%20Tekniske%20Universitet/9.%20semester/CompTool/02808_CompTools/clean_data.ipynb#W4sZmlsZQ%3D%3D?line=11'>12</a>\u001b[0m     \u001b[39melse\u001b[39;00m:\n",
      "File \u001b[1;32mc:\\Users\\Lenovo\\OneDrive - Danmarks Tekniske Universitet\\9. semester\\CompTool\\comptool\\lib\\site-packages\\pandas\\core\\ops\\common.py:76\u001b[0m, in \u001b[0;36m_unpack_zerodim_and_defer.<locals>.new_method\u001b[1;34m(self, other)\u001b[0m\n\u001b[0;32m     72\u001b[0m             \u001b[39mreturn\u001b[39;00m \u001b[39mNotImplemented\u001b[39m\n\u001b[0;32m     74\u001b[0m other \u001b[39m=\u001b[39m item_from_zerodim(other)\n\u001b[1;32m---> 76\u001b[0m \u001b[39mreturn\u001b[39;00m method(\u001b[39mself\u001b[39;49m, other)\n",
      "File \u001b[1;32mc:\\Users\\Lenovo\\OneDrive - Danmarks Tekniske Universitet\\9. semester\\CompTool\\comptool\\lib\\site-packages\\pandas\\core\\arraylike.py:40\u001b[0m, in \u001b[0;36mOpsMixin.__eq__\u001b[1;34m(self, other)\u001b[0m\n\u001b[0;32m     38\u001b[0m \u001b[39m@unpack_zerodim_and_defer\u001b[39m(\u001b[39m\"\u001b[39m\u001b[39m__eq__\u001b[39m\u001b[39m\"\u001b[39m)\n\u001b[0;32m     39\u001b[0m \u001b[39mdef\u001b[39;00m \u001b[39m__eq__\u001b[39m(\u001b[39mself\u001b[39m, other):\n\u001b[1;32m---> 40\u001b[0m     \u001b[39mreturn\u001b[39;00m \u001b[39mself\u001b[39;49m\u001b[39m.\u001b[39;49m_cmp_method(other, operator\u001b[39m.\u001b[39;49meq)\n",
      "File \u001b[1;32mc:\\Users\\Lenovo\\OneDrive - Danmarks Tekniske Universitet\\9. semester\\CompTool\\comptool\\lib\\site-packages\\pandas\\core\\series.py:5804\u001b[0m, in \u001b[0;36mSeries._cmp_method\u001b[1;34m(self, other, op)\u001b[0m\n\u001b[0;32m   5801\u001b[0m lvalues \u001b[39m=\u001b[39m \u001b[39mself\u001b[39m\u001b[39m.\u001b[39m_values\n\u001b[0;32m   5802\u001b[0m rvalues \u001b[39m=\u001b[39m extract_array(other, extract_numpy\u001b[39m=\u001b[39m\u001b[39mTrue\u001b[39;00m, extract_range\u001b[39m=\u001b[39m\u001b[39mTrue\u001b[39;00m)\n\u001b[1;32m-> 5804\u001b[0m res_values \u001b[39m=\u001b[39m ops\u001b[39m.\u001b[39;49mcomparison_op(lvalues, rvalues, op)\n\u001b[0;32m   5806\u001b[0m \u001b[39mreturn\u001b[39;00m \u001b[39mself\u001b[39m\u001b[39m.\u001b[39m_construct_result(res_values, name\u001b[39m=\u001b[39mres_name)\n",
      "File \u001b[1;32mc:\\Users\\Lenovo\\OneDrive - Danmarks Tekniske Universitet\\9. semester\\CompTool\\comptool\\lib\\site-packages\\pandas\\core\\ops\\array_ops.py:346\u001b[0m, in \u001b[0;36mcomparison_op\u001b[1;34m(left, right, op)\u001b[0m\n\u001b[0;32m    343\u001b[0m     \u001b[39mreturn\u001b[39;00m invalid_comparison(lvalues, rvalues, op)\n\u001b[0;32m    345\u001b[0m \u001b[39melif\u001b[39;00m lvalues\u001b[39m.\u001b[39mdtype \u001b[39m==\u001b[39m \u001b[39mobject\u001b[39m \u001b[39mor\u001b[39;00m \u001b[39misinstance\u001b[39m(rvalues, \u001b[39mstr\u001b[39m):\n\u001b[1;32m--> 346\u001b[0m     res_values \u001b[39m=\u001b[39m comp_method_OBJECT_ARRAY(op, lvalues, rvalues)\n\u001b[0;32m    348\u001b[0m \u001b[39melse\u001b[39;00m:\n\u001b[0;32m    349\u001b[0m     res_values \u001b[39m=\u001b[39m _na_arithmetic_op(lvalues, rvalues, op, is_cmp\u001b[39m=\u001b[39m\u001b[39mTrue\u001b[39;00m)\n",
      "File \u001b[1;32mc:\\Users\\Lenovo\\OneDrive - Danmarks Tekniske Universitet\\9. semester\\CompTool\\comptool\\lib\\site-packages\\pandas\\core\\ops\\array_ops.py:132\u001b[0m, in \u001b[0;36mcomp_method_OBJECT_ARRAY\u001b[1;34m(op, x, y)\u001b[0m\n\u001b[0;32m    130\u001b[0m \u001b[39melse\u001b[39;00m:\n\u001b[0;32m    131\u001b[0m     result \u001b[39m=\u001b[39m libops\u001b[39m.\u001b[39mscalar_compare(x\u001b[39m.\u001b[39mravel(), y, op)\n\u001b[1;32m--> 132\u001b[0m \u001b[39mreturn\u001b[39;00m result\u001b[39m.\u001b[39;49mreshape(x\u001b[39m.\u001b[39;49mshape)\n",
      "\u001b[1;31mKeyboardInterrupt\u001b[0m: "
     ]
    }
   ],
   "source": [
    "import numpy as np\n",
    "# count unique ids in books_ratings_1\n",
    "books_data_1.dropna(subset=['title'], inplace = True)\n",
    "entry_count = books_ratings_1['title'].value_counts(sort=False)\n",
    "print(entry_count)\n",
    "counts_titles = []\n",
    "average_ratings = []\n",
    "for idx, title in enumerate(books_data_1['title']):\n",
    "    if entry_count[title] > 2:\n",
    "        average_ratings.append(books_ratings_1[books_ratings_1['title']==title]['score'].mean())\n",
    "        counts_titles.append(entry_count[title])\n",
    "    else:\n",
    "        average_ratings.append(np.nan)\n",
    "    if idx % 1000 == 0:\n",
    "        print(idx)\n",
    "\n",
    "books_data_1['ratings_count'] = counts_titles\n",
    "books_data_1['average_rating'] = average_ratings\n",
    "\n",
    "books_data_1.dropna(subset=['ratings_count'], inplace = True)"
   ]
  },
  {
   "cell_type": "code",
   "execution_count": null,
   "metadata": {},
   "outputs": [
    {
     "name": "stdout",
     "output_type": "stream",
     "text": [
      "0    1996\n",
      "1    2005\n",
      "2    2000\n",
      "3    2005\n",
      "4    2003\n",
      "5    1996\n",
      "6    1960\n",
      "7    1988\n",
      "8    2009\n",
      "9    1995\n",
      "Name: published_date, dtype: object\n"
     ]
    }
   ],
   "source": [
    "# convert published_date to datetime\n",
    "print(books_data_1['published_date'])\n",
    "\n",
    "year = []\n",
    "for date in books_data_1['published_date']:\n",
    "    year.append(date.split('-')[0])\n",
    "\n",
    "books_data_1['published_date'] = year\n",
    "\n",
    "# convert published_date to int\n",
    "books_data_1['published_date'] = books_data_1['published_date'].astype(int)\n"
   ]
  },
  {
   "cell_type": "code",
   "execution_count": 4,
   "metadata": {},
   "outputs": [],
   "source": [
    "# create new folder for clean data\n",
    "import os\n",
    "if not os.path.exists('clean_data'):\n",
    "    os.makedirs('clean_data')\n",
    "\n",
    "# save clean data\n",
    "books_data_1.to_csv('clean_data/books_data_clean.csv')\n",
    "books_ratings_1.to_csv('clean_data/books_rating_clean.csv')"
   ]
  }
 ],
 "metadata": {
  "kernelspec": {
   "display_name": "comptool",
   "language": "python",
   "name": "python3"
  },
  "language_info": {
   "codemirror_mode": {
    "name": "ipython",
    "version": 3
   },
   "file_extension": ".py",
   "mimetype": "text/x-python",
   "name": "python",
   "nbconvert_exporter": "python",
   "pygments_lexer": "ipython3",
   "version": "3.10.12"
  },
  "orig_nbformat": 4
 },
 "nbformat": 4,
 "nbformat_minor": 2
}
