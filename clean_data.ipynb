{
 "cells": [
  {
   "cell_type": "markdown",
   "metadata": {},
   "source": [
    "### Load data"
   ]
  },
  {
   "cell_type": "code",
   "execution_count": 116,
   "metadata": {},
   "outputs": [],
   "source": [
    "import pandas as pd\n",
    "books_data = pd.read_csv('data/books_data.csv')\n",
    "books_ratings = pd.read_csv('data/books_rating.csv')"
   ]
  },
  {
   "cell_type": "code",
   "execution_count": 117,
   "metadata": {},
   "outputs": [
    {
     "name": "stdout",
     "output_type": "stream",
     "text": [
      "['title', 'description', 'authors', 'published_date', 'categories']\n",
      "['title', 'user_id', 'helpfulness', 'score', 'summary', 'text']\n"
     ]
    }
   ],
   "source": [
    "# Titles\n",
    "books_data_1 = books_data.drop(['image', 'previewLink', 'infoLink', 'publisher', 'ratingsCount'], axis=1, inplace=False)\n",
    "books_ratings_1 = books_ratings.drop(['Id','Price', 'profileName', 'review/time'], axis=1, inplace=False)\n",
    "\n",
    "books_data_1.rename(columns={'Title': 'title','publishedDate': 'published_date'}, inplace=True)\n",
    "books_ratings_1.rename(columns={'Title': 'title','User_id':'user_id',  'review/score': 'score','review/helpfulness': 'helpfulness', 'review/text': 'text', 'review/summary': 'summary'}, inplace=True)\n",
    "\n",
    "print(list(books_data_1.columns))\n",
    "print(list(books_ratings_1.columns))"
   ]
  },
  {
   "cell_type": "code",
   "execution_count": 118,
   "metadata": {},
   "outputs": [],
   "source": [
    "books_ratings_1['title'] = books_ratings_1['title'].map(lambda s: s.lower() if type(s) == str else s)\n",
    "books_ratings_1['title'] = books_ratings_1['title'].replace(r\"\\(.*\\)\",\"\", regex=True)\n",
    "books_ratings_1['title'] = books_ratings_1['title'].replace(r\"\\&\",\"and\", regex=True)\n",
    "\n",
    "\n",
    "books_data_1['title'] = books_data_1['title'].map(lambda s: s.lower() if type(s) == str else s)\n",
    "books_data_1['title'] = books_data_1['title'].replace(r\"\\&\",\"and\", regex=True)\n",
    "books_data_1['title'] = books_data_1['title'].replace(r\"\\(.*\\)\",\"\", regex=True)\n",
    "\n",
    "# remove all special characters with regex\n",
    "books_ratings_1['title'] = books_ratings_1['title'].replace(r\"[^a-zA-Z0-9\\s]+\", \"\", regex=True)\n",
    "books_data_1['title'] = books_data_1['title'].replace(r\"[^a-zA-Z0-9\\s]+\", \"\", regex=True)\n",
    "\n",
    "books_data_1['title'] = books_data_1['title'].replace(r\"[ \\t]+$\",\"\", regex=True)\n",
    "books_ratings_1['title'] = books_ratings_1['title'].replace(r\"[ \\t]+$\",\"\", regex=True)\n"
   ]
  },
  {
   "cell_type": "code",
   "execution_count": 119,
   "metadata": {},
   "outputs": [],
   "source": [
    "# keep only unique titles in books_data_1\n",
    "books_data_1 = books_data_1.drop_duplicates(subset=['title'], keep='first')"
   ]
  },
  {
   "cell_type": "code",
   "execution_count": 120,
   "metadata": {},
   "outputs": [],
   "source": [
    "#books_ratings_1['title'] = books_ratings_1['title'].map(lambda s: 'the hobbit' if (type(s) == str and 'hobbit' in s) else s)\n",
    "#books_ratings_1['title'] = books_ratings_1['title'].map(lambda s: 'lord of the rings' if (type(s) == str and 'lord of the rings' in s) else s)\n",
    "#books_ratings_1['title'] = books_ratings_1['title'].map(lambda s: 'pride and prejudice' if (type(s) == str and 'pride & prejudice' in s) else s)\n",
    "#books_ratings_1['title'] = books_ratings_1['title'].map(lambda s: 'pride and prejudice' if (type(s) == str and 'pride and prejudice' in s) else s)\n",
    "#books_ratings_1['title'] = books_ratings_1['title'].map(lambda s: 'the great gatsby' if (type(s) == str and 'great gatsby' in s) else s)\n",
    "#books_ratings_1['title'] = books_ratings_1['title'].map(lambda s: 'to kill a mocking bird' if (type(s) == str and 'mocking bird' in s) else s)\n",
    "#books_ratings_1['title'] = books_ratings_1['title'].map(lambda s: 'to kill a mocking bird' if (type(s) == str and 'mockingbird' in s) else s)\n",
    "\n",
    "#books_data_1['title'] = books_data_1['title'].map(lambda s: 'the hobbit' if (type(s) == str and 'hobbit' in s) else s)\n",
    "#books_data_1['title'] = books_data_1['title'].map(lambda s: 'lord of the rings' if (type(s) == str and 'lord of the rings' in s) else s)\n",
    "#books_data_1['title'] = books_data_1['title'].map(lambda s: 'pride and prejudice' if (type(s) == str and 'pride & prejudice' in s) else s)\n",
    "#books_data_1['title'] = books_data_1['title'].map(lambda s: 'pride and prejudice' if (type(s) == str and 'pride and prejudice' in s) else s)\n",
    "#books_data_1['title'] = books_data_1['title'].map(lambda s: 'the great gatsby' if (type(s) == str and 'great gatsby' in s) else s)\n",
    "#books_data_1['title'] = books_data_1['title'].map(lambda s: 'to kill a mocking bird' if (type(s) == str and 'mocking bird' in s) else s)\n",
    "#books_data_1['title'] = books_data_1['title'].map(lambda s: 'to kill a mocking bird' if (type(s) == str and 'mockingbird' in s) else s)"
   ]
  },
  {
   "cell_type": "code",
   "execution_count": 121,
   "metadata": {},
   "outputs": [],
   "source": [
    "# load book data for books in book ratings\n",
    "#ratings_titles = books_ratings_1['title'].unique()\n",
    "#books_data_1 = books_data_1[books_data_1['title'].isin(ratings_titles)]"
   ]
  },
  {
   "cell_type": "code",
   "execution_count": 122,
   "metadata": {},
   "outputs": [
    {
     "name": "stdout",
     "output_type": "stream",
     "text": [
      "Index(['title', 'description', 'authors', 'published_date', 'categories',\n",
      "       'n_ratings'],\n",
      "      dtype='object')\n"
     ]
    }
   ],
   "source": [
    "n_ratings = books_ratings_1.groupby('title').count()['score']>=10\n",
    "famous_books = n_ratings[n_ratings].index\n",
    "books_ratings_1 = books_ratings_1[books_ratings_1['title'].isin(famous_books)]\n",
    "\n",
    "n_ratings_1 = books_ratings_1['title'].value_counts().rename(\"n_ratings\")\n",
    "\n",
    "books_data_1 = books_data_1.merge(n_ratings_1, on='title', how='inner')\n",
    "print(books_data_1.columns)\n"
   ]
  },
  {
   "cell_type": "code",
   "execution_count": 123,
   "metadata": {},
   "outputs": [],
   "source": [
    "# remove if n_ratings < 10\n",
    "books_data_1 = books_data_1[books_data_1['n_ratings']>=10]"
   ]
  },
  {
   "cell_type": "code",
   "execution_count": null,
   "metadata": {},
   "outputs": [],
   "source": []
  },
  {
   "cell_type": "code",
   "execution_count": 124,
   "metadata": {},
   "outputs": [
    {
     "data": {
      "text/plain": [
       "user_id\n",
       "A1D2C0WDCSHUWZ    3003\n",
       "AFVQZQ8PW0L       2447\n",
       "A14OJS0VWMOSWO    2412\n",
       "A1X8VZWTOG8IS6    1438\n",
       "AHD101501WCN1     1228\n",
       "                  ... \n",
       "A2QHCXMFJPEIS1      21\n",
       "A2JFDCLA9PZGQ0      21\n",
       "A1RZFX5PRKEXVE      21\n",
       "A2OW356OMJNAVH      21\n",
       "A30KOED2O09QJS      21\n",
       "Name: count, Length: 7766, dtype: int64"
      ]
     },
     "execution_count": 124,
     "metadata": {},
     "output_type": "execute_result"
    }
   ],
   "source": [
    "x = books_ratings_1.groupby('user_id').count()['score'] > 20 # since this is what amazon requires before a user can get recommendations\n",
    "considerable_users = x[x].index\n",
    "books_ratings_1 = books_ratings_1[books_ratings_1['user_id'].isin(considerable_users)]\n",
    "#\n",
    "# print(books_ratings_1.sample(5))\n",
    "\n",
    "books_ratings_1['user_id'].value_counts()"
   ]
  },
  {
   "cell_type": "code",
   "execution_count": 125,
   "metadata": {},
   "outputs": [
    {
     "data": {
      "text/plain": [
       "title\n",
       "wuthering heights                                                                        8048\n",
       "pride and prejudice                                                                      7166\n",
       "the picture of dorian gray                                                               4716\n",
       "little women or meg jo beth and amy                                                      3294\n",
       "emma                                                                                     3135\n",
       "                                                                                         ... \n",
       "staying sober a guide for relapse prevention based upon the cenaps model of treatment       1\n",
       "the world rushed in the california gold rush experience                                     1\n",
       "the naive and sentimental lover                                                             1\n",
       "charms and charm bracelets the complete guide                                               1\n",
       "smalltalk best practice patterns                                                            1\n",
       "Name: count, Length: 32102, dtype: int64"
      ]
     },
     "execution_count": 125,
     "metadata": {},
     "output_type": "execute_result"
    }
   ],
   "source": [
    "books_ratings_1['title'].value_counts()"
   ]
  },
  {
   "cell_type": "code",
   "execution_count": 126,
   "metadata": {},
   "outputs": [
    {
     "data": {
      "text/plain": [
       "title\n",
       "alices adventures in wonderland         21\n",
       "the white company                       15\n",
       "great expectations                      12\n",
       "ulysses                                 11\n",
       "alice in wonderland                      9\n",
       "                                        ..\n",
       "trick is in the training the             1\n",
       "becoming chloe                           1\n",
       "carfree cities                           1\n",
       "firestarter                              1\n",
       "premiere 6 for macintosh and windows     1\n",
       "Name: count, Length: 1995, dtype: int64"
      ]
     },
     "execution_count": 126,
     "metadata": {},
     "output_type": "execute_result"
    }
   ],
   "source": [
    "# extract all books rated by A14OJS0VWMOSWO\n",
    "books_ratings_1[books_ratings_1['user_id'] == 'A14OJS0VWMOSWO']['title'].value_counts()"
   ]
  },
  {
   "cell_type": "code",
   "execution_count": 127,
   "metadata": {},
   "outputs": [],
   "source": [
    "avg_rating = books_ratings_1.groupby('title')[\"score\"].mean().rename(\"avg_rating\")\n",
    "books_data_1 = books_data_1.merge(avg_rating, on='title', how='inner')\n",
    "#print(books_data_1.columns)\n"
   ]
  },
  {
   "cell_type": "code",
   "execution_count": 128,
   "metadata": {},
   "outputs": [],
   "source": [
    "def get_n_helpful(x):\n",
    "    if isinstance(x, str) and '/' in x:\n",
    "        num, denom = x.split('/')\n",
    "        return int(denom)\n",
    "    else:\n",
    "        return x\n",
    "\n",
    "def replace_fraction(x):\n",
    "    if isinstance(x, str) and '/' in x:\n",
    "        num, denom = x.split('/')\n",
    "        if denom == '0':\n",
    "            return 0\n",
    "        else:\n",
    "            return int(num) / int(denom)\n",
    "    else:\n",
    "        return x\n",
    "\n",
    "books_ratings_1['helpfulness_count'] = books_ratings_1['helpfulness'].apply(get_n_helpful)\n",
    "books_ratings_1['helpfulness_pct'] = books_ratings_1['helpfulness'].apply(replace_fraction)\n",
    "\n",
    "#print(books_ratings_1.sample(2))"
   ]
  },
  {
   "cell_type": "code",
   "execution_count": 129,
   "metadata": {},
   "outputs": [],
   "source": [
    "#print(books_data_1.columns)"
   ]
  },
  {
   "cell_type": "code",
   "execution_count": 130,
   "metadata": {},
   "outputs": [],
   "source": [
    "#def extract_year(x):\n",
    "#    year1 = pd.to_datetime(x, format='mixed').year\n",
    "##    print(year1)\n",
    "#    return year1\n",
    "    \n",
    "#books_data_1['published_date'] = books_data_1['published_date'].apply(extract_year)\n",
    "#p#rint(books_data_1.sample(5))\n"
   ]
  },
  {
   "cell_type": "code",
   "execution_count": 131,
   "metadata": {},
   "outputs": [
    {
     "name": "stdout",
     "output_type": "stream",
     "text": [
      "First we had 212404 books and 3000000 ratings\n",
      "Now we have 32102 books and 435110 ratings\n"
     ]
    }
   ],
   "source": [
    "import os\n",
    "if not os.path.exists('clean_data'):\n",
    "    os.makedirs('clean_data')\n",
    "\n",
    "# save clean data\n",
    "books_data_1.to_csv('clean_data/books_data_clean.csv')\n",
    "books_ratings_1.to_csv('clean_data/books_rating_clean.csv')\n",
    "\n",
    "print(\"First we had {} books and {} ratings\".format(len(books_data), len(books_ratings)))\n",
    "print(\"Now we have {} books and {} ratings\".format(len(books_data_1), len(books_ratings_1)))"
   ]
  }
 ],
 "metadata": {
  "kernelspec": {
   "display_name": "comptool",
   "language": "python",
   "name": "python3"
  },
  "language_info": {
   "codemirror_mode": {
    "name": "ipython",
    "version": 3
   },
   "file_extension": ".py",
   "mimetype": "text/x-python",
   "name": "python",
   "nbconvert_exporter": "python",
   "pygments_lexer": "ipython3",
   "version": "3.10.12"
  },
  "orig_nbformat": 4
 },
 "nbformat": 4,
 "nbformat_minor": 2
}
