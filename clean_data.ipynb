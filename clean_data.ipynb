{
 "cells": [
  {
   "cell_type": "markdown",
   "metadata": {},
   "source": [
    "### Load data"
   ]
  },
  {
   "cell_type": "code",
   "execution_count": 11,
   "metadata": {},
   "outputs": [],
   "source": [
    "import pandas as pd\n",
    "books_data = pd.read_csv('data/books_data.csv')\n",
    "books_ratings = pd.read_csv('data/books_rating.csv')"
   ]
  },
  {
   "cell_type": "code",
   "execution_count": 12,
   "metadata": {},
   "outputs": [
    {
     "name": "stdout",
     "output_type": "stream",
     "text": [
      "['title', 'description', 'authors', 'published_date', 'categories']\n",
      "['title', 'user_id', 'helpfulness', 'score', 'summary', 'text']\n"
     ]
    }
   ],
   "source": [
    "# Titles\n",
    "books_data_1 = books_data.drop(['image', 'previewLink', 'infoLink', 'publisher', 'ratingsCount'], axis=1, inplace=False)\n",
    "books_ratings_1 = books_ratings.drop(['Id','Price', 'profileName', 'review/time'], axis=1, inplace=False)\n",
    "\n",
    "books_data_1.rename(columns={'Title': 'title','publishedDate': 'published_date'}, inplace=True)\n",
    "books_ratings_1.rename(columns={'Title': 'title','User_id':'user_id',  'review/score': 'score','review/helpfulness': 'helpfulness', 'review/text': 'text', 'review/summary': 'summary'}, inplace=True)\n",
    "\n",
    "print(list(books_data_1.columns))\n",
    "print(list(books_ratings_1.columns))"
   ]
  },
  {
   "cell_type": "code",
   "execution_count": 15,
   "metadata": {},
   "outputs": [],
   "source": [
    "books_ratings_1['title'] = books_ratings_1['title'].map(lambda s: s.lower() if type(s) == str else s)\n",
    "books_ratings_1['title'] = books_ratings_1['title'].replace(r\"\\(.*\\)\",\"\", regex=True)"
   ]
  },
  {
   "cell_type": "code",
   "execution_count": 17,
   "metadata": {},
   "outputs": [],
   "source": [
    "# load book data for books in book ratings\n",
    "ratings_titles = books_ratings_1['title'].unique()\n",
    "books_data_1 = books_data_1[books_data_1['title'].isin(ratings_titles)]"
   ]
  },
  {
   "cell_type": "code",
   "execution_count": 18,
   "metadata": {},
   "outputs": [
    {
     "data": {
      "text/plain": [
       "user_id\n",
       "A14OJS0VWMOSWO    5795\n",
       "AFVQZQ8PW0L       3606\n",
       "A1D2C0WDCSHUWZ    3146\n",
       "AHD101501WCN1     1995\n",
       "A1X8VZWTOG8IS6    1804\n",
       "                  ... \n",
       "A2LEUNJRMFJCD2       6\n",
       "A2JF696S5V7ZLV       6\n",
       "A9Z94SVPIFAQH        6\n",
       "A1B0BCGTNNHT7X       6\n",
       "A880CKJM9H94U        6\n",
       "Name: count, Length: 65571, dtype: int64"
      ]
     },
     "execution_count": 18,
     "metadata": {},
     "output_type": "execute_result"
    }
   ],
   "source": [
    "x = books_ratings_1.groupby('user_id').count()['score'] > 5\n",
    "considerable_users = x[x].index\n",
    "books_ratings_1 = books_ratings_1[books_ratings_1['user_id'].isin(considerable_users)]\n",
    "#\n",
    "# print(books_ratings_1.sample(5))\n",
    "\n",
    "books_ratings_1['user_id'].value_counts()"
   ]
  },
  {
   "cell_type": "code",
   "execution_count": 23,
   "metadata": {},
   "outputs": [
    {
     "data": {
      "text/plain": [
       "array(['dr. seuss: american icon',\n",
       "       \"dealing with disappointment: helping kids cope when things don't go their way\",\n",
       "       \"communicating with orcas - the whales' perspective\", ...,\n",
       "       'the encyclopedia of genetic disorders and birth defects ',\n",
       "       'trivia for smarties', 'sweep dreams'], dtype=object)"
      ]
     },
     "execution_count": 23,
     "metadata": {},
     "output_type": "execute_result"
    }
   ],
   "source": [
    "# extract all books rated by A14OJS0VWMOSWO\n",
    "\n",
    "books_ratings_1[books_ratings_1['user_id'] == 'A14OJS0VWMOSWO']['title'].unique()"
   ]
  },
  {
   "cell_type": "code",
   "execution_count": 100,
   "metadata": {},
   "outputs": [],
   "source": [
    "n_ratings = books_ratings_1.groupby('title').count()['score']>=10\n",
    "famous_books = n_ratings[n_ratings].index\n",
    "books_ratings_1 = books_ratings_1[books_ratings_1['title'].isin(famous_books)]\n",
    "\n",
    "n_ratings_1 = books_ratings_1['title'].value_counts().rename(\"n_ratings\")\n",
    "\n",
    "books_data_1 = books_data_1.merge(n_ratings_1, on='title', how='inner')\n",
    "#print(books_data_1.columns)"
   ]
  },
  {
   "cell_type": "code",
   "execution_count": 101,
   "metadata": {},
   "outputs": [],
   "source": [
    "avg_rating = books_ratings_1.groupby('title')[\"score\"].mean().rename(\"avg_rating\")\n",
    "books_data_1 = books_data_1.merge(avg_rating, on='title', how='inner')\n",
    "#print(books_data_1.columns)\n"
   ]
  },
  {
   "cell_type": "code",
   "execution_count": 102,
   "metadata": {},
   "outputs": [],
   "source": [
    "# print(books_data_1.sample(1))"
   ]
  },
  {
   "cell_type": "code",
   "execution_count": 103,
   "metadata": {},
   "outputs": [],
   "source": [
    "def get_n_helpful(x):\n",
    "    if isinstance(x, str) and '/' in x:\n",
    "        num, denom = x.split('/')\n",
    "        return int(denom)\n",
    "    else:\n",
    "        return x\n",
    "\n",
    "def replace_fraction(x):\n",
    "    if isinstance(x, str) and '/' in x:\n",
    "        num, denom = x.split('/')\n",
    "        if denom == '0':\n",
    "            return 0\n",
    "        else:\n",
    "            return int(num) / int(denom)\n",
    "    else:\n",
    "        return x\n",
    "\n",
    "books_ratings_1['helpfulness_count'] = books_ratings_1['helpfulness'].apply(get_n_helpful)\n",
    "books_ratings_1['helpfulness_pct'] = books_ratings_1['helpfulness'].apply(replace_fraction)\n",
    "\n",
    "#print(books_ratings_1.sample(2))"
   ]
  },
  {
   "cell_type": "code",
   "execution_count": 104,
   "metadata": {},
   "outputs": [],
   "source": [
    "#print(books_data_1.columns)"
   ]
  },
  {
   "cell_type": "code",
   "execution_count": 105,
   "metadata": {},
   "outputs": [],
   "source": [
    "#def extract_year(x):\n",
    "#    year1 = pd.to_datetime(x, format='mixed').year\n",
    "##    print(year1)\n",
    "#    return year1\n",
    "    \n",
    "#books_data_1['published_date'] = books_data_1['published_date'].apply(extract_year)\n",
    "#p#rint(books_data_1.sample(5))\n"
   ]
  },
  {
   "cell_type": "code",
   "execution_count": 106,
   "metadata": {},
   "outputs": [
    {
     "name": "stdout",
     "output_type": "stream",
     "text": [
      "First we had 212404 books and 3000000 ratings\n",
      "Now we have 13188 books and 834804 ratings\n"
     ]
    }
   ],
   "source": [
    "import os\n",
    "if not os.path.exists('clean_data'):\n",
    "    os.makedirs('clean_data')\n",
    "\n",
    "# save clean data\n",
    "books_data_1.to_csv('clean_data/books_data_clean.csv')\n",
    "books_ratings_1.to_csv('clean_data/books_rating_clean.csv')\n",
    "\n",
    "print(\"First we had {} books and {} ratings\".format(len(books_data), len(books_ratings)))\n",
    "print(\"Now we have {} books and {} ratings\".format(len(books_data_1), len(books_ratings_1)))"
   ]
  }
 ],
 "metadata": {
  "kernelspec": {
   "display_name": "comptool",
   "language": "python",
   "name": "python3"
  },
  "language_info": {
   "codemirror_mode": {
    "name": "ipython",
    "version": 3
   },
   "file_extension": ".py",
   "mimetype": "text/x-python",
   "name": "python",
   "nbconvert_exporter": "python",
   "pygments_lexer": "ipython3",
   "version": "3.10.12"
  },
  "orig_nbformat": 4
 },
 "nbformat": 4,
 "nbformat_minor": 2
}
