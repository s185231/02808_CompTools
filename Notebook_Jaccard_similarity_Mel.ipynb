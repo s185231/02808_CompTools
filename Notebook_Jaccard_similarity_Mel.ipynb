{
 "cells": [
  {
   "cell_type": "markdown",
   "metadata": {},
   "source": [
    "# Load clean data + import"
   ]
  },
  {
   "cell_type": "code",
   "execution_count": 55,
   "metadata": {},
   "outputs": [],
   "source": [
    "import pandas as pd\n",
    "books_data_1 = pd.read_csv('clean_data/books_data_clean.csv')\n",
    "books_ratings_1 = pd.read_csv('clean_data/books_rating_clean.csv')"
   ]
  },
  {
   "cell_type": "code",
   "execution_count": 56,
   "metadata": {},
   "outputs": [
    {
     "data": {
      "text/plain": [
       "32932"
      ]
     },
     "execution_count": 56,
     "metadata": {},
     "output_type": "execute_result"
    }
   ],
   "source": [
    "len(books_data_1)"
   ]
  },
  {
   "cell_type": "code",
   "execution_count": 28,
   "metadata": {},
   "outputs": [],
   "source": [
    "import numpy as np\n",
    "import mmh3"
   ]
  },
  {
   "cell_type": "markdown",
   "metadata": {},
   "source": [
    "# Similar items"
   ]
  },
  {
   "cell_type": "markdown",
   "metadata": {},
   "source": [
    "## Jaccard Similarity\n",
    "Function jaccard, that takes two titles and outputs the estimated jaccard similarity."
   ]
  },
  {
   "cell_type": "code",
   "execution_count": 57,
   "metadata": {},
   "outputs": [
    {
     "name": "stdout",
     "output_type": "stream",
     "text": [
      "Max Jaccard Similarity: 0.4\n",
      "after the fire \n",
      "the fire next time\n"
     ]
    }
   ],
   "source": [
    "def jaccard(title1, title2):\n",
    "    words1 = set(str(title1).lower().split())\n",
    "    words2 = set(str(title2).lower().split())\n",
    "    \n",
    "    # Compute the intersection and union of the sets\n",
    "    intersection = len(words1.intersection(words2))\n",
    "    union = len(words1) + len(words2) - intersection\n",
    "    \n",
    "    # Calculate the Jaccard similarity\n",
    "    similarity = intersection / union if union > 0 else 0.0\n",
    "    \n",
    "    return similarity\n",
    "\n",
    "def max_jaccard(title_list):\n",
    "    max_similarity = 0.0\n",
    "    idx1 = 0\n",
    "    idx2 = 0\n",
    "    for i in range(len(title_list)):\n",
    "        for j in range(i + 1, len(title_list)):\n",
    "            similarity = jaccard(title_list[i], title_list[j])\n",
    "            if similarity > max_similarity:\n",
    "                idx1 = i\n",
    "                idx2 = j\n",
    "                max_similarity = similarity\n",
    "    return max_similarity,idx1,idx2\n",
    "\n",
    "# Example usage for comparing two titles\n",
    "#title1 = books_data_1['title'][0]\n",
    "#title2 = books_data_1['title'][1]\n",
    "#print(title1,title2)\n",
    "#similarity = jaccard(title1, title2)\n",
    "#print(f\"Jaccard Similarity: {similarity}\")\n",
    "\n",
    "\n",
    "# Example usage with a list of titles\n",
    "n = 100\n",
    "title_list = books_data_1['title'][0:n]\n",
    "max_similarity,idx1,idx2 = max_jaccard(title_list)\n",
    "print(f\"Max Jaccard Similarity: {max_similarity}\")\n",
    "print(books_data_1['title'][idx1])\n",
    "print(books_data_1['title'][idx2])\n"
   ]
  },
  {
   "cell_type": "markdown",
   "metadata": {},
   "source": [
    "## Similar items using Jaccard similarity"
   ]
  },
  {
   "cell_type": "code",
   "execution_count": 58,
   "metadata": {},
   "outputs": [
    {
     "name": "stdout",
     "output_type": "stream",
     "text": [
      "Similarity Score: 0.6\n",
      "Title 1: the art of the novel\n",
      "Title 2: the art of loving\n",
      "\n",
      "Similarity Score: 1.0\n",
      "Title 1: romola \n",
      "Title 2: romola\n",
      "\n",
      "Similarity Score: 1.0\n",
      "Title 1: chopin the man and his music\n",
      "Title 2: chopin  the man and his music\n",
      "\n",
      "Similarity Score: 0.6\n",
      "Title 1: the life of david\n",
      "Title 2: the life of jesus \n",
      "\n",
      "Similarity Score: 0.6\n",
      "Title 1: the holy spirit\n",
      "Title 2: the baptism with the holy spirit\n",
      "\n"
     ]
    }
   ],
   "source": [
    "def similar(names, jaccard_threshold=0.6):\n",
    "    # Create a dictionary to store the similar names\n",
    "    similar_names = {}\n",
    "    \n",
    "    # Loop through each name in the list\n",
    "    for i in range(len(names)):\n",
    "        for j in range(i+1, len(names)):\n",
    "            similarity_score = jaccard(names[i], names[j])\n",
    "            if similarity_score >= jaccard_threshold:\n",
    "                similar_names[(names[i], names[j])] = similarity_score\n",
    "    return similar_names\n",
    "\n",
    "# Example usage:    \n",
    "names = books_data_1['title'][0:500]\n",
    "similar_names = similar(names)\n",
    "# Print titles in a way that is easier to read\n",
    "\n",
    "for (desc1, desc2), score in similar_names.items():\n",
    "    print(f\"Similarity Score: {score}\")\n",
    "    print(f\"Title 1: {desc1}\")\n",
    "    print(f\"Title 2: {desc2}\")\n",
    "    print()\n"
   ]
  },
  {
   "cell_type": "code",
   "execution_count": 59,
   "metadata": {},
   "outputs": [
    {
     "name": "stdout",
     "output_type": "stream",
     "text": [
      "Similarity Score: 1.0\n",
      "Description 1: nan\n",
      "Description 2: nan\n",
      "\n"
     ]
    }
   ],
   "source": [
    "# Example usage for finding similar descriptions\n",
    "descritions = books_data_1['description'][0:400]\n",
    "similar_descriptions = similar(descritions,jaccard_threshold=0.4)\n",
    "\n",
    "# Print descriptions in a way that is easier to read\n",
    "for (desc1, desc2), score in similar_descriptions.items():\n",
    "    print(f\"Similarity Score: {score}\")\n",
    "    print(f\"Description 1: {desc1}\")\n",
    "    print(f\"Description 2: {desc2}\")\n",
    "    print()\n"
   ]
  },
  {
   "cell_type": "markdown",
   "metadata": {},
   "source": [
    "## Locality-Sensitive Hashing"
   ]
  },
  {
   "cell_type": "code",
   "execution_count": 60,
   "metadata": {},
   "outputs": [
    {
     "name": "stdout",
     "output_type": "stream",
     "text": [
      "32932\n",
      "25148\n"
     ]
    }
   ],
   "source": [
    "# keep only unique titles in books_data_1\n",
    "print(len(books_data_1))\n",
    "books_data_1 = books_data_1.drop_duplicates(subset=['description'], keep='first')\n",
    "print(len(books_data_1))"
   ]
  },
  {
   "cell_type": "code",
   "execution_count": 61,
   "metadata": {},
   "outputs": [
    {
     "data": {
      "text/plain": [
       "25148"
      ]
     },
     "execution_count": 61,
     "metadata": {},
     "output_type": "execute_result"
    }
   ],
   "source": [
    "len(books_data_1)"
   ]
  },
  {
   "cell_type": "code",
   "execution_count": 62,
   "metadata": {},
   "outputs": [
    {
     "name": "stdout",
     "output_type": "stream",
     "text": [
      "{0: 'eyewitness travel guide to europe', 1: 'voices from the farm adventures in community living'}\n",
      "0\n",
      "eyewitness travel guide to europe\n",
      "1\n",
      "voices from the farm adventures in community living\n"
     ]
    }
   ],
   "source": [
    "names = books_data_1['title'][0:2]\n",
    "names = names.to_dict()\n",
    "print(names)\n",
    "\n",
    "for key, values in names.items():\n",
    "    print(key)\n",
    "    print(values)\n"
   ]
  },
  {
   "cell_type": "code",
   "execution_count": 63,
   "metadata": {},
   "outputs": [],
   "source": [
    "def split_k(word,k):\n",
    "    if word is np.nan:\n",
    "        return []\n",
    "    else:\n",
    "        n = len(word)\n",
    "    if k > n:\n",
    "        return split_k(word,int(k/2))\n",
    "    else:\n",
    "        if k == 0:\n",
    "            return word\n",
    "        n1 = n//k\n",
    "        n2 = n1 + n%k\n",
    "        return [word[i:i+n1] for i in range(0, n, n1)]"
   ]
  },
  {
   "cell_type": "code",
   "execution_count": 64,
   "metadata": {},
   "outputs": [
    {
     "name": "stdout",
     "output_type": "stream",
     "text": [
      "0\n",
      "Similarity Score: 1.0\n",
      "Title 1: chopin the man and his music\n",
      "Title 2: chopin  the man and his music\n",
      "\n"
     ]
    }
   ],
   "source": [
    "# Implement the LSH algorithm\n",
    "b = 10\n",
    "\n",
    "def lsh(names, jaccard_threshold,seed):\n",
    "    lsh_dict = {}\n",
    "    for key, name in names.to_dict().items():\n",
    "        blocks = split_k(name,b)\n",
    "        blocks_hash_values = []\n",
    "        for aBlock in blocks:\n",
    "            blocks_hash_values.append(mmh3.hash(aBlock, seed))\n",
    "        lsh_dict[key] = blocks_hash_values\n",
    "    list_keys = list(lsh_dict.keys())\n",
    "    similar_items = {}\n",
    "    for i in range(len(list_keys)-1):\n",
    "        if i% 500 == 0:\n",
    "            print(i)\n",
    "        for j in range(i+1, len(list_keys)):\n",
    "            common_values = np.intersect1d(lsh_dict[list_keys[i]], lsh_dict[list_keys[j]])\n",
    "            if len(common_values) > 0:\n",
    "                # we found a candidate\n",
    "                similarity_score = jaccard(names[list_keys[i]], names[list_keys[j]])\n",
    "                if similarity_score >= jaccard_threshold:\n",
    "                    similar_items[(list_keys[i], list_keys[j])] = similarity_score\n",
    "    return similar_items\n",
    "\n",
    "n = 200\n",
    "\n",
    "#for (desc1, desc2), score in similar_descriptions.items():\n",
    " #   if score == 1:\n",
    "  #      df = df.drop(desc2)\n",
    "\n",
    "titles = books_data_1['title'][0:n]\n",
    "found_similar_items_with_lsh = lsh(titles,jaccard_threshold=0.6,seed=42)\n",
    "# Print the results\n",
    "for (title1, title2), score in found_similar_items_with_lsh.items():\n",
    "    print(f\"Similarity Score: {score}\")\n",
    "    print(f\"Title 1: {titles[title1]}\")\n",
    "    print(f\"Title 2: {titles[title2]}\")\n",
    "    print()\n",
    "    if score == 1:\n",
    "\n",
    "        books_data_1 = books_data_1.drop(title2)"
   ]
  },
  {
   "cell_type": "markdown",
   "metadata": {},
   "source": [
    "# Results"
   ]
  },
  {
   "cell_type": "code",
   "execution_count": 37,
   "metadata": {},
   "outputs": [],
   "source": [
    "# Test person seeking for a book\n",
    "# foundation\n",
    "# dune\n",
    "# the picture of dorian gray\n",
    "# the lion the witch and the wardrobe\n",
    "# harry potter and the sorcerers stone\n",
    "# interpreter of maladies"
   ]
  },
  {
   "cell_type": "code",
   "execution_count": 65,
   "metadata": {},
   "outputs": [],
   "source": [
    "# split a string into k blocks of characters where\n",
    "def split_k(word,k):\n",
    "    if word is np.nan:\n",
    "        return []\n",
    "    else:\n",
    "        n = len(word)\n",
    "    if k > n:\n",
    "        return split_k(word,int(k/2))\n",
    "    else:\n",
    "        if k == 0:\n",
    "            return word\n",
    "        n1 = n//k\n",
    "        n2 = n1 + n%k\n",
    "        return [word[i:i+n1] for i in range(0, n, n1)]"
   ]
  },
  {
   "cell_type": "code",
   "execution_count": 66,
   "metadata": {},
   "outputs": [],
   "source": [
    "# Implement the LSH algorithm\n",
    "b = 10\n",
    "\n",
    "def lsh(index,names, jaccard_threshold,seed):\n",
    "    lsh_dict = {}\n",
    "    for key, name in names.to_dict().items():\n",
    "        blocks = split_k(name,b)\n",
    "        blocks_hash_values = []\n",
    "        for aBlock in blocks:\n",
    "            blocks_hash_values.append(mmh3.hash(aBlock, seed))\n",
    "        lsh_dict[key] = blocks_hash_values\n",
    "    list_keys = list(lsh_dict.keys())\n",
    "    similar_items = {}\n",
    "    for i in range(len(list_keys)-1):\n",
    "       # if i% 1000 == 0:\n",
    "        #    print(i)\n",
    "        common_values = np.intersect1d(lsh_dict[list_keys[index]], lsh_dict[list_keys[i]])\n",
    "        if len(common_values) > 0:\n",
    "            # we found a candidate\n",
    "            similarity_score = jaccard(names[index], names[list_keys[i]])\n",
    "            if similarity_score >= jaccard_threshold:\n",
    "                similar_items[names[index], list_keys[i]] = similarity_score\n",
    "    return similar_items\n",
    "\n"
   ]
  },
  {
   "cell_type": "markdown",
   "metadata": {},
   "source": [
    "## Foundation\n",
    "We find the titles in the data set, which have the highest Jaccard similarity with the book \"Foundation\"."
   ]
  },
  {
   "cell_type": "code",
   "execution_count": 67,
   "metadata": {},
   "outputs": [
    {
     "name": "stdout",
     "output_type": "stream",
     "text": [
      "115\n",
      "foundation\n",
      "Similarity Score: 0.3333333333333333\n",
      "Title 1: foundation\n",
      "Title 2: foundation and earth\n",
      "\n",
      "Similarity Score: 0.3333333333333333\n",
      "Title 1: foundation\n",
      "Title 2: prelude to foundation\n",
      "\n"
     ]
    }
   ],
   "source": [
    "# Which index is book title foundation\n",
    "title = 'foundation'\n",
    "index = books_data_1[books_data_1['title'] == title].index[0]\n",
    "print(index)\n",
    "print(books_data_1['title'][index])\n",
    "\n",
    "n = len(books_data_1)\n",
    "titles = books_data_1['title'][0:n]\n",
    "found_similar_items_with_lsh = lsh(index,titles,jaccard_threshold=0.2,seed=42)\n",
    "\n",
    "# Print results\n",
    "for (title1, index), score in found_similar_items_with_lsh.items():\n",
    "    print(f\"Similarity Score: {score}\")\n",
    "    print(f\"Title 1: {title1}\")\n",
    "    print(f\"Title 2: {titles[index]}\")\n",
    "    print()"
   ]
  },
  {
   "cell_type": "markdown",
   "metadata": {},
   "source": [
    "## Dune\n",
    "We find the titles in the data set, which have the highest Jaccard similarity with the book \"Dune\"."
   ]
  },
  {
   "cell_type": "code",
   "execution_count": 68,
   "metadata": {},
   "outputs": [
    {
     "name": "stdout",
     "output_type": "stream",
     "text": [
      "847\n",
      "dune\n"
     ]
    }
   ],
   "source": [
    "# Which index is book title foundation\n",
    "title = 'dune'\n",
    "index = books_data_1[books_data_1['title'] == title].index[0]\n",
    "print(index)\n",
    "print(books_data_1['title'][index])\n",
    "\n",
    "n = len(books_data_1)\n",
    "titles = books_data_1['title'][0:n]\n",
    "found_similar_items_with_lsh = lsh(index,titles,jaccard_threshold=0.2,seed=42)\n",
    "\n",
    "# Print results\n",
    "for (title1, index), score in found_similar_items_with_lsh.items():\n",
    "    print(f\"Similarity Score: {score}\")\n",
    "    print(f\"Title 1: {title1}\")\n",
    "    print(f\"Title 2: {titles[index]}\")\n",
    "    print()"
   ]
  },
  {
   "cell_type": "markdown",
   "metadata": {},
   "source": [
    "## The picture of Dorian Gray\n",
    "We find the titles in the data set, which have the highest Jaccard similarity with the book \"The picture of Dorian Gray\"."
   ]
  },
  {
   "cell_type": "code",
   "execution_count": 69,
   "metadata": {},
   "outputs": [
    {
     "name": "stdout",
     "output_type": "stream",
     "text": [
      "3263\n",
      "the picture of dorian gray\n",
      "Similarity Score: 0.3333333333333333\n",
      "Title 1: the picture of dorian gray\n",
      "Title 2: the big picture\n",
      "\n",
      "Similarity Score: 0.5555555555555556\n",
      "Title 1: the picture of dorian gray\n",
      "Title 2: the picture of dorian gray and other short stories \n",
      "\n"
     ]
    }
   ],
   "source": [
    "# the picture of dorian gray\n",
    "\n",
    "# Which index is book title foundation\n",
    "title = 'the picture of dorian gray'\n",
    "index = books_data_1[books_data_1['title'] == title].index[0]\n",
    "print(index)\n",
    "print(books_data_1['title'][index])\n",
    "\n",
    "n = len(books_data_1)\n",
    "titles = books_data_1['title'][0:n]\n",
    "found_similar_items_with_lsh = lsh(index,titles,jaccard_threshold=0.3,seed=42)\n",
    "\n",
    "# Print results\n",
    "for (title1, index), score in found_similar_items_with_lsh.items():\n",
    "    print(f\"Similarity Score: {score}\")\n",
    "    print(f\"Title 1: {title1}\")\n",
    "    print(f\"Title 2: {titles[index]}\")\n",
    "    print()"
   ]
  },
  {
   "cell_type": "markdown",
   "metadata": {},
   "source": [
    "## The lion, the witch and the wardrobe\n",
    "We find the titles in the data set, which have the highest Jaccard similarity with the book \"The lion, the witch and the wardrobe\"."
   ]
  },
  {
   "cell_type": "code",
   "execution_count": 70,
   "metadata": {},
   "outputs": [
    {
     "name": "stdout",
     "output_type": "stream",
     "text": [
      "4243\n",
      "the lion the witch and the wardrobe\n",
      "Similarity Score: 0.3\n",
      "Title 1: the lion the witch and the wardrobe\n",
      "Title 2: the girl at the lion dor complete and unabridged\n",
      "\n"
     ]
    }
   ],
   "source": [
    "# the lion the witch and the wardrobe\n",
    "\n",
    "# Which index is book title foundation\n",
    "title = 'the lion the witch and the wardrobe'\n",
    "index = books_data_1[books_data_1['title'] == title].index[0]\n",
    "print(index)\n",
    "print(books_data_1['title'][index])\n",
    "\n",
    "n = len(books_data_1)\n",
    "titles = books_data_1['title'][0:n]\n",
    "found_similar_items_with_lsh = lsh(index,titles,jaccard_threshold=0.3,seed=42)\n",
    "\n",
    "# Print results\n",
    "for (title1, index), score in found_similar_items_with_lsh.items():\n",
    "    print(f\"Similarity Score: {score}\")\n",
    "    print(f\"Title 1: {title1}\")\n",
    "    print(f\"Title 2: {titles[index]}\")\n",
    "    print()"
   ]
  },
  {
   "cell_type": "markdown",
   "metadata": {},
   "source": [
    "## Harry Potter and the sorceres stone\n",
    "We find the titles in the data set, which have the highest Jaccard similarity with the book \"Harry Potter and the sorceres stone\"."
   ]
  },
  {
   "cell_type": "code",
   "execution_count": 71,
   "metadata": {},
   "outputs": [
    {
     "name": "stdout",
     "output_type": "stream",
     "text": [
      "6529\n",
      "harry potter and the sorcerers stone\n"
     ]
    }
   ],
   "source": [
    "# harry potter and the sorcerers stone\n",
    "\n",
    "# Which index is book title foundation\n",
    "title = 'harry potter and the sorcerers stone'\n",
    "index = books_data_1[books_data_1['title'] == title].index[0]\n",
    "print(index)\n",
    "print(books_data_1['title'][index])\n",
    "\n",
    "n = len(books_data_1)\n",
    "titles = books_data_1['title'][0:n]\n",
    "found_similar_items_with_lsh = lsh(index,titles,jaccard_threshold=0.4,seed=42)\n",
    "\n",
    "# Print results\n",
    "for (title1, index), score in found_similar_items_with_lsh.items():\n",
    "    print(f\"Similarity Score: {score}\")\n",
    "    print(f\"Title 1: {title1}\")\n",
    "    print(f\"Title 2: {titles[index]}\")\n",
    "    print()"
   ]
  },
  {
   "cell_type": "markdown",
   "metadata": {},
   "source": [
    "## Interpreter of maladies\n",
    "We find the titles in the data set, which have the highest Jaccard similarity with the book \"Interpreter of maladies\"."
   ]
  },
  {
   "cell_type": "code",
   "execution_count": 72,
   "metadata": {},
   "outputs": [],
   "source": [
    "# Which index is book title foundation\n",
    "if 'interpreter of maladies' in books_data_1['title']:\n",
    "    title = 'interpreter of maladies'\n",
    "    index = books_data_1[books_data_1['title'] == title].index[0]\n",
    "    print(index)\n",
    "    print(books_data_1['title'][index])\n",
    "\n",
    "    n = len(books_data_1)\n",
    "    titles = books_data_1['title'][0:n]\n",
    "    found_similar_items_with_lsh = lsh(index,titles,jaccard_threshold=0.4,seed=42)\n",
    "\n",
    "    # Print results\n",
    "    for (title1, index), score in found_similar_items_with_lsh.items():\n",
    "        print(f\"Similarity Score: {score}\")\n",
    "        print(f\"Title 1: {title1}\")\n",
    "        print(f\"Title 2: {titles[index]}\")\n",
    "        print()"
   ]
  },
  {
   "cell_type": "markdown",
   "metadata": {},
   "source": [
    "# Heatmap based on titles\n",
    "To illustrate which titles that have the highest Jaccard similarity, we have plotted a heatmap."
   ]
  },
  {
   "cell_type": "code",
   "execution_count": 46,
   "metadata": {},
   "outputs": [
    {
     "name": "stdout",
     "output_type": "stream",
     "text": [
      "0\n"
     ]
    }
   ],
   "source": [
    "# Implement the LSH algorithm\n",
    "b = 10\n",
    "\n",
    "def lsh(names, jaccard_threshold,seed):\n",
    "    lsh_dict = {}\n",
    "    for key, name in names.to_dict().items():\n",
    "        blocks = split_k(name,b)\n",
    "        blocks_hash_values = []\n",
    "        for aBlock in blocks:\n",
    "            blocks_hash_values.append(mmh3.hash(aBlock, seed))\n",
    "        lsh_dict[key] = blocks_hash_values\n",
    "    list_keys = list(lsh_dict.keys())\n",
    "    similar_items = {}\n",
    "    for i in range(len(list_keys)-1):\n",
    "        if i% 500 == 0:\n",
    "            print(i)\n",
    "        for j in range(i+1, len(list_keys)):\n",
    "            common_values = np.intersect1d(lsh_dict[list_keys[i]], lsh_dict[list_keys[j]])\n",
    "            if len(common_values) > 0:\n",
    "                # we found a candidate\n",
    "                similarity_score = jaccard(names[list_keys[i]], names[list_keys[j]])\n",
    "                if similarity_score >= jaccard_threshold:\n",
    "                    similar_items[(list_keys[i], list_keys[j])] = similarity_score\n",
    "    return similar_items\n",
    "\n",
    "n = 100\n",
    "\n",
    "titles = books_data_1['title'][0:n]\n",
    "found_similar_items_with_lsh = lsh(titles,jaccard_threshold=0.6,seed=42)\n",
    "# Print the results\n",
    "for (title1, title2), score in found_similar_items_with_lsh.items():\n",
    "    print(f\"Similarity Score: {score}\")\n",
    "    print(f\"Title 1: {titles[title1]}\")\n",
    "    print(f\"Title 2: {titles[title2]}\")\n",
    "    print()"
   ]
  },
  {
   "cell_type": "code",
   "execution_count": 47,
   "metadata": {},
   "outputs": [
    {
     "data": {
      "text/plain": [
       "{}"
      ]
     },
     "execution_count": 47,
     "metadata": {},
     "output_type": "execute_result"
    }
   ],
   "source": [
    "found_similar_items_with_lsh_new = {}\n",
    "# Remove all with jaccard with score 1 from the dictionary found_similar_items_with_lsh\n",
    "\n",
    "for (idx1, idx2), score in found_similar_items_with_lsh.items():\n",
    "    if score < 1.0:\n",
    "        found_similar_items_with_lsh_new[idx1,idx2] = score\n",
    "\n",
    "found_similar_items_with_lsh_new"
   ]
  },
  {
   "cell_type": "code",
   "execution_count": 48,
   "metadata": {},
   "outputs": [],
   "source": [
    "# Plot a heatmap with the found_similar_items_lhs dictionary\n",
    "import seaborn as sns\n",
    "import matplotlib.pyplot as plt\n",
    "\n",
    "# Create a heatmap\n",
    "def plot_heatmap(found_similar_items_lhs_new):\n",
    "    # Create a list of keys\n",
    "    keys = list(found_similar_items_lhs_new.keys())\n",
    "    \n",
    "    # Create a list of values\n",
    "    values = list(found_similar_items_lhs_new.values())\n",
    "    \n",
    "    # Create a list of the first items in each key\n",
    "    key1 = [key[0] for key in keys]\n",
    "    \n",
    "    # Create a list of the second items in each key\n",
    "    key2 = [key[1] for key in keys]\n",
    "    \n",
    "    # Create a dataframe with the keys and values\n",
    "    df = pd.DataFrame({'key1': key1, 'key2': key2, 'values': values})\n",
    "    \n",
    "    # Create a pivot table from the dataframe\n",
    "    df_pivot = df.pivot(index='key1', columns='key2', values='values')\n",
    "    \n",
    "    # Create a heatmap from the pivot table\n",
    "    sns.heatmap(df_pivot, cmap='crest')\n",
    "\n",
    "    # Add gridlines to the heatmap\n",
    "    plt.grid()\n",
    "    \n",
    "    plt.title('Heatmap of similar book titles')\n",
    "\n",
    "    # Show the plot\n",
    "    plt.show()\n"
   ]
  },
  {
   "cell_type": "code",
   "execution_count": 49,
   "metadata": {},
   "outputs": [
    {
     "data": {
      "text/plain": [
       "{}"
      ]
     },
     "execution_count": 49,
     "metadata": {},
     "output_type": "execute_result"
    }
   ],
   "source": [
    "found_similar_items_with_lsh_new\n",
    "# Take the 10 pairs with highest similarity score\n",
    "found_similar_items_with_lsh_new_2 = dict(sorted(found_similar_items_with_lsh_new.items(), key=lambda item: item[1], reverse=True)[20:45])\n",
    "found_similar_items_with_lsh_new_2"
   ]
  },
  {
   "cell_type": "code",
   "execution_count": 51,
   "metadata": {},
   "outputs": [],
   "source": [
    "#del found_similar_items_with_lsh_new_2[(26,737)]\n",
    "#del found_similar_items_with_lsh_new_2[(26,3486)]\n"
   ]
  },
  {
   "cell_type": "code",
   "execution_count": 52,
   "metadata": {},
   "outputs": [
    {
     "data": {
      "text/plain": [
       "{}"
      ]
     },
     "execution_count": 52,
     "metadata": {},
     "output_type": "execute_result"
    }
   ],
   "source": [
    "found_similar_items_with_lsh_new_2"
   ]
  },
  {
   "cell_type": "code",
   "execution_count": null,
   "metadata": {},
   "outputs": [
    {
     "data": {
      "image/png": "[encoded data removed]",
      "text/plain": [
       "<Figure size 576x576 with 2 Axes>"
      ]
     },
     "metadata": {
      "needs_background": "light"
     },
     "output_type": "display_data"
    }
   ],
   "source": [
    "# plot book titles in stead of keys\n",
    "plt.figure(figsize=(8,8))\n",
    "found_similar_items_with_lsh_new_2 = {(titles[key1], titles[key2]): value for (key1, key2), value in found_similar_items_with_lsh_new_2.items()}\n",
    "plot_heatmap(found_similar_items_with_lsh_new_2)"
   ]
  },
  {
   "cell_type": "code",
   "execution_count": null,
   "metadata": {},
   "outputs": [
    {
     "data": {
      "image/png": "[encoded data removed]",
      "text/plain": [
       "<Figure size 576x576 with 2 Axes>"
      ]
     },
     "metadata": {
      "needs_background": "light"
     },
     "output_type": "display_data"
    }
   ],
   "source": [
    "# plot book titles in stead of keys\n",
    "plt.figure(figsize=(8,8))\n",
    "found_similar_items_with_lsh_new = {(titles[key1], titles[key2]): value for (key1, key2), value in found_similar_items_with_lsh_new.items()}\n",
    "plot_heatmap(found_similar_items_with_lsh_new)"
   ]
  },
  {
   "cell_type": "markdown",
   "metadata": {},
   "source": [
    "# Heatmap based on descriptions"
   ]
  },
  {
   "cell_type": "code",
   "execution_count": null,
   "metadata": {},
   "outputs": [
    {
     "name": "stdout",
     "output_type": "stream",
     "text": [
      "Requirement already satisfied: nltk in c:\\programdata\\anaconda3\\lib\\site-packages (3.5)\n",
      "Requirement already satisfied: tqdm in c:\\programdata\\anaconda3\\lib\\site-packages (from nltk) (4.50.2)\n",
      "Requirement already satisfied: click in c:\\programdata\\anaconda3\\lib\\site-packages (from nltk) (7.1.2)\n",
      "Requirement already satisfied: joblib in c:\\programdata\\anaconda3\\lib\\site-packages (from nltk) (0.17.0)\n",
      "Requirement already satisfied: regex in c:\\programdata\\anaconda3\\lib\\site-packages (from nltk) (2020.10.15)\n"
     ]
    }
   ],
   "source": [
    "# Install the package nltk\n",
    "# !pip install nltk"
   ]
  },
  {
   "cell_type": "code",
   "execution_count": null,
   "metadata": {},
   "outputs": [
    {
     "name": "stderr",
     "output_type": "stream",
     "text": [
      "[nltk_data] Downloading package punkt to C:\\Users\\Melissa Ulsøe\n",
      "[nltk_data]     Jessen\\AppData\\Roaming\\nltk_data...\n",
      "[nltk_data]   Package punkt is already up-to-date!\n"
     ]
    },
    {
     "data": {
      "text/plain": [
       "True"
      ]
     },
     "execution_count": 203,
     "metadata": {},
     "output_type": "execute_result"
    }
   ],
   "source": [
    "import nltk\n",
    "nltk.download('punkt')"
   ]
  },
  {
   "cell_type": "code",
   "execution_count": null,
   "metadata": {},
   "outputs": [
    {
     "name": "stderr",
     "output_type": "stream",
     "text": [
      "[nltk_data] Downloading package wordnet to C:\\Users\\Melissa Ulsøe\n",
      "[nltk_data]     Jessen\\AppData\\Roaming\\nltk_data...\n",
      "[nltk_data]   Package wordnet is already up-to-date!\n"
     ]
    },
    {
     "data": {
      "text/plain": [
       "True"
      ]
     },
     "execution_count": 204,
     "metadata": {},
     "output_type": "execute_result"
    }
   ],
   "source": [
    "nltk.download('wordnet')"
   ]
  },
  {
   "cell_type": "code",
   "execution_count": null,
   "metadata": {},
   "outputs": [],
   "source": [
    "from nltk.tokenize import word_tokenize\n",
    "from nltk.corpus import stopwords\n",
    "from nltk.stem import WordNetLemmatizer\n",
    "import string"
   ]
  },
  {
   "cell_type": "code",
   "execution_count": null,
   "metadata": {},
   "outputs": [
    {
     "name": "stdout",
     "output_type": "stream",
     "text": [
      "test sentence contains punctuation\n"
     ]
    }
   ],
   "source": [
    "def clean_text(text):\n",
    "    tokens = word_tokenize(text)\n",
    "    clean_tokens = []\n",
    "    \n",
    "    for token in tokens:\n",
    "        # Convert to lowercase\n",
    "        token = token.lower()\n",
    "        \n",
    "        # Remove punctuation\n",
    "        if token not in string.punctuation:\n",
    "            # Remove stopwords\n",
    "            if token not in stopwords.words('english'):\n",
    "                clean_tokens.append(token)\n",
    "    \n",
    "    return clean_tokens\n",
    "\n",
    "# Transform output into a single string\n",
    "def clean_text_string(text):\n",
    "    tokens = word_tokenize(text)\n",
    "    clean_tokens = []\n",
    "    \n",
    "    for token in tokens:\n",
    "        # Convert to lowercase\n",
    "        token = token.lower()\n",
    "        \n",
    "        # Remove punctuation\n",
    "        if token not in string.punctuation:\n",
    "            # Remove stopwords\n",
    "            if token not in stopwords.words('english'):\n",
    "                clean_tokens.append(token)\n",
    "\n",
    "    return ' '.join(clean_tokens)\n",
    "\n",
    "# Example usage\n",
    "test = 'This is a test sentence. It contains punctuation!'\n",
    "print(clean_text_string(test))\n"
   ]
  },
  {
   "cell_type": "code",
   "execution_count": null,
   "metadata": {},
   "outputs": [
    {
     "data": {
      "text/plain": [
       "26072"
      ]
     },
     "execution_count": 297,
     "metadata": {},
     "output_type": "execute_result"
    }
   ],
   "source": [
    "# Remove where descriptions are nan\n",
    "books_data_1 = books_data_1.dropna(subset=['description'])\n",
    "len(books_data_1)"
   ]
  },
  {
   "cell_type": "code",
   "execution_count": null,
   "metadata": {},
   "outputs": [
    {
     "data": {
      "text/plain": [
       "500"
      ]
     },
     "execution_count": 298,
     "metadata": {},
     "output_type": "execute_result"
    }
   ],
   "source": [
    "# Take the 200 books with highest n_ratings in a new dataframe\n",
    "books_data_1 = books_data_1.sort_values('n_ratings', ascending=False)\n",
    "# Reset index\n",
    "books_data_2 = books_data_1[0:500].reset_index(drop=True)\n",
    "len(books_data_2)"
   ]
  },
  {
   "cell_type": "code",
   "execution_count": null,
   "metadata": {},
   "outputs": [
    {
     "data": {
      "text/plain": [
       "'early nineteenth-century england spirited young woman copes suit snobbish gentleman well romantic entanglements four sisters'"
      ]
     },
     "execution_count": 299,
     "metadata": {},
     "output_type": "execute_result"
    }
   ],
   "source": [
    "test = books_data_2['description'][0]\n",
    "clean_text_string(test)"
   ]
  },
  {
   "cell_type": "code",
   "execution_count": null,
   "metadata": {},
   "outputs": [
    {
     "data": {
      "text/html": [
       "<div>\n",
       "<style scoped>\n",
       "    .dataframe tbody tr th:only-of-type {\n",
       "        vertical-align: middle;\n",
       "    }\n",
       "\n",
       "    .dataframe tbody tr th {\n",
       "        vertical-align: top;\n",
       "    }\n",
       "\n",
       "    .dataframe thead th {\n",
       "        text-align: right;\n",
       "    }\n",
       "</style>\n",
       "<table border=\"1\" class=\"dataframe\">\n",
       "  <thead>\n",
       "    <tr style=\"text-align: right;\">\n",
       "      <th></th>\n",
       "      <th>Unnamed: 0</th>\n",
       "      <th>title</th>\n",
       "      <th>description</th>\n",
       "      <th>authors</th>\n",
       "      <th>published_date</th>\n",
       "      <th>categories</th>\n",
       "      <th>avg_rating</th>\n",
       "      <th>n_ratings</th>\n",
       "    </tr>\n",
       "  </thead>\n",
       "  <tbody>\n",
       "    <tr>\n",
       "      <th>0</th>\n",
       "      <td>5096</td>\n",
       "      <td>pride and prejudice</td>\n",
       "      <td>In early nineteenth-century England, a spirite...</td>\n",
       "      <td>['Jane Austen']</td>\n",
       "      <td>1995-01-01</td>\n",
       "      <td>['Fiction']</td>\n",
       "      <td>4.582940</td>\n",
       "      <td>5510</td>\n",
       "    </tr>\n",
       "    <tr>\n",
       "      <th>1</th>\n",
       "      <td>10289</td>\n",
       "      <td>wuthering heights</td>\n",
       "      <td>Wuthering Heights is the name of Mr. Heathclif...</td>\n",
       "      <td>['Emily Bronte']</td>\n",
       "      <td>NaN</td>\n",
       "      <td>NaN</td>\n",
       "      <td>4.097928</td>\n",
       "      <td>4922</td>\n",
       "    </tr>\n",
       "    <tr>\n",
       "      <th>2</th>\n",
       "      <td>3263</td>\n",
       "      <td>the picture of dorian gray</td>\n",
       "      <td>The Picture of Dorian Gray by Oscar Wilde</td>\n",
       "      <td>['Óscar Wilde']</td>\n",
       "      <td>2016-01-24</td>\n",
       "      <td>NaN</td>\n",
       "      <td>4.315643</td>\n",
       "      <td>3241</td>\n",
       "    </tr>\n",
       "    <tr>\n",
       "      <th>3</th>\n",
       "      <td>2429</td>\n",
       "      <td>little women or meg jo beth and amy</td>\n",
       "      <td>2018 marks the 150th anniversary of the classi...</td>\n",
       "      <td>['Rey Terciero']</td>\n",
       "      <td>2019-02-05</td>\n",
       "      <td>['Juvenile Fiction']</td>\n",
       "      <td>4.459098</td>\n",
       "      <td>2995</td>\n",
       "    </tr>\n",
       "    <tr>\n",
       "      <th>4</th>\n",
       "      <td>5202</td>\n",
       "      <td>the hobbit</td>\n",
       "      <td>Celebrating 75 years of one of the world's mos...</td>\n",
       "      <td>['J. R. R. Tolkien']</td>\n",
       "      <td>2012</td>\n",
       "      <td>['Juvenile Fiction']</td>\n",
       "      <td>4.646341</td>\n",
       "      <td>2542</td>\n",
       "    </tr>\n",
       "  </tbody>\n",
       "</table>\n",
       "</div>"
      ],
      "text/plain": [
       "   Unnamed: 0                                title  \\\n",
       "0        5096                  pride and prejudice   \n",
       "1       10289                    wuthering heights   \n",
       "2        3263           the picture of dorian gray   \n",
       "3        2429  little women or meg jo beth and amy   \n",
       "4        5202                           the hobbit   \n",
       "\n",
       "                                         description               authors  \\\n",
       "0  In early nineteenth-century England, a spirite...       ['Jane Austen']   \n",
       "1  Wuthering Heights is the name of Mr. Heathclif...      ['Emily Bronte']   \n",
       "2          The Picture of Dorian Gray by Oscar Wilde       ['Óscar Wilde']   \n",
       "3  2018 marks the 150th anniversary of the classi...      ['Rey Terciero']   \n",
       "4  Celebrating 75 years of one of the world's mos...  ['J. R. R. Tolkien']   \n",
       "\n",
       "  published_date            categories  avg_rating  n_ratings  \n",
       "0     1995-01-01           ['Fiction']    4.582940       5510  \n",
       "1            NaN                   NaN    4.097928       4922  \n",
       "2     2016-01-24                   NaN    4.315643       3241  \n",
       "3     2019-02-05  ['Juvenile Fiction']    4.459098       2995  \n",
       "4           2012  ['Juvenile Fiction']    4.646341       2542  "
      ]
     },
     "execution_count": 300,
     "metadata": {},
     "output_type": "execute_result"
    }
   ],
   "source": [
    "books_data_2.head()"
   ]
  },
  {
   "cell_type": "code",
   "execution_count": null,
   "metadata": {},
   "outputs": [
    {
     "data": {
      "text/plain": [
       "0      In early nineteenth-century England, a spirite...\n",
       "1      Wuthering Heights is the name of Mr. Heathclif...\n",
       "2              The Picture of Dorian Gray by Oscar Wilde\n",
       "3      2018 marks the 150th anniversary of the classi...\n",
       "4      Celebrating 75 years of one of the world's mos...\n",
       "                             ...                        \n",
       "495    In this heart-pounding but touchingly romantic...\n",
       "496    A New England farmer eking out a hardscrabble ...\n",
       "497    D.C. Detective Alex Cross has seen a lot of cr...\n",
       "498    Earth is long since dead. On a colony planet, ...\n",
       "499    \"Here was once a velveteen rabbit, and in the ...\n",
       "Name: description, Length: 500, dtype: object"
      ]
     },
     "execution_count": 301,
     "metadata": {},
     "output_type": "execute_result"
    }
   ],
   "source": [
    "books_data_2['description']"
   ]
  },
  {
   "cell_type": "code",
   "execution_count": null,
   "metadata": {},
   "outputs": [],
   "source": [
    "# Apply the clean_text_string function to the description column\n",
    "books_data_2['description_clean'] = books_data_2['description'].apply(clean_text_string)\n"
   ]
  },
  {
   "cell_type": "code",
   "execution_count": null,
   "metadata": {},
   "outputs": [
    {
     "name": "stdout",
     "output_type": "stream",
     "text": [
      "0\n",
      "Similarity Score: 0.24858757062146894\n",
      "Description 1: controversial tale friendship tragedy great depression penguin classic seventy-five years since first publication steinbeck ’ tale commitment loneliness hope loss remains one america ’ widely read taught novels unlikely pair george lennie two migrant workers california great depression grasp american dream hustle work living hand-to-mouth existence george lennie plan acre land shack call land jobs ranch salinas valley fulfillment dream seems within grasp even george guard lennie provocations predict consequences lennie 's unswerving obedience things george taught mice men represents experiment form steinbeck described “ kind playable novel written novel form scened set played stands. ” rarity american letters achieved remarkable success novel broadway play three acclaimed films edition features introduction susan shillinglaw one today ’ leading steinbeck scholars seventy years penguin leading publisher classic literature english-speaking world 1,700 titles penguin classics represents global bookshelf best works throughout history across genres disciplines readers trust series provide authoritative texts enhanced introductions notes distinguished scholars contemporary authors well up-to-date translations award-winning translators\n",
      "Description 2: taken poverty parents home portsmouth fanny price brought rich cousins mansfield park acutely aware humble rank cousin edmund sole ally uncle 's absence antigua crawford 's arrive neighbourhood bringing glamour london life reckless taste flirtation mansfield park considered jane austen 's first mature work quiet heroine subtle examination social position moral integrity one profound seventy years penguin leading publisher classic literature english-speaking world 1,700 titles penguin classics represents global bookshelf best works throughout history across genres disciplines readers trust series provide authoritative texts enhanced introductions notes distinguished scholars contemporary authors well up-to-date translations award-winning translators\n",
      "\n",
      "Similarity Score: 0.20093457943925233\n",
      "Description 1: william golding ’ unforgettable classic boyhood adventure savagery humanity comes penguin classics stunning graphic deluxe edition new foreword lois lowry provocative today first published 1954 lord flies continues ignite passionate debate startling brutal portrait human nature william golding ’ compelling story group ordinary boys marooned coral island labeled parable allegory myth morality tale parody political treatise even vision apocalypse earned place one indisputable classics twentieth century readers age penguin classics graphic deluxe edition features array special features supplement novel including foreword lois lowry introduction stephen king essay e. m. forster essay teaching reading novel suggestions exploration scholar jennifer buehler extended note e. l. epstein publisher first american paperback edition lord flies seventy years penguin leading publisher classic literature english-speaking world 1,700 titles penguin classics represents global bookshelf best works throughout history across genres disciplines readers trust series provide authoritative texts enhanced introductions notes distinguished scholars contemporary authors well up-to-date translations award-winning translators\n",
      "Description 2: culmination jane austen 's genius sparkling comedy love marriage -- stunning 200th-anniversary penguin classics deluxe edition major motion picture starring anya taylor-joy beautiful clever rich -- single -- emma woodhouse perfectly content life sees need either love marriage nothing however delights interfering romantic lives others ignores warnings good friend mr. knightley attempts arrange suitable match protégée harriet smith carefully laid plans soon unravel consequences never expected imperfect charming heroine witty subtle exploration relationships emma often seen jane austen 's flawless work penguin classics deluxe edition celebrates two hundred years austen 's beloved novel beautiful cover designed illustrator dadu shin comprehensive notes drawing specially jane austen collection goucher college edition treasured students collectors alike sixty-five years penguin leading publisher classic literature english-speaking world 1,500 titles penguin classics represents global bookshelf best works throughout history across genres disciplines readers trust series provide authoritative texts enhanced introductions notes distinguished scholars contemporary authors well up-to-date translations award-winning translators\n",
      "\n",
      "Similarity Score: 0.24022346368715083\n",
      "Description 1: william golding ’ unforgettable classic boyhood adventure savagery humanity comes penguin classics stunning graphic deluxe edition new foreword lois lowry provocative today first published 1954 lord flies continues ignite passionate debate startling brutal portrait human nature william golding ’ compelling story group ordinary boys marooned coral island labeled parable allegory myth morality tale parody political treatise even vision apocalypse earned place one indisputable classics twentieth century readers age penguin classics graphic deluxe edition features array special features supplement novel including foreword lois lowry introduction stephen king essay e. m. forster essay teaching reading novel suggestions exploration scholar jennifer buehler extended note e. l. epstein publisher first american paperback edition lord flies seventy years penguin leading publisher classic literature english-speaking world 1,700 titles penguin classics represents global bookshelf best works throughout history across genres disciplines readers trust series provide authoritative texts enhanced introductions notes distinguished scholars contemporary authors well up-to-date translations award-winning translators\n",
      "Description 2: black comedy manners vast wealth woman define perceptions others beautiful lily bart lives among nouveaux riches new york city – people whose millions made railroads shipping land speculation banking morally aesthetically bankrupt world lily age twenty-nine seeks husband satisfy cravings endless admiration trappings wealth quest comes scandalous end accused mistress wealthy man exiled familiar world artificial conventions lily finds life impossible seventy years penguin leading publisher classic literature english-speaking world 1,700 titles penguin classics represents global bookshelf best works throughout history across genres disciplines readers trust series provide authoritative texts enhanced introductions notes distinguished scholars contemporary authors well up-to-date translations award-winning translators\n",
      "\n",
      "Similarity Score: 0.2897727272727273\n",
      "Description 1: jane austen 's first published work meticulously constructed sparkling unique wit marianne dashwood wears heart sleeve falls love dashing unsuitable john willoughby ignores sister elinor 's warning impulsive behaviour leaves open gossip innuendo meanwhile elinor always sensitive social convention struggling conceal romantic disappointment even closest parallel experience love threatened loss sisters learn sense must mix sensibility find personal happiness society status money govern rules love edition also includes explanatory notes textual variants first second edition seventy years penguin leading publisher classic literature english-speaking world 1,700 titles penguin classics represents global bookshelf best works throughout history across genres disciplines readers trust series provide authoritative texts enhanced introductions notes distinguished scholars contemporary authors well up-to-date translations award-winning translators\n",
      "Description 2: heartbreaking portrayal woman faced impossible choice pursuit happiness tess durbeyfield driven family poverty claim kinship wealthy d'urbervilles seek portion family fortune meeting 'cousin alec proves downfall different man angel clare seems offer love salvation tess must choose whether reveal past remain silent hope peaceful future sensitive depiction wronged tess powerful criticism social convention tess d'urbervilles subtitled `` pure woman '' one moving poetic hardy 's novels based three-volume first edition shocked readers first published 1891 edition includes appendices hardy 's prefaces landscapes tess episodes originally censored graphic periodical version selection graphic illustrations seventy years penguin leading publisher classic literature english-speaking world 1,700 titles penguin classics represents global bookshelf best works throughout history across genres disciplines readers trust series provide authoritative texts enhanced introductions notes distinguished scholars contemporary authors well up-to-date translations award-winning translators\n",
      "\n",
      "Similarity Score: 0.24855491329479767\n",
      "Description 1: jane austen 's first published work meticulously constructed sparkling unique wit marianne dashwood wears heart sleeve falls love dashing unsuitable john willoughby ignores sister elinor 's warning impulsive behaviour leaves open gossip innuendo meanwhile elinor always sensitive social convention struggling conceal romantic disappointment even closest parallel experience love threatened loss sisters learn sense must mix sensibility find personal happiness society status money govern rules love edition also includes explanatory notes textual variants first second edition seventy years penguin leading publisher classic literature english-speaking world 1,700 titles penguin classics represents global bookshelf best works throughout history across genres disciplines readers trust series provide authoritative texts enhanced introductions notes distinguished scholars contemporary authors well up-to-date translations award-winning translators\n",
      "Description 2: “ lay great pearl perfect moon. ” penguin classic one steinbeck ’ taught works pearl story mexican diver kino whose discovery magnificent pearl gulf beds means promise better life impoverished family dream blinds greed suspicions pearl arouses neighbors even loving wife juana temper obsession stem events leading tragedy classic novella nobel prize-winner john steinbeck examines fallacy american dream illustrates fall innocence experienced people believe wealth erases problems penguin classics edition features introduction linda wagner-martin original illustrations mexican artist josé clemente orozco seventy years penguin leading publisher classic literature english-speaking world 1,700 titles penguin classics represents global bookshelf best works throughout history across genres disciplines readers trust series provide authoritative texts enhanced introductions notes distinguished scholars contemporary authors well up-to-date translations award-winning translators\n",
      "\n",
      "Similarity Score: 0.2875\n",
      "Description 1: jane austen 's first published work meticulously constructed sparkling unique wit marianne dashwood wears heart sleeve falls love dashing unsuitable john willoughby ignores sister elinor 's warning impulsive behaviour leaves open gossip innuendo meanwhile elinor always sensitive social convention struggling conceal romantic disappointment even closest parallel experience love threatened loss sisters learn sense must mix sensibility find personal happiness society status money govern rules love edition also includes explanatory notes textual variants first second edition seventy years penguin leading publisher classic literature english-speaking world 1,700 titles penguin classics represents global bookshelf best works throughout history across genres disciplines readers trust series provide authoritative texts enhanced introductions notes distinguished scholars contemporary authors well up-to-date translations award-winning translators\n",
      "Description 2: austen 's witty exploration perils mistaking fiction reality eventful season bath young naïve catherine morland experiences joys fashionable society first time delighted new acquaintances flirtatious isabella shares catherine 's love gothic romance horror sophisticated henry eleanor tilney invite father 's mysterious house northanger abbey imagination influenced novels sensation intrigue catherine imagines terrible crimes committed general tilney broad comedy irrepressible heroine youthful optimistic jane austen 's works seventy years penguin leading publisher classic literature english-speaking world 1,700 titles penguin classics represents global bookshelf best works throughout history across genres disciplines readers trust series provide authoritative texts enhanced introductions notes distinguished scholars contemporary authors well up-to-date translations award-winning translators\n",
      "\n",
      "Similarity Score: 0.23369565217391305\n",
      "Description 1: culmination jane austen 's genius sparkling comedy love marriage -- stunning 200th-anniversary penguin classics deluxe edition major motion picture starring anya taylor-joy beautiful clever rich -- single -- emma woodhouse perfectly content life sees need either love marriage nothing however delights interfering romantic lives others ignores warnings good friend mr. knightley attempts arrange suitable match protégée harriet smith carefully laid plans soon unravel consequences never expected imperfect charming heroine witty subtle exploration relationships emma often seen jane austen 's flawless work penguin classics deluxe edition celebrates two hundred years austen 's beloved novel beautiful cover designed illustrator dadu shin comprehensive notes drawing specially jane austen collection goucher college edition treasured students collectors alike sixty-five years penguin leading publisher classic literature english-speaking world 1,500 titles penguin classics represents global bookshelf best works throughout history across genres disciplines readers trust series provide authoritative texts enhanced introductions notes distinguished scholars contemporary authors well up-to-date translations award-winning translators\n",
      "Description 2: black comedy manners vast wealth woman define perceptions others beautiful lily bart lives among nouveaux riches new york city – people whose millions made railroads shipping land speculation banking morally aesthetically bankrupt world lily age twenty-nine seeks husband satisfy cravings endless admiration trappings wealth quest comes scandalous end accused mistress wealthy man exiled familiar world artificial conventions lily finds life impossible seventy years penguin leading publisher classic literature english-speaking world 1,700 titles penguin classics represents global bookshelf best works throughout history across genres disciplines readers trust series provide authoritative texts enhanced introductions notes distinguished scholars contemporary authors well up-to-date translations award-winning translators\n",
      "\n",
      "Similarity Score: 0.24043715846994534\n",
      "Description 1: heartbreaking portrayal woman faced impossible choice pursuit happiness tess durbeyfield driven family poverty claim kinship wealthy d'urbervilles seek portion family fortune meeting 'cousin alec proves downfall different man angel clare seems offer love salvation tess must choose whether reveal past remain silent hope peaceful future sensitive depiction wronged tess powerful criticism social convention tess d'urbervilles subtitled `` pure woman '' one moving poetic hardy 's novels based three-volume first edition shocked readers first published 1891 edition includes appendices hardy 's prefaces landscapes tess episodes originally censored graphic periodical version selection graphic illustrations seventy years penguin leading publisher classic literature english-speaking world 1,700 titles penguin classics represents global bookshelf best works throughout history across genres disciplines readers trust series provide authoritative texts enhanced introductions notes distinguished scholars contemporary authors well up-to-date translations award-winning translators\n",
      "Description 2: “ lay great pearl perfect moon. ” penguin classic one steinbeck ’ taught works pearl story mexican diver kino whose discovery magnificent pearl gulf beds means promise better life impoverished family dream blinds greed suspicions pearl arouses neighbors even loving wife juana temper obsession stem events leading tragedy classic novella nobel prize-winner john steinbeck examines fallacy american dream illustrates fall innocence experienced people believe wealth erases problems penguin classics edition features introduction linda wagner-martin original illustrations mexican artist josé clemente orozco seventy years penguin leading publisher classic literature english-speaking world 1,700 titles penguin classics represents global bookshelf best works throughout history across genres disciplines readers trust series provide authoritative texts enhanced introductions notes distinguished scholars contemporary authors well up-to-date translations award-winning translators\n",
      "\n",
      "Similarity Score: 0.2543352601156069\n",
      "Description 1: heartbreaking portrayal woman faced impossible choice pursuit happiness tess durbeyfield driven family poverty claim kinship wealthy d'urbervilles seek portion family fortune meeting 'cousin alec proves downfall different man angel clare seems offer love salvation tess must choose whether reveal past remain silent hope peaceful future sensitive depiction wronged tess powerful criticism social convention tess d'urbervilles subtitled `` pure woman '' one moving poetic hardy 's novels based three-volume first edition shocked readers first published 1891 edition includes appendices hardy 's prefaces landscapes tess episodes originally censored graphic periodical version selection graphic illustrations seventy years penguin leading publisher classic literature english-speaking world 1,700 titles penguin classics represents global bookshelf best works throughout history across genres disciplines readers trust series provide authoritative texts enhanced introductions notes distinguished scholars contemporary authors well up-to-date translations award-winning translators\n",
      "Description 2: austen 's witty exploration perils mistaking fiction reality eventful season bath young naïve catherine morland experiences joys fashionable society first time delighted new acquaintances flirtatious isabella shares catherine 's love gothic romance horror sophisticated henry eleanor tilney invite father 's mysterious house northanger abbey imagination influenced novels sensation intrigue catherine imagines terrible crimes committed general tilney broad comedy irrepressible heroine youthful optimistic jane austen 's works seventy years penguin leading publisher classic literature english-speaking world 1,700 titles penguin classics represents global bookshelf best works throughout history across genres disciplines readers trust series provide authoritative texts enhanced introductions notes distinguished scholars contemporary authors well up-to-date translations award-winning translators\n",
      "\n",
      "Similarity Score: 0.24096385542168675\n",
      "Description 1: “ lay great pearl perfect moon. ” penguin classic one steinbeck ’ taught works pearl story mexican diver kino whose discovery magnificent pearl gulf beds means promise better life impoverished family dream blinds greed suspicions pearl arouses neighbors even loving wife juana temper obsession stem events leading tragedy classic novella nobel prize-winner john steinbeck examines fallacy american dream illustrates fall innocence experienced people believe wealth erases problems penguin classics edition features introduction linda wagner-martin original illustrations mexican artist josé clemente orozco seventy years penguin leading publisher classic literature english-speaking world 1,700 titles penguin classics represents global bookshelf best works throughout history across genres disciplines readers trust series provide authoritative texts enhanced introductions notes distinguished scholars contemporary authors well up-to-date translations award-winning translators\n",
      "Description 2: austen 's witty exploration perils mistaking fiction reality eventful season bath young naïve catherine morland experiences joys fashionable society first time delighted new acquaintances flirtatious isabella shares catherine 's love gothic romance horror sophisticated henry eleanor tilney invite father 's mysterious house northanger abbey imagination influenced novels sensation intrigue catherine imagines terrible crimes committed general tilney broad comedy irrepressible heroine youthful optimistic jane austen 's works seventy years penguin leading publisher classic literature english-speaking world 1,700 titles penguin classics represents global bookshelf best works throughout history across genres disciplines readers trust series provide authoritative texts enhanced introductions notes distinguished scholars contemporary authors well up-to-date translations award-winning translators\n",
      "\n"
     ]
    }
   ],
   "source": [
    "# Implement the LSH algorithm\n",
    "b = 10\n",
    "\n",
    "def lsh(names, jaccard_threshold,seed):\n",
    "    lsh_dict = {}\n",
    "    for key, name in names.to_dict().items():\n",
    "        blocks = split_k(name,b)\n",
    "        blocks_hash_values = []\n",
    "        for aBlock in blocks:\n",
    "            blocks_hash_values.append(mmh3.hash(aBlock, seed))\n",
    "        lsh_dict[key] = blocks_hash_values\n",
    "    list_keys = list(lsh_dict.keys())\n",
    "    similar_items = {}\n",
    "    for i in range(len(list_keys)-1):\n",
    "        if i% 500 == 0:\n",
    "            print(i)\n",
    "        for j in range(i+1, len(list_keys)):\n",
    "            common_values = np.intersect1d(lsh_dict[list_keys[i]], lsh_dict[list_keys[j]])\n",
    "            if len(common_values) > 0:\n",
    "                # we found a candidate\n",
    "                similarity_score = jaccard(names[list_keys[i]], names[list_keys[j]])\n",
    "                if similarity_score >= jaccard_threshold:\n",
    "                    similar_items[(list_keys[i], list_keys[j])] = similarity_score\n",
    "    return similar_items\n",
    "\n",
    "n = len(books_data_2)\n",
    "\n",
    "descriptions = books_data_2['description_clean'][0:n]\n",
    "similar_descriptions = lsh(descriptions,jaccard_threshold=0.1,seed=42)\n",
    "# Print the results\n",
    "for (desc1, desc2), score in similar_descriptions.items():\n",
    "    if score < 1:\n",
    "        print(f\"Similarity Score: {score}\")\n",
    "        print(f\"Description 1: {descriptions[desc1]}\")\n",
    "        print(f\"Description 2: {descriptions[desc2]}\")\n",
    "        print()"
   ]
  },
  {
   "cell_type": "code",
   "execution_count": null,
   "metadata": {},
   "outputs": [
    {
     "data": {
      "text/plain": [
       "{(6, 431): 0.24858757062146894,\n",
       " (17, 22): 0.20093457943925233,\n",
       " (17, 290): 0.24022346368715083,\n",
       " (20, 64): 0.2897727272727273,\n",
       " (20, 253): 0.24855491329479767,\n",
       " (20, 451): 0.2875,\n",
       " (22, 290): 0.23369565217391305,\n",
       " (64, 253): 0.24043715846994534,\n",
       " (64, 451): 0.2543352601156069,\n",
       " (253, 451): 0.24096385542168675}"
      ]
     },
     "execution_count": 304,
     "metadata": {},
     "output_type": "execute_result"
    }
   ],
   "source": [
    "similar_descriptions_new = {}\n",
    "# Remove all with jaccard with score 1 from the dictionary similar_descriptions\n",
    "\n",
    "for (idx1, idx2), score in similar_descriptions.items():\n",
    "    if score < 1.0:\n",
    "        similar_descriptions_new[idx1,idx2] = score\n",
    "\n",
    "similar_descriptions_new"
   ]
  },
  {
   "cell_type": "code",
   "execution_count": null,
   "metadata": {},
   "outputs": [
    {
     "data": {
      "text/plain": [
       "{(6, 431): 0.24858757062146894,\n",
       " (17, 22): 0.20093457943925233,\n",
       " (17, 290): 0.24022346368715083,\n",
       " (20, 64): 0.2897727272727273,\n",
       " (20, 253): 0.24855491329479767,\n",
       " (20, 451): 0.2875,\n",
       " (22, 290): 0.23369565217391305,\n",
       " (64, 253): 0.24043715846994534,\n",
       " (64, 451): 0.2543352601156069,\n",
       " (253, 451): 0.24096385542168675}"
      ]
     },
     "execution_count": 305,
     "metadata": {},
     "output_type": "execute_result"
    }
   ],
   "source": [
    "similar_descriptions_new"
   ]
  },
  {
   "cell_type": "code",
   "execution_count": null,
   "metadata": {},
   "outputs": [
    {
     "name": "stdout",
     "output_type": "stream",
     "text": [
      "lord of the flies\n",
      "emma\n"
     ]
    }
   ],
   "source": [
    "print(books_data_2['title'][17])\n",
    "print(books_data_2['title'][22])"
   ]
  },
  {
   "cell_type": "code",
   "execution_count": null,
   "metadata": {},
   "outputs": [
    {
     "data": {
      "text/plain": [
       "{('of mice and men', 'mansfield park'): 0.24858757062146894,\n",
       " ('lord of the flies', 'emma'): 0.20093457943925233,\n",
       " ('lord of the flies', 'house of mirth'): 0.24022346368715083,\n",
       " ('sense and sensibility', 'tess of the durbervilles'): 0.2897727272727273,\n",
       " ('sense and sensibility', 'the pearl'): 0.24855491329479767,\n",
       " ('sense and sensibility', 'northanger abbey a novel'): 0.2875,\n",
       " ('emma', 'house of mirth'): 0.23369565217391305,\n",
       " ('tess of the durbervilles', 'the pearl'): 0.24043715846994534,\n",
       " ('tess of the durbervilles', 'northanger abbey a novel'): 0.2543352601156069,\n",
       " ('the pearl', 'northanger abbey a novel'): 0.24096385542168675}"
      ]
     },
     "execution_count": 307,
     "metadata": {},
     "output_type": "execute_result"
    }
   ],
   "source": [
    "similar_descriptions_titles = {(books_data_2['title'][key1], books_data_2['title'][key2]): value for (key1, key2), value in similar_descriptions_new.items()}\n",
    "similar_descriptions_titles"
   ]
  },
  {
   "cell_type": "code",
   "execution_count": null,
   "metadata": {},
   "outputs": [],
   "source": [
    "# Plot a heatmap with the found_similar_items_lhs dictionary\n",
    "import seaborn as sns\n",
    "import matplotlib.pyplot as plt\n",
    "\n",
    "# Create a heatmap\n",
    "def plot_heatmap(found_similar_items_lhs_new):\n",
    "    # Create a list of keys\n",
    "    keys = list(found_similar_items_lhs_new.keys())\n",
    "    \n",
    "    # Create a list of values\n",
    "    values = list(found_similar_items_lhs_new.values())\n",
    "    \n",
    "    # Create a list of the first items in each key\n",
    "    key1 = [key[0] for key in keys]\n",
    "    \n",
    "    # Create a list of the second items in each key\n",
    "    key2 = [key[1] for key in keys]\n",
    "    \n",
    "    # Create a dataframe with the keys and values\n",
    "    df = pd.DataFrame({'key1': key1, 'key2': key2, 'values': values})\n",
    "    \n",
    "    # Create a pivot table from the dataframe\n",
    "    df_pivot = df.pivot(index='key1', columns='key2', values='values')\n",
    "    \n",
    "    # Create a heatmap from the pivot table\n",
    "    sns.heatmap(df_pivot, cmap='crest')\n",
    "\n",
    "    # Add gridlines to the heatmap\n",
    "    plt.grid()\n",
    "    \n",
    "    plt.title('Heatmap of similar book descriptions')\n",
    "\n",
    "    # Show the plot\n",
    "    plt.show()\n"
   ]
  },
  {
   "cell_type": "code",
   "execution_count": null,
   "metadata": {},
   "outputs": [
    {
     "data": {
      "image/png": "[encoded data removed]",
      "text/plain": [
       "<Figure size 576x576 with 2 Axes>"
      ]
     },
     "metadata": {
      "needs_background": "light"
     },
     "output_type": "display_data"
    }
   ],
   "source": [
    "plt.figure(figsize=(8,8))\n",
    "plot_heatmap(similar_descriptions_titles)"
   ]
  },
  {
   "cell_type": "markdown",
   "metadata": {},
   "source": [
    "# Histogram of categories"
   ]
  },
  {
   "cell_type": "code",
   "execution_count": null,
   "metadata": {},
   "outputs": [],
   "source": [
    "import numpy as np\n",
    "from sklearn.feature_extraction.text import TfidfVectorizer\n",
    "from sklearn.manifold import TSNE\n",
    "import matplotlib.pyplot as plt"
   ]
  },
  {
   "cell_type": "code",
   "execution_count": null,
   "metadata": {},
   "outputs": [
    {
     "data": {
      "text/plain": [
       "5096              ['Fiction']\n",
       "10289                     NaN\n",
       "3263                      NaN\n",
       "2429     ['Juvenile Fiction']\n",
       "5202     ['Juvenile Fiction']\n",
       "                 ...         \n",
       "9874            ['Computers']\n",
       "24705    ['Edible mushrooms']\n",
       "9875              ['Fiction']\n",
       "24703             ['Fiction']\n",
       "32931    ['Juvenile Fiction']\n",
       "Name: categories, Length: 26072, dtype: object"
      ]
     },
     "execution_count": 325,
     "metadata": {},
     "output_type": "execute_result"
    }
   ],
   "source": [
    "books_data_1['categories']"
   ]
  },
  {
   "cell_type": "code",
   "execution_count": null,
   "metadata": {},
   "outputs": [
    {
     "name": "stdout",
     "output_type": "stream",
     "text": [
      "1125\n",
      "[\"['Fiction']\" '' \"['Juvenile Fiction']\" ... \"['Ghosts']\"\n",
      " \"['Catholic preaching']\" \"['Edible mushrooms']\"]\n"
     ]
    }
   ],
   "source": [
    "\n",
    "# Change dtype of categories to string\n",
    "# Remove nan from categories\n",
    "categories = books_data_1['categories'].fillna('').astype(str)\n",
    "categories = categories.unique()\n",
    "print(len(categories))\n",
    "print(categories)\n",
    "# Find the 10 most frequent categories\n",
    "# # Crprint(len(categories))\n"
   ]
  },
  {
   "cell_type": "code",
   "execution_count": null,
   "metadata": {},
   "outputs": [
    {
     "name": "stdout",
     "output_type": "stream",
     "text": [
      "[\"['Fiction']\", '', \"['Juvenile Fiction']\", \"['Bildungsromans']\", \"['Young Adult Fiction']\", \"['Religion']\", \"['Brothers']\", \"['Capitalism']\", \"['FICTION']\", \"['Science']\", \"['Education']\", \"['Foreign Language Study']\", \"['Ahab, Captain (Fictitious character)']\", \"['England']\", \"['Travel']\", \"['Fantasy']\", \"['Adventure stories']\", \"['Business & Economics']\", \"['Architects']\", \"['Drama']\"]\n",
      "[\"['Juvenile Fiction']\", \"['Bildungsromans']\", \"['Young Adult Fiction']\", \"['Religion']\", \"['Brothers']\", \"['Capitalism']\", \"['FICTION']\", \"['Science']\", \"['Education']\", \"['Foreign Language Study']\", \"['Ahab, Captain (Fictitious character)']\", \"['England']\", \"['Travel']\", \"['Fantasy']\", \"['Adventure stories']\", \"['Business & Economics']\", \"['Architects']\", \"['Drama']\"]\n",
      "18\n"
     ]
    }
   ],
   "source": [
    "# Find the 10 most frequent categories\n",
    "from collections import Counter\n",
    "category_counts = Counter(categories)\n",
    "#print(category_counts.most_common(10))\n",
    "\n",
    "# Create a list of the most frequent categories\n",
    "top_categories = [category for category, count in category_counts.most_common(20)]\n",
    "print(top_categories)\n",
    "\n",
    "# Remove nan from top_categories\n",
    "top_categories = [category for category in top_categories if category != 'nan']\n",
    "# Remove Fiction from top_categories\n",
    "top_categories = [category for category in top_categories if category != \"['Fiction']\"]\n",
    "top_categories = [category for category in top_categories if category != \"\"]\n",
    "print(top_categories)\n",
    "print(len(top_categories))\n"
   ]
  },
  {
   "cell_type": "code",
   "execution_count": null,
   "metadata": {},
   "outputs": [],
   "source": [
    "books_data_1['top_category'] = books_data_1['categories'] "
   ]
  },
  {
   "cell_type": "code",
   "execution_count": null,
   "metadata": {},
   "outputs": [
    {
     "data": {
      "text/html": [
       "<div>\n",
       "<style scoped>\n",
       "    .dataframe tbody tr th:only-of-type {\n",
       "        vertical-align: middle;\n",
       "    }\n",
       "\n",
       "    .dataframe tbody tr th {\n",
       "        vertical-align: top;\n",
       "    }\n",
       "\n",
       "    .dataframe thead th {\n",
       "        text-align: right;\n",
       "    }\n",
       "</style>\n",
       "<table border=\"1\" class=\"dataframe\">\n",
       "  <thead>\n",
       "    <tr style=\"text-align: right;\">\n",
       "      <th></th>\n",
       "      <th>Unnamed: 0</th>\n",
       "      <th>title</th>\n",
       "      <th>description</th>\n",
       "      <th>authors</th>\n",
       "      <th>published_date</th>\n",
       "      <th>categories</th>\n",
       "      <th>avg_rating</th>\n",
       "      <th>n_ratings</th>\n",
       "      <th>year</th>\n",
       "      <th>top_category</th>\n",
       "    </tr>\n",
       "  </thead>\n",
       "  <tbody>\n",
       "    <tr>\n",
       "      <th>5096</th>\n",
       "      <td>5096</td>\n",
       "      <td>pride and prejudice</td>\n",
       "      <td>In early nineteenth-century England, a spirite...</td>\n",
       "      <td>['Jane Austen']</td>\n",
       "      <td>1995-01-01 00:00:00+00:00</td>\n",
       "      <td>['Fiction']</td>\n",
       "      <td>4.582940</td>\n",
       "      <td>5510</td>\n",
       "      <td>1995.0</td>\n",
       "      <td>['Fiction']</td>\n",
       "    </tr>\n",
       "    <tr>\n",
       "      <th>10289</th>\n",
       "      <td>10289</td>\n",
       "      <td>wuthering heights</td>\n",
       "      <td>Wuthering Heights is the name of Mr. Heathclif...</td>\n",
       "      <td>['Emily Bronte']</td>\n",
       "      <td>NaT</td>\n",
       "      <td>NaN</td>\n",
       "      <td>4.097928</td>\n",
       "      <td>4922</td>\n",
       "      <td>NaN</td>\n",
       "      <td>NaN</td>\n",
       "    </tr>\n",
       "    <tr>\n",
       "      <th>3263</th>\n",
       "      <td>3263</td>\n",
       "      <td>the picture of dorian gray</td>\n",
       "      <td>The Picture of Dorian Gray by Oscar Wilde</td>\n",
       "      <td>['Óscar Wilde']</td>\n",
       "      <td>2016-01-24 00:00:00+00:00</td>\n",
       "      <td>NaN</td>\n",
       "      <td>4.315643</td>\n",
       "      <td>3241</td>\n",
       "      <td>2016.0</td>\n",
       "      <td>NaN</td>\n",
       "    </tr>\n",
       "    <tr>\n",
       "      <th>2429</th>\n",
       "      <td>2429</td>\n",
       "      <td>little women or meg jo beth and amy</td>\n",
       "      <td>2018 marks the 150th anniversary of the classi...</td>\n",
       "      <td>['Rey Terciero']</td>\n",
       "      <td>2019-02-05 00:00:00+00:00</td>\n",
       "      <td>['Juvenile Fiction']</td>\n",
       "      <td>4.459098</td>\n",
       "      <td>2995</td>\n",
       "      <td>2019.0</td>\n",
       "      <td>['Juvenile Fiction']</td>\n",
       "    </tr>\n",
       "    <tr>\n",
       "      <th>5202</th>\n",
       "      <td>5202</td>\n",
       "      <td>the hobbit</td>\n",
       "      <td>Celebrating 75 years of one of the world's mos...</td>\n",
       "      <td>['J. R. R. Tolkien']</td>\n",
       "      <td>2012-01-01 00:00:00+00:00</td>\n",
       "      <td>['Juvenile Fiction']</td>\n",
       "      <td>4.646341</td>\n",
       "      <td>2542</td>\n",
       "      <td>2012.0</td>\n",
       "      <td>['Juvenile Fiction']</td>\n",
       "    </tr>\n",
       "  </tbody>\n",
       "</table>\n",
       "</div>"
      ],
      "text/plain": [
       "       Unnamed: 0                                title  \\\n",
       "5096         5096                  pride and prejudice   \n",
       "10289       10289                    wuthering heights   \n",
       "3263         3263           the picture of dorian gray   \n",
       "2429         2429  little women or meg jo beth and amy   \n",
       "5202         5202                           the hobbit   \n",
       "\n",
       "                                             description  \\\n",
       "5096   In early nineteenth-century England, a spirite...   \n",
       "10289  Wuthering Heights is the name of Mr. Heathclif...   \n",
       "3263           The Picture of Dorian Gray by Oscar Wilde   \n",
       "2429   2018 marks the 150th anniversary of the classi...   \n",
       "5202   Celebrating 75 years of one of the world's mos...   \n",
       "\n",
       "                    authors            published_date            categories  \\\n",
       "5096        ['Jane Austen'] 1995-01-01 00:00:00+00:00           ['Fiction']   \n",
       "10289      ['Emily Bronte']                       NaT                   NaN   \n",
       "3263        ['Óscar Wilde'] 2016-01-24 00:00:00+00:00                   NaN   \n",
       "2429       ['Rey Terciero'] 2019-02-05 00:00:00+00:00  ['Juvenile Fiction']   \n",
       "5202   ['J. R. R. Tolkien'] 2012-01-01 00:00:00+00:00  ['Juvenile Fiction']   \n",
       "\n",
       "       avg_rating  n_ratings    year          top_category  \n",
       "5096     4.582940       5510  1995.0           ['Fiction']  \n",
       "10289    4.097928       4922     NaN                   NaN  \n",
       "3263     4.315643       3241  2016.0                   NaN  \n",
       "2429     4.459098       2995  2019.0  ['Juvenile Fiction']  \n",
       "5202     4.646341       2542  2012.0  ['Juvenile Fiction']  "
      ]
     },
     "execution_count": 359,
     "metadata": {},
     "output_type": "execute_result"
    }
   ],
   "source": [
    "books_data_1.head()"
   ]
  },
  {
   "cell_type": "code",
   "execution_count": null,
   "metadata": {},
   "outputs": [
    {
     "data": {
      "text/plain": [
       "[\"['Juvenile Fiction']\",\n",
       " \"['Bildungsromans']\",\n",
       " \"['Young Adult Fiction']\",\n",
       " \"['Religion']\",\n",
       " \"['Brothers']\",\n",
       " \"['Capitalism']\",\n",
       " \"['FICTION']\",\n",
       " \"['Science']\",\n",
       " \"['Education']\",\n",
       " \"['Foreign Language Study']\",\n",
       " \"['Ahab, Captain (Fictitious character)']\",\n",
       " \"['England']\",\n",
       " \"['Travel']\",\n",
       " \"['Fantasy']\",\n",
       " \"['Adventure stories']\",\n",
       " \"['Business & Economics']\",\n",
       " \"['Architects']\",\n",
       " \"['Drama']\"]"
      ]
     },
     "execution_count": 358,
     "metadata": {},
     "output_type": "execute_result"
    }
   ],
   "source": [
    "top_categories"
   ]
  },
  {
   "cell_type": "code",
   "execution_count": null,
   "metadata": {},
   "outputs": [],
   "source": [
    "books_data_2 = books_data_1.dropna(subset=['categories'])"
   ]
  },
  {
   "cell_type": "code",
   "execution_count": null,
   "metadata": {},
   "outputs": [
    {
     "data": {
      "text/plain": [
       "['Fiction']                                         7667\n",
       "['Juvenile Fiction']                                1692\n",
       "['Biography & Autobiography']                       1482\n",
       "['History']                                         1410\n",
       "['Religion']                                        1305\n",
       "                                                    ... \n",
       "['Beast of the Apocalypse']                            1\n",
       "['Architecture, Domestic']                             1\n",
       "['DiGriz, James Bolivar (Fictitious character)']       1\n",
       "['Hollywood (Los Angeles, Calif.)']                    1\n",
       "['Computer animation']                                 1\n",
       "Name: categories, Length: 1124, dtype: int64"
      ]
     },
     "execution_count": 367,
     "metadata": {},
     "output_type": "execute_result"
    }
   ],
   "source": [
    "cats = books_data_2['categories']\n",
    "# Remove nan from cats\n",
    "cats.value_counts()"
   ]
  },
  {
   "cell_type": "code",
   "execution_count": null,
   "metadata": {},
   "outputs": [
    {
     "data": {
      "image/png": "[encoded data removed]",
      "text/plain": [
       "<Figure size 1440x504 with 1 Axes>"
      ]
     },
     "metadata": {
      "needs_background": "light"
     },
     "output_type": "display_data"
    }
   ],
   "source": [
    "import matplotlib.pyplot as plt\n",
    "import pandas as pd\n",
    "\n",
    "# Make a histogram of the categories\n",
    "\n",
    "categories_counts = books_data_2['categories'].explode().value_counts()\n",
    "\n",
    "# Select the top 10 categories\n",
    "top_categories = categories_counts.head(10)\n",
    "\n",
    "# Plotting the histogram for the top 10 categories\n",
    "plt.figure(figsize=(20,7))\n",
    "plt.bar(top_categories.index, top_categories)\n",
    "plt.xlabel('Categories')\n",
    "plt.ylabel('Frequency')\n",
    "plt.title('Histogram of Top 10 Categories')\n",
    "plt.tight_layout()\n",
    "plt.show()"
   ]
  },
  {
   "cell_type": "markdown",
   "metadata": {},
   "source": [
    "# Clustering"
   ]
  },
  {
   "cell_type": "code",
   "execution_count": null,
   "metadata": {},
   "outputs": [
    {
     "data": {
      "text/html": [
       "<div>\n",
       "<style scoped>\n",
       "    .dataframe tbody tr th:only-of-type {\n",
       "        vertical-align: middle;\n",
       "    }\n",
       "\n",
       "    .dataframe tbody tr th {\n",
       "        vertical-align: top;\n",
       "    }\n",
       "\n",
       "    .dataframe thead th {\n",
       "        text-align: right;\n",
       "    }\n",
       "</style>\n",
       "<table border=\"1\" class=\"dataframe\">\n",
       "  <thead>\n",
       "    <tr style=\"text-align: right;\">\n",
       "      <th></th>\n",
       "      <th>Unnamed: 0</th>\n",
       "      <th>title</th>\n",
       "      <th>description</th>\n",
       "      <th>authors</th>\n",
       "      <th>published_date</th>\n",
       "      <th>categories</th>\n",
       "      <th>avg_rating</th>\n",
       "      <th>n_ratings</th>\n",
       "    </tr>\n",
       "  </thead>\n",
       "  <tbody>\n",
       "    <tr>\n",
       "      <th>5096</th>\n",
       "      <td>5096</td>\n",
       "      <td>pride and prejudice</td>\n",
       "      <td>In early nineteenth-century England, a spirite...</td>\n",
       "      <td>['Jane Austen']</td>\n",
       "      <td>1995-01-01</td>\n",
       "      <td>['Fiction']</td>\n",
       "      <td>4.582940</td>\n",
       "      <td>5510</td>\n",
       "    </tr>\n",
       "    <tr>\n",
       "      <th>10289</th>\n",
       "      <td>10289</td>\n",
       "      <td>wuthering heights</td>\n",
       "      <td>Wuthering Heights is the name of Mr. Heathclif...</td>\n",
       "      <td>['Emily Bronte']</td>\n",
       "      <td>NaN</td>\n",
       "      <td>NaN</td>\n",
       "      <td>4.097928</td>\n",
       "      <td>4922</td>\n",
       "    </tr>\n",
       "    <tr>\n",
       "      <th>3263</th>\n",
       "      <td>3263</td>\n",
       "      <td>the picture of dorian gray</td>\n",
       "      <td>The Picture of Dorian Gray by Oscar Wilde</td>\n",
       "      <td>['Óscar Wilde']</td>\n",
       "      <td>2016-01-24</td>\n",
       "      <td>NaN</td>\n",
       "      <td>4.315643</td>\n",
       "      <td>3241</td>\n",
       "    </tr>\n",
       "    <tr>\n",
       "      <th>2429</th>\n",
       "      <td>2429</td>\n",
       "      <td>little women or meg jo beth and amy</td>\n",
       "      <td>2018 marks the 150th anniversary of the classi...</td>\n",
       "      <td>['Rey Terciero']</td>\n",
       "      <td>2019-02-05</td>\n",
       "      <td>['Juvenile Fiction']</td>\n",
       "      <td>4.459098</td>\n",
       "      <td>2995</td>\n",
       "    </tr>\n",
       "    <tr>\n",
       "      <th>5202</th>\n",
       "      <td>5202</td>\n",
       "      <td>the hobbit</td>\n",
       "      <td>Celebrating 75 years of one of the world's mos...</td>\n",
       "      <td>['J. R. R. Tolkien']</td>\n",
       "      <td>2012</td>\n",
       "      <td>['Juvenile Fiction']</td>\n",
       "      <td>4.646341</td>\n",
       "      <td>2542</td>\n",
       "    </tr>\n",
       "  </tbody>\n",
       "</table>\n",
       "</div>"
      ],
      "text/plain": [
       "       Unnamed: 0                                title  \\\n",
       "5096         5096                  pride and prejudice   \n",
       "10289       10289                    wuthering heights   \n",
       "3263         3263           the picture of dorian gray   \n",
       "2429         2429  little women or meg jo beth and amy   \n",
       "5202         5202                           the hobbit   \n",
       "\n",
       "                                             description  \\\n",
       "5096   In early nineteenth-century England, a spirite...   \n",
       "10289  Wuthering Heights is the name of Mr. Heathclif...   \n",
       "3263           The Picture of Dorian Gray by Oscar Wilde   \n",
       "2429   2018 marks the 150th anniversary of the classi...   \n",
       "5202   Celebrating 75 years of one of the world's mos...   \n",
       "\n",
       "                    authors published_date            categories  avg_rating  \\\n",
       "5096        ['Jane Austen']     1995-01-01           ['Fiction']    4.582940   \n",
       "10289      ['Emily Bronte']            NaN                   NaN    4.097928   \n",
       "3263        ['Óscar Wilde']     2016-01-24                   NaN    4.315643   \n",
       "2429       ['Rey Terciero']     2019-02-05  ['Juvenile Fiction']    4.459098   \n",
       "5202   ['J. R. R. Tolkien']           2012  ['Juvenile Fiction']    4.646341   \n",
       "\n",
       "       n_ratings  \n",
       "5096        5510  \n",
       "10289       4922  \n",
       "3263        3241  \n",
       "2429        2995  \n",
       "5202        2542  "
      ]
     },
     "execution_count": 310,
     "metadata": {},
     "output_type": "execute_result"
    }
   ],
   "source": [
    "# Find dtypes of books_data_1\n",
    "books_data_1.head()"
   ]
  },
  {
   "cell_type": "code",
   "execution_count": null,
   "metadata": {},
   "outputs": [
    {
     "name": "stdout",
     "output_type": "stream",
     "text": [
      "<class 'pandas.core.frame.DataFrame'>\n",
      "Int64Index: 26072 entries, 5096 to 32931\n",
      "Data columns (total 8 columns):\n",
      " #   Column          Non-Null Count  Dtype  \n",
      "---  ------          --------------  -----  \n",
      " 0   Unnamed: 0      26072 non-null  int64  \n",
      " 1   title           26071 non-null  object \n",
      " 2   description     26072 non-null  object \n",
      " 3   authors         25836 non-null  object \n",
      " 4   published_date  26030 non-null  object \n",
      " 5   categories      25304 non-null  object \n",
      " 6   avg_rating      26072 non-null  float64\n",
      " 7   n_ratings       26072 non-null  int64  \n",
      "dtypes: float64(1), int64(2), object(5)\n",
      "memory usage: 1.8+ MB\n"
     ]
    }
   ],
   "source": [
    "books_data_1.info()"
   ]
  },
  {
   "cell_type": "code",
   "execution_count": null,
   "metadata": {},
   "outputs": [
    {
     "data": {
      "text/plain": [
       "5096     1995-01-01\n",
       "10289           NaN\n",
       "3263     2016-01-24\n",
       "2429     2019-02-05\n",
       "5202           2012\n",
       "            ...    \n",
       "9874     2001-12-20\n",
       "24705    2002-02-01\n",
       "9875     2002-02-26\n",
       "24703    2011-07-15\n",
       "32931    2000-06-01\n",
       "Name: published_date, Length: 26072, dtype: object"
      ]
     },
     "execution_count": 312,
     "metadata": {},
     "output_type": "execute_result"
    }
   ],
   "source": [
    "books_data_1['published_date']\n"
   ]
  },
  {
   "cell_type": "code",
   "execution_count": null,
   "metadata": {},
   "outputs": [],
   "source": [
    "# Convert dtype of published_date to datetime from object\n",
    "books_data_1['published_date'] = pd.to_datetime(books_data_1['published_date'], format='%Y-%m-%d', errors='coerce', utc=True)"
   ]
  },
  {
   "cell_type": "code",
   "execution_count": null,
   "metadata": {},
   "outputs": [
    {
     "name": "stdout",
     "output_type": "stream",
     "text": [
      "<class 'pandas.core.frame.DataFrame'>\n",
      "Int64Index: 26072 entries, 5096 to 32931\n",
      "Data columns (total 8 columns):\n",
      " #   Column          Non-Null Count  Dtype              \n",
      "---  ------          --------------  -----              \n",
      " 0   Unnamed: 0      26072 non-null  int64              \n",
      " 1   title           26071 non-null  object             \n",
      " 2   description     26072 non-null  object             \n",
      " 3   authors         25836 non-null  object             \n",
      " 4   published_date  26026 non-null  datetime64[ns, UTC]\n",
      " 5   categories      25304 non-null  object             \n",
      " 6   avg_rating      26072 non-null  float64            \n",
      " 7   n_ratings       26072 non-null  int64              \n",
      "dtypes: datetime64[ns, UTC](1), float64(1), int64(2), object(4)\n",
      "memory usage: 1.8+ MB\n"
     ]
    }
   ],
   "source": [
    "books_data_1.info()"
   ]
  },
  {
   "cell_type": "code",
   "execution_count": null,
   "metadata": {},
   "outputs": [],
   "source": [
    "# Make a new column that only contains the year\n",
    "books_data_1['year'] = books_data_1['published_date'].dt.year"
   ]
  },
  {
   "cell_type": "code",
   "execution_count": null,
   "metadata": {},
   "outputs": [],
   "source": [
    "# Delete rows where year is NaT or inf\n",
    "books_data_2 = books_data_1[books_data_1['year'].notna()]"
   ]
  },
  {
   "cell_type": "code",
   "execution_count": null,
   "metadata": {},
   "outputs": [
    {
     "name": "stderr",
     "output_type": "stream",
     "text": [
      "<ipython-input-317-e19badb3a1f8>:1: SettingWithCopyWarning: \n",
      "A value is trying to be set on a copy of a slice from a DataFrame.\n",
      "Try using .loc[row_indexer,col_indexer] = value instead\n",
      "\n",
      "See the caveats in the documentation: https://pandas.pydata.org/pandas-docs/stable/user_guide/indexing.html#returning-a-view-versus-a-copy\n",
      "  books_data_2['year'] = books_data_2['year'].astype(int)\n"
     ]
    },
    {
     "data": {
      "text/html": [
       "<div>\n",
       "<style scoped>\n",
       "    .dataframe tbody tr th:only-of-type {\n",
       "        vertical-align: middle;\n",
       "    }\n",
       "\n",
       "    .dataframe tbody tr th {\n",
       "        vertical-align: top;\n",
       "    }\n",
       "\n",
       "    .dataframe thead th {\n",
       "        text-align: right;\n",
       "    }\n",
       "</style>\n",
       "<table border=\"1\" class=\"dataframe\">\n",
       "  <thead>\n",
       "    <tr style=\"text-align: right;\">\n",
       "      <th></th>\n",
       "      <th>Unnamed: 0</th>\n",
       "      <th>title</th>\n",
       "      <th>description</th>\n",
       "      <th>authors</th>\n",
       "      <th>published_date</th>\n",
       "      <th>categories</th>\n",
       "      <th>avg_rating</th>\n",
       "      <th>n_ratings</th>\n",
       "      <th>year</th>\n",
       "    </tr>\n",
       "  </thead>\n",
       "  <tbody>\n",
       "    <tr>\n",
       "      <th>5096</th>\n",
       "      <td>5096</td>\n",
       "      <td>pride and prejudice</td>\n",
       "      <td>In early nineteenth-century England, a spirite...</td>\n",
       "      <td>['Jane Austen']</td>\n",
       "      <td>1995-01-01 00:00:00+00:00</td>\n",
       "      <td>['Fiction']</td>\n",
       "      <td>4.582940</td>\n",
       "      <td>5510</td>\n",
       "      <td>1995</td>\n",
       "    </tr>\n",
       "    <tr>\n",
       "      <th>3263</th>\n",
       "      <td>3263</td>\n",
       "      <td>the picture of dorian gray</td>\n",
       "      <td>The Picture of Dorian Gray by Oscar Wilde</td>\n",
       "      <td>['Óscar Wilde']</td>\n",
       "      <td>2016-01-24 00:00:00+00:00</td>\n",
       "      <td>NaN</td>\n",
       "      <td>4.315643</td>\n",
       "      <td>3241</td>\n",
       "      <td>2016</td>\n",
       "    </tr>\n",
       "    <tr>\n",
       "      <th>2429</th>\n",
       "      <td>2429</td>\n",
       "      <td>little women or meg jo beth and amy</td>\n",
       "      <td>2018 marks the 150th anniversary of the classi...</td>\n",
       "      <td>['Rey Terciero']</td>\n",
       "      <td>2019-02-05 00:00:00+00:00</td>\n",
       "      <td>['Juvenile Fiction']</td>\n",
       "      <td>4.459098</td>\n",
       "      <td>2995</td>\n",
       "      <td>2019</td>\n",
       "    </tr>\n",
       "    <tr>\n",
       "      <th>5202</th>\n",
       "      <td>5202</td>\n",
       "      <td>the hobbit</td>\n",
       "      <td>Celebrating 75 years of one of the world's mos...</td>\n",
       "      <td>['J. R. R. Tolkien']</td>\n",
       "      <td>2012-01-01 00:00:00+00:00</td>\n",
       "      <td>['Juvenile Fiction']</td>\n",
       "      <td>4.646341</td>\n",
       "      <td>2542</td>\n",
       "      <td>2012</td>\n",
       "    </tr>\n",
       "    <tr>\n",
       "      <th>1147</th>\n",
       "      <td>1147</td>\n",
       "      <td>great expectations</td>\n",
       "      <td>Penguin Classics e-books give you the best pos...</td>\n",
       "      <td>['Charles Dickens']</td>\n",
       "      <td>2003-01-30 00:00:00+00:00</td>\n",
       "      <td>['Fiction']</td>\n",
       "      <td>4.365377</td>\n",
       "      <td>2455</td>\n",
       "      <td>2003</td>\n",
       "    </tr>\n",
       "  </tbody>\n",
       "</table>\n",
       "</div>"
      ],
      "text/plain": [
       "      Unnamed: 0                                title  \\\n",
       "5096        5096                  pride and prejudice   \n",
       "3263        3263           the picture of dorian gray   \n",
       "2429        2429  little women or meg jo beth and amy   \n",
       "5202        5202                           the hobbit   \n",
       "1147        1147                   great expectations   \n",
       "\n",
       "                                            description               authors  \\\n",
       "5096  In early nineteenth-century England, a spirite...       ['Jane Austen']   \n",
       "3263          The Picture of Dorian Gray by Oscar Wilde       ['Óscar Wilde']   \n",
       "2429  2018 marks the 150th anniversary of the classi...      ['Rey Terciero']   \n",
       "5202  Celebrating 75 years of one of the world's mos...  ['J. R. R. Tolkien']   \n",
       "1147  Penguin Classics e-books give you the best pos...   ['Charles Dickens']   \n",
       "\n",
       "                published_date            categories  avg_rating  n_ratings  \\\n",
       "5096 1995-01-01 00:00:00+00:00           ['Fiction']    4.582940       5510   \n",
       "3263 2016-01-24 00:00:00+00:00                   NaN    4.315643       3241   \n",
       "2429 2019-02-05 00:00:00+00:00  ['Juvenile Fiction']    4.459098       2995   \n",
       "5202 2012-01-01 00:00:00+00:00  ['Juvenile Fiction']    4.646341       2542   \n",
       "1147 2003-01-30 00:00:00+00:00           ['Fiction']    4.365377       2455   \n",
       "\n",
       "      year  \n",
       "5096  1995  \n",
       "3263  2016  \n",
       "2429  2019  \n",
       "5202  2012  \n",
       "1147  2003  "
      ]
     },
     "execution_count": 317,
     "metadata": {},
     "output_type": "execute_result"
    }
   ],
   "source": [
    "books_data_2['year'] = books_data_2['year'].astype(int)\n",
    "books_data_2.head()"
   ]
  },
  {
   "cell_type": "code",
   "execution_count": null,
   "metadata": {},
   "outputs": [
    {
     "name": "stdout",
     "output_type": "stream",
     "text": [
      "<class 'pandas.core.frame.DataFrame'>\n",
      "Int64Index: 26026 entries, 5096 to 32931\n",
      "Data columns (total 9 columns):\n",
      " #   Column          Non-Null Count  Dtype              \n",
      "---  ------          --------------  -----              \n",
      " 0   Unnamed: 0      26026 non-null  int64              \n",
      " 1   title           26025 non-null  object             \n",
      " 2   description     26026 non-null  object             \n",
      " 3   authors         25790 non-null  object             \n",
      " 4   published_date  26026 non-null  datetime64[ns, UTC]\n",
      " 5   categories      25268 non-null  object             \n",
      " 6   avg_rating      26026 non-null  float64            \n",
      " 7   n_ratings       26026 non-null  int64              \n",
      " 8   year            26026 non-null  int32              \n",
      "dtypes: datetime64[ns, UTC](1), float64(1), int32(1), int64(2), object(4)\n",
      "memory usage: 1.9+ MB\n"
     ]
    }
   ],
   "source": [
    "books_data_2.info()"
   ]
  },
  {
   "cell_type": "code",
   "execution_count": null,
   "metadata": {},
   "outputs": [
    {
     "name": "stderr",
     "output_type": "stream",
     "text": [
      "<ipython-input-323-fdd28ee5e388>:17: SettingWithCopyWarning: \n",
      "A value is trying to be set on a copy of a slice from a DataFrame.\n",
      "Try using .loc[row_indexer,col_indexer] = value instead\n",
      "\n",
      "See the caveats in the documentation: https://pandas.pydata.org/pandas-docs/stable/user_guide/indexing.html#returning-a-view-versus-a-copy\n",
      "  books_data_2['cluster'] = kmeans.labels_\n"
     ]
    },
    {
     "data": {
      "image/png": "[encoded data removed]",
      "text/plain": [
       "<Figure size 576x432 with 1 Axes>"
      ]
     },
     "metadata": {
      "needs_background": "light"
     },
     "output_type": "display_data"
    }
   ],
   "source": [
    "# Cluster books based on avg_rating and year\n",
    "from sklearn.cluster import KMeans\n",
    "from sklearn.preprocessing import StandardScaler\n",
    "import matplotlib.pyplot as plt\n",
    "import seaborn as sns\n",
    "\n",
    "# Create a StandardScaler instance\n",
    "scaler = StandardScaler()\n",
    "\n",
    "# Fit and transform the data with the scaler\n",
    "scaled_features = scaler.fit_transform(books_data_2[['avg_rating', 'year']])\n",
    "\n",
    "# Perform K-Means clustering on the standardized data\n",
    "kmeans = KMeans(n_clusters=5, random_state=0).fit(scaled_features)\n",
    "\n",
    "# Add the cluster labels to your DataFrame\n",
    "books_data_2['cluster'] = kmeans.labels_\n",
    "\n",
    "# Create a scatter plot of the clusters\n",
    "plt.figure(figsize=(8, 6))\n",
    "\n",
    "# Use seaborn to create the scatter plot with different colors for each cluster\n",
    "sns.scatterplot(x='avg_rating', y='year', data=books_data_2, hue='cluster', palette='viridis')\n",
    "\n",
    "# Add labels and a legend\n",
    "plt.xlabel('Average Rating')\n",
    "plt.ylabel('Year')\n",
    "plt.title('Clustered Books based on Average Rating and Year')\n",
    "plt.legend(title='Cluster')\n",
    "\n",
    "# Show the plot\n",
    "plt.show()"
   ]
  }
 ],
 "metadata": {
  "kernelspec": {
   "display_name": "comptool",
   "language": "python",
   "name": "python3"
  },
  "language_info": {
   "codemirror_mode": {
    "name": "ipython",
    "version": 3
   },
   "file_extension": ".py",
   "mimetype": "text/x-python",
   "name": "python",
   "nbconvert_exporter": "python",
   "pygments_lexer": "ipython3",
   "version": "3.8.5"
  },
  "orig_nbformat": 4
 },
 "nbformat": 4,
 "nbformat_minor": 2
}
