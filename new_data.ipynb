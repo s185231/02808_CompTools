{
 "cells": [
  {
   "cell_type": "code",
   "execution_count": 152,
   "outputs": [
    {
     "name": "stdout",
     "output_type": "stream",
     "text": [
      "env: VARIABLE=comptools-env\n"
     ]
    }
   ],
   "source": [
    "%env VARIABLE=comptools-env"
   ],
   "metadata": {
    "collapsed": false,
    "ExecuteTime": {
     "end_time": "2023-10-30T12:40:10.422165400Z",
     "start_time": "2023-10-30T12:40:10.120526700Z"
    }
   },
   "id": "1836365cafbc0824"
  },
  {
   "cell_type": "code",
   "execution_count": 153,
   "outputs": [
    {
     "name": "stdout",
     "output_type": "stream",
     "text": [
      "Books data has 10 columns with 212404 rows each.\n",
      "Books ratings has 10 columns with 3000000 rows each.\n"
     ]
    }
   ],
   "source": [
    "import pandas as pd\n",
    "books_data = pd.read_csv('data/books_data.csv') #, nrows=1000)\n",
    "print(f\"Books data has \" + str(books_data.columns.size) + \" columns with \" + str(books_data.shape[0]) + \" rows each.\")\n",
    "books_ratings = pd.read_csv('data/books_rating.csv') #, nrows=1000)\n",
    "print(f\"Books ratings has \" + str(books_ratings.columns.size) + \" columns with \" + str(books_ratings.shape[0]) + \" rows each.\")"
   ],
   "metadata": {
    "collapsed": false,
    "ExecuteTime": {
     "end_time": "2023-10-30T12:42:39.074870200Z",
     "start_time": "2023-10-30T12:40:10.151254400Z"
    }
   },
   "id": "361b23418fb2f778"
  },
  {
   "cell_type": "code",
   "execution_count": 154,
   "outputs": [
    {
     "name": "stdout",
     "output_type": "stream",
     "text": [
      "Books data now only has 5 columns - ['title', 'description', 'authors', 'published_date', 'categories']\n",
      "Books ratings now only has 6 columns - ['title', 'user_id', 'helpfulness', 'score', 'summary', 'text']\n"
     ]
    }
   ],
   "source": [
    "# Titles\n",
    "books_data_1 = books_data.drop(['image', 'previewLink', 'infoLink', 'publisher', 'ratingsCount'], axis=1, inplace=False)\n",
    "books_ratings_1 = books_ratings.drop(['Id','Price', 'profileName', 'review/time'], axis=1, inplace=False)\n",
    "\n",
    "books_data_1.rename(columns={'Title': 'title','publishedDate': 'published_date'}, inplace=True)\n",
    "books_ratings_1.rename(columns={'Title': 'title','User_id':'user_id',  'review/score': 'score','review/helpfulness': 'helpfulness', 'review/text': 'text', 'review/summary': 'summary'}, inplace=True)\n",
    "print(f\"Books data now only has \" + str(books_data_1.columns.size) + \" columns - \" + str(list(books_data_1.columns)))\n",
    "print(f\"Books ratings now only has \" + str(books_ratings_1.columns.size) + \" columns - \" + str(list(books_ratings_1.columns))) \n"
   ],
   "metadata": {
    "collapsed": false,
    "ExecuteTime": {
     "end_time": "2023-10-30T12:43:27.158231500Z",
     "start_time": "2023-10-30T12:42:38.997444900Z"
    }
   },
   "id": "4e683b0b3a4fef0f"
  },
  {
   "cell_type": "code",
   "execution_count": 155,
   "outputs": [
    {
     "name": "stdout",
     "output_type": "stream",
     "text": [
      "Both datasets' titles are now all lowercase and only include letters and spaces.\n"
     ]
    }
   ],
   "source": [
    "#Makes all titles lowercase; then removes any part of the title that includes a parenthesis, and replaces any ampersands with 'and'\n",
    "books_data_1['title'] = books_data_1['title'].map(lambda s: s.lower() if type(s) == str else s)\n",
    "books_data_1['title'] = books_data_1['title'].replace(r\"\\(.*\\)\",\"\", regex=True)\n",
    "books_data_1['title'] = books_data_1['title'].replace(r\"\\&\",\"and\", regex=True)\n",
    "\n",
    "books_ratings_1['title'] = books_ratings_1['title'].map(lambda s: s.lower() if type(s) == str else s)\n",
    "books_ratings_1['title'] = books_ratings_1['title'].replace(r\"\\(.*\\)\",\"\", regex=True)\n",
    "books_ratings_1['title'] = books_ratings_1['title'].replace(r\"\\&\",\"and\", regex=True)\n",
    "\n",
    "#Removes any characters that aren't letters or spaces.\n",
    "books_data_1['title'] = books_data_1['title'].replace(r\"[^a-zA-Z0-9\\s]+\", \"\", regex=True)\n",
    "books_ratings_1['title'] = books_ratings_1['title'].replace(r\"[^a-zA-Z0-9\\s]+\", \"\", regex=True)\n",
    "\n",
    "print(\"Both datasets' titles are now all lowercase and only include letters and spaces.\")\n"
   ],
   "metadata": {
    "collapsed": false,
    "ExecuteTime": {
     "end_time": "2023-10-30T12:43:51.162778600Z",
     "start_time": "2023-10-30T12:43:27.191130600Z"
    }
   },
   "id": "28ac36b6874efe74"
  },
  {
   "cell_type": "code",
   "execution_count": 156,
   "outputs": [
    {
     "name": "stdout",
     "output_type": "stream",
     "text": [
      "Books data has 212404 titles.\n",
      "Dropped 7500 duplicate titles. Now there are only 204904 rows left. \n"
     ]
    }
   ],
   "source": [
    "# keep only unique titles in books_data_1\n",
    "#size of books_data_1\n",
    "prev_size = len(books_data_1['title'])\n",
    "print(f\"Books data has \" + str(len(books_data_1['title'])) + \" titles.\")\n",
    "books_data_1 = books_data_1.drop_duplicates(subset=['title'], keep='first')\n",
    "print(f\"Dropped \" + str(prev_size - len(books_data_1['title'])) + \" duplicate titles. Now there are only \" + str(len(books_data_1['title'])) + \" rows left. \")\n",
    "\n",
    "#Remove NAN titles\n",
    "print(f\"\" + str(books_ratings_1['title'].isnull().sum().sum()) + \" total NAN values present in title\")\n",
    "books_ratings_1 = books_ratings_1.dropna(subset=['title'])\n",
    "print(f\"Now there are \" + str(books_ratings_1['title'].isnull().sum().sum()))\n",
    "\n"
   ],
   "metadata": {
    "collapsed": false,
    "ExecuteTime": {
     "end_time": "2023-10-30T12:43:53.407896400Z",
     "start_time": "2023-10-30T12:43:51.173844900Z"
    }
   },
   "id": "26aa9480ac40b0af"
  },
  {
   "cell_type": "code",
   "execution_count": 157,
   "outputs": [
    {
     "name": "stdout",
     "output_type": "stream",
     "text": [
      "Books ratings has 3000000 rows.\n",
      "Dropped based on total duplicity. Books ratings now has 2432035 rows.  -567965 rows.\n",
      "Dropped based on duplicate title. Books ratings now has 2027318 rows.  -404717 rows.\n",
      "Dropped based on duplicate text. Books ratings now has 1748116 rows.  -279202 rows.\n"
     ]
    }
   ],
   "source": [
    "#Drop duplicate reviews where same user reviews same book multiple times\n",
    "print(f\"Books ratings has \" + str(len(books_ratings_1['title'])) + \" rows.\")\n",
    "prevRatings = len(books_ratings_1['title'])\n",
    "books_ratings_1.drop_duplicates(keep='first', inplace=True)\n",
    "print(f\"Dropped based on total duplicity. Books ratings now has \" + str(len(books_ratings_1['title'])) + \" rows. \" + \" -\" + str(prevRatings-len(books_ratings_1['title'])) + \" rows.\")\n",
    "prevRatings = len(books_ratings_1['title'])\n",
    "books_ratings_1.drop_duplicates(subset=['user_id', 'title'], keep='first', inplace=True)\n",
    "print(f\"Dropped based on duplicate title. Books ratings now has \" + str(len(books_ratings_1['title'])) + \" rows. \" + \" -\" + str(prevRatings-len(books_ratings_1['title'])) + \" rows.\")\n",
    "prevRatings = len(books_ratings_1['title'])\n",
    "books_ratings_1.drop_duplicates(subset=['user_id', 'text'], keep='first', inplace=True)\n",
    "print(f\"Dropped based on duplicate text. Books ratings now has \" + str(len(books_ratings_1['title'])) + \" rows. \" + \" -\" + str(prevRatings-len(books_ratings_1['title'])) + \" rows.\")\n"
   ],
   "metadata": {
    "collapsed": false,
    "ExecuteTime": {
     "end_time": "2023-10-30T12:45:02.832303300Z",
     "start_time": "2023-10-30T12:43:53.438245800Z"
    }
   },
   "id": "b09121723c055517"
  },
  {
   "cell_type": "code",
   "execution_count": 159,
   "outputs": [
    {
     "name": "stdout",
     "output_type": "stream",
     "text": [
      "Books_ratings has 1748097 rows.\n",
      "Books_ratings now has 1287419 rows. -460678 rows. \n",
      "Books_data now has an additional column. (n_ratings)\n"
     ]
    }
   ],
   "source": [
    "#Collect only ratings for books that have received at least 10 ratings.\n",
    "#Add a new column in books_data_1 that counts the number of ratings for each book with a score of at least 10\n",
    "\n",
    "#Note that by removing duplicate reviews first, counting the number of reviews for each book afterward will be more accurate.\n",
    "print(f\"Books_ratings has \" + str(len(books_ratings_1['title'])) + \" rows.\")\n",
    "prev_rows = len(books_ratings_1['title'])\n",
    "\n",
    "n_ratings = books_ratings_1.groupby('title').count()['score']>=10\n",
    "famous_books = n_ratings[n_ratings==True].index\n",
    "books_ratings_1 = books_ratings_1[books_ratings_1['title'].isin(famous_books)]\n",
    "n_ratings_1 = books_ratings_1['title'].value_counts().rename(\"n_ratings\")\n",
    "books_data_1 = books_data_1.merge(n_ratings_1, on='title', how='inner')\n",
    "\n",
    "print(f\"Books_ratings now has \" + str(len(books_ratings_1['title'])) + \" rows. -\" + str(prev_rows - len(books_ratings_1['title'])) + \" rows. \")\n",
    "print(f\"Books_data now has an additional column. (n_ratings)\")\n"
   ],
   "metadata": {
    "collapsed": false,
    "ExecuteTime": {
     "end_time": "2023-10-30T12:45:10.965218100Z",
     "start_time": "2023-10-30T12:45:05.966782500Z"
    }
   },
   "id": "f30c9015edd25bf1"
  },
  {
   "cell_type": "code",
   "execution_count": 160,
   "outputs": [
    {
     "name": "stdout",
     "output_type": "stream",
     "text": [
      "Books data has 6 columns with 33446 rows each. -0 rows.\n"
     ]
    }
   ],
   "source": [
    "#purge books where n_ratings < 10 (redundant operation)\n",
    "prevBooks = len(books_data_1['title'])\n",
    "books_data_1 = books_data_1[books_data_1['n_ratings']>=10]\n",
    "print(f\"Books data has \" + str(books_data_1.columns.size) + \" columns with \" + str(books_data_1.shape[0]) + \" rows each.\" + \" -\" + str(prevBooks-len(books_data_1['title'])) + \" rows.\")"
   ],
   "metadata": {
    "collapsed": false,
    "ExecuteTime": {
     "end_time": "2023-10-30T12:45:10.990323900Z",
     "start_time": "2023-10-30T12:45:10.965218100Z"
    }
   },
   "id": "b13ea696aba6df66"
  },
  {
   "cell_type": "code",
   "execution_count": 161,
   "outputs": [
    {
     "name": "stdout",
     "output_type": "stream",
     "text": [
      "Books ratings has 6 columns with 168980 rows each. -1118439 rows.\n",
      "3417 users remain who have rated at least 20 books.\n"
     ]
    }
   ],
   "source": [
    "#Remove ratings from users who have rated less than 20 books.\n",
    "prevRatings = len(books_ratings_1['title'])\n",
    "x = books_ratings_1.groupby('user_id').count()['score'] >= 20 # since this is what amazon requires before a user can get recommendations\n",
    "considerable_users = x[x].index\n",
    "books_ratings_1 = books_ratings_1[books_ratings_1['user_id'].isin(considerable_users)]\n",
    "\n",
    "print(f\"Books ratings has \" + str(books_ratings_1.shape[0]) + \" rows.\" + \" -\" + str(prevRatings-len(books_ratings_1['title'])) + \" rows.\")\n",
    "print(f\"\" + str(len(books_ratings_1['user_id'].value_counts())) + \" users remain who have rated at least 20 books.\")"
   ],
   "metadata": {
    "collapsed": false,
    "ExecuteTime": {
     "end_time": "2023-10-30T12:45:14.355160600Z",
     "start_time": "2023-10-30T12:45:11.006088800Z"
    }
   },
   "id": "a76984b6b5ece24a"
  },
  {
   "cell_type": "code",
   "execution_count": 162,
   "outputs": [
    {
     "name": "stdout",
     "output_type": "stream",
     "text": [
      "Books data now has an additional column. (avg_rating)\n"
     ]
    }
   ],
   "source": [
    "avg_rating = books_ratings_1.groupby('title')[\"score\"].mean().rename(\"avg_rating\")\n",
    "books_data_1 = books_data_1.merge(avg_rating, on='title', how='inner')\n",
    "print(f\"Books data now has an additional column. (avg_rating)\")"
   ],
   "metadata": {
    "collapsed": false,
    "ExecuteTime": {
     "end_time": "2023-10-30T12:45:14.612335Z",
     "start_time": "2023-10-30T12:45:14.395517Z"
    }
   },
   "id": "b1a05bb19481306b"
  },
  {
   "cell_type": "code",
   "execution_count": 163,
   "outputs": [],
   "source": [
    "#\n",
    "def get_n_helpful(x):\n",
    "    if isinstance(x, str) and '/' in x:\n",
    "        num, denom = x.split('/')\n",
    "        return int(denom)\n",
    "    else:\n",
    "        return x\n",
    "\n",
    "def replace_fraction(x):\n",
    "    if isinstance(x, str) and '/' in x:\n",
    "        num, denom = x.split('/')\n",
    "        if denom == '0':\n",
    "            return 0\n",
    "        else:\n",
    "            return int(num) / int(denom)\n",
    "    else:\n",
    "        return x\n",
    "\n",
    "books_ratings_1['helpfulness_count'] = books_ratings_1['helpfulness'].apply(get_n_helpful)\n",
    "books_ratings_1['helpfulness_pct'] = books_ratings_1['helpfulness'].apply(replace_fraction)\n"
   ],
   "metadata": {
    "collapsed": false,
    "ExecuteTime": {
     "end_time": "2023-10-30T12:45:15.022360300Z",
     "start_time": "2023-10-30T12:45:14.617847800Z"
    }
   },
   "id": "ac61d5cc6189fc85"
  },
  {
   "cell_type": "code",
   "execution_count": 164,
   "outputs": [
    {
     "name": "stdout",
     "output_type": "stream",
     "text": [
      "First we had 212404 books and 3000000 ratings.\n",
      "Now we have 25402 books and 168980 ratings. -88.04% books and -94.37% ratings.\n"
     ]
    }
   ],
   "source": [
    "import os\n",
    "if not os.path.exists('clean_data'):\n",
    "    os.makedirs('clean_data')\n",
    "\n",
    "# save clean data\n",
    "books_data_1.to_csv('clean_data/books_data_clean.csv', index=False)\n",
    "books_ratings_1.to_csv('clean_data/books_rating_clean.csv', index=False)\n",
    "\n",
    "prevBooks = len(books_data)\n",
    "prevRatings = len(books_ratings)\n",
    "newBooks = len(books_data_1)\n",
    "newRatings = len(books_ratings_1)\n",
    "\n",
    "print(f\"First we had \" + str(prevBooks) + \" books and \" + str(prevRatings) + \" ratings.\")\n",
    "print(f\"Now we have \" + str(newBooks) + \" books and \" + str(newRatings) + \" ratings. -\" + str(round((prevBooks-newBooks)/prevBooks*100,2)) + \"% books and -\" + str(round((prevRatings-newRatings)/prevRatings*100,2)) + \"% ratings.\")"
   ],
   "metadata": {
    "collapsed": false,
    "ExecuteTime": {
     "end_time": "2023-10-30T12:45:28.569544400Z",
     "start_time": "2023-10-30T12:45:15.020853200Z"
    }
   },
   "id": "e6c5f48a3a619416"
  },
  {
   "cell_type": "markdown",
   "source": [
    "<h2>Code from here on down is not saved to the csv file.</h2>"
   ],
   "metadata": {
    "collapsed": false
   },
   "id": "793f1f3c1f8fe2b0"
  },
  {
   "cell_type": "code",
   "execution_count": 23,
   "outputs": [
    {
     "name": "stdout",
     "output_type": "stream",
     "text": [
      "Books data has 7 columns with 25402 rows each.\n",
      "Books ratings has 8 columns with 168980 rows each.\n"
     ]
    }
   ],
   "source": [
    "import pandas as pd\n",
    "books_data_1 = pd.read_csv('clean_data/books_data_clean.csv') #, nrows=1000)\n",
    "print(f\"Books data has \" + str(books_data_1.columns.size) + \" columns with \" + str(books_data_1.shape[0]) + \" rows each.\")\n",
    "books_ratings_1 = pd.read_csv('clean_data/books_rating_clean.csv') #, nrows=1000)\n",
    "print(f\"Books ratings has \" + str(books_ratings_1.columns.size) + \" columns with \" + str(books_ratings_1.shape[0]) + \" rows each.\")"
   ],
   "metadata": {
    "collapsed": false,
    "ExecuteTime": {
     "end_time": "2023-11-06T15:20:49.774870700Z",
     "start_time": "2023-11-06T15:20:40.675831400Z"
    }
   },
   "id": "346692a420d418e5"
  },
  {
   "cell_type": "code",
   "execution_count": 166,
   "outputs": [
    {
     "data": {
      "text/plain": "user_id\nAFVQZQ8PW0L       1963\nA14OJS0VWMOSWO    1740\nA1X8VZWTOG8IS6     765\nA1K1JW1C5CUSUZ     677\nA2F6N60Z96CAJI     557\n                  ... \nACK3TZEDR258N       20\nAJN24TVEGZEI4       20\nA1X9YMZQ2XXDCI      20\nA31Y9DLKVASJQY      20\nA2XZW1WV871DIO      20\nName: count, Length: 3417, dtype: int64"
     },
     "execution_count": 166,
     "metadata": {},
     "output_type": "execute_result"
    }
   ],
   "source": [
    "books_ratings_1['user_id'].value_counts()\n",
    "#Looked at the ratings for the top 2 users and found nothing remarkable. The review text is cut off after a small number of words, so it is tough to see if they are automated reviews, as most of them more or less just describe the book rather than the reader's opinion of it."
   ],
   "metadata": {
    "collapsed": false,
    "ExecuteTime": {
     "end_time": "2023-10-30T12:45:40.934387100Z",
     "start_time": "2023-10-30T12:45:40.760390600Z"
    }
   },
   "id": "d196d12dafb69ef4"
  },
  {
   "cell_type": "code",
   "execution_count": null,
   "outputs": [],
   "source": [
    "# extract all books rated by the top user by number of ratings, to check for duplicate reviews (spam)\n",
    "books_ratings_1[books_ratings_1['user_id'] == 'AFVQZQ8PW0L']['summary'].value_counts()"
   ],
   "metadata": {
    "collapsed": false
   },
   "id": "3adc2930a7d3a3cf"
  },
  {
   "cell_type": "code",
   "execution_count": null,
   "outputs": [],
   "source": [
    "books_ratings_1[books_ratings_1['user_id'] == 'AFVQZQ8PW0L']['text'].loc[34]"
   ],
   "metadata": {
    "collapsed": false
   },
   "id": "b728934bb6033dd"
  },
  {
   "cell_type": "code",
   "execution_count": 26,
   "outputs": [
    {
     "data": {
      "text/plain": "description\nA Simon & Schuster eBook. Simon & Schuster has a great book for every reader.                                                                                                                                                                                                                                                                                                                                                                                                                                                                                                                                                                                                                                                                                                                                                                                                                                                                                                                                                                                                                                                                                                                                                                                                                                               6\nPresents a collection of stories selected from magazines in the United States and Canada                                                                                                                                                                                                                                                                                                                                                                                                                                                                                                                                                                                                                                                                                                                                                                                                                                                                                                                                                                                                                                                                                                                                                                                                                                    5\nMore information to be announced soon on this forthcoming title from Penguin USA                                                                                                                                                                                                                                                                                                                                                                                                                                                                                                                                                                                                                                                                                                                                                                                                                                                                                                                                                                                                                                                                                                                                                                                                                                            4\nThis work has been selected by scholars as being culturally important and is part of the knowledge base of civilization as we know it. This work is in the public domain in the United States of America, and possibly other nations. Within the United States, you may freely copy and distribute this work, as no entity (individual or corporate) has a copyright on the body of the work. Scholars believe, and we concur, that this work is important enough to be preserved, reproduced, and made generally available to the public. To ensure a quality reading experience, this work has been proofread and republished using a format that seamlessly blends the original graphical elements with text in an easy-to-read typeface. We appreciate your support of the preservation process, and thank you for being an important part of keeping this knowledge alive and relevant.                                                                                                                                                                                                                                                                                                                                                                                                                                3\n02                                                                                                                                                                                                                                                                                                                                                                                                                                                                                                                                                                                                                                                                                                                                                                                                                                                                                                                                                                                                                                                                                                                                                                                                                                                                                                                          3\n                                                                                                                                                                                                                                                                                                                                                                                                                                                                                                                                                                                                                                                                                                                                                                                                                                                                                                                                                                                                                                                                                                                                                                                                                                                                                                                           ..\nSilver Dreams is the story of advertising executive Leigh Meredith, who finds herself jilted and alone on Christmas Eve. Devastated, she deserts the plush boardrooms of Manhattan for life in the Virginia horse country and a job at a weekly newspaper. Fate leads her to rescue an abandoned, one-eyed horse named Silver Dreams. When she finally rides the gray thoroughbred, she's amazed to discover how fast he can run. But can he race? For the answer she seeks out trainer Whit Riley, a bitter recluse. Soon, Leigh enters the high stakes world of thoroughbred racing and an explosive relationship with Whit while challenged by a scheming young widow determined to take both Whit and Silver Dreams away from her. Silver Dreams, a rags-to-riches horse, proves to be the catalyst needed for Leigh to open her heart and find love and fulfillment. Brilliantly captures the world of thoroughbred horses and the people who love them.                                                                                                                                                                                                                                                                                                                                                               1\nNobel Prize winner Yasunari Kawabata’s Thousand Cranes is a luminous story of desire, regret, and the almost sensual nostalgia that binds the living to the dead. While attending a traditional tea ceremony in the aftermath of his parents’ deaths, Kikuji encounters his father’s former mistress, Mrs. Ota. At first Kikuji is appalled by her indelicate nature, but it is not long before he succumbs to passion—a passion with tragic and unforeseen consequences, not just for the two lovers, but also for Mrs. Ota’s daughter, to whom Kikuji’s attachments soon extend. Death, jealousy, and attraction convene around the delicate art of the tea ceremony, where every gesture is imbued with profound meaning.                                                                                                                                                                                                                                                                                                                                                                                                                                                                                                                                                                                                1\nA thrilling World War I novel from global bestseller Wilbur Smith 'A master storyteller' - Sunday Times 'Wilbur Smith is one of those benchmarks against whom others are compared' - The Times 'With action on every page, battle, murder and sudden death, Shout at the Devil is not for quiet evening enjoyment by peace-loving readers. It is for the adventure-lovers and thrill-seekers.' - Liverpool Daily Post 'A fast thrilling adventure, laced with humour, big scenes, savage fighting, leading to a highly exciting finale.' - The Northern Echo The hunt is on . . . for revenge It is 1914 and the cocky, incorrigible Flynn Patrick O'Flynn is enjoying his charmed life poaching in East Africa. Flynn enjoys taunting his neighbour, the German military commander Herman Fleischer, who loathes Flynn and is determined to seek vengeance and reclaim his pride. When young Sebastian Oldsmith joins O'Flynn as aide and apprentice, he's eager to follow in his footsteps and, with O'Flynn's daughter Ruth, the three form an alliance and join the war effort, helping the British Naval forces in the hunt for a German warship. But the war is exactly the excuse Fleischer has been looking for to exact his revenge. Soon the hunt is on and O'Flynn realises that war is far from a game . . .    1\nFeatures a collection of famous and lesser-known photographs taken throughout the past century.                                                                                                                                                                                                                                                                                                                                                                                                                                                                                                                                                                                                                                                                                                                                                                                                                                                                                                                                                                                                                                                                                                                                                                                                                             1\nThe sequel to the masterpiece All Quiet on the Western Front, The Road Back is a classic novel of the slow return of peace to Europe in the years following World War I. After four grueling years, the Great War has finally ended. Now Ernst and the few men left from his company cannot help wondering what will become of them. The town they departed as eager young men seems colder, their homes smaller, the reasons their comrades had to die even more inexplicable. For Ernst and his friends, the road back to peace is more treacherous than they ever imagined. Suffering food shortages, political unrest, and a broken heart, Ernst undergoes a crisis that teaches him what there is to live for—and what he has that no one can ever take away. “The world has a great writer in Erich Maria Remarque. He is a craftsman of unquestionably first rank, a man who can bend language to his will. Whether he writes of men or of inanimate nature, his touch is sensitive, firm, and sure.”—The New York Times Book Review                                                                                                                                                                                                                                                                                 1\nName: count, Length: 20419, dtype: int64"
     },
     "execution_count": 26,
     "metadata": {},
     "output_type": "execute_result"
    }
   ],
   "source": [
    "books_data_1.description.value_counts()"
   ],
   "metadata": {
    "collapsed": false,
    "ExecuteTime": {
     "end_time": "2023-11-06T15:22:18.405632300Z",
     "start_time": "2023-11-06T15:22:18.336868500Z"
    }
   },
   "id": "a3197ff88b5184a0"
  },
  {
   "cell_type": "code",
   "execution_count": 30,
   "outputs": [
    {
     "data": {
      "text/plain": "                                           title  \\\n12494       the best american short stories 2006   \n13430       the best american short stories 2003   \n13477      the best american short stories 2004    \n20604       the best american short stories 2001   \n20644  the best american mystery stories 2001 cd   \n\n                                             description  \\\n12494  Presents a collection of stories selected from...   \n13430  Presents a collection of stories selected from...   \n13477  Presents a collection of stories selected from...   \n20604  Presents a collection of stories selected from...   \n20644  Presents a collection of stories selected from...   \n\n                                         authors published_date   categories  \\\n12494        ['Ann Patchett', 'Katrina Kenison']           2006  ['Fiction']   \n13430       ['Walter Mosley', 'Katrina Kenison']           2003  ['Fiction']   \n13477      ['Michael Chabon', 'Katrina Kenison']           2005  ['Fiction']   \n20604    ['Garrison Keillor', 'Katrina Kenison']           1998  ['Fiction']   \n20644  ['Barbara Kingsolver', 'Katrina Kenison']           2001  ['Fiction']   \n\n       n_ratings  avg_rating  \n12494         14    2.666667  \n13430         11    4.333333  \n13477         15    4.166667  \n20604         11    4.800000  \n20644         11    2.666667  ",
      "text/html": "<div>\n<style scoped>\n    .dataframe tbody tr th:only-of-type {\n        vertical-align: middle;\n    }\n\n    .dataframe tbody tr th {\n        vertical-align: top;\n    }\n\n    .dataframe thead th {\n        text-align: right;\n    }\n</style>\n<table border=\"1\" class=\"dataframe\">\n  <thead>\n    <tr style=\"text-align: right;\">\n      <th></th>\n      <th>title</th>\n      <th>description</th>\n      <th>authors</th>\n      <th>published_date</th>\n      <th>categories</th>\n      <th>n_ratings</th>\n      <th>avg_rating</th>\n    </tr>\n  </thead>\n  <tbody>\n    <tr>\n      <th>12494</th>\n      <td>the best american short stories 2006</td>\n      <td>Presents a collection of stories selected from...</td>\n      <td>['Ann Patchett', 'Katrina Kenison']</td>\n      <td>2006</td>\n      <td>['Fiction']</td>\n      <td>14</td>\n      <td>2.666667</td>\n    </tr>\n    <tr>\n      <th>13430</th>\n      <td>the best american short stories 2003</td>\n      <td>Presents a collection of stories selected from...</td>\n      <td>['Walter Mosley', 'Katrina Kenison']</td>\n      <td>2003</td>\n      <td>['Fiction']</td>\n      <td>11</td>\n      <td>4.333333</td>\n    </tr>\n    <tr>\n      <th>13477</th>\n      <td>the best american short stories 2004</td>\n      <td>Presents a collection of stories selected from...</td>\n      <td>['Michael Chabon', 'Katrina Kenison']</td>\n      <td>2005</td>\n      <td>['Fiction']</td>\n      <td>15</td>\n      <td>4.166667</td>\n    </tr>\n    <tr>\n      <th>20604</th>\n      <td>the best american short stories 2001</td>\n      <td>Presents a collection of stories selected from...</td>\n      <td>['Garrison Keillor', 'Katrina Kenison']</td>\n      <td>1998</td>\n      <td>['Fiction']</td>\n      <td>11</td>\n      <td>4.800000</td>\n    </tr>\n    <tr>\n      <th>20644</th>\n      <td>the best american mystery stories 2001 cd</td>\n      <td>Presents a collection of stories selected from...</td>\n      <td>['Barbara Kingsolver', 'Katrina Kenison']</td>\n      <td>2001</td>\n      <td>['Fiction']</td>\n      <td>11</td>\n      <td>2.666667</td>\n    </tr>\n  </tbody>\n</table>\n</div>"
     },
     "execution_count": 30,
     "metadata": {},
     "output_type": "execute_result"
    }
   ],
   "source": [
    "books_data_1[books_data_1['description'] == 'Presents a collection of stories selected from magazines in the United States and Canada']"
   ],
   "metadata": {
    "collapsed": false,
    "ExecuteTime": {
     "end_time": "2023-11-06T15:25:22.170578600Z",
     "start_time": "2023-11-06T15:25:22.132583800Z"
    }
   },
   "id": "42d8779b65ca15a1"
  },
  {
   "cell_type": "code",
   "execution_count": null,
   "outputs": [],
   "source": [
    "books_data_1[books_data_1['description'] == \"The core concepts and technologies of Windows networking Networking can be a complex topic, especially for those new tothe field of IT. This focused, full-color book takes a uniqueapproach to teaching Windows networking to beginners by strippingdown a network to its bare basics, thereby making each topic clearand easy to understand. Focusing on the new Microsoft TechnologyAssociate (MTA) program, this book pares down to just theessentials, showing beginners how to gain a solid foundation forunderstanding networking concepts upon which more advanced topicsand technologies can be built. This straightforward guide begins each chapter by laying out alist of topics to be discussed, followed by a concise discussion ofthe core networking skills you need to have to gain a strong handleon the subject matter. Chapters conclude with review questions andsuggested labs so you can measure your level of understanding ofthe chapter's content. Serves as an ideal resource for gaining a solid understandingof fundamental networking concepts and skills Offers a straightforward and direct approach to networkingbasics and covers network management tools, TCP/IP, the nameresolution process, and network protocols and topologies Reviews all the topics you need to know for taking the MTA98-366 exam Provides an overview of networking components, discussesconnecting computers to a network, and looks at connecting networkswith routers If you're new to IT and interested in entering the IT workforce,then Microsoft Windows Networking Essentials is essentialreading.\"]"
   ],
   "metadata": {
    "collapsed": false
   },
   "id": "e20721dd09216247"
  },
  {
   "cell_type": "code",
   "execution_count": 24,
   "outputs": [
    {
     "name": "stdout",
     "output_type": "stream",
     "text": [
      "Books data has 22074 rows. -3328 rows.\n"
     ]
    }
   ],
   "source": [
    "prevBooks = len(books_data_1['title'])\n",
    "books_data_1.drop_duplicates(subset=['description','authors'], keep='first', inplace=True)\n",
    "print(f\"Books data has \" + str(books_data_1.shape[0]) + \" rows.\" + \" -\" + str(prevBooks-len(books_data_1['title'])) + \" rows.\")\n"
   ],
   "metadata": {
    "collapsed": false,
    "ExecuteTime": {
     "end_time": "2023-11-06T15:21:58.933092600Z",
     "start_time": "2023-11-06T15:21:58.910229200Z"
    }
   },
   "id": "4174fecca4e2db72"
  },
  {
   "cell_type": "code",
   "execution_count": null,
   "outputs": [],
   "source": [],
   "metadata": {
    "collapsed": false
   },
   "id": "bd79458e98860d54"
  }
 ],
 "metadata": {
  "kernelspec": {
   "display_name": "Python 3",
   "language": "python",
   "name": "python3"
  },
  "language_info": {
   "codemirror_mode": {
    "name": "ipython",
    "version": 2
   },
   "file_extension": ".py",
   "mimetype": "text/x-python",
   "name": "python",
   "nbconvert_exporter": "python",
   "pygments_lexer": "ipython2",
   "version": "2.7.6"
  }
 },
 "nbformat": 4,
 "nbformat_minor": 5
}
