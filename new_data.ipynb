{
 "cells": [
  {
   "cell_type": "code",
   "execution_count": 16,
   "outputs": [
    {
     "name": "stdout",
     "output_type": "stream",
     "text": [
      "env: VARIABLE=comptools-env\n"
     ]
    }
   ],
   "source": [
    "%env VARIABLE=comptools-env"
   ],
   "metadata": {
    "collapsed": false,
    "ExecuteTime": {
     "end_time": "2023-11-12T12:30:53.102116500Z",
     "start_time": "2023-11-12T12:30:53.080754500Z"
    }
   },
   "id": "1836365cafbc0824"
  },
  {
   "cell_type": "code",
   "execution_count": 17,
   "outputs": [
    {
     "name": "stdout",
     "output_type": "stream",
     "text": [
      "Books data has 10 columns with 212404 rows each.\n",
      "Books ratings has 10 columns with 3000000 rows each.\n"
     ]
    }
   ],
   "source": [
    "import pandas as pd\n",
    "books_data = pd.read_csv('data/books_data.csv') #, nrows=1000)\n",
    "print(f\"Books data has \" + str(books_data.columns.size) + \" columns with \" + str(books_data.shape[0]) + \" rows each.\")\n",
    "books_ratings = pd.read_csv('data/books_rating.csv') #, nrows=1000)\n",
    "print(f\"Books ratings has \" + str(books_ratings.columns.size) + \" columns with \" + str(books_ratings.shape[0]) + \" rows each.\")"
   ],
   "metadata": {
    "collapsed": false,
    "ExecuteTime": {
     "end_time": "2023-11-12T12:31:49.360149800Z",
     "start_time": "2023-11-12T12:30:53.891535100Z"
    }
   },
   "id": "361b23418fb2f778"
  },
  {
   "cell_type": "code",
   "execution_count": 18,
   "outputs": [
    {
     "name": "stdout",
     "output_type": "stream",
     "text": [
      "Books data now only has 5 columns - ['title', 'description', 'authors', 'published_date', 'categories']\n",
      "Books ratings now only has 6 columns - ['title', 'user_id', 'helpfulness', 'score', 'summary', 'text']\n"
     ]
    }
   ],
   "source": [
    "# Titles\n",
    "books_data_1 = books_data.drop(['image', 'previewLink', 'infoLink', 'publisher', 'ratingsCount'], axis=1, inplace=False)\n",
    "books_ratings_1 = books_ratings.drop(['Id','Price', 'profileName', 'review/time'], axis=1, inplace=False)\n",
    "\n",
    "books_data_1.rename(columns={'Title': 'title','publishedDate': 'published_date'}, inplace=True)\n",
    "books_ratings_1.rename(columns={'Title': 'title','User_id':'user_id',  'review/score': 'score','review/helpfulness': 'helpfulness', 'review/text': 'text', 'review/summary': 'summary'}, inplace=True)\n",
    "print(f\"Books data now only has \" + str(books_data_1.columns.size) + \" columns - \" + str(list(books_data_1.columns)))\n",
    "print(f\"Books ratings now only has \" + str(books_ratings_1.columns.size) + \" columns - \" + str(list(books_ratings_1.columns))) \n"
   ],
   "metadata": {
    "collapsed": false,
    "ExecuteTime": {
     "end_time": "2023-11-12T12:32:06.779195800Z",
     "start_time": "2023-11-12T12:32:02.092716100Z"
    }
   },
   "id": "4e683b0b3a4fef0f"
  },
  {
   "cell_type": "code",
   "execution_count": 19,
   "outputs": [
    {
     "name": "stdout",
     "output_type": "stream",
     "text": [
      "Both datasets' titles are now all lowercase and only include letters and spaces.\n"
     ]
    }
   ],
   "source": [
    "#Makes all titles lowercase; then removes any part of the title that includes a parenthesis, and replaces any ampersands with 'and'\n",
    "books_data_1['title'] = books_data_1['title'].map(lambda s: s.lower() if type(s) == str else s)\n",
    "books_data_1['title'] = books_data_1['title'].replace(r\"\\(.*\\)\",\"\", regex=True)\n",
    "books_data_1['title'] = books_data_1['title'].replace(r\"\\&\",\"and\", regex=True)\n",
    "\n",
    "books_ratings_1['title'] = books_ratings_1['title'].map(lambda s: s.lower() if type(s) == str else s)\n",
    "books_ratings_1['title'] = books_ratings_1['title'].replace(r\"\\(.*\\)\",\"\", regex=True)\n",
    "books_ratings_1['title'] = books_ratings_1['title'].replace(r\"\\&\",\"and\", regex=True)\n",
    "\n",
    "#Removes any characters that aren't letters or spaces.\n",
    "books_data_1['title'] = books_data_1['title'].replace(r\"[^a-zA-Z0-9\\s]+\", \"\", regex=True)\n",
    "books_ratings_1['title'] = books_ratings_1['title'].replace(r\"[^a-zA-Z0-9\\s]+\", \"\", regex=True)\n",
    "\n",
    "print(\"Both datasets' titles are now all lowercase and only include letters and spaces.\")\n"
   ],
   "metadata": {
    "collapsed": false,
    "ExecuteTime": {
     "end_time": "2023-11-12T12:32:21.812547900Z",
     "start_time": "2023-11-12T12:32:08.450059400Z"
    }
   },
   "id": "28ac36b6874efe74"
  },
  {
   "cell_type": "code",
   "execution_count": 20,
   "outputs": [
    {
     "name": "stdout",
     "output_type": "stream",
     "text": [
      "Books data has 212404 titles.\n",
      "Dropped 7500 duplicate titles. Now there are only 204904 rows left. \n",
      "208 total NAN values present in title\n",
      "Now there are 0\n"
     ]
    }
   ],
   "source": [
    "# keep only unique titles in books_data_1\n",
    "#size of books_data_1\n",
    "prev_size = len(books_data_1['title'])\n",
    "print(f\"Books data has \" + str(len(books_data_1['title'])) + \" titles.\")\n",
    "books_data_1 = books_data_1.drop_duplicates(subset=['title'], keep='first')\n",
    "print(f\"Dropped \" + str(prev_size - len(books_data_1['title'])) + \" duplicate titles. Now there are only \" + str(len(books_data_1['title'])) + \" rows left. \")\n",
    "\n",
    "#Remove NAN titles\n",
    "print(f\"\" + str(books_ratings_1['title'].isnull().sum().sum()) + \" total NAN values present in title\")\n",
    "books_ratings_1 = books_ratings_1.dropna(subset=['title'])\n",
    "print(f\"Now there are \" + str(books_ratings_1['title'].isnull().sum().sum()))\n",
    "\n"
   ],
   "metadata": {
    "collapsed": false,
    "ExecuteTime": {
     "end_time": "2023-11-12T12:32:38.479910600Z",
     "start_time": "2023-11-12T12:32:24.665106500Z"
    }
   },
   "id": "26aa9480ac40b0af"
  },
  {
   "cell_type": "code",
   "execution_count": 21,
   "outputs": [
    {
     "name": "stdout",
     "output_type": "stream",
     "text": [
      "Books ratings has 2999792 rows.\n",
      "Dropped based on total duplicity. Books ratings now has 2431827 rows.  -567965 rows.\n",
      "Dropped based on duplicate title. Books ratings now has 2027122 rows.  -404705 rows.\n",
      "Dropped based on duplicate text. Books ratings now has 1748097 rows.  -279025 rows.\n",
      "Books data has 163712 rows. -41192 rows.\n"
     ]
    }
   ],
   "source": [
    "#Drop duplicate reviews where same user reviews same book multiple times\n",
    "print(f\"Books ratings has \" + str(len(books_ratings_1['title'])) + \" rows.\")\n",
    "prevRatings = len(books_ratings_1['title'])\n",
    "books_ratings_1.drop_duplicates(keep='first', inplace=True)\n",
    "print(f\"Dropped based on total duplicity. Books ratings now has \" + str(len(books_ratings_1['title'])) + \" rows. \" + \" -\" + str(prevRatings-len(books_ratings_1['title'])) + \" rows.\")\n",
    "prevRatings = len(books_ratings_1['title'])\n",
    "books_ratings_1.drop_duplicates(subset=['user_id', 'title'], keep='first', inplace=True)\n",
    "print(f\"Dropped based on duplicate title. Books ratings now has \" + str(len(books_ratings_1['title'])) + \" rows. \" + \" -\" + str(prevRatings-len(books_ratings_1['title'])) + \" rows.\")\n",
    "prevRatings = len(books_ratings_1['title'])\n",
    "books_ratings_1.drop_duplicates(subset=['user_id', 'text'], keep='first', inplace=True)\n",
    "print(f\"Dropped based on duplicate text. Books ratings now has \" + str(len(books_ratings_1['title'])) + \" rows. \" + \" -\" + str(prevRatings-len(books_ratings_1['title'])) + \" rows.\")\n",
    "\n",
    "#Drop duplicate books where the author and book description are equal.\n",
    "\n",
    "prevBooks = len(books_data_1['title'])\n",
    "books_data_1.drop_duplicates(subset=['description','authors'], keep='first', inplace=True)\n",
    "print(f\"Books data has \" + str(books_data_1.shape[0]) + \" rows.\" + \" -\" + str(prevBooks-len(books_data_1['title'])) + \" rows.\")\n"
   ],
   "metadata": {
    "collapsed": false,
    "ExecuteTime": {
     "end_time": "2023-11-12T12:32:54.075417Z",
     "start_time": "2023-11-12T12:32:41.209989700Z"
    }
   },
   "id": "b09121723c055517"
  },
  {
   "cell_type": "code",
   "execution_count": 22,
   "outputs": [
    {
     "name": "stdout",
     "output_type": "stream",
     "text": [
      "Books_ratings has 1748097 rows.\n",
      "Books_ratings now has 1287419 rows. -460678 rows. \n",
      "Books_data now has an additional column. (n_ratings)\n"
     ]
    }
   ],
   "source": [
    "#Collect only ratings for books that have received at least 10 ratings.\n",
    "#Add a new column in books_data_1 that counts the number of ratings for each book with a score of at least 10\n",
    "\n",
    "#Note that by removing duplicate reviews first, counting the number of reviews for each book afterward will be more accurate.\n",
    "print(f\"Books_ratings has \" + str(len(books_ratings_1['title'])) + \" rows.\")\n",
    "prev_rows = len(books_ratings_1['title'])\n",
    "\n",
    "n_ratings = books_ratings_1.groupby('title').count()['score']>=10\n",
    "famous_books = n_ratings[n_ratings==True].index\n",
    "books_ratings_1 = books_ratings_1[books_ratings_1['title'].isin(famous_books)]\n",
    "n_ratings_1 = books_ratings_1['title'].value_counts().rename(\"n_ratings\")\n",
    "books_data_1 = books_data_1.merge(n_ratings_1, on='title', how='inner')\n",
    "\n",
    "print(f\"Books_ratings now has \" + str(len(books_ratings_1['title'])) + \" rows. -\" + str(prev_rows - len(books_ratings_1['title'])) + \" rows. \")\n",
    "print(f\"Books_data now has an additional column. (n_ratings)\")\n"
   ],
   "metadata": {
    "collapsed": false,
    "ExecuteTime": {
     "end_time": "2023-11-12T12:33:40.985970Z",
     "start_time": "2023-11-12T12:33:38.881909Z"
    }
   },
   "id": "f30c9015edd25bf1"
  },
  {
   "cell_type": "code",
   "execution_count": 23,
   "outputs": [
    {
     "name": "stdout",
     "output_type": "stream",
     "text": [
      "Books data has 6 columns with 27991 rows each. -0 rows.\n"
     ]
    }
   ],
   "source": [
    "#purge books where n_ratings < 10 (redundant operation)\n",
    "prevBooks = len(books_data_1['title'])\n",
    "books_data_1 = books_data_1[books_data_1['n_ratings']>=10]\n",
    "print(f\"Books data has \" + str(books_data_1.columns.size) + \" columns with \" + str(books_data_1.shape[0]) + \" rows each.\" + \" -\" + str(prevBooks-len(books_data_1['title'])) + \" rows.\")"
   ],
   "metadata": {
    "collapsed": false,
    "ExecuteTime": {
     "end_time": "2023-11-12T12:33:44.901239Z",
     "start_time": "2023-11-12T12:33:44.877964300Z"
    }
   },
   "id": "b13ea696aba6df66"
  },
  {
   "cell_type": "code",
   "execution_count": 24,
   "outputs": [
    {
     "name": "stdout",
     "output_type": "stream",
     "text": [
      "Books ratings has 168980 rows. -1118439 rows.\n",
      "3417 users remain who have rated at least 20 books.\n"
     ]
    }
   ],
   "source": [
    "#Remove ratings from users who have rated less than 20 books.\n",
    "prevRatings = len(books_ratings_1['title'])\n",
    "x = books_ratings_1.groupby('user_id').count()['score'] >= 20 # since this is what amazon requires before a user can get recommendations\n",
    "considerable_users = x[x].index\n",
    "books_ratings_1 = books_ratings_1[books_ratings_1['user_id'].isin(considerable_users)]\n",
    "\n",
    "print(f\"Books ratings has \" + str(books_ratings_1.shape[0]) + \" rows.\" + \" -\" + str(prevRatings-len(books_ratings_1['title'])) + \" rows.\")\n",
    "print(f\"\" + str(len(books_ratings_1['user_id'].value_counts())) + \" users remain who have rated at least 20 books.\")"
   ],
   "metadata": {
    "collapsed": false,
    "ExecuteTime": {
     "end_time": "2023-11-12T12:33:52.127088300Z",
     "start_time": "2023-11-12T12:33:49.643593300Z"
    }
   },
   "id": "a76984b6b5ece24a"
  },
  {
   "cell_type": "code",
   "execution_count": 25,
   "outputs": [
    {
     "name": "stdout",
     "output_type": "stream",
     "text": [
      "Books data now has an additional column. (avg_rating)\n"
     ]
    }
   ],
   "source": [
    "avg_rating = books_ratings_1.groupby('title')[\"score\"].mean().rename(\"avg_rating\")\n",
    "books_data_1 = books_data_1.merge(avg_rating, on='title', how='inner')\n",
    "print(f\"Books data now has an additional column. (avg_rating)\")"
   ],
   "metadata": {
    "collapsed": false,
    "ExecuteTime": {
     "end_time": "2023-11-12T12:34:00.369879200Z",
     "start_time": "2023-11-12T12:34:00.230792200Z"
    }
   },
   "id": "b1a05bb19481306b"
  },
  {
   "cell_type": "code",
   "execution_count": 26,
   "outputs": [],
   "source": [
    "#\n",
    "def get_n_helpful(x):\n",
    "    if isinstance(x, str) and '/' in x:\n",
    "        num, denom = x.split('/')\n",
    "        return int(denom)\n",
    "    else:\n",
    "        return x\n",
    "\n",
    "def replace_fraction(x):\n",
    "    if isinstance(x, str) and '/' in x:\n",
    "        num, denom = x.split('/')\n",
    "        if denom == '0':\n",
    "            return 0\n",
    "        else:\n",
    "            return int(num) / int(denom)\n",
    "    else:\n",
    "        return x\n",
    "\n",
    "books_ratings_1['helpfulness_count'] = books_ratings_1['helpfulness'].apply(get_n_helpful)\n",
    "books_ratings_1['helpfulness_pct'] = books_ratings_1['helpfulness'].apply(replace_fraction)\n"
   ],
   "metadata": {
    "collapsed": false,
    "ExecuteTime": {
     "end_time": "2023-11-12T12:34:04.596779800Z",
     "start_time": "2023-11-12T12:34:04.381108600Z"
    }
   },
   "id": "ac61d5cc6189fc85"
  },
  {
   "cell_type": "code",
   "execution_count": 27,
   "outputs": [
    {
     "name": "stdout",
     "output_type": "stream",
     "text": [
      "First we had 212404 books and 3000000 ratings.\n",
      "Now we have 21294 books and 168980 ratings. -89.97% books and -94.37% ratings.\n"
     ]
    }
   ],
   "source": [
    "import os\n",
    "if not os.path.exists('clean_data'):\n",
    "    os.makedirs('clean_data')\n",
    "\n",
    "# save clean data\n",
    "books_data_1.to_csv('clean_data/books_data_clean.csv', index=False)\n",
    "books_ratings_1.to_csv('clean_data/books_rating_clean.csv', index=False)\n",
    "\n",
    "prevBooks = len(books_data)\n",
    "prevRatings = len(books_ratings)\n",
    "newBooks = len(books_data_1)\n",
    "newRatings = len(books_ratings_1)\n",
    "\n",
    "print(f\"First we had \" + str(prevBooks) + \" books and \" + str(prevRatings) + \" ratings.\")\n",
    "print(f\"Now we have \" + str(newBooks) + \" books and \" + str(newRatings) + \" ratings. -\" + str(round((prevBooks-newBooks)/prevBooks*100,2)) + \"% books and -\" + str(round((prevRatings-newRatings)/prevRatings*100,2)) + \"% ratings.\")"
   ],
   "metadata": {
    "collapsed": false,
    "ExecuteTime": {
     "end_time": "2023-11-12T12:35:00.975113300Z",
     "start_time": "2023-11-12T12:34:52.361270500Z"
    }
   },
   "id": "e6c5f48a3a619416"
  },
  {
   "cell_type": "markdown",
   "source": [
    "<h2>Code from here on down is not saved to the csv file.</h2>"
   ],
   "metadata": {
    "collapsed": false
   },
   "id": "793f1f3c1f8fe2b0"
  },
  {
   "cell_type": "code",
   "execution_count": 28,
   "outputs": [
    {
     "name": "stdout",
     "output_type": "stream",
     "text": [
      "Books data has 7 columns with 21294 rows each.\n",
      "Books ratings has 8 columns with 168980 rows each.\n"
     ]
    }
   ],
   "source": [
    "import pandas as pd\n",
    "books_data_1 = pd.read_csv('clean_data/books_data_clean.csv') #, nrows=1000)\n",
    "print(f\"Books data has \" + str(books_data_1.columns.size) + \" columns with \" + str(books_data_1.shape[0]) + \" rows each.\")\n",
    "books_ratings_1 = pd.read_csv('clean_data/books_rating_clean.csv') #, nrows=1000)\n",
    "print(f\"Books ratings has \" + str(books_ratings_1.columns.size) + \" columns with \" + str(books_ratings_1.shape[0]) + \" rows each.\")"
   ],
   "metadata": {
    "collapsed": false,
    "ExecuteTime": {
     "end_time": "2023-11-12T12:35:35.562905600Z",
     "start_time": "2023-11-12T12:35:30.780074400Z"
    }
   },
   "id": "346692a420d418e5"
  },
  {
   "cell_type": "code",
   "execution_count": 29,
   "outputs": [
    {
     "data": {
      "text/plain": "user_id\nAFVQZQ8PW0L       1963\nA14OJS0VWMOSWO    1740\nA1X8VZWTOG8IS6     765\nA1K1JW1C5CUSUZ     677\nA2F6N60Z96CAJI     557\n                  ... \nACK3TZEDR258N       20\nAJN24TVEGZEI4       20\nA1X9YMZQ2XXDCI      20\nA31Y9DLKVASJQY      20\nA2XZW1WV871DIO      20\nName: count, Length: 3417, dtype: int64"
     },
     "execution_count": 29,
     "metadata": {},
     "output_type": "execute_result"
    }
   ],
   "source": [
    "books_ratings_1['user_id'].value_counts()\n",
    "#Looked at the ratings for the top 2 users and found nothing remarkable. The review text is cut off after a small number of words, so it is tough to see if they are automated reviews, as most of them more or less just describe the book rather than the reader's opinion of it."
   ],
   "metadata": {
    "collapsed": false,
    "ExecuteTime": {
     "end_time": "2023-11-12T12:35:38.734786100Z",
     "start_time": "2023-11-12T12:35:38.661099900Z"
    }
   },
   "id": "d196d12dafb69ef4"
  },
  {
   "cell_type": "code",
   "execution_count": 30,
   "outputs": [
    {
     "data": {
      "text/plain": "summary\nexciting thriller                          12\nexciting romantic suspense                  8\ndeep character study                        6\nA good read                                 6\nexciting police procedural                  5\n                                           ..\nhaunting classic war story                  1\nfascinating historical mystery              1\nengaging espionage romance                  1\nexciting premise                            1\nfantastic paranormal serial killer tale     1\nName: count, Length: 1779, dtype: int64"
     },
     "execution_count": 30,
     "metadata": {},
     "output_type": "execute_result"
    }
   ],
   "source": [
    "# extract all books rated by the top user by number of ratings, to check for duplicate reviews (spam)\n",
    "books_ratings_1[books_ratings_1['user_id'] == 'AFVQZQ8PW0L']['summary'].value_counts()"
   ],
   "metadata": {
    "collapsed": false,
    "ExecuteTime": {
     "end_time": "2023-11-12T12:35:39.689904900Z",
     "start_time": "2023-11-12T12:35:39.609815400Z"
    }
   },
   "id": "3adc2930a7d3a3cf"
  },
  {
   "cell_type": "code",
   "execution_count": 31,
   "outputs": [
    {
     "data": {
      "text/plain": "'No female, whether they are of the blood or through marriage, survives THE SCARLETTI CURSE. They all violently die. One of the villagers Nicoletta knows first hand that her own mother was a victim of the curse. Still, she lives life to the fullest and uses her abilities to heal people. Her guardian helps hide the secret that Nicoletta has empathic talents by fostering the idea she is just the village healer to keep her safe from Giovanni Scarletti.However, the kind Nicoletta helps cure ailing lass, suffering from dining on a contaminated meal with her uncle Giovanni. He immediately realizes that Nicoletta is his life mate and will protect her from his enemies, but will his need to keep her safe end up making him follow the footsteps of his ancestors who loved so deep they killed for love?Though there is a political sidebar that adds suspense to the tale, this gothic story line belongs to the two lead characters. Nicoletta is the classic heroine willing to do the right thing even at the cost of her own life. Giovanni is the dark brooding alpha male wanting to also do the right thing for his people and especially his beloved. Toss on top of the key theme a bit of the paranormal and readers have Christine Feehan\\'s intrepid venture outside the Carpathian realm (see her \"Dark\" series) into a totally different sub-genre that proves she is a versatile talent who deserves a wide readership.Harriet Klausner'"
     },
     "execution_count": 31,
     "metadata": {},
     "output_type": "execute_result"
    }
   ],
   "source": [
    "books_ratings_1[books_ratings_1['user_id'] == 'AFVQZQ8PW0L']['text'].loc[34]"
   ],
   "metadata": {
    "collapsed": false,
    "ExecuteTime": {
     "end_time": "2023-11-12T12:35:40.249133Z",
     "start_time": "2023-11-12T12:35:40.209653800Z"
    }
   },
   "id": "b728934bb6033dd"
  },
  {
   "cell_type": "code",
   "execution_count": 32,
   "outputs": [
    {
     "data": {
      "text/plain": "description\nA Simon & Schuster eBook. Simon & Schuster has a great book for every reader.                                                                                                                                                                                                                                                                                                                                                                                                                                                                                                                                                                                                                                                                                                                                                                                                                                                                                                                                                                  6\nMore information to be announced soon on this forthcoming title from Penguin USA                                                                                                                                                                                                                                                                                                                                                                                                                                                                                                                                                                                                                                                                                                                                                                                                                                                                                                                                                               4\nPresents a collection of stories selected from magazines in the United States and Canada                                                                                                                                                                                                                                                                                                                                                                                                                                                                                                                                                                                                                                                                                                                                                                                                                                                                                                                                                       4\nundefined                                                                                                                                                                                                                                                                                                                                                                                                                                                                                                                                                                                                                                                                                                                                                                                                                                                                                                                                                                                                                                      3\nThis work has been selected by scholars as being culturally important and is part of the knowledge base of civilization as we know it. This work is in the public domain in the United States of America, and possibly other nations. Within the United States, you may freely copy and distribute this work, as no entity (individual or corporate) has a copyright on the body of the work. Scholars believe, and we concur, that this work is important enough to be preserved, reproduced, and made generally available to the public. To ensure a quality reading experience, this work has been proofread and republished using a format that seamlessly blends the original graphical elements with text in an easy-to-read typeface. We appreciate your support of the preservation process, and thank you for being an important part of keeping this knowledge alive and relevant.                                                                                                                                                   3\n                                                                                                                                                                                                                                                                                                                                                                                                                                                                                                                                                                                                                                                                                                                                                                                                                                                                                                                                                                                                                                              ..\nCallie Webber and her boss, Tom travel to the Virgin Islands to investigate the mysterious shooting of their friend and mentor, Eli, and become involved in fraud, secret identities, and double-crosses.                                                                                                                                                                                                                                                                                                                                                                                                                                                                                                                                                                                                                                                                                                                                                                                                                                      1\nThe U.S.S. Voyager finds itself in a system where a planet might have existed, but doesn't. Where the planet should have been, millions and then billions of people are appearing from nowhere and dying in the vacuum of space. To solve the mystery and save billions of lives, Captain Janeway will have to face alternate versions of herself and the crew of Voyager -- not just one almost-mirror-image, but many. Janeway will have to find a way to work with her alternate selves, with whom she shares much but each of whom has a different agenda. At stake is the survival of Voyager and the lives of billions of innocent people.                                                                                                                                                                                                                                                                                                                                                                                               1\nThe CEO of the fastest growing Hispanic-owned business in America offers strategies for success in life and in business, covering such topics as discovering your passion, finding a mentor, and persevering despite setbacks.                                                                                                                                                                                                                                                                                                                                                                                                                                                                                                                                                                                                                                                                                                                                                                                                                 1\nTells how the French underground and the Allies prevented the fulfillment of Hitler's sentence of destruction for Paris                                                                                                                                                                                                                                                                                                                                                                                                                                                                                                                                                                                                                                                                                                                                                                                                                                                                                                                        1\nThe sequel to the masterpiece All Quiet on the Western Front, The Road Back is a classic novel of the slow return of peace to Europe in the years following World War I. After four grueling years, the Great War has finally ended. Now Ernst and the few men left from his company cannot help wondering what will become of them. The town they departed as eager young men seems colder, their homes smaller, the reasons their comrades had to die even more inexplicable. For Ernst and his friends, the road back to peace is more treacherous than they ever imagined. Suffering food shortages, political unrest, and a broken heart, Ernst undergoes a crisis that teaches him what there is to live for—and what he has that no one can ever take away. “The world has a great writer in Erich Maria Remarque. He is a craftsman of unquestionably first rank, a man who can bend language to his will. Whether he writes of men or of inanimate nature, his touch is sensitive, firm, and sure.”—The New York Times Book Review    1\nName: count, Length: 19875, dtype: int64"
     },
     "execution_count": 32,
     "metadata": {},
     "output_type": "execute_result"
    }
   ],
   "source": [
    "books_data_1.description.value_counts()"
   ],
   "metadata": {
    "collapsed": false,
    "ExecuteTime": {
     "end_time": "2023-11-12T12:35:40.753117400Z",
     "start_time": "2023-11-12T12:35:40.708514800Z"
    }
   },
   "id": "a3197ff88b5184a0"
  },
  {
   "cell_type": "code",
   "execution_count": 33,
   "outputs": [
    {
     "data": {
      "text/plain": "                                           title  \\\n10535       the best american short stories 2006   \n11390      the best american short stories 2004    \n17768       the best american short stories 2001   \n17801  the best american mystery stories 2001 cd   \n\n                                             description  \\\n10535  Presents a collection of stories selected from...   \n11390  Presents a collection of stories selected from...   \n17768  Presents a collection of stories selected from...   \n17801  Presents a collection of stories selected from...   \n\n                                         authors published_date   categories  \\\n10535        ['Ann Patchett', 'Katrina Kenison']           2006  ['Fiction']   \n11390      ['Michael Chabon', 'Katrina Kenison']           2005  ['Fiction']   \n17768    ['Garrison Keillor', 'Katrina Kenison']           1998  ['Fiction']   \n17801  ['Barbara Kingsolver', 'Katrina Kenison']           2001  ['Fiction']   \n\n       n_ratings  avg_rating  \n10535         14    2.666667  \n11390         15    4.166667  \n17768         11    4.800000  \n17801         11    2.666667  ",
      "text/html": "<div>\n<style scoped>\n    .dataframe tbody tr th:only-of-type {\n        vertical-align: middle;\n    }\n\n    .dataframe tbody tr th {\n        vertical-align: top;\n    }\n\n    .dataframe thead th {\n        text-align: right;\n    }\n</style>\n<table border=\"1\" class=\"dataframe\">\n  <thead>\n    <tr style=\"text-align: right;\">\n      <th></th>\n      <th>title</th>\n      <th>description</th>\n      <th>authors</th>\n      <th>published_date</th>\n      <th>categories</th>\n      <th>n_ratings</th>\n      <th>avg_rating</th>\n    </tr>\n  </thead>\n  <tbody>\n    <tr>\n      <th>10535</th>\n      <td>the best american short stories 2006</td>\n      <td>Presents a collection of stories selected from...</td>\n      <td>['Ann Patchett', 'Katrina Kenison']</td>\n      <td>2006</td>\n      <td>['Fiction']</td>\n      <td>14</td>\n      <td>2.666667</td>\n    </tr>\n    <tr>\n      <th>11390</th>\n      <td>the best american short stories 2004</td>\n      <td>Presents a collection of stories selected from...</td>\n      <td>['Michael Chabon', 'Katrina Kenison']</td>\n      <td>2005</td>\n      <td>['Fiction']</td>\n      <td>15</td>\n      <td>4.166667</td>\n    </tr>\n    <tr>\n      <th>17768</th>\n      <td>the best american short stories 2001</td>\n      <td>Presents a collection of stories selected from...</td>\n      <td>['Garrison Keillor', 'Katrina Kenison']</td>\n      <td>1998</td>\n      <td>['Fiction']</td>\n      <td>11</td>\n      <td>4.800000</td>\n    </tr>\n    <tr>\n      <th>17801</th>\n      <td>the best american mystery stories 2001 cd</td>\n      <td>Presents a collection of stories selected from...</td>\n      <td>['Barbara Kingsolver', 'Katrina Kenison']</td>\n      <td>2001</td>\n      <td>['Fiction']</td>\n      <td>11</td>\n      <td>2.666667</td>\n    </tr>\n  </tbody>\n</table>\n</div>"
     },
     "execution_count": 33,
     "metadata": {},
     "output_type": "execute_result"
    }
   ],
   "source": [
    "books_data_1[books_data_1['description'] == 'Presents a collection of stories selected from magazines in the United States and Canada']"
   ],
   "metadata": {
    "collapsed": false,
    "ExecuteTime": {
     "end_time": "2023-11-12T12:35:41.254769800Z",
     "start_time": "2023-11-12T12:35:41.174000200Z"
    }
   },
   "id": "42d8779b65ca15a1"
  },
  {
   "cell_type": "code",
   "execution_count": 34,
   "outputs": [
    {
     "data": {
      "text/plain": "                                       title  \\\n10711  microsoftandreg office xp inside out    \n\n                                             description            authors  \\\n10711  The core concepts and technologies of Windows ...  ['Darril Gibson']   \n\n      published_date     categories  n_ratings  avg_rating  \n10711     2011-05-02  ['Computers']         13    4.333333  ",
      "text/html": "<div>\n<style scoped>\n    .dataframe tbody tr th:only-of-type {\n        vertical-align: middle;\n    }\n\n    .dataframe tbody tr th {\n        vertical-align: top;\n    }\n\n    .dataframe thead th {\n        text-align: right;\n    }\n</style>\n<table border=\"1\" class=\"dataframe\">\n  <thead>\n    <tr style=\"text-align: right;\">\n      <th></th>\n      <th>title</th>\n      <th>description</th>\n      <th>authors</th>\n      <th>published_date</th>\n      <th>categories</th>\n      <th>n_ratings</th>\n      <th>avg_rating</th>\n    </tr>\n  </thead>\n  <tbody>\n    <tr>\n      <th>10711</th>\n      <td>microsoftandreg office xp inside out</td>\n      <td>The core concepts and technologies of Windows ...</td>\n      <td>['Darril Gibson']</td>\n      <td>2011-05-02</td>\n      <td>['Computers']</td>\n      <td>13</td>\n      <td>4.333333</td>\n    </tr>\n  </tbody>\n</table>\n</div>"
     },
     "execution_count": 34,
     "metadata": {},
     "output_type": "execute_result"
    }
   ],
   "source": [
    "books_data_1[books_data_1['description'] == \"The core concepts and technologies of Windows networking Networking can be a complex topic, especially for those new tothe field of IT. This focused, full-color book takes a uniqueapproach to teaching Windows networking to beginners by strippingdown a network to its bare basics, thereby making each topic clearand easy to understand. Focusing on the new Microsoft TechnologyAssociate (MTA) program, this book pares down to just theessentials, showing beginners how to gain a solid foundation forunderstanding networking concepts upon which more advanced topicsand technologies can be built. This straightforward guide begins each chapter by laying out alist of topics to be discussed, followed by a concise discussion ofthe core networking skills you need to have to gain a strong handleon the subject matter. Chapters conclude with review questions andsuggested labs so you can measure your level of understanding ofthe chapter's content. Serves as an ideal resource for gaining a solid understandingof fundamental networking concepts and skills Offers a straightforward and direct approach to networkingbasics and covers network management tools, TCP/IP, the nameresolution process, and network protocols and topologies Reviews all the topics you need to know for taking the MTA98-366 exam Provides an overview of networking components, discussesconnecting computers to a network, and looks at connecting networkswith routers If you're new to IT and interested in entering the IT workforce,then Microsoft Windows Networking Essentials is essentialreading.\"]"
   ],
   "metadata": {
    "collapsed": false,
    "ExecuteTime": {
     "end_time": "2023-11-12T12:35:42.219205400Z",
     "start_time": "2023-11-12T12:35:42.188461100Z"
    }
   },
   "id": "e20721dd09216247"
  },
  {
   "cell_type": "code",
   "execution_count": 35,
   "outputs": [
    {
     "name": "stdout",
     "output_type": "stream",
     "text": [
      "Books data has 21294 rows. -0 rows.\n"
     ]
    }
   ],
   "source": [
    "prevBooks = len(books_data_1['title'])\n",
    "books_data_1.drop_duplicates(subset=['description','authors'], keep='first', inplace=True)\n",
    "print(f\"Books data has \" + str(books_data_1.shape[0]) + \" rows.\" + \" -\" + str(prevBooks-len(books_data_1['title'])) + \" rows.\")\n"
   ],
   "metadata": {
    "collapsed": false,
    "ExecuteTime": {
     "end_time": "2023-11-12T12:35:43.262833700Z",
     "start_time": "2023-11-12T12:35:43.209395500Z"
    }
   },
   "id": "4174fecca4e2db72"
  },
  {
   "cell_type": "code",
   "execution_count": 36,
   "outputs": [],
   "source": [
    "popular_books = books_ratings_1['title'].value_counts()[0:20]"
   ],
   "metadata": {
    "collapsed": false,
    "ExecuteTime": {
     "end_time": "2023-11-12T12:35:45.969177800Z",
     "start_time": "2023-11-12T12:35:45.929612400Z"
    }
   },
   "id": "bd79458e98860d54"
  },
  {
   "cell_type": "code",
   "execution_count": 37,
   "outputs": [
    {
     "data": {
      "text/plain": "title\nharry potter and the sorcerers stone                              285\nthe great gatsby                                                  226\nthe catcher in the rye                                            220\nto kill a mockingbird                                             214\n1984                                                              196\nthe hobbitt or there and back again illustrated by the author     192\nharry potter and the chamber of secrets                           190\nfahrenheit 451                                                    190\nnight                                                             183\nmemoirs of a geisha                                               182\njohn adams                                                        182\nfive people you meet in heaven                                    180\nanimal farm                                                       177\nharry potter and the prisoner of azkaban                          177\nblink the power of thinking without thinking                      176\nthe tipping point how little things can make a big difference     167\nguns germs and steel the fates of human societies                 165\nprey                                                              164\nthe poisonwood bible                                              158\npride and prejudice                                               152\nName: count, dtype: int64"
     },
     "execution_count": 37,
     "metadata": {},
     "output_type": "execute_result"
    }
   ],
   "source": [
    "popular_books"
   ],
   "metadata": {
    "collapsed": false,
    "ExecuteTime": {
     "end_time": "2023-11-12T12:35:46.511324100Z",
     "start_time": "2023-11-12T12:35:46.472498100Z"
    }
   },
   "id": "bdd9bc15758dfbc6"
  },
  {
   "cell_type": "code",
   "execution_count": 38,
   "outputs": [
    {
     "data": {
      "text/plain": "            title         user_id helpfulness  score  \\\n32988  the hobbit  A1D2C0WDCSHUWZ         2/3    5.0   \n32989  the hobbit  A172VRBP4BZXK6        3/58    1.0   \n32990  the hobbit  A35PU6DDT4SJXK         0/0    5.0   \n32991  the hobbit  A17BT73RVRQYSP         0/0    5.0   \n32992  the hobbit  A36WD8GXQ5QCJ7         0/1    5.0   \n32993  the hobbit  A1FY3V7A2XRDG0         6/7    5.0   \n32994  the hobbit   AAEP8YFERQ8FC         6/7    5.0   \n32995  the hobbit  A2ATWKOFJXRRR1         6/7    5.0   \n32996  the hobbit  A1DA6E4FNRSAWN       30/41    3.0   \n\n                                                 summary  \\\n32988                              There, and back again   \n32989                                         The Hobbit   \n32990                         Great Book, Great Prequel!   \n32991  Review of the comic book version. Its worth yo...   \n32992                                   An amazing novel   \n32993                     The Hobbit -- 70th Anniversary   \n32994                     Bilbo and the Thirteen Dwarves   \n32995                     The first truly five star book   \n32996                                 about this edition   \n\n                                                    text  helpfulness_count  \\\n32988  \"The Hobbit or There and Back Again\" is the fi...                  3   \n32989  I really did not like this book. There wasn't ...                 58   \n32990  The hobbit, a great book in its own right, als...                  0   \n32991  [...]There are enough adjatives already said o...                  0   \n32992  I just finished reading The Hobbit for the fir...                  1   \n32993  I've been a huge Tolkien fan since I was a kid...                  7   \n32994  When I was in fourth or fifth grade, every aft...                  7   \n32995  Masterpiece. A work of Art. A lasting piece do...                  7   \n32996  I mean no offence but I am not going to review...                 41   \n\n       helpfulness_pct  \n32988         0.666667  \n32989         0.051724  \n32990         0.000000  \n32991         0.000000  \n32992         0.000000  \n32993         0.857143  \n32994         0.857143  \n32995         0.857143  \n32996         0.731707  ",
      "text/html": "<div>\n<style scoped>\n    .dataframe tbody tr th:only-of-type {\n        vertical-align: middle;\n    }\n\n    .dataframe tbody tr th {\n        vertical-align: top;\n    }\n\n    .dataframe thead th {\n        text-align: right;\n    }\n</style>\n<table border=\"1\" class=\"dataframe\">\n  <thead>\n    <tr style=\"text-align: right;\">\n      <th></th>\n      <th>title</th>\n      <th>user_id</th>\n      <th>helpfulness</th>\n      <th>score</th>\n      <th>summary</th>\n      <th>text</th>\n      <th>helpfulness_count</th>\n      <th>helpfulness_pct</th>\n    </tr>\n  </thead>\n  <tbody>\n    <tr>\n      <th>32988</th>\n      <td>the hobbit</td>\n      <td>A1D2C0WDCSHUWZ</td>\n      <td>2/3</td>\n      <td>5.0</td>\n      <td>There, and back again</td>\n      <td>\"The Hobbit or There and Back Again\" is the fi...</td>\n      <td>3</td>\n      <td>0.666667</td>\n    </tr>\n    <tr>\n      <th>32989</th>\n      <td>the hobbit</td>\n      <td>A172VRBP4BZXK6</td>\n      <td>3/58</td>\n      <td>1.0</td>\n      <td>The Hobbit</td>\n      <td>I really did not like this book. There wasn't ...</td>\n      <td>58</td>\n      <td>0.051724</td>\n    </tr>\n    <tr>\n      <th>32990</th>\n      <td>the hobbit</td>\n      <td>A35PU6DDT4SJXK</td>\n      <td>0/0</td>\n      <td>5.0</td>\n      <td>Great Book, Great Prequel!</td>\n      <td>The hobbit, a great book in its own right, als...</td>\n      <td>0</td>\n      <td>0.000000</td>\n    </tr>\n    <tr>\n      <th>32991</th>\n      <td>the hobbit</td>\n      <td>A17BT73RVRQYSP</td>\n      <td>0/0</td>\n      <td>5.0</td>\n      <td>Review of the comic book version. Its worth yo...</td>\n      <td>[...]There are enough adjatives already said o...</td>\n      <td>0</td>\n      <td>0.000000</td>\n    </tr>\n    <tr>\n      <th>32992</th>\n      <td>the hobbit</td>\n      <td>A36WD8GXQ5QCJ7</td>\n      <td>0/1</td>\n      <td>5.0</td>\n      <td>An amazing novel</td>\n      <td>I just finished reading The Hobbit for the fir...</td>\n      <td>1</td>\n      <td>0.000000</td>\n    </tr>\n    <tr>\n      <th>32993</th>\n      <td>the hobbit</td>\n      <td>A1FY3V7A2XRDG0</td>\n      <td>6/7</td>\n      <td>5.0</td>\n      <td>The Hobbit -- 70th Anniversary</td>\n      <td>I've been a huge Tolkien fan since I was a kid...</td>\n      <td>7</td>\n      <td>0.857143</td>\n    </tr>\n    <tr>\n      <th>32994</th>\n      <td>the hobbit</td>\n      <td>AAEP8YFERQ8FC</td>\n      <td>6/7</td>\n      <td>5.0</td>\n      <td>Bilbo and the Thirteen Dwarves</td>\n      <td>When I was in fourth or fifth grade, every aft...</td>\n      <td>7</td>\n      <td>0.857143</td>\n    </tr>\n    <tr>\n      <th>32995</th>\n      <td>the hobbit</td>\n      <td>A2ATWKOFJXRRR1</td>\n      <td>6/7</td>\n      <td>5.0</td>\n      <td>The first truly five star book</td>\n      <td>Masterpiece. A work of Art. A lasting piece do...</td>\n      <td>7</td>\n      <td>0.857143</td>\n    </tr>\n    <tr>\n      <th>32996</th>\n      <td>the hobbit</td>\n      <td>A1DA6E4FNRSAWN</td>\n      <td>30/41</td>\n      <td>3.0</td>\n      <td>about this edition</td>\n      <td>I mean no offence but I am not going to review...</td>\n      <td>41</td>\n      <td>0.731707</td>\n    </tr>\n  </tbody>\n</table>\n</div>"
     },
     "execution_count": 38,
     "metadata": {},
     "output_type": "execute_result"
    }
   ],
   "source": [
    "books_ratings_1[books_ratings_1['title'] == 'the hobbit']"
   ],
   "metadata": {
    "collapsed": false,
    "ExecuteTime": {
     "end_time": "2023-11-12T12:35:47.351209600Z",
     "start_time": "2023-11-12T12:35:47.313049Z"
    }
   },
   "id": "e4535bdd70d9350a"
  },
  {
   "cell_type": "code",
   "execution_count": null,
   "outputs": [],
   "source": [],
   "metadata": {
    "collapsed": false
   },
   "id": "5abfbd424e4ac4ae"
  }
 ],
 "metadata": {
  "kernelspec": {
   "display_name": "Python 3",
   "language": "python",
   "name": "python3"
  },
  "language_info": {
   "codemirror_mode": {
    "name": "ipython",
    "version": 2
   },
   "file_extension": ".py",
   "mimetype": "text/x-python",
   "name": "python",
   "nbconvert_exporter": "python",
   "pygments_lexer": "ipython2",
   "version": "2.7.6"
  }
 },
 "nbformat": 4,
 "nbformat_minor": 5
}
